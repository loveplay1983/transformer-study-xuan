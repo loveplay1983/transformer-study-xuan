{
 "cells": [
  {
   "cell_type": "code",
   "execution_count": 2,
   "id": "73ea879a",
   "metadata": {},
   "outputs": [
    {
     "name": "stdout",
     "output_type": "stream",
     "text": [
      "Counter({'apple': 2, 'cherry': 2, 'banana': 1, 'mango': 1})\n"
     ]
    }
   ],
   "source": [
    "from collections import Counter\n",
    "\n",
    "words = [\"apple\", \"banana\", \"cherry\", \"apple\", \"mango\", \"cherry\"]\n",
    "word_counts = Counter(words)\n",
    "\n",
    "print(word_counts)"
   ]
  },
  {
   "cell_type": "code",
   "execution_count": 3,
   "id": "c207d6f8",
   "metadata": {},
   "outputs": [],
   "source": [
    "most_common = word_counts.most_common(2)  # Output: [('apple', 2), ('cherry', 2)]\n"
   ]
  },
  {
   "cell_type": "code",
   "execution_count": 4,
   "id": "a5280730",
   "metadata": {},
   "outputs": [
    {
     "data": {
      "text/plain": [
       "[('apple', 2), ('cherry', 2)]"
      ]
     },
     "execution_count": 4,
     "metadata": {},
     "output_type": "execute_result"
    }
   ],
   "source": [
    "most_common\n"
   ]
  },
  {
   "cell_type": "code",
   "execution_count": 5,
   "id": "11db0ebb",
   "metadata": {},
   "outputs": [
    {
     "data": {
      "text/plain": [
       "2"
      ]
     },
     "execution_count": 5,
     "metadata": {},
     "output_type": "execute_result"
    }
   ],
   "source": [
    "len(most_common)"
   ]
  },
  {
   "cell_type": "code",
   "execution_count": 21,
   "id": "966a22e2",
   "metadata": {},
   "outputs": [
    {
     "data": {
      "text/plain": [
       "{'apple': 2, 'cherry': 3}"
      ]
     },
     "execution_count": 21,
     "metadata": {},
     "output_type": "execute_result"
    }
   ],
   "source": [
    "a = {w[0]: index+2 for index, w in enumerate(most_common)}\n",
    "a"
   ]
  },
  {
   "cell_type": "code",
   "execution_count": 20,
   "id": "8726fde8",
   "metadata": {},
   "outputs": [
    {
     "name": "stdout",
     "output_type": "stream",
     "text": [
      "index -> 0 w -> ('apple', 2)\n",
      "apple 2\n",
      "index -> 1 w -> ('cherry', 2)\n",
      "cherry 3\n"
     ]
    }
   ],
   "source": [
    "for index, w in enumerate(most_common):\n",
    "    print(\"index ->\", index, \"w ->\", w)\n",
    "    print(w[0], index+2)"
   ]
  },
  {
   "cell_type": "code",
   "execution_count": 15,
   "id": "774b44ba",
   "metadata": {},
   "outputs": [
    {
     "data": {
      "text/plain": [
       "{'apple': 2, 'cherry': 3}"
      ]
     },
     "execution_count": 15,
     "metadata": {},
     "output_type": "execute_result"
    }
   ],
   "source": [
    "a"
   ]
  },
  {
   "cell_type": "code",
   "execution_count": 22,
   "id": "baf4856c",
   "metadata": {},
   "outputs": [],
   "source": [
    "index_dict = {v: k for k, v in a.items()}"
   ]
  },
  {
   "cell_type": "code",
   "execution_count": 23,
   "id": "4901d231",
   "metadata": {},
   "outputs": [
    {
     "data": {
      "text/plain": [
       "{2: 'apple', 3: 'cherry'}"
      ]
     },
     "execution_count": 23,
     "metadata": {},
     "output_type": "execute_result"
    }
   ],
   "source": [
    "index_dict"
   ]
  },
  {
   "cell_type": "code",
   "execution_count": 25,
   "id": "5fe73a19",
   "metadata": {},
   "outputs": [],
   "source": [
    "UNK = 0 # unknow word-id\n",
    "PAD = 1 # padding word-id\n",
    "BATCH_SIZE = 64\n",
    "\n",
    "a[\"UNK\"] = UNK\n",
    "a[\"PAD\"] = PAD"
   ]
  },
  {
   "cell_type": "code",
   "execution_count": 26,
   "id": "cc426f69",
   "metadata": {},
   "outputs": [
    {
     "data": {
      "text/plain": [
       "{'apple': 2, 'cherry': 3, 'UNK': 0, 'PAD': 1}"
      ]
     },
     "execution_count": 26,
     "metadata": {},
     "output_type": "execute_result"
    }
   ],
   "source": [
    "a"
   ]
  },
  {
   "cell_type": "code",
   "execution_count": null,
   "id": "ddd1be79",
   "metadata": {},
   "outputs": [],
   "source": []
  }
 ],
 "metadata": {
  "kernelspec": {
   "display_name": "Python 3 (ipykernel)",
   "language": "python",
   "name": "python3"
  },
  "language_info": {
   "codemirror_mode": {
    "name": "ipython",
    "version": 3
   },
   "file_extension": ".py",
   "mimetype": "text/x-python",
   "name": "python",
   "nbconvert_exporter": "python",
   "pygments_lexer": "ipython3",
   "version": "3.11.8"
  }
 },
 "nbformat": 4,
 "nbformat_minor": 5
}
