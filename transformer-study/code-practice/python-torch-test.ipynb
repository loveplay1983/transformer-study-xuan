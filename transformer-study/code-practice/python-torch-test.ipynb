{
 "cells": [
  {
   "cell_type": "code",
   "execution_count": 2,
   "id": "73ea879a",
   "metadata": {},
   "outputs": [
    {
     "name": "stdout",
     "output_type": "stream",
     "text": [
      "Counter({'apple': 2, 'cherry': 2, 'banana': 1, 'mango': 1})\n"
     ]
    }
   ],
   "source": [
    "from collections import Counter\n",
    "\n",
    "words = [\"apple\", \"banana\", \"cherry\", \"apple\", \"mango\", \"cherry\"]\n",
    "word_counts = Counter(words)\n",
    "\n",
    "print(word_counts)"
   ]
  },
  {
   "cell_type": "code",
   "execution_count": 3,
   "id": "c207d6f8",
   "metadata": {},
   "outputs": [],
   "source": [
    "most_common = word_counts.most_common(2)  # Output: [('apple', 2), ('cherry', 2)]\n"
   ]
  },
  {
   "cell_type": "code",
   "execution_count": 4,
   "id": "a5280730",
   "metadata": {},
   "outputs": [
    {
     "data": {
      "text/plain": [
       "[('apple', 2), ('cherry', 2)]"
      ]
     },
     "execution_count": 4,
     "metadata": {},
     "output_type": "execute_result"
    }
   ],
   "source": [
    "most_common\n"
   ]
  },
  {
   "cell_type": "code",
   "execution_count": 5,
   "id": "11db0ebb",
   "metadata": {},
   "outputs": [
    {
     "data": {
      "text/plain": [
       "2"
      ]
     },
     "execution_count": 5,
     "metadata": {},
     "output_type": "execute_result"
    }
   ],
   "source": [
    "len(most_common)"
   ]
  },
  {
   "cell_type": "code",
   "execution_count": 21,
   "id": "966a22e2",
   "metadata": {},
   "outputs": [
    {
     "data": {
      "text/plain": [
       "{'apple': 2, 'cherry': 3}"
      ]
     },
     "execution_count": 21,
     "metadata": {},
     "output_type": "execute_result"
    }
   ],
   "source": [
    "a = {w[0]: index+2 for index, w in enumerate(most_common)}\n",
    "a"
   ]
  },
  {
   "cell_type": "code",
   "execution_count": 20,
   "id": "8726fde8",
   "metadata": {},
   "outputs": [
    {
     "name": "stdout",
     "output_type": "stream",
     "text": [
      "index -> 0 w -> ('apple', 2)\n",
      "apple 2\n",
      "index -> 1 w -> ('cherry', 2)\n",
      "cherry 3\n"
     ]
    }
   ],
   "source": [
    "for index, w in enumerate(most_common):\n",
    "    print(\"index ->\", index, \"w ->\", w)\n",
    "    print(w[0], index+2)"
   ]
  },
  {
   "cell_type": "code",
   "execution_count": 15,
   "id": "774b44ba",
   "metadata": {},
   "outputs": [
    {
     "data": {
      "text/plain": [
       "{'apple': 2, 'cherry': 3}"
      ]
     },
     "execution_count": 15,
     "metadata": {},
     "output_type": "execute_result"
    }
   ],
   "source": [
    "a"
   ]
  },
  {
   "cell_type": "code",
   "execution_count": 22,
   "id": "baf4856c",
   "metadata": {},
   "outputs": [],
   "source": [
    "index_dict = {v: k for k, v in a.items()}"
   ]
  },
  {
   "cell_type": "code",
   "execution_count": 23,
   "id": "4901d231",
   "metadata": {},
   "outputs": [
    {
     "data": {
      "text/plain": [
       "{2: 'apple', 3: 'cherry'}"
      ]
     },
     "execution_count": 23,
     "metadata": {},
     "output_type": "execute_result"
    }
   ],
   "source": [
    "index_dict"
   ]
  },
  {
   "cell_type": "code",
   "execution_count": 25,
   "id": "5fe73a19",
   "metadata": {},
   "outputs": [],
   "source": [
    "UNK = 0 # unknow word-id\n",
    "PAD = 1 # padding word-id\n",
    "BATCH_SIZE = 64\n",
    "\n",
    "a[\"UNK\"] = UNK\n",
    "a[\"PAD\"] = PAD"
   ]
  },
  {
   "cell_type": "code",
   "execution_count": 26,
   "id": "cc426f69",
   "metadata": {},
   "outputs": [
    {
     "data": {
      "text/plain": [
       "{'apple': 2, 'cherry': 3, 'UNK': 0, 'PAD': 1}"
      ]
     },
     "execution_count": 26,
     "metadata": {},
     "output_type": "execute_result"
    }
   ],
   "source": [
    "a"
   ]
  },
  {
   "cell_type": "code",
   "execution_count": null,
   "id": "ddd1be79",
   "metadata": {},
   "outputs": [],
   "source": []
  },
  {
   "cell_type": "code",
   "execution_count": null,
   "id": "ca0cfa16",
   "metadata": {},
   "outputs": [],
   "source": []
  },
  {
   "cell_type": "code",
   "execution_count": null,
   "id": "88aa5182",
   "metadata": {},
   "outputs": [],
   "source": []
  },
  {
   "cell_type": "markdown",
   "id": "f3b132b0",
   "metadata": {},
   "source": [
    "# scatter and gather method"
   ]
  },
  {
   "cell_type": "code",
   "execution_count": 2,
   "id": "7778eb0a",
   "metadata": {},
   "outputs": [
    {
     "data": {
      "text/plain": [
       "tensor([[0., 0., 0., 0.],\n",
       "        [0., 0., 0., 0.],\n",
       "        [0., 0., 0., 0.]])"
      ]
     },
     "execution_count": 2,
     "metadata": {},
     "output_type": "execute_result"
    }
   ],
   "source": [
    "import torch\n",
    "\n",
    "t = torch.zeros(3,4)\n",
    "t"
   ]
  },
  {
   "cell_type": "code",
   "execution_count": 21,
   "id": "b3fdf452",
   "metadata": {},
   "outputs": [],
   "source": [
    "indices = torch.tensor(\n",
    "    [\n",
    "        [0,1,2,3],\n",
    "        [1,2,0,3]\n",
    "    ]\n",
    ")"
   ]
  },
  {
   "cell_type": "code",
   "execution_count": 22,
   "id": "59dede87",
   "metadata": {},
   "outputs": [],
   "source": [
    "values = torch.tensor(\n",
    "    [\n",
    "        1\n",
    "    \n",
    "    ]\n",
    ")\n",
    "\n",
    "values = values.type_as(t)"
   ]
  },
  {
   "cell_type": "code",
   "execution_count": 23,
   "id": "f4da0068",
   "metadata": {},
   "outputs": [
    {
     "ename": "RuntimeError",
     "evalue": "Index tensor must have the same number of dimensions as self tensor",
     "output_type": "error",
     "traceback": [
      "\u001b[0;31m---------------------------------------------------------------------------\u001b[0m",
      "\u001b[0;31mRuntimeError\u001b[0m                              Traceback (most recent call last)",
      "Cell \u001b[0;32mIn[23], line 1\u001b[0m\n\u001b[0;32m----> 1\u001b[0m t\u001b[38;5;241m.\u001b[39mscatter_(\u001b[38;5;241m1\u001b[39m, indices\u001b[38;5;241m.\u001b[39munsqueeze(\u001b[38;5;241m1\u001b[39m), values)\n\u001b[1;32m      2\u001b[0m \u001b[38;5;28mprint\u001b[39m(t)\n",
      "\u001b[0;31mRuntimeError\u001b[0m: Index tensor must have the same number of dimensions as self tensor"
     ]
    }
   ],
   "source": [
    "t.scatter_(1, indices.unsqueeze(1), values)\n",
    "print(t)"
   ]
  },
  {
   "cell_type": "code",
   "execution_count": 26,
   "id": "47afbdad",
   "metadata": {},
   "outputs": [
    {
     "data": {
      "text/plain": [
       "torch.Size([1, 2, 4])"
      ]
     },
     "execution_count": 26,
     "metadata": {},
     "output_type": "execute_result"
    }
   ],
   "source": [
    "indices.unsqueeze(0).shape"
   ]
  },
  {
   "cell_type": "code",
   "execution_count": null,
   "id": "aa263041",
   "metadata": {},
   "outputs": [],
   "source": []
  },
  {
   "cell_type": "code",
   "execution_count": null,
   "id": "a7feb676",
   "metadata": {},
   "outputs": [],
   "source": []
  },
  {
   "cell_type": "markdown",
   "id": "68617c7c",
   "metadata": {},
   "source": [
    "# Shallow cp and deep cp\n"
   ]
  },
  {
   "cell_type": "code",
   "execution_count": 27,
   "id": "a9801328",
   "metadata": {},
   "outputs": [],
   "source": [
    "import copy"
   ]
  },
  {
   "cell_type": "code",
   "execution_count": 28,
   "id": "adf57025",
   "metadata": {},
   "outputs": [],
   "source": [
    "a = [1,2,3,4]\n"
   ]
  },
  {
   "cell_type": "code",
   "execution_count": 29,
   "id": "427651f2",
   "metadata": {},
   "outputs": [
    {
     "data": {
      "text/plain": [
       "[1, 2, 3, 4]"
      ]
     },
     "execution_count": 29,
     "metadata": {},
     "output_type": "execute_result"
    }
   ],
   "source": [
    "b = copy.copy(a)\n",
    "b"
   ]
  },
  {
   "cell_type": "code",
   "execution_count": 30,
   "id": "cd4a4e39",
   "metadata": {},
   "outputs": [
    {
     "data": {
      "text/plain": [
       "[10, 2, 3, 4]"
      ]
     },
     "execution_count": 30,
     "metadata": {},
     "output_type": "execute_result"
    }
   ],
   "source": [
    "b[0]=10\n",
    "b"
   ]
  },
  {
   "cell_type": "code",
   "execution_count": 31,
   "id": "9daa1898",
   "metadata": {},
   "outputs": [
    {
     "data": {
      "text/plain": [
       "[1, 2, 3, 4]"
      ]
     },
     "execution_count": 31,
     "metadata": {},
     "output_type": "execute_result"
    }
   ],
   "source": [
    "a"
   ]
  },
  {
   "cell_type": "code",
   "execution_count": 32,
   "id": "5086fe57",
   "metadata": {},
   "outputs": [
    {
     "name": "stdout",
     "output_type": "stream",
     "text": [
      "Original List: [1, 2, [5, 4]]\n",
      "Shallow Copy List: [1, 2, [5, 4]]\n",
      "Deep Copy List: [1, 2, [3, 4]]\n"
     ]
    }
   ],
   "source": [
    "import copy\n",
    "\n",
    "# Create a list\n",
    "original_list = [1, 2, [3, 4]]\n",
    "\n",
    "# Shallow copy\n",
    "shallow_copy_list = copy.copy(original_list)\n",
    "\n",
    "# Deep copy\n",
    "deep_copy_list = copy.deepcopy(original_list)\n",
    "\n",
    "# Modify the original list and nested list\n",
    "original_list[2][0] = 5\n",
    "\n",
    "# Print the original list, shallow copy, and deep copy\n",
    "print(\"Original List:\", original_list)\n",
    "print(\"Shallow Copy List:\", shallow_copy_list)\n",
    "print(\"Deep Copy List:\", deep_copy_list)"
   ]
  },
  {
   "cell_type": "code",
   "execution_count": null,
   "id": "6079ca26",
   "metadata": {},
   "outputs": [],
   "source": []
  },
  {
   "cell_type": "code",
   "execution_count": null,
   "id": "e7b88ecb",
   "metadata": {},
   "outputs": [],
   "source": []
  },
  {
   "cell_type": "markdown",
   "id": "c5874315",
   "metadata": {},
   "source": [
    "# fill_"
   ]
  },
  {
   "cell_type": "code",
   "execution_count": 33,
   "id": "3745099a",
   "metadata": {},
   "outputs": [
    {
     "name": "stdout",
     "output_type": "stream",
     "text": [
      "Original tensor:\n",
      " tensor([[ 1.8496, -0.0367,  0.5297,  0.1353],\n",
      "        [ 0.8572, -1.1632,  0.5359,  0.3767],\n",
      "        [-0.7597,  0.5982,  1.1204,  1.5685]])\n",
      "\n",
      "Tensor after filling with 5:\n",
      " tensor([[5., 5., 5., 5.],\n",
      "        [5., 5., 5., 5.],\n",
      "        [5., 5., 5., 5.]])\n",
      "\n",
      "Tensor filled with calculated uniform value:\n",
      " tensor([[0.0333, 0.0333, 0.0333, 0.0333],\n",
      "        [0.0333, 0.0333, 0.0333, 0.0333],\n",
      "        [0.0333, 0.0333, 0.0333, 0.0333]])\n"
     ]
    }
   ],
   "source": [
    "import torch\n",
    "\n",
    "# Create a tensor with random values\n",
    "data = torch.randn(3, 4)  # Creates a 3x4 tensor with random numbers\n",
    "print(\"Original tensor:\\n\", data)\n",
    "\n",
    "# Fill the tensor with a specific value (5)\n",
    "data.fill_(5)\n",
    "print(\"\\nTensor after filling with 5:\\n\", data)\n",
    "\n",
    "# Fill the tensor with another value based on calculations\n",
    "smoothing_factor = 0.1\n",
    "size = 5\n",
    "uniform_value = smoothing_factor / (size - 2)\n",
    "data.fill_(uniform_value)\n",
    "print(\"\\nTensor filled with calculated uniform value:\\n\", data)\n"
   ]
  },
  {
   "cell_type": "code",
   "execution_count": null,
   "id": "5ef014aa",
   "metadata": {},
   "outputs": [],
   "source": []
  },
  {
   "cell_type": "code",
   "execution_count": 3,
   "id": "d0e99068-6a05-4e26-a44f-84825b60e707",
   "metadata": {},
   "outputs": [
    {
     "data": {
      "text/plain": [
       "tensor([[0],\n",
       "        [1],\n",
       "        [2],\n",
       "        [4]])"
      ]
     },
     "execution_count": 3,
     "metadata": {},
     "output_type": "execute_result"
    }
   ],
   "source": [
    "torch.nonzero(torch.tensor([1, 1, 1, 0, 1]))"
   ]
  },
  {
   "cell_type": "code",
   "execution_count": null,
   "id": "7f1ab2e2-f23e-4a11-9184-cdab13086ec1",
   "metadata": {},
   "outputs": [],
   "source": []
  }
 ],
 "metadata": {
  "kernelspec": {
   "display_name": "Python 3 (ipykernel)",
   "language": "python",
   "name": "python3"
  },
  "language_info": {
   "codemirror_mode": {
    "name": "ipython",
    "version": 3
   },
   "file_extension": ".py",
   "mimetype": "text/x-python",
   "name": "python",
   "nbconvert_exporter": "python",
   "pygments_lexer": "ipython3",
   "version": "3.11.3"
  }
 },
 "nbformat": 4,
 "nbformat_minor": 5
}
