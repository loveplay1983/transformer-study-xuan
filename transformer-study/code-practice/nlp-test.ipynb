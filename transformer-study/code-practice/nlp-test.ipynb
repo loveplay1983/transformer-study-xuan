{
 "cells": [
  {
   "cell_type": "code",
   "execution_count": 2,
   "id": "b9699cad",
   "metadata": {},
   "outputs": [
    {
     "name": "stderr",
     "output_type": "stream",
     "text": [
      "Building prefix dict from the default dictionary ...\n",
      "Loading model from cache /tmp/jieba.cache\n"
     ]
    },
    {
     "name": "stdout",
     "output_type": "stream",
     "text": [
      "我不知道我是不是伤害了汤姆的感情。\n"
     ]
    },
    {
     "name": "stderr",
     "output_type": "stream",
     "text": [
      "Loading model cost 0.581 seconds.\n",
      "Prefix dict has been built successfully.\n"
     ]
    },
    {
     "name": "stdout",
     "output_type": "stream",
     "text": [
      "她的每首歌都长期备受欢迎。\n",
      "[['BOS', 'i', 'wonder', 'if', 'i', 'hurt', 'tom', \"'s\", 'feelings', '.', 'EOS'], ['BOS', 'every', 'one', 'of', 'her', 'songs', 'was', 'a', 'hit', '.', 'EOS']]\n",
      "[['BOS', '我', '不', '知道', '我', '是不是', '伤害', '了', '汤姆', '的', '感情', '。', 'EOS'], ['BOS', '她', '的', '每首歌', '都', '长期', '备受', '欢迎', '。', 'EOS']]\n"
     ]
    }
   ],
   "source": [
    "import jieba\n",
    "from nltk import word_tokenize\n",
    "# Test with jieba\n",
    "test = [\"I wonder if I hurt Tom's feelings.\t我不知道我是不是伤害了汤姆的感情。\", \n",
    "        \"Every one of her songs was a hit.\t她的每首歌都长期备受欢迎。\"]\n",
    "test_en = []\n",
    "test_cn = []\n",
    "for i in test:\n",
    "    i = i.strip().split(\"\\t\")\n",
    "    print(i[1])\n",
    "    test_en.append([\"BOS\"] + word_tokenize(i[0].lower()) + [\"EOS\"])\n",
    "#     test_cn.append([\"BOS\"] + work_tokenize(\" \".join([w for w in i[1]])) + [\"EOS\"])\n",
    "    cn_seg_list = jieba.cut(i[1])\n",
    "    test_cn.append([\"BOS\"] + [w for w in cn_seg_list] + [\"EOS\"])\n",
    "\n",
    "print(test_en)\n",
    "print(test_cn)"
   ]
  },
  {
   "cell_type": "code",
   "execution_count": 3,
   "id": "a3157296",
   "metadata": {},
   "outputs": [
    {
     "data": {
      "text/plain": [
       "[['BOS',\n",
       "  'i',\n",
       "  'wonder',\n",
       "  'if',\n",
       "  'i',\n",
       "  'hurt',\n",
       "  'tom',\n",
       "  \"'s\",\n",
       "  'feelings',\n",
       "  '.',\n",
       "  'EOS'],\n",
       " ['BOS', 'every', 'one', 'of', 'her', 'songs', 'was', 'a', 'hit', '.', 'EOS']]"
      ]
     },
     "execution_count": 3,
     "metadata": {},
     "output_type": "execute_result"
    }
   ],
   "source": [
    "test_en"
   ]
  },
  {
   "cell_type": "code",
   "execution_count": 2,
   "id": "c7cd4e80",
   "metadata": {},
   "outputs": [],
   "source": [
    "# embedding test\n",
    "import torch\n",
    "from torch import nn\n",
    "\n",
    "# Define vocabulary size (number of unique words) and embedding dimension\n",
    "vocab_size = 10000\n",
    "embedding_dim = 128\n",
    "\n",
    "# Create an Embedding layer\n",
    "embedding = nn.Embedding(vocab_size, embedding_dim)\n",
    "\n",
    "# Example input: a tensor containing word IDs\n",
    "word_ids = torch.tensor([23, 789, 1542])\n",
    "\n",
    "# Get the embedding vectors for the input word IDs\n",
    "embeddings = embedding(word_ids)\n",
    "\n",
    "# embeddings will be a tensor of shape (3, embedding_dim)\n",
    "# where each row represents the embedding vector for a word in the input"
   ]
  },
  {
   "cell_type": "code",
   "execution_count": 3,
   "id": "203acf1b-e702-429a-b91b-97627839be83",
   "metadata": {
    "scrolled": true
   },
   "outputs": [
    {
     "data": {
      "text/plain": [
       "tensor([[ 5.3163e-02, -6.1694e-02, -1.2622e+00, -2.1315e-01,  6.0828e-01,\n",
       "          7.4299e-01, -6.4516e-02,  1.2259e+00, -4.0662e-01,  9.1704e-01,\n",
       "         -3.5868e-01, -3.6727e-01,  1.0376e+00,  7.8638e-02,  1.5030e+00,\n",
       "          4.8445e-01,  1.1436e-01,  4.4936e-01, -5.3096e-01, -2.2207e-01,\n",
       "          8.3818e-01, -1.0779e+00,  1.0112e+00, -6.4178e-01,  4.5722e-02,\n",
       "          1.4766e+00, -5.5622e-01, -3.2246e-01,  1.7458e-01,  2.1256e+00,\n",
       "          8.0089e-01, -3.7948e-01, -8.2547e-01, -5.4826e-01, -1.7686e+00,\n",
       "          7.2564e-01,  1.2744e+00, -4.7253e-01,  4.7521e-01,  6.6327e-01,\n",
       "         -1.2258e+00, -5.8160e-02,  4.7610e-01,  1.0432e+00,  7.6522e-01,\n",
       "         -1.5784e-01,  7.4627e-01,  5.8132e-02, -5.2253e-02, -1.9447e-01,\n",
       "         -7.8078e-01, -2.0447e-01,  6.1717e-01, -7.1152e-01, -1.5678e+00,\n",
       "          1.0879e+00,  1.0509e+00,  3.1268e-01, -1.1630e+00,  3.2545e-01,\n",
       "         -8.3417e-02, -4.5361e-01, -3.6425e-02, -6.9243e-01,  6.8336e-01,\n",
       "          1.0496e+00,  4.4758e-01,  4.8955e-01, -3.6584e-01, -1.6208e+00,\n",
       "         -1.1109e+00, -1.3871e-01, -1.1413e+00,  6.7732e-01, -9.1333e-02,\n",
       "          1.3679e+00,  6.5505e-01,  2.2708e+00, -2.1042e-03,  1.5669e-01,\n",
       "         -1.7024e+00,  4.3159e-01, -7.1773e-01, -1.0880e+00,  2.2732e-02,\n",
       "         -7.2791e-01,  2.5215e-01, -2.2724e-01,  8.4586e-02,  6.2059e-01,\n",
       "          1.6525e+00,  9.5504e-02, -6.4487e-01, -1.4984e-01,  4.7925e-01,\n",
       "         -6.1333e-01, -2.1177e+00,  1.1802e+00, -2.4269e+00, -2.0470e+00,\n",
       "          9.4821e-02, -5.6848e-01,  1.6478e+00, -7.1780e-01,  1.2338e+00,\n",
       "         -1.4402e-01,  9.6254e-01,  5.1665e-01, -4.7252e-01, -1.1054e+00,\n",
       "         -1.0906e-01,  2.4052e-01,  1.0116e+00, -1.2751e+00,  1.1432e+00,\n",
       "         -4.9413e-01, -1.6381e+00,  1.2417e+00,  1.8127e-01,  4.9866e-01,\n",
       "          1.3251e+00,  9.9255e-02,  7.8028e-01, -2.2875e-01,  3.5651e-01,\n",
       "         -2.9823e+00, -9.5597e-01,  1.0678e+00],\n",
       "        [-8.1751e-01,  6.2190e-01, -3.2342e-01, -1.1916e+00,  1.4499e+00,\n",
       "         -1.9843e+00, -1.0489e+00,  7.8594e-01,  1.8357e+00,  2.4947e+00,\n",
       "          9.0615e-01,  1.6783e+00, -2.3415e-01, -1.8003e-01, -2.2184e-01,\n",
       "         -1.3684e-01, -8.4328e-02, -1.0688e+00,  3.9708e-01,  2.7793e-01,\n",
       "         -8.7704e-01, -2.0797e-01, -2.1802e-01, -1.0102e+00,  1.0604e+00,\n",
       "          1.8734e+00,  7.5397e-01,  3.6790e-02,  4.2255e-01,  6.1639e-01,\n",
       "          6.0184e-01,  1.8993e-02, -8.3080e-02, -7.7274e-01, -5.1877e-01,\n",
       "          2.9115e+00,  1.1000e+00, -1.0459e+00,  1.2227e+00, -2.7691e-01,\n",
       "          4.9331e-01,  5.3119e-01,  5.3947e-01,  1.1064e+00, -3.0532e-01,\n",
       "          1.2374e+00, -3.6622e-01,  1.0625e+00, -6.6460e-02,  6.9863e-01,\n",
       "          2.4344e-04,  1.1389e+00, -1.3015e+00,  1.4963e+00, -5.5792e-01,\n",
       "          7.3882e-01,  5.7910e-02,  1.7325e+00,  3.8533e-01,  5.3531e-01,\n",
       "         -8.4935e-01,  1.1609e-01,  1.7079e+00,  4.2655e-01,  1.4168e+00,\n",
       "          4.5434e-01,  7.7194e-02,  4.6925e-01, -6.4156e-01, -4.6106e-01,\n",
       "          1.3767e+00, -6.0250e-01, -6.6013e-01,  3.2950e-01, -2.1851e+00,\n",
       "          1.8043e-01, -1.0941e+00,  7.0925e-01,  1.4218e+00, -7.6772e-01,\n",
       "          1.2940e-02,  4.8138e-01, -2.6744e-01, -1.5100e+00, -5.8870e-01,\n",
       "         -3.6180e-01, -1.5877e-01, -1.6796e+00,  3.7894e-01,  2.2303e+00,\n",
       "         -1.7410e+00,  1.1585e+00, -1.1880e+00, -1.1147e-01,  7.5980e-02,\n",
       "         -7.3254e-01, -6.1084e-01, -4.7851e-03, -1.1538e+00,  1.0956e+00,\n",
       "         -1.5850e-02, -8.2029e-01,  6.5394e-01, -5.4812e-01, -8.4390e-01,\n",
       "          1.0009e+00,  1.7637e+00,  8.1162e-01,  1.1153e+00, -7.2022e-01,\n",
       "         -1.0930e+00, -7.8458e-01, -7.2703e-01, -6.4629e-02, -1.1424e+00,\n",
       "         -6.6080e-02,  5.1860e-03,  2.1846e+00,  1.6357e+00, -1.9833e+00,\n",
       "          4.8003e-01, -1.1540e+00,  1.3689e+00, -5.1089e-01,  1.1062e-01,\n",
       "         -7.5532e-01, -1.5321e+00, -1.8784e-01],\n",
       "        [ 3.3683e-01, -1.0609e-01, -6.9770e-01,  2.1336e+00,  4.7550e-01,\n",
       "          1.7496e-01, -1.4910e-01,  3.5990e-01, -1.0227e+00, -7.7626e-01,\n",
       "          1.6208e+00, -2.5521e-01,  1.8116e+00, -5.3898e-01,  6.2530e-01,\n",
       "          3.8186e-01,  2.5026e-01, -3.9121e-01,  1.4039e+00, -1.1953e+00,\n",
       "          3.9173e-01,  1.7291e+00, -8.4222e-01, -1.8704e+00,  2.2231e-01,\n",
       "         -1.2052e+00,  1.0672e+00, -4.1869e-01,  9.3334e-01, -5.4026e-01,\n",
       "         -7.7893e-01,  9.9894e-01,  4.5436e-01,  4.2894e-01,  1.1842e+00,\n",
       "          1.7025e+00, -2.1756e-01, -3.7338e-01, -1.4280e-01, -8.0984e-01,\n",
       "          1.7099e+00,  5.5876e-01,  5.1539e-01, -2.6311e-01, -3.6684e-01,\n",
       "         -3.3030e-01, -5.6397e-01,  4.6434e-02, -2.4309e-01, -1.4692e+00,\n",
       "          1.5427e+00, -2.2891e+00, -8.7477e-01, -6.3303e-02,  3.0961e-01,\n",
       "         -1.2570e+00,  7.5947e-02,  8.1666e-01,  9.5356e-01,  6.3530e-02,\n",
       "         -5.5562e-01,  3.6859e-01,  4.4791e-01,  3.5266e-01,  5.5426e-01,\n",
       "         -8.5033e-02, -1.4572e+00, -1.2197e+00, -2.2332e-02, -1.1482e-01,\n",
       "         -1.1145e-01, -1.2493e+00, -2.8066e-01,  8.7280e-01,  4.3127e-01,\n",
       "         -9.1442e-01,  2.2408e-01,  7.7684e-01,  7.4274e-02,  6.5445e-02,\n",
       "         -1.1880e+00, -9.0389e-01,  9.3332e-01, -9.5835e-01,  1.2480e+00,\n",
       "          1.8645e+00,  2.2520e+00,  1.0741e+00, -9.6665e-01,  2.6382e-01,\n",
       "         -1.1549e+00,  6.3523e-02,  5.8057e-01, -3.0956e-01,  4.4577e-01,\n",
       "          1.6063e+00, -6.5758e-01,  9.9029e-01, -6.9022e-01,  2.7156e-01,\n",
       "         -8.1267e-01,  3.7113e-01, -8.0056e-01,  6.4050e-02, -5.7353e-01,\n",
       "          1.8408e+00, -1.0265e+00, -4.4661e-01,  1.3452e+00,  1.6324e+00,\n",
       "          6.4391e-02,  8.9418e-01, -6.6318e-01, -1.0795e+00, -2.0730e-01,\n",
       "          1.7496e+00,  1.0718e+00,  9.4029e-01,  1.7373e+00, -5.6066e-01,\n",
       "         -1.9319e+00, -8.4539e-02, -1.2526e+00,  2.1587e+00,  2.1631e+00,\n",
       "         -6.8537e-01, -2.6551e-01,  6.5336e-02]], grad_fn=<EmbeddingBackward0>)"
      ]
     },
     "execution_count": 3,
     "metadata": {},
     "output_type": "execute_result"
    }
   ],
   "source": [
    "embeddings"
   ]
  },
  {
   "cell_type": "code",
   "execution_count": 4,
   "id": "6ba5332d-9eb5-42f0-a11c-7ab51eac95ae",
   "metadata": {},
   "outputs": [
    {
     "data": {
      "text/plain": [
       "torch.Size([3, 128])"
      ]
     },
     "execution_count": 4,
     "metadata": {},
     "output_type": "execute_result"
    }
   ],
   "source": [
    "embeddings.shape"
   ]
  },
  {
   "cell_type": "code",
   "execution_count": 5,
   "id": "9a352b77-91bc-4389-80a5-4bda58612892",
   "metadata": {},
   "outputs": [
    {
     "data": {
      "text/plain": [
       "torch.Size([3])"
      ]
     },
     "execution_count": 5,
     "metadata": {},
     "output_type": "execute_result"
    }
   ],
   "source": [
    " torch.tensor([23, 789, 1542]).shape"
   ]
  },
  {
   "cell_type": "code",
   "execution_count": null,
   "id": "e0590a75-fc05-420e-a430-53e10377895c",
   "metadata": {},
   "outputs": [],
   "source": []
  }
 ],
 "metadata": {
  "kernelspec": {
   "display_name": "Python 3 (ipykernel)",
   "language": "python",
   "name": "python3"
  },
  "language_info": {
   "codemirror_mode": {
    "name": "ipython",
    "version": 3
   },
   "file_extension": ".py",
   "mimetype": "text/x-python",
   "name": "python",
   "nbconvert_exporter": "python",
   "pygments_lexer": "ipython3",
   "version": "3.11.3"
  }
 },
 "nbformat": 4,
 "nbformat_minor": 5
}
