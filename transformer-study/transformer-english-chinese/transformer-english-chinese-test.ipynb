{
 "cells": [
  {
   "cell_type": "markdown",
   "id": "583c9578",
   "metadata": {},
   "source": [
    "# This is quite important for practice in ML/DL model building, always start from a sample set from the large data set."
   ]
  },
  {
   "cell_type": "code",
   "execution_count": 2,
   "id": "7db6dc65",
   "metadata": {},
   "outputs": [],
   "source": [
    "import os\n",
    "import math\n",
    "import copy\n",
    "import time\n",
    "import numpy as np\n",
    "import torch\n",
    "import torch.nn as nn\n",
    "import torch.nn.functional as F\n",
    "\n",
    "from nltk import word_tokenize\n",
    "from collections import Counter\n",
    "from torch.autograd import Variable\n",
    "\n",
    "import seaborn as sns\n",
    "import matplotlib.pyplot as plt"
   ]
  },
  {
   "cell_type": "code",
   "execution_count": null,
   "id": "08769292",
   "metadata": {},
   "outputs": [],
   "source": [
    "#  Init parameters\n",
    "\n",
    "UNK = 0 # unknow word-id\n",
    "PAD = 1 # padding word-id\n",
    "BATCH_SIZE = 64\n",
    "\n",
    "DEBUG = True\n",
    "# DEBUG = False # model building, GPU CUDA is preferred\n",
    "\n",
    "if DEBUG:\n",
    "    EPOCHS = 2\n",
    "    \n"
   ]
  }
 ],
 "metadata": {
  "kernelspec": {
   "display_name": "pytorch",
   "language": "python",
   "name": "torch"
  },
  "language_info": {
   "codemirror_mode": {
    "name": "ipython",
    "version": 3
   },
   "file_extension": ".py",
   "mimetype": "text/x-python",
   "name": "python",
   "nbconvert_exporter": "python",
   "pygments_lexer": "ipython3",
   "version": "3.11.8"
  }
 },
 "nbformat": 4,
 "nbformat_minor": 5
}
