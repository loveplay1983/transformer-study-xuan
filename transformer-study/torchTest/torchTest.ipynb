{
 "cells": [
  {
   "cell_type": "code",
   "execution_count": 30,
   "id": "28e2f785-6407-4a9a-aa86-490f1d60d089",
   "metadata": {},
   "outputs": [],
   "source": [
    "from pathlib import Path\n",
    "import requests"
   ]
  },
  {
   "cell_type": "code",
   "execution_count": 31,
   "id": "f9f5d11f-2199-4b5b-a9c9-cdd0c7429438",
   "metadata": {},
   "outputs": [],
   "source": [
    "DATA_PATH = Path(\"data\")\n",
    "PATH = DATA_PATH / \"mnist\"\n",
    "\n",
    "PATH.mkdir(parents=True, exist_ok=True)\n",
    "URL = \"https://github.com/pytorch/tutorials/raw/main/_static/\"\n",
    "FILENAME = \"mnist.pkl.gz\"\n",
    "\n",
    "if not (PATH / FILENAME).exists():\n",
    "    content = requests.get(URL+FILENAME).content\n",
    "    (PATH/FILENAME).open(\"wb\").write(content)"
   ]
  },
  {
   "cell_type": "code",
   "execution_count": 32,
   "id": "3547dea4-be51-498a-95f3-dabdd860e012",
   "metadata": {},
   "outputs": [],
   "source": [
    "import pickle\n",
    "import gzip\n",
    "\n",
    "with gzip.open((PATH/FILENAME).as_posix(), \"rb\") as f:\n",
    "    ((x_train, y_train), (x_valid, y_valid), _) = pickle.load(f, encoding=\"latin-1\")"
   ]
  },
  {
   "cell_type": "code",
   "execution_count": 33,
   "id": "3f1744cd-4d44-4777-8c5c-58ac6a09f15e",
   "metadata": {},
   "outputs": [
    {
     "data": {
      "text/plain": [
       "((50000, 784), (50000,), (10000, 784), (10000,))"
      ]
     },
     "execution_count": 33,
     "metadata": {},
     "output_type": "execute_result"
    }
   ],
   "source": [
    "x_train.shape, y_train.shape, x_valid.shape, y_valid.shape"
   ]
  },
  {
   "cell_type": "code",
   "execution_count": 34,
   "id": "ed95d082-c34a-4ae2-bd72-57cb6507f851",
   "metadata": {},
   "outputs": [],
   "source": [
    "# Individiaul data is stored as a flattened row of length 784 (28x28)\n",
    "# Show image data\n",
    "import matplotlib.pyplot as plt\n",
    "import numpy as np"
   ]
  },
  {
   "cell_type": "code",
   "execution_count": 35,
   "id": "becc868e-97fb-461c-b8e2-7205aa0443ab",
   "metadata": {},
   "outputs": [
    {
     "data": {
      "image/png": "[encoded data removed]",
      "text/plain": [
       "<Figure size 432x288 with 1 Axes>"
      ]
     },
     "metadata": {
      "needs_background": "light"
     },
     "output_type": "display_data"
    },
    {
     "name": "stdout",
     "output_type": "stream",
     "text": [
      "(50000, 784)\n"
     ]
    }
   ],
   "source": [
    "plt.imshow(x_train[0].reshape((28, 28)), cmap=\"gray\")\n",
    "try:\n",
    "    import google.colab\n",
    "except ImportError:\n",
    "    plt.show()\n",
    "print(x_train.shape)"
   ]
  },
  {
   "cell_type": "code",
   "execution_count": 36,
   "id": "739c0e17-b53a-4dbe-8fc0-a9076363db7c",
   "metadata": {},
   "outputs": [
    {
     "name": "stdout",
     "output_type": "stream",
     "text": [
      "tensor([[0., 0., 0.,  ..., 0., 0., 0.],\n",
      "        [0., 0., 0.,  ..., 0., 0., 0.],\n",
      "        [0., 0., 0.,  ..., 0., 0., 0.],\n",
      "        ...,\n",
      "        [0., 0., 0.,  ..., 0., 0., 0.],\n",
      "        [0., 0., 0.,  ..., 0., 0., 0.],\n",
      "        [0., 0., 0.,  ..., 0., 0., 0.]]) tensor([5, 0, 4,  ..., 8, 4, 8])\n",
      "torch.Size([50000, 784])\n",
      "tensor(0) tensor(9)\n",
      "torch.float32\n"
     ]
    }
   ],
   "source": [
    "import torch\n",
    "\n",
    "x_train, y_train, x_valid, y_valid = map(\n",
    "    torch.tensor, (x_train, y_train, x_valid, y_valid)\n",
    ")\n",
    "n, c = x_train.shape\n",
    "print(x_train, y_train)\n",
    "print(x_train.shape)\n",
    "print(y_train.min(), y_train.max())\n",
    "print(x_train.dtype)"
   ]
  },
  {
   "cell_type": "markdown",
   "id": "99ce9ebc-1217-40d7-94cb-ebc74dbd7d81",
   "metadata": {},
   "source": [
    "# Neural net from scratch (no torch.nn)"
   ]
  },
  {
   "cell_type": "code",
   "execution_count": 37,
   "id": "bdf3563a-248a-46e3-88d6-379132508d55",
   "metadata": {},
   "outputs": [],
   "source": [
    "import math\n",
    "# initializing the weights here with Xavier initialisation (by multiplying with 1/sqrt(n)).\n",
    "# xavier vs he initialization\n",
    "# https://stackoverflow.com/questions/48641192/xavier-and-he-normal-initialization-difference\n",
    "weights = torch.randn(784, 10) / math.sqrt(784)\n",
    "weights.requires_grad_()\n",
    "bias = torch.zeros(10, requires_grad=True)"
   ]
  },
  {
   "cell_type": "markdown",
   "id": "2f77ae21",
   "metadata": {},
   "source": [
    "Here's how we can derive the log-softmax formula (subtraction method) from the conventional `log(softmax(x))` approach and prove their equivalence:\n",
    "\n",
    "**Conventional Method (log(softmax(x))):**\n",
    "\n",
    "1. **Softmax:** Calculate the softmax of the input tensor `x`. \n",
    "   ```\n",
    "   softmax(x_i) = exp(x_i) / Σ (exp(x_j)) for all j = 1 to K\n",
    "   ```\n",
    "2. **Logarithm:** Take the natural logarithm (base e) of each element in the softmax output.\n",
    "\n",
    "**Log-Softmax Formula (Subtraction Method):**\n",
    "\n",
    "```python\n",
    "def log_softmax(x):\n",
    "  return x - x.exp().sum(-1).log().unsqueeze(-1)\n",
    "```\n",
    "\n",
    "**Derivation:**\n",
    "\n",
    "1. **Start with Softmax:** We can rewrite the softmax formula for all elements in the tensor `x` as:\n",
    "   ```\n",
    "   p(i) = exp(x_i) / Σ (exp(x_j)) for all j = 1 to K (where p(i) represents the probability for class i)\n",
    "   ```\n",
    "\n",
    "2. **Take Logarithm of Both Sides:** Apply the natural logarithm (ln) to both sides of the equation:\n",
    "   ```\n",
    "   ln(p(i)) = ln(exp(x_i) / Σ (exp(x_j)))\n",
    "   ```\n",
    "   ![](https://math.libretexts.org/@api/deki/files/110839/clipboard_ef429cbef3374b3d97ff237de8ddb7aaf.png?revision=1)\n",
    "   https://math.libretexts.org/Bookshelves/Calculus/Differential_Calculus_for_the_Life_Sciences_(Edelstein-Keshet)/10%3A_Exponential_Functions/10.03%3A_Inverse_Functions_and_Logarithms\n",
    "\n",
    "3. **Logarithm Properties:** Use the logarithmic property: ln(a / b) = ln(a) - ln(b):\n",
    "   ```\n",
    "   ln(p(i)) = ln(exp(x_i)) - ln(Σ (exp(x_j)))\n",
    "   ```\n",
    "\n",
    "4. **Simplify:** Since ln(exp(x_i)) = x_i, the equation becomes:\n",
    "   ```\n",
    "   ln(p(i)) = x_i - ln(Σ (exp(x_j)))\n",
    "   ```\n",
    "\n",
    "5. **Equivalent Form:** We want to express the equation without the explicit summation term (Σ(exp(x_j))). Notice that ln(Σ(exp(x_j))) is a constant value for all elements in a row of the tensor `x` (because it's the sum across the class dimension). We can represent this constant value as `C`:\n",
    "   ```\n",
    "   ln(p(i)) = x_i - C\n",
    "   ```\n",
    "\n",
    "**Connection to PyTorch code:**\n",
    "\n",
    "* The term `x.exp().sum(-1).log()` in the PyTorch code calculates this constant value `C` (the log of the summed exponentiated scores).\n",
    "* Subtracting `C` from `x_i` (represented by `x` in the code) achieves the same result as subtracting `ln(Σ(exp(x_j)))` from `ln(p(i))`.\n",
    "\n",
    "**Proof of Equivalence:**\n",
    "\n",
    "Exponentiating both sides of the equation `ln(p(i)) = x_i - C` gives us:\n",
    "\n",
    "```\n",
    "exp(ln(p(i))) = exp(x_i - C)\n",
    "```\n",
    "\n",
    "Using the property exp(ln(x)) = x, we get:\n",
    "\n",
    "```\n",
    "p(i) = exp(x_i) * exp(-C)\n",
    "```\n",
    "\n",
    "Since `C` is the same constant value for all elements in a row, we can bring it outside the summation for all classes `j`:\n",
    "\n",
    "```\n",
    "p(i) = exp(x_i) * (exp(-C) * Σ(exp(x_j)))\n",
    "```\n",
    "\n",
    "We know that the softmax definition makes the summation of exponentials across classes equal to 1:\n",
    "\n",
    "```\n",
    "Σ(exp(x_j)) = 1\n",
    "```\n",
    "\n",
    "Therefore:\n",
    "\n",
    "```\n",
    "p(i) = exp(x_i) * (exp(-C) * 1)\n",
    "```\n",
    "\n",
    "Simplifying, we get:\n",
    "\n",
    "```\n",
    "p(i) = exp(x_i - C)\n",
    "```\n",
    "\n",
    "**Conclusion:**\n",
    "\n",
    "We derived the log-softmax formula (subtraction method) by taking the logarithm of both sides of the softmax equation and manipulating the terms. We showed that subtracting the constant term `C` (log of summed exponentials) from `x_i` is equivalent to taking the logarithm of the softmax in the conventional approach (`log(softmax(x))`). Both methods result in the log probabilities for each class, but the log-softmax formula offers better numerical stability during calculations.\n"
   ]
  },
  {
   "cell_type": "code",
   "execution_count": 38,
   "id": "f59ad5c6-630d-482b-a85d-c59f7241b157",
   "metadata": {},
   "outputs": [],
   "source": [
    "def log_softmax(x):\n",
    "    return x - x.exp().sum(-1).log().unsqueeze(-1)\n",
    "\n",
    "def model(xb):\n",
    "    return log_softmax(xb @ weights + bias)"
   ]
  },
  {
   "cell_type": "code",
   "execution_count": 39,
   "id": "405fcb11-c385-45e2-b110-3f3970977610",
   "metadata": {},
   "outputs": [
    {
     "data": {
      "text/plain": [
       "(tensor([-2.2069, -2.5714, -2.1112, -1.7922, -2.4227, -2.2975, -2.8794, -2.5335,\n",
       "         -2.1084, -2.5299], grad_fn=<SelectBackward0>),\n",
       " torch.Size([64, 10]),\n",
       " torch.Size([10]))"
      ]
     },
     "execution_count": 39,
     "metadata": {},
     "output_type": "execute_result"
    }
   ],
   "source": [
    "bs = 64\n",
    "xb = x_train[0:bs]\n",
    "preds = model(xb)\n",
    "preds[0], preds.shape, preds[0].shape"
   ]
  },
  {
   "cell_type": "code",
   "execution_count": 40,
   "id": "c90bd58c",
   "metadata": {},
   "outputs": [],
   "source": [
    "def nll(input, target):\n",
    "    \"\"\"\n",
    "    negative log-likelihood\n",
    "    \"\"\"\n",
    "    return -input[range(target.shape[0]), target].mean()\n",
    "\n",
    "loss_func = nll"
   ]
  },
  {
   "cell_type": "code",
   "execution_count": 41,
   "id": "6bc7d649",
   "metadata": {},
   "outputs": [
    {
     "data": {
      "text/plain": [
       "tensor([5, 0, 4, 1, 9, 2, 1, 3, 1, 4, 3, 5, 3, 6, 1, 7, 2, 8, 6, 9, 4, 0, 9, 1,\n",
       "        1, 2, 4, 3, 2, 7, 3, 8, 6, 9, 0, 5, 6, 0, 7, 6, 1, 8, 7, 9, 3, 9, 8, 5,\n",
       "        9, 3, 3, 0, 7, 4, 9, 8, 0, 9, 4, 1, 4, 4, 6, 0])"
      ]
     },
     "execution_count": 41,
     "metadata": {},
     "output_type": "execute_result"
    }
   ],
   "source": [
    "yb = y_train[0:bs]\n",
    "yb"
   ]
  },
  {
   "cell_type": "code",
   "execution_count": 42,
   "id": "11495fe4",
   "metadata": {
    "scrolled": true
   },
   "outputs": [
    {
     "data": {
      "text/plain": [
       "tensor([-2.2975, -2.4355, -2.0978, -2.1218, -2.1323, -2.5445, -2.5148, -2.2199,\n",
       "        -2.4346, -1.7785, -1.9045, -2.3810, -2.7707, -2.4530, -2.5084, -1.9980,\n",
       "        -2.3364, -2.1864, -2.2699, -2.5948, -1.9600, -2.1147, -2.4940, -2.1252,\n",
       "        -2.7322, -2.6615, -2.4682, -2.6263, -2.0506, -2.0999, -2.3857, -1.9540,\n",
       "        -2.4812, -2.5049, -2.3711, -2.2900, -2.2861, -2.4987, -1.9584, -2.6242,\n",
       "        -2.2486, -2.1278, -2.1639, -2.5316, -2.4754, -2.1663, -2.3092, -2.2906,\n",
       "        -2.1781, -2.1560, -2.2780, -2.3677, -2.3812, -2.1258, -2.3715, -2.1275,\n",
       "        -2.9035, -2.3500, -2.3259, -2.3224, -1.3885, -2.2360, -2.3916, -2.5824],\n",
       "       grad_fn=<IndexBackward0>)"
      ]
     },
     "execution_count": 42,
     "metadata": {},
     "output_type": "execute_result"
    }
   ],
   "source": [
    "preds[range(64), y_train[0:bs]]"
   ]
  },
  {
   "cell_type": "code",
   "execution_count": 43,
   "id": "0c89ef2b",
   "metadata": {},
   "outputs": [
    {
     "data": {
      "text/plain": [
       "torch.Size([64])"
      ]
     },
     "execution_count": 43,
     "metadata": {},
     "output_type": "execute_result"
    }
   ],
   "source": [
    "yb.shape"
   ]
  },
  {
   "cell_type": "code",
   "execution_count": 44,
   "id": "7994c5b8",
   "metadata": {},
   "outputs": [
    {
     "data": {
      "text/plain": [
       "tensor([5, 0, 4, 1, 9, 2, 1, 3, 1, 4, 3, 5, 3, 6, 1, 7, 2, 8, 6, 9, 4, 0, 9, 1,\n",
       "        1, 2, 4, 3, 2, 7, 3, 8, 6, 9, 0, 5, 6, 0, 7, 6, 1, 8, 7, 9, 3, 9, 8, 5,\n",
       "        9, 3, 3, 0, 7, 4, 9, 8, 0, 9, 4, 1, 4, 4, 6, 0])"
      ]
     },
     "execution_count": 44,
     "metadata": {},
     "output_type": "execute_result"
    }
   ],
   "source": [
    "yb"
   ]
  },
  {
   "cell_type": "code",
   "execution_count": 45,
   "id": "6d7cb02e",
   "metadata": {},
   "outputs": [
    {
     "name": "stdout",
     "output_type": "stream",
     "text": [
      "tensor(2.3042, grad_fn=<NegBackward0>)\n"
     ]
    }
   ],
   "source": [
    "print(loss_func(preds, yb))"
   ]
  },
  {
   "cell_type": "code",
   "execution_count": 46,
   "id": "59aec2cb",
   "metadata": {},
   "outputs": [
    {
     "name": "stdout",
     "output_type": "stream",
     "text": [
      "tensor(0.1250)\n"
     ]
    }
   ],
   "source": [
    "# accuracy of the model\n",
    "def accuracy(out, yb):\n",
    "    preds = torch.argmax(out, dim=1)\n",
    "    return (preds == yb).float().mean()\n",
    "print(accuracy(preds, yb))"
   ]
  },
  {
   "cell_type": "code",
   "execution_count": 47,
   "id": "913648ab",
   "metadata": {},
   "outputs": [],
   "source": [
    "#  check the various variable values at each step.\n",
    "\n",
    "from IPython.core.debugger import set_trace"
   ]
  },
  {
   "cell_type": "code",
   "execution_count": 48,
   "id": "616e09e4-66f8-4938-a448-c7c34c1c5c42",
   "metadata": {},
   "outputs": [],
   "source": [
    "lr = .5\n",
    "epochs = 2"
   ]
  },
  {
   "cell_type": "code",
   "execution_count": 49,
   "id": "5317856e-1a0c-4de2-b51a-fece30d94179",
   "metadata": {},
   "outputs": [],
   "source": [
    "for epoch in range(epochs):\n",
    "    \"\"\"\n",
    "    n, c = x_train.shape\n",
    "    \"\"\"\n",
    "    for i in range((n-1) // bs + 1):\n",
    "        # set_trace()\n",
    "        start_i = i * bs\n",
    "        end_i = start_i + bs\n",
    "        xb = x_train[start_i: end_i]\n",
    "        yb = y_train[start_i: end_i]\n",
    "        pred = model(xb)\n",
    "        loss = loss_func(pred, yb)\n",
    "\n",
    "        loss.backward()\n",
    "        with torch.no_grad():\n",
    "            weights -= weights.grad * lr\n",
    "            bias -= bias.grad * lr\n",
    "            weights.grad.zero_()\n",
    "            bias.grad.zero_()        "
   ]
  },
  {
   "cell_type": "code",
   "execution_count": 50,
   "id": "94840ddc-dad7-49a9-b820-4fb3c968ca08",
   "metadata": {},
   "outputs": [
    {
     "name": "stdout",
     "output_type": "stream",
     "text": [
      "tensor(0.0828, grad_fn=<NegBackward0>)\n",
      "tensor(1.)\n"
     ]
    }
   ],
   "source": [
    "print(loss_func(model(xb), yb))\n",
    "print(accuracy(model(xb), yb))"
   ]
  },
  {
   "cell_type": "markdown",
   "id": "ba804572-a6c4-4092-9ea6-381643510f15",
   "metadata": {},
   "source": [
    "# Using `torch.nn.functional`"
   ]
  },
  {
   "cell_type": "code",
   "execution_count": 51,
   "id": "921c8303-ec15-490e-a11d-c8d6cc0708f2",
   "metadata": {},
   "outputs": [],
   "source": [
    "import torch.nn as nn\n",
    "import torch.nn.functional as F"
   ]
  },
  {
   "cell_type": "markdown",
   "id": "90d31474-e82b-48d8-adcc-556ceecdee3f",
   "metadata": {},
   "source": [
    "If you’re using negative log likelihood loss and log softmax activation, then Pytorch provides a single function F.cross_entropy that combines the two. So we can even remove the activation function from our model."
   ]
  },
  {
   "cell_type": "code",
   "execution_count": 52,
   "id": "76b7b923-f583-484d-adb9-5e7aae35b351",
   "metadata": {},
   "outputs": [],
   "source": [
    "loss_func = F.cross_entropy\n",
    "\n",
    "\n",
    "def model(xb):\n",
    "    return xb @ weights + bias"
   ]
  },
  {
   "cell_type": "code",
   "execution_count": 53,
   "id": "76d03a66-1606-4567-a0ad-e82da49c6d9f",
   "metadata": {},
   "outputs": [
    {
     "name": "stdout",
     "output_type": "stream",
     "text": [
      "tensor(0.0828, grad_fn=<NllLossBackward0>) tensor(1.)\n"
     ]
    }
   ],
   "source": [
    "print(loss_func(model(xb), yb), accuracy(model(xb), yb))"
   ]
  },
  {
   "cell_type": "markdown",
   "id": "9dc507ea-8f6c-4d41-8657-32995ca4252a",
   "metadata": {},
   "source": [
    "# Refactor using `nn.Module`\n",
    "Using `nn.Module` and `nn.Parameter` for clearer and concise training loop"
   ]
  },
  {
   "cell_type": "code",
   "execution_count": 54,
   "id": "c7ad7a65-1d1b-4f75-bafc-750920b9b93c",
   "metadata": {},
   "outputs": [],
   "source": [
    "class Mnist_Logistic(nn.Module):\n",
    "    def __init__(self):\n",
    "        super().__init__()\n",
    "        self.weights = nn.Parameter(torch.randn(784, 10) / math.sqrt(784))\n",
    "        self.bias = nn.Parameter(torch.zeros(10))\n",
    "\n",
    "    def forward(self, xb):\n",
    "        return xb @ self.weights + self.bias"
   ]
  },
  {
   "cell_type": "code",
   "execution_count": 55,
   "id": "d0eaab92-ab71-402a-bb30-cc61e4a73b64",
   "metadata": {},
   "outputs": [],
   "source": [
    "model = Mnist_Logistic()"
   ]
  },
  {
   "cell_type": "code",
   "execution_count": 56,
   "id": "33deece1-379b-4d44-9cd2-dda29694df5e",
   "metadata": {},
   "outputs": [
    {
     "data": {
      "text/plain": [
       "tensor(2.2261, grad_fn=<NllLossBackward0>)"
      ]
     },
     "execution_count": 56,
     "metadata": {},
     "output_type": "execute_result"
    }
   ],
   "source": [
    "loss_func(model(xb), yb)"
   ]
  },
  {
   "cell_type": "code",
   "execution_count": 57,
   "id": "01338cff-33ac-4f64-bb04-6022af8c7202",
   "metadata": {},
   "outputs": [],
   "source": [
    "# Previously for our training loop we had to update the values for each parameter by name, and manually zero out the grads for each parameter separately, like this:\n",
    "with torch.no_grad():\n",
    "    weights -= weights.grad * lr\n",
    "    bias -= bias.grad * lr\n",
    "    weights.grad.zero_()\n",
    "    bias.grad.zero_()"
   ]
  },
  {
   "cell_type": "code",
   "execution_count": 58,
   "id": "c9b08ae7-ee2b-410c-ae4d-fa9ca6ee55cc",
   "metadata": {},
   "outputs": [
    {
     "ename": "TypeError",
     "evalue": "unsupported operand type(s) for *: 'NoneType' and 'float'",
     "output_type": "error",
     "traceback": [
      "\u001b[0;31m---------------------------------------------------------------------------\u001b[0m",
      "\u001b[0;31mTypeError\u001b[0m                                 Traceback (most recent call last)",
      "Cell \u001b[0;32mIn[58], line 5\u001b[0m\n\u001b[1;32m      3\u001b[0m \u001b[38;5;28;01mwith\u001b[39;00m torch\u001b[38;5;241m.\u001b[39mno_grad():\n\u001b[1;32m      4\u001b[0m     \u001b[38;5;28;01mfor\u001b[39;00m p \u001b[38;5;129;01min\u001b[39;00m model\u001b[38;5;241m.\u001b[39mparameters(): \n\u001b[0;32m----> 5\u001b[0m         p \u001b[38;5;241m-\u001b[39m\u001b[38;5;241m=\u001b[39m p\u001b[38;5;241m.\u001b[39mgrad \u001b[38;5;241m*\u001b[39m lr\n\u001b[1;32m      6\u001b[0m     model\u001b[38;5;241m.\u001b[39mzero_grad()\n",
      "\u001b[0;31mTypeError\u001b[0m: unsupported operand type(s) for *: 'NoneType' and 'float'"
     ]
    }
   ],
   "source": [
    "# now we can take advantages of model.parameters and model.zer_grad()\n",
    "# which are defined by nn.Module\n",
    "with torch.no_grad():\n",
    "    for p in model.parameters(): \n",
    "        p -= p.grad * lr\n",
    "    model.zero_grad()"
   ]
  },
  {
   "cell_type": "code",
   "execution_count": null,
   "id": "b6d5783e-cc67-4145-af5a-ed2880c55e84",
   "metadata": {},
   "outputs": [],
   "source": [
    "def fit():\n",
    "    for epoch in range(epochs):\n",
    "        for i in range((n-1) // bs + 1):# making smooth batch computation\n",
    "            start_i = i * bs\n",
    "            end_i = start_i + bs\n",
    "            xb = x_train[start_i: end_i]\n",
    "            yb = y_train[start_i: end_i]\n",
    "            pred = model(xb)\n",
    "            loss = loss_func(pred, yb)\n",
    "\n",
    "            loss.backward()\n",
    "            with torch.no_grad():\n",
    "                for p in model.parameters():\n",
    "                    p -= p.grad * lr\n",
    "                model.zero_grad()"
   ]
  },
  {
   "cell_type": "code",
   "execution_count": null,
   "id": "4fd8fef0-d9cc-45ef-ae7d-f6ca7bf6f06d",
   "metadata": {},
   "outputs": [],
   "source": [
    "fit()"
   ]
  },
  {
   "cell_type": "code",
   "execution_count": null,
   "id": "a2a1a36f-0b14-4cc5-a567-06c83213f265",
   "metadata": {},
   "outputs": [],
   "source": [
    "loss_func(model(xb), yb)"
   ]
  },
  {
   "cell_type": "markdown",
   "id": "17fcea28-bd1e-4186-9f7a-a4a374bfde02",
   "metadata": {},
   "source": [
    "# Refactor using `nn.Linear`  \n",
    "\n",
    "Instead of manually defining and initializing self.weights and self.bias, and calculating xb  @ self.weights + self.bias, we will instead use the Pytorch class nn.Linear for a linear layer,"
   ]
  },
  {
   "cell_type": "code",
   "execution_count": null,
   "id": "6603a46b-6d24-4594-96ae-a9d3ff37657a",
   "metadata": {},
   "outputs": [],
   "source": [
    "class Mnist_Logistic(nn.Module):\n",
    "    def __init__(self):\n",
    "        super().__init__()\n",
    "        self.lin = nn.Linear(784, 10)\n",
    "\n",
    "    def forward(self, xb):\n",
    "        return self.lin(xb)"
   ]
  },
  {
   "cell_type": "code",
   "execution_count": null,
   "id": "efbba5f3-56cb-4a0d-ada7-6d81a2183473",
   "metadata": {},
   "outputs": [],
   "source": [
    "model = Mnist_Logistic()\n",
    "loss_func(model(xb), yb)"
   ]
  },
  {
   "cell_type": "code",
   "execution_count": null,
   "id": "1d0423f4-4da7-48ec-9683-af45762fc1af",
   "metadata": {},
   "outputs": [],
   "source": [
    "fit()"
   ]
  },
  {
   "cell_type": "code",
   "execution_count": null,
   "id": "ce347f4b-24db-4e6c-b1fa-2701cb54fb49",
   "metadata": {},
   "outputs": [],
   "source": [
    "loss_func(model(xb), yb)"
   ]
  },
  {
   "cell_type": "markdown",
   "id": "3d451842-bd1c-46a5-8f26-e64171a908ca",
   "metadata": {},
   "source": [
    "# Refactor using `torch.optim`"
   ]
  },
  {
   "cell_type": "code",
   "execution_count": 59,
   "id": "a6ca3c20-b12d-484b-8a88-512397b30daa",
   "metadata": {},
   "outputs": [
    {
     "ename": "TypeError",
     "evalue": "unsupported operand type(s) for *: 'NoneType' and 'float'",
     "output_type": "error",
     "traceback": [
      "\u001b[0;31m---------------------------------------------------------------------------\u001b[0m",
      "\u001b[0;31mTypeError\u001b[0m                                 Traceback (most recent call last)",
      "Cell \u001b[0;32mIn[59], line 3\u001b[0m\n\u001b[1;32m      1\u001b[0m \u001b[38;5;28;01mwith\u001b[39;00m torch\u001b[38;5;241m.\u001b[39mno_grad():\n\u001b[1;32m      2\u001b[0m     \u001b[38;5;28;01mfor\u001b[39;00m p \u001b[38;5;129;01min\u001b[39;00m model\u001b[38;5;241m.\u001b[39mparameters(): \n\u001b[0;32m----> 3\u001b[0m         p \u001b[38;5;241m-\u001b[39m\u001b[38;5;241m=\u001b[39m p\u001b[38;5;241m.\u001b[39mgrad \u001b[38;5;241m*\u001b[39m lr\n\u001b[1;32m      4\u001b[0m         model\u001b[38;5;241m.\u001b[39mzero_grad()\n\u001b[1;32m      6\u001b[0m opt\u001b[38;5;241m.\u001b[39mstep()\n",
      "\u001b[0;31mTypeError\u001b[0m: unsupported operand type(s) for *: 'NoneType' and 'float'"
     ]
    }
   ],
   "source": [
    "with torch.no_grad():\n",
    "    for p in model.parameters(): \n",
    "        p -= p.grad * lr\n",
    "        model.zero_grad()\n",
    "\n",
    "opt.step()\n",
    "opt.zero_grad()"
   ]
  },
  {
   "cell_type": "code",
   "execution_count": 60,
   "id": "f3449eb2-fd31-48d6-949f-d778c323fd33",
   "metadata": {},
   "outputs": [],
   "source": [
    "from torch import optim"
   ]
  },
  {
   "cell_type": "code",
   "execution_count": 61,
   "id": "5b429417-8bea-4195-8745-4d0b7f2954c0",
   "metadata": {},
   "outputs": [],
   "source": [
    "def get_model():\n",
    "    model = Mnist_Logistic()\n",
    "    return model, optim.SGD(model.parameters(), lr=lr)"
   ]
  },
  {
   "cell_type": "code",
   "execution_count": 62,
   "id": "fd598e6a-8b66-4445-9fe6-aee9606793dd",
   "metadata": {},
   "outputs": [
    {
     "name": "stdout",
     "output_type": "stream",
     "text": [
      "tensor(2.2621, grad_fn=<NllLossBackward0>)\n"
     ]
    }
   ],
   "source": [
    "model, opt = get_model()\n",
    "print(loss_func(model(xb), yb))"
   ]
  },
  {
   "cell_type": "code",
   "execution_count": 63,
   "id": "47ed2c58-2cb8-4726-b7d4-aaf2d2ddc596",
   "metadata": {},
   "outputs": [],
   "source": [
    "for epoch in range(epochs):\n",
    "    for i in range((n-1) // bs + 1):\n",
    "        start_i = i * bs\n",
    "        end_i = start_i + bs\n",
    "        xb = x_train[start_i: end_i]\n",
    "        yb = y_train[start_i: end_i]\n",
    "        pred = model(xb)\n",
    "        loss = loss_func(pred, yb)\n",
    "\n",
    "        loss.backward()\n",
    "        opt.step()\n",
    "        opt.zero_grad()"
   ]
  },
  {
   "cell_type": "code",
   "execution_count": 64,
   "id": "14e7d36b-0123-4b5e-b9d8-4febec088f92",
   "metadata": {},
   "outputs": [
    {
     "name": "stdout",
     "output_type": "stream",
     "text": [
      "tensor(0.0801, grad_fn=<NllLossBackward0>)\n"
     ]
    }
   ],
   "source": [
    "print(loss_func(model(xb), yb))"
   ]
  },
  {
   "cell_type": "markdown",
   "id": "2935ed30-26d9-4b6d-a156-6c5190e67dd1",
   "metadata": {},
   "source": [
    "# Refactor using Dataset"
   ]
  },
  {
   "cell_type": "code",
   "execution_count": 65,
   "id": "14d57229-eb58-45f2-803e-8ba4fc54300d",
   "metadata": {},
   "outputs": [],
   "source": [
    "from torch.utils.data import TensorDataset\n",
    "train_ds = TensorDataset(x_train, y_train)"
   ]
  },
  {
   "cell_type": "code",
   "execution_count": 66,
   "id": "44bca217-f1fb-49bc-a048-c93909ddf274",
   "metadata": {},
   "outputs": [],
   "source": [
    "# xb = x_train[start_i: end_i]\n",
    "# yb = x_train[start_i: end_i]\n",
    "#####################################\n",
    "# xb,yb = train_ds[i*bs: i*bs+bs]"
   ]
  },
  {
   "cell_type": "code",
   "execution_count": 67,
   "id": "02f83317-2041-49a3-8ac0-c75272554ebf",
   "metadata": {},
   "outputs": [],
   "source": [
    "model, opt = get_model()"
   ]
  },
  {
   "cell_type": "code",
   "execution_count": 68,
   "id": "44a2d76d-a3df-47f6-b605-91498175b93d",
   "metadata": {},
   "outputs": [],
   "source": [
    "for epoch in range(epochs):\n",
    "    for i in range((n-1) // bs + 1):\n",
    "        xb, yb = train_ds[i * bs: i*bs + bs]\n",
    "        pred = model(xb)\n",
    "        loss = loss_func(pred, yb)\n",
    "\n",
    "        loss.backward()\n",
    "        opt.step()\n",
    "        opt.zero_grad()\n"
   ]
  },
  {
   "cell_type": "code",
   "execution_count": 69,
   "id": "e8e4943e-8f14-4d3d-829f-9317473c4a15",
   "metadata": {},
   "outputs": [
    {
     "name": "stdout",
     "output_type": "stream",
     "text": [
      "tensor(0.0788, grad_fn=<NllLossBackward0>)\n"
     ]
    }
   ],
   "source": [
    "print(loss_func(model(xb), yb))"
   ]
  },
  {
   "cell_type": "markdown",
   "id": "1a172af6-c66e-48f6-bc16-03c6f0f7140e",
   "metadata": {},
   "source": [
    "# Refactor using DataLoader"
   ]
  },
  {
   "cell_type": "code",
   "execution_count": 70,
   "id": "b92fccbe-29a2-4211-b51e-8a6ee5ff0084",
   "metadata": {},
   "outputs": [],
   "source": [
    "from torch.utils.data import DataLoader"
   ]
  },
  {
   "cell_type": "code",
   "execution_count": 71,
   "id": "527500f9-8d05-4afc-898a-bd004878bb90",
   "metadata": {},
   "outputs": [],
   "source": [
    "train_ds = TensorDataset(x_train, y_train)\n",
    "train_dl = DataLoader(train_ds, batch_size=bs)"
   ]
  },
  {
   "cell_type": "code",
   "execution_count": 72,
   "id": "23fee61e-86af-4e76-950d-37ac8a61a53f",
   "metadata": {},
   "outputs": [],
   "source": [
    "# for i in range((n-1) // bs + 1):\n",
    "#     xb, yb = train_ds[i*bs : i*bs+bs]\n",
    "#     pred = model(xb)\n",
    "######################################\n",
    "# for xb, yb in train_dl:\n",
    "#     pred = model(xb)"
   ]
  },
  {
   "cell_type": "code",
   "execution_count": 73,
   "id": "3f3db24f-3f3a-40d6-b88f-5785475febb8",
   "metadata": {},
   "outputs": [],
   "source": [
    "model, opt = get_model()\n",
    "\n",
    "for epoch in range(epochs):\n",
    "    for xb, yb in train_dl:\n",
    "        pred = model(xb)\n",
    "        loss = loss_func(pred, yb)\n",
    "\n",
    "        loss.backward()\n",
    "        opt.step()\n",
    "        opt.zero_grad()"
   ]
  },
  {
   "cell_type": "code",
   "execution_count": 74,
   "id": "6296f8da-a44f-4578-9c32-5a03821b47a1",
   "metadata": {},
   "outputs": [
    {
     "name": "stdout",
     "output_type": "stream",
     "text": [
      "tensor(0.0836, grad_fn=<NllLossBackward0>)\n"
     ]
    }
   ],
   "source": [
    "print(loss_func(model(xb), yb))"
   ]
  },
  {
   "cell_type": "code",
   "execution_count": 75,
   "id": "5e67835e-602c-4299-ada4-77c3e5d67ea2",
   "metadata": {},
   "outputs": [],
   "source": [
    "# Add validation"
   ]
  },
  {
   "cell_type": "code",
   "execution_count": 76,
   "id": "1c06e57c-5514-4f36-81d0-f785843634e6",
   "metadata": {},
   "outputs": [],
   "source": [
    "train_ds = TensorDataset(x_train, y_train)\n",
    "train_dl = DataLoader(train_ds, batch_size=bs, shuffle=True)\n",
    "\n",
    "valid_ds = TensorDataset(x_valid, y_valid)\n",
    "valid_dl = DataLoader(valid_ds, batch_size=bs*2)"
   ]
  },
  {
   "cell_type": "markdown",
   "id": "05f4559f-e0ac-45cb-a84d-fd5503848513",
   "metadata": {},
   "source": [
    "call model.train() before training, and model.eval() before inference, because these are used by layers such as nn.BatchNorm2d and nn.Dropout to ensure appropriate behavior for these different phases."
   ]
  },
  {
   "cell_type": "code",
   "execution_count": 77,
   "id": "8cc3bec0-81e8-42ff-aa32-8f1feace37ff",
   "metadata": {},
   "outputs": [
    {
     "name": "stdout",
     "output_type": "stream",
     "text": [
      "0 tensor(0.3580)\n",
      "1 tensor(0.2782)\n"
     ]
    }
   ],
   "source": [
    "model, opt = get_model()\n",
    "for epoch in range(epochs):\n",
    "    model.train()\n",
    "\n",
    "    for xb, yb in train_dl:\n",
    "        pred = model(xb)\n",
    "        loss = loss_func(pred, yb)\n",
    "\n",
    "        loss.backward()\n",
    "        opt.step()\n",
    "        opt.zero_grad()\n",
    "\n",
    "    model.eval()\n",
    "    with torch.no_grad():\n",
    "        valid_loss = sum(loss_func(model(xb),yb) for xb, yb in valid_dl)\n",
    "    print(epoch, valid_loss / len(valid_dl))\n",
    "    "
   ]
  },
  {
   "cell_type": "markdown",
   "id": "6a4caca5-7102-4681-909f-97f97dd1b8c8",
   "metadata": {},
   "source": [
    "# Fit and get_data function"
   ]
  },
  {
   "cell_type": "code",
   "execution_count": 78,
   "id": "beed3771-c768-4eea-bac0-217406c4d77d",
   "metadata": {},
   "outputs": [],
   "source": [
    "def loss_batch(model, loss_func, xb, yb, opt=None):\n",
    "    \"\"\"\n",
    "    Wrapping batch of loss into a function\n",
    "    \"\"\"\n",
    "    loss = loss_func(model(xb), yb)\n",
    "\n",
    "    if opt is not None:\n",
    "        loss.backward()\n",
    "        opt.step()\n",
    "        opt.zero_grad()\n",
    "    return loss.item(), len(xb)"
   ]
  },
  {
   "cell_type": "code",
   "execution_count": 79,
   "id": "323a1b15-6aa5-445c-90cc-633df9b14609",
   "metadata": {},
   "outputs": [],
   "source": [
    "import numpy as np"
   ]
  },
  {
   "cell_type": "code",
   "execution_count": 80,
   "id": "36324c59-e44d-46a0-a5ce-e8c81ee6704c",
   "metadata": {},
   "outputs": [],
   "source": [
    "def fit(epochs, model, loss_func, opt, train_dl, valid_dl):\n",
    "    for epoch in range(epochs):\n",
    "        model.train()\n",
    "        for xb, yb in train_dl:\n",
    "            loss_batch(model, loss_func, xb, yb, opt)\n",
    "\n",
    "        model.eval()\n",
    "        with torch.no_grad():\n",
    "            losses, nums = zip(\n",
    "                *[loss_batch(model, loss_func, xb, yb) for xb, yb in valid_dl]    \n",
    "            )\n",
    "        # average loss\n",
    "        val_loss = np.sum(np.multiply(losses, nums)) / np.sum(nums) \n",
    "        print(epoch, val_loss)"
   ]
  },
  {
   "cell_type": "code",
   "execution_count": 81,
   "id": "92814f28-6acd-42b7-9778-03c7fa230775",
   "metadata": {},
   "outputs": [],
   "source": [
    "def get_data(train_ds, valid_ds, bs):\n",
    "    return (\n",
    "        DataLoader(train_ds, batch_size=bs, shuffle=True),\n",
    "        DataLoader(valid_ds, batch_size=bs * 2)\n",
    "    )"
   ]
  },
  {
   "cell_type": "markdown",
   "id": "f962d232-45a5-4077-84fa-f5e9cd681ed3",
   "metadata": {},
   "source": [
    "# The following 3 lines of code can be used for variety of models "
   ]
  },
  {
   "cell_type": "code",
   "execution_count": 82,
   "id": "f184d252-5c43-4a90-8144-f4c701250c1b",
   "metadata": {},
   "outputs": [
    {
     "name": "stdout",
     "output_type": "stream",
     "text": [
      "0 0.3127015849709511\n",
      "1 0.30844839738607405\n"
     ]
    }
   ],
   "source": [
    "train_dl, valid_dl = get_data(train_ds, valid_ds, bs)\n",
    "model, opt = get_model()\n",
    "fit(epochs, model, loss_func, opt, train_dl, valid_dl)"
   ]
  },
  {
   "cell_type": "markdown",
   "id": "c70dabce-a2ab-4aca-aa7a-6aa2cd79e3bb",
   "metadata": {},
   "source": [
    "#  testing with a simple CNN"
   ]
  },
  {
   "cell_type": "code",
   "execution_count": 83,
   "id": "fa8ae4d9-81a0-4ef1-8c98-475370607898",
   "metadata": {},
   "outputs": [],
   "source": [
    "class Mnist_CNN(nn.Module):\n",
    "    def __init__(self):\n",
    "        super().__init__()\n",
    "        self.conv1 = nn.Conv2d(1, 16, kernel_size=3, stride=2, padding=1)\n",
    "        self.conv2 = nn.Conv2d(16, 16, kernel_size=3, stride=2, padding=1)\n",
    "        self.conv3 = nn.Conv2d(16, 10, kernel_size=3, stride=2, padding=1)\n",
    "        \n",
    "    def forward(self, xb):\n",
    "        xb = xb.view(-1, 1, 28, 28) # batch num is computed automatically\n",
    "        xb = F.relu(self.conv1(xb))\n",
    "        xb = F.relu(self.conv2(xb))\n",
    "        xb = F.relu(self.conv3(xb))\n",
    "        xb = F.avg_pool2d(xb,4)\n",
    "        return xb.view(-1, xb.size(1))\n",
    "lr = .1"
   ]
  },
  {
   "cell_type": "code",
   "execution_count": 84,
   "id": "147e1535",
   "metadata": {},
   "outputs": [],
   "source": [
    "model = Mnist_CNN()\n",
    "opt = optim.SGD(model.parameters(), lr=lr, momentum=.9)"
   ]
  },
  {
   "cell_type": "code",
   "execution_count": 85,
   "id": "b4042234",
   "metadata": {},
   "outputs": [
    {
     "name": "stdout",
     "output_type": "stream",
     "text": [
      "0 0.33080095319747926\n",
      "1 0.2551427621901035\n"
     ]
    }
   ],
   "source": [
    "fit(epochs, model, loss_func, opt, train_dl, valid_dl)"
   ]
  },
  {
   "cell_type": "markdown",
   "id": "d204dbd2",
   "metadata": {},
   "source": [
    "# Using `nn.Sequential`"
   ]
  },
  {
   "cell_type": "code",
   "execution_count": 86,
   "id": "5531a9cd",
   "metadata": {},
   "outputs": [],
   "source": [
    "class Lambda(nn.Module):\n",
    "    def __init__(self, func):\n",
    "        super().__init__()\n",
    "        self.func = func\n",
    "    \n",
    "    def forward(self, x):\n",
    "        return self.func(x)\n",
    "    \n",
    "def preprocess(x):\n",
    "    return x.view(-1, 1, 28, 28)"
   ]
  },
  {
   "cell_type": "code",
   "execution_count": 87,
   "id": "e4a18208",
   "metadata": {},
   "outputs": [],
   "source": [
    "model = nn.Sequential(\n",
    "    Lambda(preprocess),\n",
    "    nn.Conv2d(1, 16, kernel_size=3, stride=2, padding=1),\n",
    "    nn.ReLU(),\n",
    "    nn.Conv2d(16, 16, kernel_size=3, stride=2, padding=1),\n",
    "    nn.ReLU(),\n",
    "    nn.Conv2d(16, 10, kernel_size=3, stride=2, padding=1),\n",
    "    nn.ReLU(),\n",
    "    nn.AvgPool2d(4),\n",
    "    Lambda(lambda x: x.view(x.size(0), -1)),\n",
    ")"
   ]
  },
  {
   "cell_type": "code",
   "execution_count": 88,
   "id": "dd32621a",
   "metadata": {},
   "outputs": [],
   "source": [
    "opt = optim.SGD(model.parameters(), lr=lr, momentum=.9)"
   ]
  },
  {
   "cell_type": "code",
   "execution_count": 89,
   "id": "4e00cc3e",
   "metadata": {},
   "outputs": [
    {
     "name": "stdout",
     "output_type": "stream",
     "text": [
      "0 0.31425551376342775\n",
      "1 0.1976418880224228\n"
     ]
    }
   ],
   "source": [
    "fit(epochs, model, loss_func, opt, train_dl, valid_dl)"
   ]
  },
  {
   "cell_type": "markdown",
   "id": "cb32b202",
   "metadata": {},
   "source": [
    "# Wrapping `DataLoader` to make it suitable for any 2d single channel image"
   ]
  },
  {
   "cell_type": "code",
   "execution_count": 102,
   "id": "656b3275",
   "metadata": {},
   "outputs": [],
   "source": [
    "def preprocess(x, y):\n",
    "    return x.view(-1, 1, 28, 28), y"
   ]
  },
  {
   "cell_type": "code",
   "execution_count": 103,
   "id": "0c233eeb",
   "metadata": {},
   "outputs": [],
   "source": [
    "class WrappedDataLoader:\n",
    "    def __init__(self, dl, func):\n",
    "        self.dl = dl\n",
    "        self.func = func\n",
    "        \n",
    "    def __len__(self):\n",
    "        return len(self.dl)\n",
    "    \n",
    "    def __iter__(self):\n",
    "        for b in self.dl:\n",
    "            yield (self.func(*b))"
   ]
  },
  {
   "cell_type": "code",
   "execution_count": 104,
   "id": "571c9fd1",
   "metadata": {},
   "outputs": [],
   "source": [
    "# def get_data(train_ds, valid_ds, bs):\n",
    "#     return (\n",
    "#         DataLoader(train_ds, batch_size=bs, shuffle=True),\n",
    "#         DataLoader(valid_ds, batch_size=bs * 2)\n",
    "#     )\n",
    "train_dl, valid_dl = get_data(train_ds, valid_ds, bs)"
   ]
  },
  {
   "cell_type": "code",
   "execution_count": 105,
   "id": "cc96b2af",
   "metadata": {},
   "outputs": [],
   "source": [
    "train_dl = WrappedDataLoader(train_dl, preprocess)\n",
    "valid_dl = WrappedDataLoader(valid_dl, preprocess)"
   ]
  },
  {
   "cell_type": "markdown",
   "id": "c8cefdbe",
   "metadata": {},
   "source": [
    "replace nn.AvgPool2d with nn.AdaptiveAvgPool2d, which allows us to define the size of the output tensor we want, rather than the input tensor we have"
   ]
  },
  {
   "cell_type": "code",
   "execution_count": 106,
   "id": "691c7768",
   "metadata": {},
   "outputs": [],
   "source": [
    "model = nn.Sequential(\n",
    "    nn.Conv2d(1, 16, kernel_size=3, stride=2, padding=1),\n",
    "    nn.ReLU(),\n",
    "    nn.Conv2d(16, 16, kernel_size=3, stride=2, padding=1),\n",
    "    nn.ReLU(),\n",
    "    nn.Conv2d(16, 10, kernel_size=3, stride=2, padding=1),\n",
    "    nn.ReLU(),\n",
    "    nn.AdaptiveAvgPool2d(1),\n",
    "    Lambda(lambda x: x.view(x.size(0), -1)),\n",
    ")\n",
    "opt = optim.SGD(model.parameters(), lr=lr, momentum=0.9)"
   ]
  },
  {
   "cell_type": "code",
   "execution_count": 107,
   "id": "3dc89d50",
   "metadata": {},
   "outputs": [
    {
     "name": "stdout",
     "output_type": "stream",
     "text": [
      "0 0.3475725635886192\n",
      "1 0.23490095785856246\n"
     ]
    }
   ],
   "source": [
    "fit(epochs, model, loss_func, opt, train_dl, valid_dl)"
   ]
  },
  {
   "cell_type": "markdown",
   "id": "21dc659f",
   "metadata": {},
   "source": [
    "# Using GPU"
   ]
  },
  {
   "cell_type": "code",
   "execution_count": 108,
   "id": "ab23db8e",
   "metadata": {},
   "outputs": [
    {
     "data": {
      "text/plain": [
       "True"
      ]
     },
     "execution_count": 108,
     "metadata": {},
     "output_type": "execute_result"
    }
   ],
   "source": [
    "torch.cuda.is_available()"
   ]
  },
  {
   "cell_type": "code",
   "execution_count": 109,
   "id": "379949b1",
   "metadata": {},
   "outputs": [],
   "source": [
    "dev = torch.device(\n",
    "    \"cuda\"\n",
    ") if torch.cuda.is_available() else torch.device(\n",
    "    \"cpu\"\n",
    ")"
   ]
  },
  {
   "cell_type": "code",
   "execution_count": 110,
   "id": "94160f41",
   "metadata": {},
   "outputs": [
    {
     "data": {
      "text/plain": [
       "device(type='cuda')"
      ]
     },
     "execution_count": 110,
     "metadata": {},
     "output_type": "execute_result"
    }
   ],
   "source": [
    "dev"
   ]
  },
  {
   "cell_type": "code",
   "execution_count": 111,
   "id": "37f91279",
   "metadata": {},
   "outputs": [],
   "source": [
    "def preprocess(x, y):\n",
    "    return x.view(-1, 1, 28, 28).to(dev), y.to(dev)"
   ]
  },
  {
   "cell_type": "code",
   "execution_count": 112,
   "id": "f9c2d871",
   "metadata": {},
   "outputs": [],
   "source": [
    "train_dl, valid_dl = get_data(train_ds, valid_ds, bs)\n",
    "train_dl = WrappedDataLoader(train_dl, preprocess)\n",
    "valid_dl = WrappedDataLoader(valid_dl, preprocess)"
   ]
  },
  {
   "cell_type": "code",
   "execution_count": 113,
   "id": "f64b2f49",
   "metadata": {},
   "outputs": [],
   "source": [
    "model.to(dev)\n",
    "opt = optim.SGD(model.parameters(), lr=lr, momentum=.9)"
   ]
  },
  {
   "cell_type": "code",
   "execution_count": 114,
   "id": "0ffff694",
   "metadata": {},
   "outputs": [
    {
     "name": "stdout",
     "output_type": "stream",
     "text": [
      "0 0.18220180921554566\n",
      "1 0.15885053728818893\n"
     ]
    }
   ],
   "source": [
    "fit(epochs, model, loss_func, opt, train_dl, valid_dl)"
   ]
  },
  {
   "cell_type": "code",
   "execution_count": null,
   "id": "3ee32815",
   "metadata": {},
   "outputs": [],
   "source": []
  },
  {
   "cell_type": "code",
   "execution_count": null,
   "id": "a0ebff44",
   "metadata": {},
   "outputs": [],
   "source": []
  },
  {
   "cell_type": "code",
   "execution_count": null,
   "id": "18766ece",
   "metadata": {},
   "outputs": [],
   "source": []
  },
  {
   "cell_type": "code",
   "execution_count": null,
   "id": "bb1d3126",
   "metadata": {},
   "outputs": [],
   "source": []
  },
  {
   "cell_type": "code",
   "execution_count": null,
   "id": "03fbb007",
   "metadata": {},
   "outputs": [],
   "source": []
  },
  {
   "cell_type": "code",
   "execution_count": null,
   "id": "6265b81c",
   "metadata": {},
   "outputs": [],
   "source": []
  },
  {
   "cell_type": "code",
   "execution_count": null,
   "id": "23171586",
   "metadata": {},
   "outputs": [],
   "source": []
  },
  {
   "cell_type": "code",
   "execution_count": null,
   "id": "3fa0c0d9",
   "metadata": {},
   "outputs": [],
   "source": []
  },
  {
   "cell_type": "code",
   "execution_count": null,
   "id": "72ac6db6",
   "metadata": {},
   "outputs": [],
   "source": []
  }
 ],
 "metadata": {
  "kernelspec": {
   "display_name": "Python 3 (ipykernel)",
   "language": "python",
   "name": "python3"
  },
  "language_info": {
   "codemirror_mode": {
    "name": "ipython",
    "version": 3
   },
   "file_extension": ".py",
   "mimetype": "text/x-python",
   "name": "python",
   "nbconvert_exporter": "python",
   "pygments_lexer": "ipython3",
   "version": "3.11.3"
  }
 },
 "nbformat": 4,
 "nbformat_minor": 5
}
