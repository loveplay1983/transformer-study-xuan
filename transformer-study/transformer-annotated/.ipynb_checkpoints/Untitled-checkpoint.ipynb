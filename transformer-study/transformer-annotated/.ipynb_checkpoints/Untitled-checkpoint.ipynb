{
 "cells": [
  {
   "cell_type": "markdown",
   "id": "9ac2dbc8-be48-46f2-8efd-95d3fd4457df",
   "metadata": {},
   "source": [
    "$\\mathbf{l}=\\mathbf{Y}^{\\text{vocab\\_size}}\\mathbf{y'}$ "
   ]
  },
  {
   "cell_type": "markdown",
   "id": "897aa125-89f2-450a-a816-d35bf60b7eed",
   "metadata": {},
   "source": [
    "and can be mapped to a probability distribution over all words by applying a softmax operation: $p(\\mathbf{y} | \\mathbf{c}) = \\text{Softmax}(\\mathbf{Y}^{\\text{vocab_size}} \\mathbf{y'}) = \\text{Softmax}(\\mathbf{l})$."
   ]
  },
  {
   "cell_type": "markdown",
   "id": "a6e3cfa9-b626-4402-b3b7-1928461ab93f",
   "metadata": {},
   "source": [
    "$\\mathbf{a}=$"
   ]
  },
  {
   "cell_type": "markdown",
   "id": "a1c8b065-18d8-4258-be1d-0c47d2e84230",
   "metadata": {},
   "source": [
    "$\\text{vocab_size}$"
   ]
  },
  {
   "cell_type": "code",
   "execution_count": null,
   "id": "4c73f1dd-8955-4fc4-94eb-5e6219ad4373",
   "metadata": {},
   "outputs": [],
   "source": []
  }
 ],
 "metadata": {
  "kernelspec": {
   "display_name": "torch",
   "language": "python",
   "name": "torch"
  },
  "language_info": {
   "codemirror_mode": {
    "name": "ipython",
    "version": 3
   },
   "file_extension": ".py",
   "mimetype": "text/x-python",
   "name": "python",
   "nbconvert_exporter": "python",
   "pygments_lexer": "ipython3",
   "version": "3.11.5"
  }
 },
 "nbformat": 4,
 "nbformat_minor": 5
}
