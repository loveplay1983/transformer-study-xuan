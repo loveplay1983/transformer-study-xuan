{
  "nbformat": 4,
  "nbformat_minor": 0,
  "metadata": {
    "colab": {
      "name": "Evaluating Big Bird on TriviaQA",
      "provenance": [],
      "collapsed_sections": [],
      "include_colab_link": true
    },
    "kernelspec": {
      "display_name": "Python 3",
      "name": "python3"
    },
    "widgets": {
      "application/vnd.jupyter.widget-state+json": {
        "cc720864436943c98de25e071a26843c": {
          "model_module": "@jupyter-widgets/controls",
          "model_name": "HBoxModel",
          "state": {
            "_view_name": "HBoxView",
            "_dom_classes": [],
            "_model_name": "HBoxModel",
            "_view_module": "@jupyter-widgets/controls",
            "_model_module_version": "1.5.0",
            "_view_count": null,
            "_view_module_version": "1.5.0",
            "box_style": "",
            "layout": "IPY_MODEL_d65d4adf92ee43b6873859c52471b3ea",
            "_model_module": "@jupyter-widgets/controls",
            "children": [
              "IPY_MODEL_901ab7e5922e47db8f473997a2ee7fd4",
              "IPY_MODEL_6d45edb0e3d546109ca744a3562bac3b"
            ]
          }
        },
        "d65d4adf92ee43b6873859c52471b3ea": {
          "model_module": "@jupyter-widgets/base",
          "model_name": "LayoutModel",
          "state": {
            "_view_name": "LayoutView",
            "grid_template_rows": null,
            "right": null,
            "justify_content": null,
            "_view_module": "@jupyter-widgets/base",
            "overflow": null,
            "_model_module_version": "1.2.0",
            "_view_count": null,
            "flex_flow": null,
            "width": null,
            "min_width": null,
            "border": null,
            "align_items": null,
            "bottom": null,
            "_model_module": "@jupyter-widgets/base",
            "top": null,
            "grid_column": null,
            "overflow_y": null,
            "overflow_x": null,
            "grid_auto_flow": null,
            "grid_area": null,
            "grid_template_columns": null,
            "flex": null,
            "_model_name": "LayoutModel",
            "justify_items": null,
            "grid_row": null,
            "max_height": null,
            "align_content": null,
            "visibility": null,
            "align_self": null,
            "height": null,
            "min_height": null,
            "padding": null,
            "grid_auto_rows": null,
            "grid_gap": null,
            "max_width": null,
            "order": null,
            "_view_module_version": "1.2.0",
            "grid_template_areas": null,
            "object_position": null,
            "object_fit": null,
            "grid_auto_columns": null,
            "margin": null,
            "display": null,
            "left": null
          }
        },
        "901ab7e5922e47db8f473997a2ee7fd4": {
          "model_module": "@jupyter-widgets/controls",
          "model_name": "FloatProgressModel",
          "state": {
            "_view_name": "ProgressView",
            "style": "IPY_MODEL_03004e584c9b4db9b773b20e6fe78599",
            "_dom_classes": [],
            "description": "100%",
            "_model_name": "FloatProgressModel",
            "bar_style": "success",
            "max": 4159,
            "_view_module": "@jupyter-widgets/controls",
            "_model_module_version": "1.5.0",
            "value": 4159,
            "_view_count": null,
            "_view_module_version": "1.5.0",
            "orientation": "horizontal",
            "min": 0,
            "description_tooltip": null,
            "_model_module": "@jupyter-widgets/controls",
            "layout": "IPY_MODEL_070532e66488475d9aadf9efcb47e3ab"
          }
        },
        "6d45edb0e3d546109ca744a3562bac3b": {
          "model_module": "@jupyter-widgets/controls",
          "model_name": "HTMLModel",
          "state": {
            "_view_name": "HTMLView",
            "style": "IPY_MODEL_a32d5c0b77834c9fbbe8510f7a57076e",
            "_dom_classes": [],
            "description": "",
            "_model_name": "HTMLModel",
            "placeholder": "​",
            "_view_module": "@jupyter-widgets/controls",
            "_model_module_version": "1.5.0",
            "value": " 4159/4159 [30:07&lt;00:00,  2.30ex/s]",
            "_view_count": null,
            "_view_module_version": "1.5.0",
            "description_tooltip": null,
            "_model_module": "@jupyter-widgets/controls",
            "layout": "IPY_MODEL_361369f3b92c442c94771ff402615deb"
          }
        },
        "03004e584c9b4db9b773b20e6fe78599": {
          "model_module": "@jupyter-widgets/controls",
          "model_name": "ProgressStyleModel",
          "state": {
            "_view_name": "StyleView",
            "_model_name": "ProgressStyleModel",
            "description_width": "initial",
            "_view_module": "@jupyter-widgets/base",
            "_model_module_version": "1.5.0",
            "_view_count": null,
            "_view_module_version": "1.2.0",
            "bar_color": null,
            "_model_module": "@jupyter-widgets/controls"
          }
        },
        "070532e66488475d9aadf9efcb47e3ab": {
          "model_module": "@jupyter-widgets/base",
          "model_name": "LayoutModel",
          "state": {
            "_view_name": "LayoutView",
            "grid_template_rows": null,
            "right": null,
            "justify_content": null,
            "_view_module": "@jupyter-widgets/base",
            "overflow": null,
            "_model_module_version": "1.2.0",
            "_view_count": null,
            "flex_flow": null,
            "width": null,
            "min_width": null,
            "border": null,
            "align_items": null,
            "bottom": null,
            "_model_module": "@jupyter-widgets/base",
            "top": null,
            "grid_column": null,
            "overflow_y": null,
            "overflow_x": null,
            "grid_auto_flow": null,
            "grid_area": null,
            "grid_template_columns": null,
            "flex": null,
            "_model_name": "LayoutModel",
            "justify_items": null,
            "grid_row": null,
            "max_height": null,
            "align_content": null,
            "visibility": null,
            "align_self": null,
            "height": null,
            "min_height": null,
            "padding": null,
            "grid_auto_rows": null,
            "grid_gap": null,
            "max_width": null,
            "order": null,
            "_view_module_version": "1.2.0",
            "grid_template_areas": null,
            "object_position": null,
            "object_fit": null,
            "grid_auto_columns": null,
            "margin": null,
            "display": null,
            "left": null
          }
        },
        "a32d5c0b77834c9fbbe8510f7a57076e": {
          "model_module": "@jupyter-widgets/controls",
          "model_name": "DescriptionStyleModel",
          "state": {
            "_view_name": "StyleView",
            "_model_name": "DescriptionStyleModel",
            "description_width": "",
            "_view_module": "@jupyter-widgets/base",
            "_model_module_version": "1.5.0",
            "_view_count": null,
            "_view_module_version": "1.2.0",
            "_model_module": "@jupyter-widgets/controls"
          }
        },
        "361369f3b92c442c94771ff402615deb": {
          "model_module": "@jupyter-widgets/base",
          "model_name": "LayoutModel",
          "state": {
            "_view_name": "LayoutView",
            "grid_template_rows": null,
            "right": null,
            "justify_content": null,
            "_view_module": "@jupyter-widgets/base",
            "overflow": null,
            "_model_module_version": "1.2.0",
            "_view_count": null,
            "flex_flow": null,
            "width": null,
            "min_width": null,
            "border": null,
            "align_items": null,
            "bottom": null,
            "_model_module": "@jupyter-widgets/base",
            "top": null,
            "grid_column": null,
            "overflow_y": null,
            "overflow_x": null,
            "grid_auto_flow": null,
            "grid_area": null,
            "grid_template_columns": null,
            "flex": null,
            "_model_name": "LayoutModel",
            "justify_items": null,
            "grid_row": null,
            "max_height": null,
            "align_content": null,
            "visibility": null,
            "align_self": null,
            "height": null,
            "min_height": null,
            "padding": null,
            "grid_auto_rows": null,
            "grid_gap": null,
            "max_width": null,
            "order": null,
            "_view_module_version": "1.2.0",
            "grid_template_areas": null,
            "object_position": null,
            "object_fit": null,
            "grid_auto_columns": null,
            "margin": null,
            "display": null,
            "left": null
          }
        },
        "79d481bcbcfd43a2bb5c39eb4140743a": {
          "model_module": "@jupyter-widgets/controls",
          "model_name": "HBoxModel",
          "state": {
            "_view_name": "HBoxView",
            "_dom_classes": [],
            "_model_name": "HBoxModel",
            "_view_module": "@jupyter-widgets/controls",
            "_model_module_version": "1.5.0",
            "_view_count": null,
            "_view_module_version": "1.5.0",
            "box_style": "",
            "layout": "IPY_MODEL_876b55959a93432aa77385e4fae1e379",
            "_model_module": "@jupyter-widgets/controls",
            "children": [
              "IPY_MODEL_e53d7c66c9604602bcc86bd778c91e09",
              "IPY_MODEL_970e796e9a2446d89b9e97f6c746dbe7"
            ]
          }
        },
        "876b55959a93432aa77385e4fae1e379": {
          "model_module": "@jupyter-widgets/base",
          "model_name": "LayoutModel",
          "state": {
            "_view_name": "LayoutView",
            "grid_template_rows": null,
            "right": null,
            "justify_content": null,
            "_view_module": "@jupyter-widgets/base",
            "overflow": null,
            "_model_module_version": "1.2.0",
            "_view_count": null,
            "flex_flow": null,
            "width": null,
            "min_width": null,
            "border": null,
            "align_items": null,
            "bottom": null,
            "_model_module": "@jupyter-widgets/base",
            "top": null,
            "grid_column": null,
            "overflow_y": null,
            "overflow_x": null,
            "grid_auto_flow": null,
            "grid_area": null,
            "grid_template_columns": null,
            "flex": null,
            "_model_name": "LayoutModel",
            "justify_items": null,
            "grid_row": null,
            "max_height": null,
            "align_content": null,
            "visibility": null,
            "align_self": null,
            "height": null,
            "min_height": null,
            "padding": null,
            "grid_auto_rows": null,
            "grid_gap": null,
            "max_width": null,
            "order": null,
            "_view_module_version": "1.2.0",
            "grid_template_areas": null,
            "object_position": null,
            "object_fit": null,
            "grid_auto_columns": null,
            "margin": null,
            "display": null,
            "left": null
          }
        },
        "e53d7c66c9604602bcc86bd778c91e09": {
          "model_module": "@jupyter-widgets/controls",
          "model_name": "FloatProgressModel",
          "state": {
            "_view_name": "ProgressView",
            "style": "IPY_MODEL_b5eace5e12ee426fb81af105c06f72f7",
            "_dom_classes": [],
            "description": "100%",
            "_model_name": "FloatProgressModel",
            "bar_style": "success",
            "max": 5,
            "_view_module": "@jupyter-widgets/controls",
            "_model_module_version": "1.5.0",
            "value": 5,
            "_view_count": null,
            "_view_module_version": "1.5.0",
            "orientation": "horizontal",
            "min": 0,
            "description_tooltip": null,
            "_model_module": "@jupyter-widgets/controls",
            "layout": "IPY_MODEL_1359df9df1ec4b91bcd949bb2b1e63ec"
          }
        },
        "970e796e9a2446d89b9e97f6c746dbe7": {
          "model_module": "@jupyter-widgets/controls",
          "model_name": "HTMLModel",
          "state": {
            "_view_name": "HTMLView",
            "style": "IPY_MODEL_0e8825648a26469cba13ed9718d7c996",
            "_dom_classes": [],
            "description": "",
            "_model_name": "HTMLModel",
            "placeholder": "​",
            "_view_module": "@jupyter-widgets/controls",
            "_model_module_version": "1.5.0",
            "value": " 5/5 [00:00&lt;00:00, 20.00ba/s]",
            "_view_count": null,
            "_view_module_version": "1.5.0",
            "description_tooltip": null,
            "_model_module": "@jupyter-widgets/controls",
            "layout": "IPY_MODEL_6c52d6e7d02c4999bad041d8193955a4"
          }
        },
        "b5eace5e12ee426fb81af105c06f72f7": {
          "model_module": "@jupyter-widgets/controls",
          "model_name": "ProgressStyleModel",
          "state": {
            "_view_name": "StyleView",
            "_model_name": "ProgressStyleModel",
            "description_width": "initial",
            "_view_module": "@jupyter-widgets/base",
            "_model_module_version": "1.5.0",
            "_view_count": null,
            "_view_module_version": "1.2.0",
            "bar_color": null,
            "_model_module": "@jupyter-widgets/controls"
          }
        },
        "1359df9df1ec4b91bcd949bb2b1e63ec": {
          "model_module": "@jupyter-widgets/base",
          "model_name": "LayoutModel",
          "state": {
            "_view_name": "LayoutView",
            "grid_template_rows": null,
            "right": null,
            "justify_content": null,
            "_view_module": "@jupyter-widgets/base",
            "overflow": null,
            "_model_module_version": "1.2.0",
            "_view_count": null,
            "flex_flow": null,
            "width": null,
            "min_width": null,
            "border": null,
            "align_items": null,
            "bottom": null,
            "_model_module": "@jupyter-widgets/base",
            "top": null,
            "grid_column": null,
            "overflow_y": null,
            "overflow_x": null,
            "grid_auto_flow": null,
            "grid_area": null,
            "grid_template_columns": null,
            "flex": null,
            "_model_name": "LayoutModel",
            "justify_items": null,
            "grid_row": null,
            "max_height": null,
            "align_content": null,
            "visibility": null,
            "align_self": null,
            "height": null,
            "min_height": null,
            "padding": null,
            "grid_auto_rows": null,
            "grid_gap": null,
            "max_width": null,
            "order": null,
            "_view_module_version": "1.2.0",
            "grid_template_areas": null,
            "object_position": null,
            "object_fit": null,
            "grid_auto_columns": null,
            "margin": null,
            "display": null,
            "left": null
          }
        },
        "0e8825648a26469cba13ed9718d7c996": {
          "model_module": "@jupyter-widgets/controls",
          "model_name": "DescriptionStyleModel",
          "state": {
            "_view_name": "StyleView",
            "_model_name": "DescriptionStyleModel",
            "description_width": "",
            "_view_module": "@jupyter-widgets/base",
            "_model_module_version": "1.5.0",
            "_view_count": null,
            "_view_module_version": "1.2.0",
            "_model_module": "@jupyter-widgets/controls"
          }
        },
        "6c52d6e7d02c4999bad041d8193955a4": {
          "model_module": "@jupyter-widgets/base",
          "model_name": "LayoutModel",
          "state": {
            "_view_name": "LayoutView",
            "grid_template_rows": null,
            "right": null,
            "justify_content": null,
            "_view_module": "@jupyter-widgets/base",
            "overflow": null,
            "_model_module_version": "1.2.0",
            "_view_count": null,
            "flex_flow": null,
            "width": null,
            "min_width": null,
            "border": null,
            "align_items": null,
            "bottom": null,
            "_model_module": "@jupyter-widgets/base",
            "top": null,
            "grid_column": null,
            "overflow_y": null,
            "overflow_x": null,
            "grid_auto_flow": null,
            "grid_area": null,
            "grid_template_columns": null,
            "flex": null,
            "_model_name": "LayoutModel",
            "justify_items": null,
            "grid_row": null,
            "max_height": null,
            "align_content": null,
            "visibility": null,
            "align_self": null,
            "height": null,
            "min_height": null,
            "padding": null,
            "grid_auto_rows": null,
            "grid_gap": null,
            "max_width": null,
            "order": null,
            "_view_module_version": "1.2.0",
            "grid_template_areas": null,
            "object_position": null,
            "object_fit": null,
            "grid_auto_columns": null,
            "margin": null,
            "display": null,
            "left": null
          }
        },
        "ea13db5691df461c898634f2c758966f": {
          "model_module": "@jupyter-widgets/controls",
          "model_name": "HBoxModel",
          "state": {
            "_view_name": "HBoxView",
            "_dom_classes": [],
            "_model_name": "HBoxModel",
            "_view_module": "@jupyter-widgets/controls",
            "_model_module_version": "1.5.0",
            "_view_count": null,
            "_view_module_version": "1.5.0",
            "box_style": "",
            "layout": "IPY_MODEL_ba1d2ca622e148a9a0d18283dfc83cdf",
            "_model_module": "@jupyter-widgets/controls",
            "children": [
              "IPY_MODEL_52259114148845b1ba0d23c0d8a1153c",
              "IPY_MODEL_74da55cdcfd54ea9a5810f978037b8c5"
            ]
          }
        },
        "ba1d2ca622e148a9a0d18283dfc83cdf": {
          "model_module": "@jupyter-widgets/base",
          "model_name": "LayoutModel",
          "state": {
            "_view_name": "LayoutView",
            "grid_template_rows": null,
            "right": null,
            "justify_content": null,
            "_view_module": "@jupyter-widgets/base",
            "overflow": null,
            "_model_module_version": "1.2.0",
            "_view_count": null,
            "flex_flow": null,
            "width": null,
            "min_width": null,
            "border": null,
            "align_items": null,
            "bottom": null,
            "_model_module": "@jupyter-widgets/base",
            "top": null,
            "grid_column": null,
            "overflow_y": null,
            "overflow_x": null,
            "grid_auto_flow": null,
            "grid_area": null,
            "grid_template_columns": null,
            "flex": null,
            "_model_name": "LayoutModel",
            "justify_items": null,
            "grid_row": null,
            "max_height": null,
            "align_content": null,
            "visibility": null,
            "align_self": null,
            "height": null,
            "min_height": null,
            "padding": null,
            "grid_auto_rows": null,
            "grid_gap": null,
            "max_width": null,
            "order": null,
            "_view_module_version": "1.2.0",
            "grid_template_areas": null,
            "object_position": null,
            "object_fit": null,
            "grid_auto_columns": null,
            "margin": null,
            "display": null,
            "left": null
          }
        },
        "52259114148845b1ba0d23c0d8a1153c": {
          "model_module": "@jupyter-widgets/controls",
          "model_name": "FloatProgressModel",
          "state": {
            "_view_name": "ProgressView",
            "style": "IPY_MODEL_383cf6b55e6542658232d31b03ff628a",
            "_dom_classes": [],
            "description": "100%",
            "_model_name": "FloatProgressModel",
            "bar_style": "success",
            "max": 778,
            "_view_module": "@jupyter-widgets/controls",
            "_model_module_version": "1.5.0",
            "value": 778,
            "_view_count": null,
            "_view_module_version": "1.5.0",
            "orientation": "horizontal",
            "min": 0,
            "description_tooltip": null,
            "_model_module": "@jupyter-widgets/controls",
            "layout": "IPY_MODEL_1494ccad801848eab7e2077e8d6799ed"
          }
        },
        "74da55cdcfd54ea9a5810f978037b8c5": {
          "model_module": "@jupyter-widgets/controls",
          "model_name": "HTMLModel",
          "state": {
            "_view_name": "HTMLView",
            "style": "IPY_MODEL_6c99a3b5d05c4e3e8c3b33e9dfef631f",
            "_dom_classes": [],
            "description": "",
            "_model_name": "HTMLModel",
            "placeholder": "​",
            "_view_module": "@jupyter-widgets/controls",
            "_model_module_version": "1.5.0",
            "value": " 778/778 [02:24&lt;00:00,  5.40ex/s]",
            "_view_count": null,
            "_view_module_version": "1.5.0",
            "description_tooltip": null,
            "_model_module": "@jupyter-widgets/controls",
            "layout": "IPY_MODEL_e96056a7caa54cf8b84c87e1fa1b96b5"
          }
        },
        "383cf6b55e6542658232d31b03ff628a": {
          "model_module": "@jupyter-widgets/controls",
          "model_name": "ProgressStyleModel",
          "state": {
            "_view_name": "StyleView",
            "_model_name": "ProgressStyleModel",
            "description_width": "initial",
            "_view_module": "@jupyter-widgets/base",
            "_model_module_version": "1.5.0",
            "_view_count": null,
            "_view_module_version": "1.2.0",
            "bar_color": null,
            "_model_module": "@jupyter-widgets/controls"
          }
        },
        "1494ccad801848eab7e2077e8d6799ed": {
          "model_module": "@jupyter-widgets/base",
          "model_name": "LayoutModel",
          "state": {
            "_view_name": "LayoutView",
            "grid_template_rows": null,
            "right": null,
            "justify_content": null,
            "_view_module": "@jupyter-widgets/base",
            "overflow": null,
            "_model_module_version": "1.2.0",
            "_view_count": null,
            "flex_flow": null,
            "width": null,
            "min_width": null,
            "border": null,
            "align_items": null,
            "bottom": null,
            "_model_module": "@jupyter-widgets/base",
            "top": null,
            "grid_column": null,
            "overflow_y": null,
            "overflow_x": null,
            "grid_auto_flow": null,
            "grid_area": null,
            "grid_template_columns": null,
            "flex": null,
            "_model_name": "LayoutModel",
            "justify_items": null,
            "grid_row": null,
            "max_height": null,
            "align_content": null,
            "visibility": null,
            "align_self": null,
            "height": null,
            "min_height": null,
            "padding": null,
            "grid_auto_rows": null,
            "grid_gap": null,
            "max_width": null,
            "order": null,
            "_view_module_version": "1.2.0",
            "grid_template_areas": null,
            "object_position": null,
            "object_fit": null,
            "grid_auto_columns": null,
            "margin": null,
            "display": null,
            "left": null
          }
        },
        "6c99a3b5d05c4e3e8c3b33e9dfef631f": {
          "model_module": "@jupyter-widgets/controls",
          "model_name": "DescriptionStyleModel",
          "state": {
            "_view_name": "StyleView",
            "_model_name": "DescriptionStyleModel",
            "description_width": "",
            "_view_module": "@jupyter-widgets/base",
            "_model_module_version": "1.5.0",
            "_view_count": null,
            "_view_module_version": "1.2.0",
            "_model_module": "@jupyter-widgets/controls"
          }
        },
        "e96056a7caa54cf8b84c87e1fa1b96b5": {
          "model_module": "@jupyter-widgets/base",
          "model_name": "LayoutModel",
          "state": {
            "_view_name": "LayoutView",
            "grid_template_rows": null,
            "right": null,
            "justify_content": null,
            "_view_module": "@jupyter-widgets/base",
            "overflow": null,
            "_model_module_version": "1.2.0",
            "_view_count": null,
            "flex_flow": null,
            "width": null,
            "min_width": null,
            "border": null,
            "align_items": null,
            "bottom": null,
            "_model_module": "@jupyter-widgets/base",
            "top": null,
            "grid_column": null,
            "overflow_y": null,
            "overflow_x": null,
            "grid_auto_flow": null,
            "grid_area": null,
            "grid_template_columns": null,
            "flex": null,
            "_model_name": "LayoutModel",
            "justify_items": null,
            "grid_row": null,
            "max_height": null,
            "align_content": null,
            "visibility": null,
            "align_self": null,
            "height": null,
            "min_height": null,
            "padding": null,
            "grid_auto_rows": null,
            "grid_gap": null,
            "max_width": null,
            "order": null,
            "_view_module_version": "1.2.0",
            "grid_template_areas": null,
            "object_position": null,
            "object_fit": null,
            "grid_auto_columns": null,
            "margin": null,
            "display": null,
            "left": null
          }
        },
        "23ec81dff9674abf9804afc23bfbdde5": {
          "model_module": "@jupyter-widgets/controls",
          "model_name": "HBoxModel",
          "state": {
            "_view_name": "HBoxView",
            "_dom_classes": [],
            "_model_name": "HBoxModel",
            "_view_module": "@jupyter-widgets/controls",
            "_model_module_version": "1.5.0",
            "_view_count": null,
            "_view_module_version": "1.5.0",
            "box_style": "",
            "layout": "IPY_MODEL_c09af03f6d4e44c58ec499865001cc57",
            "_model_module": "@jupyter-widgets/controls",
            "children": [
              "IPY_MODEL_c7b3a9abcc9e4016ab78a0395f99b9bf",
              "IPY_MODEL_527da5d0fbac4cf98b9b7e63383ff8f5"
            ]
          }
        },
        "c09af03f6d4e44c58ec499865001cc57": {
          "model_module": "@jupyter-widgets/base",
          "model_name": "LayoutModel",
          "state": {
            "_view_name": "LayoutView",
            "grid_template_rows": null,
            "right": null,
            "justify_content": null,
            "_view_module": "@jupyter-widgets/base",
            "overflow": null,
            "_model_module_version": "1.2.0",
            "_view_count": null,
            "flex_flow": null,
            "width": null,
            "min_width": null,
            "border": null,
            "align_items": null,
            "bottom": null,
            "_model_module": "@jupyter-widgets/base",
            "top": null,
            "grid_column": null,
            "overflow_y": null,
            "overflow_x": null,
            "grid_auto_flow": null,
            "grid_area": null,
            "grid_template_columns": null,
            "flex": null,
            "_model_name": "LayoutModel",
            "justify_items": null,
            "grid_row": null,
            "max_height": null,
            "align_content": null,
            "visibility": null,
            "align_self": null,
            "height": null,
            "min_height": null,
            "padding": null,
            "grid_auto_rows": null,
            "grid_gap": null,
            "max_width": null,
            "order": null,
            "_view_module_version": "1.2.0",
            "grid_template_areas": null,
            "object_position": null,
            "object_fit": null,
            "grid_auto_columns": null,
            "margin": null,
            "display": null,
            "left": null
          }
        },
        "c7b3a9abcc9e4016ab78a0395f99b9bf": {
          "model_module": "@jupyter-widgets/controls",
          "model_name": "FloatProgressModel",
          "state": {
            "_view_name": "ProgressView",
            "style": "IPY_MODEL_27841f3ff58241908d990b85574549e8",
            "_dom_classes": [],
            "description": "100%",
            "_model_name": "FloatProgressModel",
            "bar_style": "success",
            "max": 16504,
            "_view_module": "@jupyter-widgets/controls",
            "_model_module_version": "1.5.0",
            "value": 16504,
            "_view_count": null,
            "_view_module_version": "1.5.0",
            "orientation": "horizontal",
            "min": 0,
            "description_tooltip": null,
            "_model_module": "@jupyter-widgets/controls",
            "layout": "IPY_MODEL_4014c978e2aa49a7be79e66543cda2b6"
          }
        },
        "527da5d0fbac4cf98b9b7e63383ff8f5": {
          "model_module": "@jupyter-widgets/controls",
          "model_name": "HTMLModel",
          "state": {
            "_view_name": "HTMLView",
            "style": "IPY_MODEL_090bc0c0306446c5ad1afb6cd7407ca8",
            "_dom_classes": [],
            "description": "",
            "_model_name": "HTMLModel",
            "placeholder": "​",
            "_view_module": "@jupyter-widgets/controls",
            "_model_module_version": "1.5.0",
            "value": " 16504/16504 [3:43:36&lt;00:00,  1.23ex/s]",
            "_view_count": null,
            "_view_module_version": "1.5.0",
            "description_tooltip": null,
            "_model_module": "@jupyter-widgets/controls",
            "layout": "IPY_MODEL_b538cdad607e4c79804663874ed831ae"
          }
        },
        "27841f3ff58241908d990b85574549e8": {
          "model_module": "@jupyter-widgets/controls",
          "model_name": "ProgressStyleModel",
          "state": {
            "_view_name": "StyleView",
            "_model_name": "ProgressStyleModel",
            "description_width": "initial",
            "_view_module": "@jupyter-widgets/base",
            "_model_module_version": "1.5.0",
            "_view_count": null,
            "_view_module_version": "1.2.0",
            "bar_color": null,
            "_model_module": "@jupyter-widgets/controls"
          }
        },
        "4014c978e2aa49a7be79e66543cda2b6": {
          "model_module": "@jupyter-widgets/base",
          "model_name": "LayoutModel",
          "state": {
            "_view_name": "LayoutView",
            "grid_template_rows": null,
            "right": null,
            "justify_content": null,
            "_view_module": "@jupyter-widgets/base",
            "overflow": null,
            "_model_module_version": "1.2.0",
            "_view_count": null,
            "flex_flow": null,
            "width": null,
            "min_width": null,
            "border": null,
            "align_items": null,
            "bottom": null,
            "_model_module": "@jupyter-widgets/base",
            "top": null,
            "grid_column": null,
            "overflow_y": null,
            "overflow_x": null,
            "grid_auto_flow": null,
            "grid_area": null,
            "grid_template_columns": null,
            "flex": null,
            "_model_name": "LayoutModel",
            "justify_items": null,
            "grid_row": null,
            "max_height": null,
            "align_content": null,
            "visibility": null,
            "align_self": null,
            "height": null,
            "min_height": null,
            "padding": null,
            "grid_auto_rows": null,
            "grid_gap": null,
            "max_width": null,
            "order": null,
            "_view_module_version": "1.2.0",
            "grid_template_areas": null,
            "object_position": null,
            "object_fit": null,
            "grid_auto_columns": null,
            "margin": null,
            "display": null,
            "left": null
          }
        },
        "090bc0c0306446c5ad1afb6cd7407ca8": {
          "model_module": "@jupyter-widgets/controls",
          "model_name": "DescriptionStyleModel",
          "state": {
            "_view_name": "StyleView",
            "_model_name": "DescriptionStyleModel",
            "description_width": "",
            "_view_module": "@jupyter-widgets/base",
            "_model_module_version": "1.5.0",
            "_view_count": null,
            "_view_module_version": "1.2.0",
            "_model_module": "@jupyter-widgets/controls"
          }
        },
        "b538cdad607e4c79804663874ed831ae": {
          "model_module": "@jupyter-widgets/base",
          "model_name": "LayoutModel",
          "state": {
            "_view_name": "LayoutView",
            "grid_template_rows": null,
            "right": null,
            "justify_content": null,
            "_view_module": "@jupyter-widgets/base",
            "overflow": null,
            "_model_module_version": "1.2.0",
            "_view_count": null,
            "flex_flow": null,
            "width": null,
            "min_width": null,
            "border": null,
            "align_items": null,
            "bottom": null,
            "_model_module": "@jupyter-widgets/base",
            "top": null,
            "grid_column": null,
            "overflow_y": null,
            "overflow_x": null,
            "grid_auto_flow": null,
            "grid_area": null,
            "grid_template_columns": null,
            "flex": null,
            "_model_name": "LayoutModel",
            "justify_items": null,
            "grid_row": null,
            "max_height": null,
            "align_content": null,
            "visibility": null,
            "align_self": null,
            "height": null,
            "min_height": null,
            "padding": null,
            "grid_auto_rows": null,
            "grid_gap": null,
            "max_width": null,
            "order": null,
            "_view_module_version": "1.2.0",
            "grid_template_areas": null,
            "object_position": null,
            "object_fit": null,
            "grid_auto_columns": null,
            "margin": null,
            "display": null,
            "left": null
          }
        }
      }
    },
    "accelerator": "GPU"
  },
  "cells": [
    {
      "cell_type": "markdown",
      "metadata": {
        "id": "view-in-github",
        "colab_type": "text"
      },
      "source": [
        "<a href=\"https://colab.research.google.com/github/patrickvonplaten/notebooks/blob/master/Evaluating_Big_Bird_on_TriviaQA.ipynb\" target=\"_parent\"><img src=\"https://colab.research.google.com/assets/colab-badge.svg\" alt=\"Open In Colab\"/></a>"
      ]
    },
    {
      "cell_type": "markdown",
      "metadata": {
        "id": "lbNZdYkugq7-"
      },
      "source": [
        "# Evaluation of a model using 🤗nlp\n",
        "\n",
        "*This notebook shows how to evaluate **BigBird** on **TriviaQA** .*\n",
        "\n",
        "- The [`datasets`](https://github.com/huggingface/datasets) library allows simple and intuitive access to nlp datasets and metrics.\n",
        "\n",
        "- **Big Bird** is a transformer-based model for long-range sequence modeling introduced by *Manzil Zaheer, et. al* (see paper [here](https://arxiv.org/abs/2007.14062)) and can now be accessed via Transformers via the [TODO: docs]().\n",
        "\n",
        "- **TriviaQA** is a reading comprehension dataset containing question-answer-evidence triplets (see paper here [here](https://homes.cs.washington.edu/~eunsol/papers/acl17jcwz.pdf))."
      ]
    },
    {
      "cell_type": "markdown",
      "metadata": {
        "id": "ckDfoClXj-mm"
      },
      "source": [
        "We will evaluate a pretrained `BigBirdForQuestionAnswering` model on the *validation* dataset of **TriviaQA**. Along the way, this notebook will show you how `datasets` can be used for effortless preprocessing of data and analysis of the results."
      ]
    },
    {
      "cell_type": "markdown",
      "metadata": {
        "id": "PGg2btE2mY0v"
      },
      "source": [
        "Alright! Let's start by installing the `datasets` library and loading *TriviaQA*. "
      ]
    },
    {
      "cell_type": "markdown",
      "metadata": {
        "id": "KLb6vCflSqcI"
      },
      "source": [
        "### Installs and Imports"
      ]
    },
    {
      "cell_type": "markdown",
      "metadata": {
        "id": "jALyuLQLHj4e"
      },
      "source": [
        "Install `transformers` & `datasets`."
      ]
    },
    {
      "cell_type": "code",
      "metadata": {
        "id": "FXHkpUVuft4o"
      },
      "source": [
        "%%capture\n",
        "!pip install datasets==1.5.0\n",
        "!pip install git+https://github.com/vasudevgupta7/transformers.git@add_big_bird # TODO: replace with new pip version eventually\n",
        "\n",
        "import datasets\n",
        "import torch"
      ],
      "execution_count": null,
      "outputs": []
    },
    {
      "cell_type": "markdown",
      "metadata": {
        "id": "TVQCLkYbS0Nm"
      },
      "source": [
        "### Data Preprocessing & Cleaning "
      ]
    },
    {
      "cell_type": "markdown",
      "metadata": {
        "id": "gpOqRdcjnaBT"
      },
      "source": [
        "The total *TriviaQA* dataset has a size of 17 GB once processed.\n",
        "Downloading and preprocessing the dataset will take around *15 minutes*. ☕\n",
        "Afterwards the data is serialized in *Arrow* format, so that subsequent call can reuse the processed dataset.\n",
        "\n",
        "**Note**: If you want to evaluate *BigBird* on the full validation set this notebook will run for *ca.* 6 hours ⌛. On 5% of the data it takes around 30 minutes.\n",
        "\n"
      ]
    },
    {
      "cell_type": "code",
      "metadata": {
        "colab": {
          "base_uri": "https://localhost:8080/"
        },
        "id": "YusOKo5FgkYH",
        "outputId": "6d98b5eb-1e05-4b42-ad8d-4a9f75e50475"
      },
      "source": [
        "validation_dataset = datasets.load_dataset(\"trivia_qa\", \"rc\", split=\"validation[:5%]\")  # remove [:5%] to run on full validation set"
      ],
      "execution_count": null,
      "outputs": [
        {
          "output_type": "stream",
          "text": [
            "Reusing dataset trivia_qa (/root/.cache/huggingface/datasets/trivia_qa/rc/1.1.0/c1b17d80bfdd2f43b13e4b5741847f704115379ecebcb21e0917d2e8ddaa1ff1)\n"
          ],
          "name": "stderr"
        }
      ]
    },
    {
      "cell_type": "markdown",
      "metadata": {
        "id": "G_LFkvD_sx9H"
      },
      "source": [
        "First, let's get an overview of the dataset 🧐."
      ]
    },
    {
      "cell_type": "code",
      "metadata": {
        "colab": {
          "base_uri": "https://localhost:8080/"
        },
        "id": "mJTko97rwQGF",
        "outputId": "23fb02df-0868-4131-aa7d-eb479bb8c524"
      },
      "source": [
        "validation_dataset"
      ],
      "execution_count": null,
      "outputs": [
        {
          "output_type": "execute_result",
          "data": {
            "text/plain": [
              "Dataset({\n",
              "    features: ['question', 'question_id', 'question_source', 'entity_pages', 'search_results', 'answer'],\n",
              "    num_rows: 18669\n",
              "})"
            ]
          },
          "metadata": {
            "tags": []
          },
          "execution_count": 20
        }
      ]
    },
    {
      "cell_type": "markdown",
      "metadata": {
        "id": "QHsmt1ULwTug"
      },
      "source": [
        "Alright, there are ~19K data samples in the validation step.\n",
        "\n",
        "Next, let's check out the datatset's structure."
      ]
    },
    {
      "cell_type": "code",
      "metadata": {
        "colab": {
          "base_uri": "https://localhost:8080/"
        },
        "id": "DjAVcrAitsU5",
        "outputId": "07f7ec7d-3cbb-43cc-e657-10fb834edb85"
      },
      "source": [
        "\n",
        "validation_dataset.info.features"
      ],
      "execution_count": null,
      "outputs": [
        {
          "output_type": "execute_result",
          "data": {
            "text/plain": [
              "{'answer': {'aliases': Sequence(feature=Value(dtype='string', id=None), length=-1, id=None),\n",
              "  'matched_wiki_entity_name': Value(dtype='string', id=None),\n",
              "  'normalized_aliases': Sequence(feature=Value(dtype='string', id=None), length=-1, id=None),\n",
              "  'normalized_matched_wiki_entity_name': Value(dtype='string', id=None),\n",
              "  'normalized_value': Value(dtype='string', id=None),\n",
              "  'type': Value(dtype='string', id=None),\n",
              "  'value': Value(dtype='string', id=None)},\n",
              " 'entity_pages': Sequence(feature={'doc_source': Value(dtype='string', id=None), 'filename': Value(dtype='string', id=None), 'title': Value(dtype='string', id=None), 'wiki_context': Value(dtype='string', id=None)}, length=-1, id=None),\n",
              " 'question': Value(dtype='string', id=None),\n",
              " 'question_id': Value(dtype='string', id=None),\n",
              " 'question_source': Value(dtype='string', id=None),\n",
              " 'search_results': Sequence(feature={'description': Value(dtype='string', id=None), 'filename': Value(dtype='string', id=None), 'rank': Value(dtype='int32', id=None), 'title': Value(dtype='string', id=None), 'url': Value(dtype='string', id=None), 'search_context': Value(dtype='string', id=None)}, length=-1, id=None)}"
            ]
          },
          "metadata": {
            "tags": []
          },
          "execution_count": 21
        }
      ]
    },
    {
      "cell_type": "markdown",
      "metadata": {
        "id": "7XqHiM5mt5t-"
      },
      "source": [
        "Alright, quite a lot of entries here! For Questions Answering, all we need is the *question*, the *context* and the *answer*. \n",
        "\n",
        "The **question** is a single entry, so we keep it.\n",
        "\n",
        "Because *BigBird* was trained on the Wikipedia part of *TriviaQA*, we will use `validation_dataset[\"entity_pages\"][\"wiki_context\"]` as our **context**. \n",
        "\n",
        "We can also see that there are multiple entries for the **answer**. In this use case, we define a correct output of the model as one that is one of the answer aliases `validation_dataset[\"answer\"][\"aliases\"]`. Lastly, we also keep `validation_dataset[\"answer\"][\"normalized_value\"]`. All other columns can be disregarded. \n",
        "\n",
        "Let's write the corresponding `.map(...)` function"
      ]
    },
    {
      "cell_type": "code",
      "metadata": {
        "id": "GpEkZy_LvhEX"
      },
      "source": [
        "def format_dataset(example):\n",
        "    # the context might be comprised of multiple contexts => me merge them here\n",
        "    example[\"context\"] = \" \".join((\"\\n\".join(example[\"entity_pages\"][\"wiki_context\"])).split(\"\\n\"))\n",
        "    example[\"targets\"] = example[\"answer\"][\"aliases\"]\n",
        "    example[\"norm_target\"] = example[\"answer\"][\"normalized_value\"]\n",
        "    return example"
      ],
      "execution_count": null,
      "outputs": []
    },
    {
      "cell_type": "markdown",
      "metadata": {
        "id": "DdELPXpidIPZ"
      },
      "source": [
        "and apply it so that the dataset is put into the format as defined above."
      ]
    },
    {
      "cell_type": "code",
      "metadata": {
        "colab": {
          "base_uri": "https://localhost:8080/"
        },
        "id": "HPw6rzPIb1s5",
        "outputId": "53bd648e-a8da-4d25-bb1b-2421890987fc"
      },
      "source": [
        "validation_dataset = validation_dataset.map(format_dataset, remove_columns=[\"search_results\", \"question_source\", \"entity_pages\", \"answer\", \"question_id\"])"
      ],
      "execution_count": null,
      "outputs": [
        {
          "output_type": "stream",
          "text": [
            "Loading cached processed dataset at /root/.cache/huggingface/datasets/trivia_qa/rc/1.1.0/c1b17d80bfdd2f43b13e4b5741847f704115379ecebcb21e0917d2e8ddaa1ff1/cache-d5b916196656bd02.arrow\n"
          ],
          "name": "stderr"
        }
      ]
    },
    {
      "cell_type": "markdown",
      "metadata": {
        "id": "jRhh7AJrw3fM"
      },
      "source": [
        "Now, let's check out a couple of data samples. \n",
        "\n",
        "For this we define a function that picks `num_examples` random data samples."
      ]
    },
    {
      "cell_type": "code",
      "metadata": {
        "id": "7I730mW9wNeo"
      },
      "source": [
        "from datasets import ClassLabel\n",
        "import random\n",
        "import pandas as pd\n",
        "from IPython.display import display, HTML\n",
        "\n",
        "def show_random_elements(dataset, num_examples=10):\n",
        "    assert num_examples <= len(dataset), \"Can't pick more elements than there are in the dataset.\"\n",
        "    picks = []\n",
        "    for _ in range(num_examples):\n",
        "        pick = random.randint(0, len(dataset)-1)\n",
        "        while pick in picks:\n",
        "            pick = random.randint(0, len(dataset)-1)\n",
        "        picks.append(pick)\n",
        "    \n",
        "    df = pd.DataFrame(dataset[picks])\n",
        "    display(HTML(df.to_html()))"
      ],
      "execution_count": null,
      "outputs": []
    },
    {
      "cell_type": "markdown",
      "metadata": {
        "id": "G8AVj9Lsf1w3"
      },
      "source": [
        "Let's run it."
      ]
    },
    {
      "cell_type": "code",
      "metadata": {
        "colab": {
          "base_uri": "https://localhost:8080/",
          "height": 1000
        },
        "id": "O6mpmTkef3rz",
        "outputId": "bb7675de-e5bb-42a0-daee-92e33a8752a2"
      },
      "source": [
        "show_random_elements(validation_dataset, num_examples=3)"
      ],
      "execution_count": null,
      "outputs": [
        {
          "output_type": "display_data",
          "data": {
            "text/html": [
              "<table border=\"1\" class=\"dataframe\">\n",
              "  <thead>\n",
              "    <tr style=\"text-align: right;\">\n",
              "      <th></th>\n",
              "      <th>context</th>\n",
              "      <th>norm_target</th>\n",
              "      <th>question</th>\n",
              "      <th>targets</th>\n",
              "    </tr>\n",
              "  </thead>\n",
              "  <tbody>\n",
              "    <tr>\n",
              "      <th>0</th>\n",
              "      <td>Peterhouse is a constituent college of the University of Cambridge, England. It is the oldest college of the university, having been founded in 1284 by Hugo de Balsham, Bishop of Ely and granted its charter by King Edward I. Today, Peterhouse has 226 undergraduates, 86 full-time graduate students and 45 fellows.  The modern name of Peterhouse does not include the word \"college\".  Despite being one of the smallest colleges, it has one of the highest overall endowments, more than £250 million,  including property in central London such as the Albany apartment complex in Piccadilly. Peterhouse is widely considered the most traditional of the Cambridge colleges. It is one of the few that still seeks to insist that its members attend communal dinners, known as \"Hall\". Hall takes place in two sittings, with the second known as \"Formal Hall\", which consists of a three-course candlelit meal and which must be attended wearing gowns. At Formal Hall, the students rise as the fellows proceed in, a gong is rung, and two Latin graces are read.  Academic performance tends to vary from year to year due to its very small student population; for example, Peterhouse came 25th in the Tompkins Table in 2007 but 7th in 2010, 12th in 2014 and 6th in 2015 (out of 29 colleges).   The college has five Nobel laureates associated with it, either as former students or fellows: Sir John Kendrew, Sir Aaron Klug, Archer Martin, Max Perutz, and Michael Levitt.   History   Foundation  The foundation of Peterhouse dates to 1280, when letters patent from Edward I dated Burgh, Suffolk, 24 December 1280 allowed Hugo de Balsham to keep a number of scholars in the Hospital of St John,  where they were to live according to the rules of the scholars of Merton.  After disagreement between the scholars and the Brethren of the Hospital, both requested a separation.  As a result, in 1284 Balsham transferred the scholars to the present site with the purchase of two houses just outside the then Trumpington Gate to accommodate a Master and fourteen \"worthy but impoverished Fellows\". The Church of St Peter without Trumpington Gate was to be used by the scholars. Bishop Hugo de Balsham died in 1286, bequeathing 300 marks that were used to buy further land to the south of St Peter's Church, on which the college's Hall was built.  The earliest surviving set of statutes for the college was given to it by the then Bishop of Ely, Simon Montacute, in 1344. Although based on those of Merton College, these statutes clearly display the lack of resources then available to the college. They were used in 1345 to defeat an attempt by Edward III to appoint a candidate of his own as scholar. In 1354-55, William Moschett set up a trust that resulted in nearly 70 acre of land at Fen Ditton being transferred to the College by 1391-92. The College's relative poverty was relieved in 1401 when it acquired the advowson and rectory of Hinton through the efforts of Bishop John Fordham and John Newton. During the reign of Elizabeth I, the college also acquired the area formerly known as Volney's Croft, which today is the area of St Peter's Terrace, the William Stone Building and the Scholars' Garden.  16th century onwards  In 1553, Andrew Perne was appointed Master. His religious views were pragmatic enough to be favoured by both Mary I, who gave him the Deanery of Ely, and Elizabeth I. A contemporary joke was that the letters on the weather vane of St Peter's Church could represent \"Andrew Perne, Papist\" or \"Andrew Perne, Protestant\" according to which way the wind was blowing. Having previously been close to the reformist Regius Chair of Divinity, Martin Bucer, later as vice-chancellor of the university Perne would have Bucer's bones exhumed and burnt in Market Square. John Foxe in his Actes and Monuments singled this out as \"shameful railing\". There is a hole burnt in the middle of the relevant page in Perne's own copy of Foxe.  Perne died in 1589, leaving a legacy to the college that funded a number of fellowships and scholarships, as well bequeathing an extensive collection of books. This collection and rare volumes since added to it is now known as the Perne Library.  Between 1626 and 1634, the Master was Matthew Wren. Wren had previously accompanied Charles I on his journey to Spain to attempt to negotiate the Spanish Match. Wren was a firm supporter of Archbishop William Laud, and under Wren the college became known as a centre of Arminianism. This continued under the Mastership of John Cosin, who succeeded Wren in 1634. Under Cosin significant changes were made to the college's Chapel to bring it into line with Laud's idea of the \"beauty of holiness\". On 13 March 1643, in the early stages of the English Civil War, Cosin was expelled from his position by a Parliamentary ordinance from the Earl of Manchester. The Earl stated that he was deposed \"for his opposing the proceedings of Parliament, and other scandalous acts in the University\".  On 21 December of the same year, statues and decorations in the Chapel were pulled down by a committee led by the Puritan zealot William Dowsing.   The college was the first in the University to have electric lighting installed, when Lord Kelvin provided it for the Hall and Combination Room to celebrate the College's six-hundredth anniversary in 1883-1884. It was the second building in the country to get electric lighting, after the Palace of Westminster.  Modern day  In the 1980s Peterhouse acquired an association with Conservative, Thatcherite politics. Maurice Cowling and Roger Scruton were both influential fellows of the College and are sometimes described as key figures in the so-called \"Peterhouse right\" – an intellectual movement linked to Margaret Thatcher.  The Conservative politicians Michael Portillo and Michael Howard both studied at Peterhouse. During this period, which coincided with the mastership of Hugh Trevor-Roper, the college endured a period of significant conflict amongst the fellowship, particularly between Trevor-Roper and Cowling.   Buildings and grounds   Peterhouse has its main site situated on Trumpington Street, to the south of Cambridge's town centre. The main portion of the college is just to the north of the Fitzwilliam Museum, and its grounds run behind the museum. The buildings date from a wide variety of times, and have been much altered over the years. The college is reputed to have been at least partially destroyed by fire in 1420. The entrance of the college has shifted through its lifetime as well, with the change being principally the result of the demolition of the row of houses that originally lined Trumpington Street on the east side of the college. In 1574, a map shows the entrance being on the south side of a single main court. The modern entrance is to the east, straight onto Trumpington Street.  First Court  The area closest to Trumpington Street is referred to as First Court. It is bounded to the north by the Burrough's Building (added in the 18th century), to the east by the street, to the south by the Porters' lodge and to the west by the chapel. Above the Porters' lodge is the Perne Library, named in honour of Andrew Perne, a former Master, and originally built in 1590 to house the collection that he donated to the college. It was extended towards the road in 1633 and features interior woodwork that was added in 1641-8 by William Ashley, who was also responsible for similar woodwork in the chapel.  Electric lighting was added to the library in 1937. The area above the Perne Library was used as the Ward Library (the college's general purpose library) from 1952 to 1984, but that has now been moved to its own building in the north-west corner of the college site.  The Burrough's Building  The Burrough's Building is situated at the front of the college, parallel to the Chapel. It is named after its architect, Sir James Burrough, the Master of Caius,  and was built in 1736. It is one of several Cambridge neo-Palladian buildings designed by Burrough. Others include the remodelling of the Hall and Old Court at Trinity Hall and the chapel at Clare College.  The building is occupied by fellows and college offices.  Old Court  Old Court lies beyond the Chapel cloisters. To the south of the court is the dining hall, the only College building that survives from the 13th century. Between 1866 and 1870, the hall was restored by the architect George Gilbert Scott, Jr.. Under Scott, the timber roof was repaired and two old parlours merged to form a new Combination Room. The stained glass windows were also replaced with Pre-Raphaelite pieces by William Morris, Ford Madox Brown and Edward Burne-Jones. The fireplace (originally built in 1618) was restored with tiles by Morris, including depictions of St Peter and Hugo de Balsham.  The hall was extensively renovated in 2006-7.  The north and west sides of Old Court were added in the 15th century, and classicised in the 18th century. The chapel makes up the fourth, east side to the court. Rooms in Old Court are occupied by a mixture of fellows and undergraduates. The north side of the court also house Peterhouse's MCR (Middle Combination Room).  Chapel  Viewed from the main entrance to Peterhouse on Trumpington Street, the altar end of the Chapel is the most immediately visible building. The Chapel was built in 1628 when the Master of the time Matthew Wren (Christopher Wren's uncle) demolished the college's original hostels. Previously the college had employed the adjacent Church of St Mary the Less as its chapel. The Chapel was consecrated on 17 March 1632 by Dr Francis White, Bishop of Ely. The building's style reflects the contemporary religious trend towards Arminianism. The Laudian Gothic style of the Chapel mixes Renaissance details but incorporated them into a traditional Gothic building. The Chapel's Renaissance architecture contains a Pietà altarpiece and a striking ceiling of golden suns. Its placement in the centre of one side of a court, between open colonnades is unusual, being copied for a single other college (Emmanuel) by Christopher Wren. The original stained glass was destroyed by Parliamentarians in 1643, with only the east window's crucifixion scene (based on Rubens's Le Coup de Lance) surviving. The current side windows are by Max Ainmiller, and were added in 1855. The cloisters on each side of the Chapel date from the 17th century. Their design was classicised in 1709, while an ornamental porch was removed in 1755. The Peterhouse Partbooks, music manuscripts from the early years of the Chapel, survive, and are one of the most important collections of Tudor and Jacobean church music. The Chapel Choir, one of the smallest in Cambridge, has recently attracted wider interest for its regular performances of this material, some of which has not been heard since the 16th century. The restoration of the 1763 John Snetzler organ in the Chapel was by Noel Mander.  The first person buried in the Chapel was Samuel Horne, a fellow of the college. Horne was probably chaplain.  Gisborne Court  Gisborne Court is accessible through an archway leading from the west side of Old Court. It was built in 1825-6. Its cost was met with part of a benefaction of 1817 from the Rev. Francis Gisborne, a former fellow. The court is built in white brick with stone dressings in a simple Gothic revival style from the designs of William McIntosh Brookes. Only three sides to the court were built, with the fourth side being a screen wall. The wall was demolished in 1939, leaving only its footing.  Rooms in Gisborne Court are mainly occupied by undergraduates. Many previously housed distinguished alumni, including Lord Kelvin in I staircase.  Whittle Building  The Whittle Building, named after Petrean Frank Whittle, opened in the western side of Gisborne Court in early 2015.  Designed in Neo-Gothic style by John Simpson Architects, it contains en-suite undergraduate accommodation, the student bar and common room, a function room, and a gym.  Its design picks up on that of the original screen-wall that once stood in its place.   Fen Court  Beyond Gisborne Court is Fen Court, a 20th-century building partially on stilts. Fen Court was built between 1939 and 1941 from designs by H. C. Hughes and his partner Peter Bicknell.  It was amongst the earliest buildings in Cambridge designed in the style of the Modern Movement pioneered by Walter Gropius at the Bauhaus. The carved panel by Anthony Foster over the entrance doorway evokes the mood in Britain as the building was completed. It bears the inscription DE PROFUNDIS CLAMAVI MCMXL — \"out of the depths have I cried out 1940\". These are the first words of Psalm 130, one of the Penitential Psalms. Alongside the inscription is a depiction of St Peter being saved from the sea.  An adjacent bath-house, known as the Birdwood Building, used to make up the western side of Gisborne Court. This was also designed by Hughes and Bicknell, and was built between 1932 and 1934.  It was demolished in 2013 to make way for the new Whittle Building.  Ward Library  The north-west corner of the main site is occupied by former Victorian warehouses containing the Ward Library as well as a theatre and function room. The building it is housed in was originally the University's Museum of Classical Archaeology and was designed by Basil Champneys in 1883. It was adapted to its modern purpose by Robert Potter in 1982. It opened in its current form as a library in 1984. In recent years, the final gallery of the old museum building has been converted into a reading room, named the Gunn Gallery, after Dr Chan Gunn.   Gardens  While officially being named the Grove, the grounds to the south of Gisborne Court have been known as the Deer Park since deer were brought there in the 19th century. During that period it achieved fame as the smallest deer park in England. After the First World War the deer sickened and passed their illness onto stock that had been imported from the Duke of Portland's estate at Welbeck Abbey in an attempt to improve the situation. There are no longer any deer.  The remainder of the college's gardens divide into areas known as the Fellows' Garden, just to the south of Old Court, and the Scholars' Garden, at the south end of the site, surrounding the William Stone Building.  The William Stone Building  The William Stone Building stands in the Scholars' Garden and was funded by a £100,000 bequest from William Stone (1857–1958), a former scholar of the college.  Erected in 1963-4, to a design by Sir Leslie Martin and Sir Colin St John Wilson, it is an eight-storey brick tower. It houses a mixture of fellows and undergraduates. It has been refurbished, converting the rooms to en-suite.  Trumpington Street  The college also occupies a number of buildings on Trumpington Street.   The Master's Lodge  The Master's Lodge is situated across Trumpington Street from the College, and was bequeathed to the College in 1727 by a fellow, Dr Charles Beaumont, son of the 30th Master of the college, Joseph Beaumont. It is built in red brick in the Queen Anne style.  The Hostel  The Hostel is situated next to the Master's Lodge. It was built in a neo-Georgian style in 1926 from designs by Thomas Henry Lyon. The Hostel was intended to be part of a larger complex but only one wing was built. It currently houses undergraduates and some fellows. During World War II the London School of Economics was housed in The Hostel and nearby buildings, at the invitation of the Master and Fellows.  Cosin Court  Behind the Hostel lies Cosin Court, which provides accommodation for fellows, mature, postgraduate and married students.  The court is named for John Cosin (1594–1672) who was successively Master of Peterhouse, Vice-Chancellor of Cambridge University and Prince-Bishop of Durham.  St Peter's Terrace  This row of Georgian townhouses houses first-year undergraduates, fellows, and some graduate students in basement flats.  It is directly in front of the William Stone Building.   Arms   The College has, during its history, used five different coats of arms. The one currently in use has two legitimate blazons. The first form is the original grant by Robert Cooke, Clarenceux King of Arms, in 1575:  Or four pallets Gules within a border of the last charged with eight ducal coronets of the first.  The College did, however, habitually use a version with three pallets and this was allowed at the Herald's Visitation of Cambridgeshire in 1684. The latter version (with three pallets) was officially adopted by the Governing Body in 1935. The construction of the arms is that of the founder, Hugo de Balsham, surrounded by the crowns of the See of Ely.   Grace   Peterhouse and Jesus College are the only two colleges to have two separate halves to their grace, the first being a standard grace, and the second a quotation of 1 John 4:16.  People associated with Peterhouse   Members of Peterhouse — as masters, fellows (including honorary fellows) or students — are known as Petreans.   Nobel laureates   Peterhouse has five Nobel laureates associated with it, either as former students or fellows.  * John Kendrew - Chemistry (1962) for determining the first atomic structures of proteins using X-ray crystallography. * Sir Aaron Klug - Chemistry (1982) for his development of crystallographic electron microscopy. * Michael Levitt - Chemistry (2013) for the development of multiscale models for complex chemical systems. * Archer Martin - Chemistry (1952) for his invention of partition chromatography. * Max Perutz - Chemistry (1962) for determining the first atomic structures of proteins using X-ray crystallography.  Public servants   * Elizabeth Butler-Sloss, Baroness Butler-Sloss - First female Lord Justice of Appeal, 1988–1999, President of the Family Division, High Court of Justice, 1999–2005. * The Duke of Grafton, Prime Minister of Great Britain, 1768-1770. * Michael Howard, Leader of the Conservative Party, 2003-2005. * Christopher Meyer, British Ambassador to the United States, 1997-2003. * Michael Portillo, Cabinet Minister, 1992-1997. * Nicholas Stern, author of the Stern Review on climate change. * John Whitgift, Archbishop of Canterbury, 1583-1604. * David Wilson, Governor of Hong Kong, 1987-1992.  Academics, artists, writers   File:World Debate - Niall Ferguson crop.jpgNiall FergusonHistorian File:PortraitThomasGrayByJohnGilesEccart1747to1748.jpg|Thomas GrayPoet File:CGreenwood2006-06Radiohead.jpg|Colin GreenwoodBassist, Radiohead File:David_mitchell.jpg|David MitchellActor/comedian (Mitchell and Webb) and writer  * Denis Brogan, historian. * Herbert Butterfield, historian, Master of Peterhouse, 1955–1968, Vice-Chancellor of the University of Cambridge, 1959–1961, and Regius Professor of Modern History, 1963-1968. * John Ashton Cannon, historian. * Thomas Campion, 16th century composer. * Alistair Cooke, Baron Lexden, official historian of the Conservative Party. * Patrick Cosgrave, journalist, author and advisor to Margaret Thatcher. * Maurice Cowling, historian. * Mike Dash, historian. * Roger Deakin, naturalist writer. * Robert Dudley Edwards, historian. * Ronan Fanning, historian. * John Finnemore, writer and actor. * Thomas Gray, poet. * Colin Greenwood, Radiohead bassist. * Luke Hughes, furniture designer. * Harold James, historian. * David Knowles, Regius Professor of Modern History, 1954–1963. * Denis Mack Smith, historian. * F.X. Martin, historian and first Catholic priest admitted to Cambridge since the Reformation. * James Mason, actor. * Sam Mendes, Academy Award-winning film director (for American Beauty) and four-time Laurence Olivier Award winner. * David Mitchell, actor, comedian and writer. * Michael Postan, historian. * William Ridgeway, classical scholar and Disney Professor of Archaeology, Cambridge University. * Harold Temperley, historian * Hugh Trevor-Roper, historian. * Adolphus William Ward, President, Royal Historical Society, 1899–1901. * Eudora Welty, Pulitzer Prize-winning American author. * Desmond Williams, historian.  According to college tradition, Thomas Gray left Peterhouse for Pembroke College after being the victim of a practical joke played by undergraduates. Gray is supposed to have been afraid of fire, and had attached a bar outside his window to which a rope could be tied. After being woken by undergraduates with a fire made of shavings, Gray climbed down the rope but landed in a tub of water which had been placed below his window.  Scientists and inventors   File:CharlesBabbage.jpg|Charles Babbage Inventor of the difference engine, \"Father of the computer\"  File:Cavendish Henry signature.jpg|Henry CavendishScientist, discoverer of hydrogen File:James Dewar.jpg|Sir James DewarChemist, physicist, inventor of the Dewar flask File:Lord Kelvin photograph.jpg|Lord KelvinInventor and pioneer in thermodynamics, electricity and telegraphy File:James Clerk Maxwell.png|James Clerk MaxwellFormulator of classical electromagnetic theory File:Portrait_of_Sir_John_Meurig_Thomas_by_John_Stanton_Ward,_RA_1995.jpgSir John Meurig ThomasChemist File:Frank_Whittle_CH_011867.jpg|Sir Frank WhittleInventor of the jet engine  * Christopher Cockerell - Inventor of the hovercraft * Peter Guthrie Tait - Mathematician * William Hopkins - Mathematician * Edward John Routh - Mathematician * Klaus Roth - Mathematician and winner of the Fields Medal  Essay prizes   Peterhouse runs annually three essay prizes for History, Science and English. The Vellacott Historical Essay Prize, The Kelvin Science Prize, The Thomas Campion Prize are awarded by Peterhouse to members of the Lower Sixth or year twelve in a British Secondary School.   Gallery   File:Peterhouse College, Cambridge.jpg| Chapel and main entrance File:St. Peter's College Cambridge 2.jpg| Part of St Peter's College, view from the private gardens, 1815 File:St. Peter's College Cambridge.jpg| St Peter's College, Chapel, 1815 Anthony Frederick Blunt (26 September 1907 – 26 March 1983),  known as Sir Anthony Blunt, KCVO, from 1956 to 1979, was a leading British art historian who in 1964, after being offered immunity from prosecution, confessed to having been a Soviet spy. He had been a member of the Cambridge Five, a group of spies working for the Soviet Union from some time in the 1930s to at least the early 1950s. A closely held secret for many years, his status was revealed publicly by Prime Minister Margaret Thatcher in November 1979, and he was stripped of his knighthood immediately thereafter.  Blunt was Professor of the History of Art at the University of London, director of the Courtauld Institute of Art, and Surveyor of the Queen's Pictures. His monograph on the French Baroque painter Nicolas Poussin (1967) is still widely regarded as a watershed book in art history.  His teaching text and reference work Art and Architecture in France 1500–1700, first published in 1953, reached its fifth edition in a slightly revised version by Richard Beresford in 1999, when it was still considered the best account of the subject.   Early life  Blunt was born in Bournemouth, Dorset, the third and youngest son of a vicar, the Revd (Arthur) Stanley Vaughan Blunt (1870–1929), and his wife, Hilda Violet (1880–1969), daughter of Henry Master of the Madras civil service. He was the brother of writer Wilfrid Jasper Walter Blunt and of numismatist Christopher Evelyn Blunt, and the grandnephew of poet Wilfrid Scawen Blunt.  He was a third cousin of Elizabeth Bowes-Lyon, the late Queen Mother: his mother was the second cousin of Elizabeth's father Claude Bowes-Lyon, 14th Earl of Strathmore and Kinghorne. On occasions, Blunt and his two brothers, Christopher and Wilfrid, took afternoon tea at the Bowes-Lyon's London home in Bruton Street, Mayfair.   Blunt's vicar father was assigned to Paris with the British embassy chapel, and so moved his family to the French capital for several years during Blunt's childhood. The young Anthony became fluent in French, and experienced intensely the artistic culture closely available to him, stimulating an interest which would last a lifetime and form the basis for his later career.   He was educated at Marlborough College, where he joined the college's secret 'Society of Amici',  in which he was a contemporary of Louis MacNeice (whose unfinished autobiography The Strings are False contains numerous references to Blunt), John Betjeman and Graham Shepard. He was remembered by historian John Edward Bowle, a year ahead of Blunt at Marlborough, as an intellectual prig, too preoccupied with the realm of ideas. He thought Blunt had too much ink in his veins and belonged to a world of rather prissy, cold-blooded, academic puritanism.  Cambridge University  He won a scholarship in mathematics to Trinity College, Cambridge. At that time, scholars in Cambridge University were allowed to skip Part I of the Tripos and complete Part II in two years. However, they could not earn a degree in less than three years,  and hence Blunt spent four years at Trinity and switched to Modern Languages, eventually graduating in 1930 with a first class degree. He taught French at Cambridge and became a Fellow of Trinity College in 1932. His graduate research was in French art history and he travelled frequently to continental Europe in connection with his studies.  Like Guy Burgess, Blunt was known to be homosexual, which was a criminal activity at that time in Britain. Both were members of the Cambridge Apostles (also known as the Conversazione Society), a clandestine Cambridge discussion group of 12 undergraduates, mostly from Trinity and King's Colleges who considered themselves to be the brightest minds in the university. Many were homosexual and Marxist at that time. Amongst other members, also later accused of being part of the Cambridge spy ring, were the American Michael Whitney Straight and Victor Rothschild who later worked for MI5.  Rothschild gave Blunt £100 to purchase Eliezar and Rebecca by Nicolas Poussin.  The painting was sold by Blunt's executors in 1985 for £100,000 (totalling £192,500 with tax remission ) and is now in the Fitzwilliam Museum.[http://www.fitzmuseum.cam.ac.uk/opac/search/cataloguedetail.html?&amp;priref 2874&amp;_function_xslt&amp;_limit_ 10 Fitzwilliam Museum – OPAC Record]  Recruitment to Soviet espionage  There are numerous versions of how Blunt was recruited to the NKVD. As a Cambridge don, Blunt visited the Soviet Union in 1933, and was possibly recruited in 1934. In a press conference, Blunt claimed that Guy Burgess recruited him as a spy.  Many sources suggest that Blunt remained at Cambridge and served as a talent-spotter. He may have identified Burgess, Kim Philby, Donald Maclean, John Cairncross and Michael Straight – all undergraduates at Trinity College a few years younger than he – as potential spies for the Soviets. Blunt said in his public confession that it was Burgess who converted him to the Soviet cause, after both had left Cambridge.  Both were members of the Cambridge Apostles, and Burgess could have recruited Blunt or vice versa either at Cambridge University or later when both worked for British intelligence.  Joining MI5  With the invasion of Poland by German and Soviet forces, Blunt joined the British Army in 1939. During the phoney war he served in France in the intelligence corps. When the Wehrmacht drove British forces back to Dunkirk in May 1940, he was evacuated by the Royal Navy. During that same year he was recruited to MI5, the Security Service. Before the war MI5 employed mostly former Indian policemen, for it was in India that the British Empire faced security threats. MI5 may have known Blunt's views, for an officer later claimed that it had been virtually running the Communist Party of Great Britain and complained about the cost of pension payments to its retired infiltrators.   Blunt passed the results of Ultra intelligence from decrypted Enigma intercepts of Wehrmacht radio traffic from the Russian front. He also admitted to passing details of German spy rings, operating in the Soviet Union. Ultra was primarily working on the Kriegsmarine naval codes, which eventually helped win the Battle of the Atlantic, but as the war progressed Wehrmacht army codes were also broken. Sensitive receivers could pick up transmissions, relating to German war plans, from Berlin. There was great risk that, if the Germans discovered their codes had been compromised, they would change the settings of the Enigma wheels, blinding the codebreakers.  Full details of the entire Operation Ultra were fully known by only four people, only one of whom routinely worked at Bletchley Park. Dissemination of Ultra information did not follow usual intelligence protocol but maintained its own communications channels. Military intelligence officers gave intercepts to Ultra liaisons, who in turn forwarded the intercepts to Bletchley Park. Information from decoded messages was then passed back to military leaders through the same channels. Thus, each link in the communications chain knew only one particular job and not the overall Ultra details. Nobody outside Bletchley Park knew the source.   John Cairncross, another of the Cambridge Five, was posted from MI6 to work at Bletchley Park. Blunt admitted to recruiting Cairncross and may well have been the cut-out between Cairncross and the Soviet controllers. For although the Soviet Union was now an ally, Russians were not trusted. Some information concerned German preparations and detailed plans for the Battle of Kursk, the last decisive encounter on the Eastern Front. Malcolm Muggeridge, himself a wartime British agent, recalls meeting Kim Philby and Victor Rothschild, a friend of Blunt since Trinity College, Cambridge. He reported that at the Paris meeting in late 1955 Rothschild argued that much more Ultra material should have been given to Stalin. For once, Philby reportedly dropped his reserve, and agreed.   During the war, Blunt attained the rank of major. In the final days of World War II in Europe, Blunt made a successful secret trip to Schloss Friedrichshof in Germany to retrieve sensitive letters between the Duke of Windsor and Adolf Hitler and other leading Nazis.  George VI asked Blunt, who worked part-time at the Royal Library, to conduct the Royal Librarian, Owen Morshead, to Friedrichshof in March 1945 to liberate letters to the Empress Victoria, a daughter of Queen Victoria, and mother to Kaiser Wilhelm. Papers rescued by Morshead and Blunt were deposited in the Royal Archives.   Suspicion and secret confession  Some people knew of Blunt's role long before his public exposure. In 1948, demobilised army officer Philip Hay attended an interview at Buckingham Palace for the post of private secretary to the Dowager Duchess of Kent. After passing Blunt in a corridor, Sir Alan Lascelles, the King's private secretary, told Hay: \"That's our Russian spy.\"  According to MI5 papers released in 2002, Moura Budberg, known as the Russian Mata Hari and suspected of being a double agent, reported in 1950 that Blunt was a member of the Communist Party, but this was ignored. According to Blunt himself, he never joined because Burgess persuaded him that he would be more valuable to the anti-fascist crusade by working with Burgess. He was certainly on friendly terms with Sir Dick White, the head of MI5 and later MI6, in the 1960s, and they used to spend Christmas together with Victor Rothschild in Rothschild's Cambridge house.   His NKVD control had also become suspicious at the sheer amount of material he was passing over and suspected him of being a triple agent. Later, he was described by a KGB officer as an \"ideological shit\".  With the defection of Burgess and Maclean to Moscow in May 1951, Blunt came under suspicion. He and Burgess had been friends since Cambridge. Maclean was in imminent danger due to decryptions from Venona as the messages were decrypted. Burgess returned on the Queen Mary to Southampton after being suspended from the British Embassy in Washington for his conduct. He was to warn Maclean, who now worked in the Foreign Office but was under surveillance and isolated from secret material. Blunt collected Burgess at Southampton Docks and took him to stay at his flat in London, although he later denied that he had warned the defecting pair. Blunt was interrogated by MI5 in 1952, but gave away little, if anything. Arthur Martin and Jim Skardon had interviewed Blunt 11 times since 1951, but Blunt had admitted nothing.  Blunt was greatly distressed by Burgess's flight and, on 28 May 1951, confided in his friend Goronwy Rees, a fellow of All Souls College, Oxford, who had briefly supplied the NKVD with political information in 1938–39. Rees suggested that Burgess had gone to the Soviet Union because of his violent anti-Americanism and belief that America would involve Britain in a Third World War, and that he was a Soviet agent. Blunt suggested that this was not sufficient reason to denounce Burgess to MI5. He pointed out that \"Burgess was one of our oldest friends and to denounce him would not be the act of a friend.\" Blunt quoted E. M. Forster's belief that country was less important than friendship. He argued that \"Burgess had told me he was a spy in 1936 and I had not told anyone.\"  Blunt was made a Knight Commander of the Royal Victorian Order in 1956 by Queen Elizabeth II.  In 1963, MI5 learned of Blunt's espionage from an American, Michael Straight, whom he had recruited. Blunt confessed to MI5 on 23 April 1964, and Queen Elizabeth II was informed shortly thereafter. He also gave up John Cairncross, Peter Ashby, Brian Symon and Leonard Henry (Leo) Long as spies. Long had also been a member of the Communist Party and an undergraduate at Trinity College, Cambridge. During the war he served in MI14 military intelligence in the War Office, with responsibility for assessing German offensive plans. He passed analyses but not original material relating to the Eastern Front to Blunt.   In return for Blunt's full confession, the British government agreed to keep his spying career an official secret for fifteen years, and granted him full immunity from prosecution.  According to the memoir of MI5 officer Peter Wright, Wright had regular interviews with Blunt from 1964 onwards for six years. Prior to that, he had a briefing with Michael Adeane, the Queen's private secretary, who told Wright: \"From time to time you may find Blunt referring to an assignment he undertook on behalf of the Palace – a visit to Germany at the end of the war. Please do not pursue this matter. Strictly speaking, it is not relevant to considerations of national security.\"   Blunt's life was little affected. In 1966, two years after his secret confession, Noel Annan, provost of King's College, Cambridge, held a dinner party for Labour Home Secretary Roy Jenkins, Ann Fleming, widow of James Bond author Ian Fleming, and Victor Rothschild and his wife Tess. The Rothschilds brought their friend and lodger – Blunt. All had had wartime connections with British Intelligence, Jenkins at Bletchley Park.   Public exposure  Blunt's role was represented under the name Maurice in Andrew Boyle's book Climate of Treason in 1979. Maurice was taken from the E. M. Forster novel of that name. Blunt tried to prevent the book's publication, which was reported in the magazine Private Eye. This drew attention to Blunt.  In the House of Commons of the United Kingdom, Prime Minister Margaret Thatcher revealed Blunt's wartime role, firstly on Thursday 15 November 1979,  and in more detail on 21 November.  Sir Bernard Ingham, Thatcher's press secretary, suggested, \"I believe she did it because she didn't see why the system should cover things up. This was early in her prime ministership. I think she wanted to tell the civil service that the politicians decide policy, not the system. She wanted them to know who was boss.\"  For weeks after Thatcher’s announcement, Blunt was hunted by the press. Once found, he was besieged by photographers. Blunt had recently given a lecture at the invitation of Francis Haskell, Oxford University's professor of art history. Haskell had a Russian mother and wife and had graduated from King’s College, Cambridge. To the press this made him an obvious suspect. They repeatedly telephoned his home in the early hours of the morning, using the names of his friends and claiming to have an urgent message for \"Anthony\".   Although Blunt was outwardly calm, the sudden exposure shocked him. His former pupil, art critic Brian Sewell, said at the time, \"He was so businesslike about it; he considered the implications for his knighthood and academic honours and what should be resigned and what retained. What he didn't want was a great debate at his clubs, the Athenaeum and the Travellers. He was incredibly calm about it all.\" Sewell was involved in protecting Blunt from the extensive media attention after his exposure, and his friend was spirited away to a flat within a house in Chiswick.   Queen Elizabeth II stripped Blunt of his knighthood, and he was removed as an Honorary Fellow of Trinity College. After his BBC Television confession at the age of 72, he broke down in tears.   Blunt died of a heart attack at his London home in 1983, aged 75.  Memoirs  Blunt withdrew from society and seldom went out after his exposure. His friend Tess Rothschild suggested that he occupy his time writing his memoirs. Brian Sewell, his former pupil, said they remained unfinished because he had to consult the newspaper library in Colindale, North London, to check facts. He was unhappy at being recognised.  \"I do know he was really worried about upsetting his family,\" said Sewell. \"I think he was being absolutely straight with me when he said that if he could not verify the facts there was no point in going on.\" Blunt stopped writing in 1983, leaving his memoirs to his partner, John Gaskin, who kept them for a year and then gave them to Blunt's executor, John Golding, a fellow art historian.  Golding passed them on to the British Library, insisting that they not be released for 25 years.  It was finally made available to readers on 23 July 2009.  Golding explains: \"I did so because, although most of the figures mentioned were dead, their families might not like it. It covers his Cambridge days and there are a number of names. They weren't all spies, but communism was common amongst intellectuals in the Thirties.\"  In the typed manuscript, Blunt conceded that spying for the Soviet Union was the biggest mistake of his life. \"What I did not realise is that I was so naïve politically that I was not justified in committing myself to any political action of this kind. The atmosphere in Cambridge was so intense, the enthusiasm for any anti-fascist activity was so great, that I made the biggest mistake of my life.\"  The memoir revealed little that was not already known about Blunt. When asked whether there would be any new or unexpected names, John Golding replied: \"I'm not sure. It's 25 years since I read it, and my memory is not that good.\" Although ordered by the KGB to defect with Maclean and Burgess to protect Philby, in 1951 Blunt realised \"quite clearly that I would take any risk in [Britain], rather than go to Russia.\" After he was publicly exposed, he claims to have considered suicide but instead turned to \"whisky and concentrated work\".  Career as an art historian  Throughout the time of his activities in espionage, Blunt's public career was in the History of Art, a field in which he gained prominence. In 1940, most of his fellowship dissertation was published under the title of Artistic Theories in Italy, 1450–1600. In 1945, he was given the esteemed position of Surveyor of the King's Pictures, and later the Queen’s Pictures (after the death of King George VI in 1952), one of the largest private collections in the world. He held the position for 27 years, was knighted as a KCVO in 1956 for his work in the role, and his contribution was vital in the expansion and cataloguing of the Queen’s Gallery, which opened in 1962.  In 1947, Blunt became both Professor of the History of Art at the University of London, and the director of the Courtauld Institute of Art, University of London, where he had been lecturing since the spring of 1933,  and where his tenure in office as director lasted until 1974. This position included the use of a live-in apartment on the premises.  During his 27 years at the Courtauld Institute, Blunt was respected as a dedicated teacher, a kind superior to his staff. His legacy at the Courtauld was to have left it with a larger staff, increased funding, and more space, and his role was central in the acquisition of outstanding collections for the Courtauld's Galleries. He is often credited for making the Courtauld what it is today, as well as for pioneering art history in Britain, and for training the next generation of British art historians.  In 1953, Blunt published his book Art and Architecture in France, 1500–1700, and he was in particular an expert on the works of Nicolas Poussin, writing numerous books and articles about the painter, and serving as curator for a landmark exhibition of Poussin at the Louvre in 1960, which was an enormous success. He also wrote on topics as diverse as William Blake, Pablo Picasso, the Galleries of England, Scotland, and Wales. He also catalogued the French drawings (1945), G. B. Castiglione and Stefano della Bella drawings (1954) Roman drawings (with H. L. Cooke, 1960) and Venetian (with Edward Croft-Murray, 1957) drawings in the collection of the Queen, as well as a supplement of Addenda and Corrigenda to the Italian catalogues (in E. Schilling's German Drawings).  Blunt attended a summer school in Sicily in 1965, leading to a deep interest in Sicilian architecture, and in 1968 he wrote the only authoritative and in-depth book on Sicilian Baroque. From 1962 he was engaged in a dispute with Denis Mahon regarding the authenticity of a Poussin work which rumbled on for several years. Mahon was shown to be correct. Blunt was also unaware that a painting in his own possession was also by Poussin. It has been suggested that Blunt could not accept that Poussin may have produced inferior work.  Notable students who have been influenced by Blunt include Aaron Scharf, photography historian and author of 'Art and Photography' (whom Blunt assisted, along with Scharf's wife, in escaping McCarthy condemnation for their support of communism), Brian Sewell (an art critic for the Evening Standard),  Ron Bloore, Sir Oliver Millar (his successor at the Royal Collection and an expert on Van Dyck), Nicholas Serota, Neil Macgregor, the former editor of the Burlington magazine, former director of the National Gallery and the current director of the British Museum who paid tribute to Blunt as \"a great and generous teacher\",  John White (art historian), Sir Alan Bowness (who ran the Tate Gallery), John Golding (who wrote the first major book on Cubism), Reyner Banham (an influential architectural historian), John Shearman (the \"world expert\" on Mannerism and the former Chair of the Art History Department at Harvard University), Melvin Day (former Director of National Art Gallery of New Zealand and Government Art Historian for New Zealand ), Christopher Newall (an expert on the Pre-Raphaelites), Michael Jaffé (an expert on Rubens), Michael Mahoney (former Curator of European Paintings at the National Gallery of Art, Washington, D.C., and former Chair of the Art History Department at Trinity College, Hartford), Lee Johnson (an expert on Eugène Delacroix), and Anita Brookner (an art historian and novelist).  Among his many accomplishments, Blunt also received a series of honorary fellowships, became the National Trust picture adviser, put on exhibitions at the Royal Academy, edited and wrote numerous books and articles, and sat on every influential art committee.  After Margaret Thatcher had exposed Blunt's espionage, he continued his art historical work by writing and publishing a Guide to Baroque Rome (1982). He intended to write a monograph about the architecture of Pietro da Cortona but he died before realising the project. His manuscripts were sent to the intended co-author of this work, German art historian Jörg Martin Merz by the executors of his will. Merz published a book, Pietro da Cortona and Roman Baroque Architecture in 2008 incorporating a draft by the late Anthony Blunt.  Many of his publications are still seen today by scholars as integral to the study of art history. His writing is lucid, and is based largely on art and architecture in the context of their place in history. In his book Art and Architecture in France, for example, he begins each section with a brief depiction of the social, political and/or religious contexts in which works of art and art movements are emerging. In Blunt’s Artistic Theory in Italy, 1450–1600, he explains the motivational circumstances involved in the transitions between the High Renaissance and Mannerism.  Works  A festschrift, Studies in Renaissance and Baroque Art presented to Anthony Blunt on his 60th Birthday, Phaidon 1967 (introduction by Ellis Waterhouse), contains a full list of his writings up to 1966.  Major works include: *Anthony Blunt, François Mansart and the Origins of French Classical Architecture, 1941. *Blunt, Art and Architecture in France, 1500–1700, 1953 and many subsequent editions. *Blunt, Philibert de l'Orme, A. Zwemmer, 1958. *Blunt, Nicolas Poussin. A Critical Catalogue, Phaidon 1966 *Blunt, Nicolas Poussin, Phaidon 1967 (new edition Pallas Athene publishing, London, 1995). *Blunt, Sicilian Baroque, 1968 (ed. it. Milano 1968; Milano 1986). *Blunt, Picasso's Guernica, Oxford University Press, 1969. *Blunt, Neapolitan Baroque and Rococo Architecture, London 1975 (ed. it. Milano 2006). *Blunt, Baroque and Rococo Architecture and Decoration, 1978. *Blunt, Borromini, 1979 (ed. it. Roma-Bari 1983). *Blunt, L'occhio e la storia. Scritti di critica d'arte (1936–38), a cura di Antonello Negri, Udine 1999.  Important articles after 1966: *Anthony Blunt, 'French Painting, Sculpture and Architecture since 1500,' in France: A Companion to French Studies, ed. D.G. Charlton (New York, Toronto and London: Pitman, 1972), 439–92. *Anthony Blunt, 'Rubens and architecture,' Burlington Magazine, 1977, 894, pp. 609–621. *Anthony Blunt, 'Roman Baroque Architecture: the Other Side of the Medal,' Art history, no. 1, 1980, pp. 61–80 (includes bibliographical references).  Depictions in popular culture  A Question of Attribution is a play written by Alan Bennett about Blunt, covering the weeks before his public exposure as a spy, and his relationship with Queen Elizabeth II. After a successful run in London's West End, it was made into a television play directed by John Schlesinger and starring James Fox, Prunella Scales and Geoffrey Palmer. It was aired on the BBC in 1991. This play was seen as a companion to Bennett's 1983 television play about Guy Burgess, An Englishman Abroad.  Blunt: The Fourth Man is a 1985 film starring Ian Richardson, Anthony Hopkins, Michael Williams, and Rosie Kerslake, covering the events of 1951 when Guy Burgess and Donald Maclean went missing.  The Untouchable, a 1997 novel by John Banville, is a roman à clef based largely on the life and character of Anthony Blunt; the novel's protagonist, Victor Maskell, is a loosely disguised Blunt, although some elements of the character are based on Louis MacNeice.   \"I.M. Anthony Blunt\" is a poem by Gavin Ewart, cleverly attempting a humane corrective to the hysteria over Blunt's fall from grace. Published in [http://www.amazon.com/Selected-Poems-1933-1993-Gavin-Ewart/dp/0571241956 Gavin Ewart, Selected Poems 1933-1993], Hutchenson, 1996 (reprinted Faber and Faber, 2011).  A Friendship of Convenience: Being a Discourse on Poussin's \"Landscape With a Man Killed by a Snake\", is a 1997 novel by Rufus Gunn set in 1956 in which Blunt, then Surveyor of the Queen's Pictures, encounters Joseph Losey, the famous film director fleeing McCarthyism.   Samuel West portrayed Blunt in Cambridge Spies, a 2003 four-part BBC television drama concerning the lives of the Cambridge Four from 1934 to the defection of Guy Burgess and Donald Maclean to the Soviet Union. Harold Adrian Russell \"Kim\" Philby (1 January 1912 – 11 May 1988 ) was a high-ranking member of British intelligence who worked as a double agent before defecting to the Soviet Union in 1963. He served as both an NKVD and KGB operative.   In 1963, Philby was revealed to be a member of the spy ring now known as the Cambridge Five, the other members of which were Donald Maclean, Guy Burgess, Anthony Blunt and, possibly, John Cairncross.  Of the five, Philby is believed to have been most successful in providing secret information to the Soviet Union. His activities were moderated only by Joseph Stalin's fears that he was secretly on Britain's side.  Philby was an Officer of the Order of the British Empire (OBE) from 1946 to 1965.  Biography  Early life  Philby was born at Ambala in the Punjab Province of India. He was the son of Dora (Johnston) and St John Philby, who was a well-known author, orientalist and convert to Islam.  His father was a member of the Indian Civil Service (ICS) and later a civil servant in Mesopotamia and advisor to King Ibn Sa'ud of Saudi Arabia.   Nicknamed \"Kim\" after the boy in Rudyard Kipling's novel Kim, Philby attended Aldro preparatory school. In his early teens he spent some time with the Bedouin in the desert of Saudi Arabia \"to be turned into a man\".  Following in the footsteps of his father, he continued to Westminster School, which he left in 1928 at the age of 16. He won a scholarship to Trinity College, Cambridge, where he read History and Economics. He graduated in 1933 with a 2:1 degree in Economics.   Upon Philby's graduation, Maurice Dobb, a fellow of King's College, Cambridge, and tutor in Economics, introduced him to the World Federation for the Relief of the Victims of German Fascism in Paris. The organization was one of several fronts operated by German Communist Willi Münzenberg, a member of the Reichstag who had fled to France in 1933.   Vienna  In Vienna, working to aid refugees from Nazi Germany, Philby met and fell in love with Litzi Friedmann (born Alice Kohlmann), a young Austrian Communist of Hungarian Jewish origins. Philby admired the strength of her political convictions and later recalled that at their first meeting: \"[a] frank and direct person, Litzi came out and asked me how much money I had. I replied £100, which I hoped would last me about a year in Vienna. She made some calculations and announced, 'That will leave you an excess of £25. You can give that to the International Organisation for Aid for Revolutionaries. We need it desperately.' I liked her determination.\"  He acted as a courier between Vienna and Prague, paying for the train tickets out of his remaining £75 and using his British passport to evade suspicion. He also delivered clothes and money to refugees from the Nazis.   With threats of an armed uprising against Austrian Chancellor Engelbert Dollfuss (who was assassinated the following year) and the deaths of several hundred people in the February Uprising, Philby's British passport became even more valuable. He and Friedmann married in February 1934, enabling her to escape to the United Kingdom with him two months later. It is possible that it was a Viennese-born friend of Friedmann's in London, Edith Tudor Hart – herself, at this time, a Soviet agent – who first approached Philby about the possibility of working for Soviet intelligence.  According to Genrikh Borovik, who worked from Soviet archives, Tudor Hart recommended Philby and Friedmann in 1934. Peter Wright, a former senior MI5 officer, said in his 1987 book, Spycatcher that Litzi Friedmann was \"almost certainly the person who recruited him to the Soviet cause.\"  Yuri Modin, one of the KGB controllers of the Cambridge Five, agreed; \"Contrary to received opinion, it was neither Guy Burgess nor one of our own agents who lured Philby into the toils of the Soviet espionage apparatus. It was Litzi.\"  In January 1934 Arnold Deutsch, one of NKVD's agents, was sent to London. As a cover for his spying activities he did post-graduate work at London University. In May, he made contact with Friedmann and discussed the recruitment of Soviet spies, whereupon she suggested her husband.   Philby later recalled that in June 1934. \"Lizzy came home one evening and told me that she had arranged for me to meet a 'man of decisive importance'. I questioned her about it but she would give me no details. The rendezvous took place in Regents Park. The man described himself as Otto. I discovered much later from a photograph in MI5 files that the name he went by was Arnold Deutsch. I think that he was of Czech origin; about 5ft 7in, stout, with blue eyes and light curly hair. Though a convinced Communist, he had a strong humanistic streak. He hated London, adored Paris, and spoke of it with deeply loving affection. He was a man of considerable cultural background.\"   Arnold Deutsch was soon replaced by Theodore Maly (code-name Man), who was also Hungarian. Philby also dealt with Anatoly Gorsky (code-name Kap) the OGPU rezident in London and his predecessor, a German known as Reif (code-name Mar). All were shot in Moscow between 1936 and 1938 during the era of Stalin's Great Purge on trumped-up charges of being either German or Polish spies. Philby's first task for Otto was to make a list of his Cambridge contemporaries who might respond to discreet contact. He listed seven, including Donald Maclean and Guy Burgess.  London and Spain  In London, Philby enrolled at the School of Slavonic Languages to learn Russian, helped by his father, a friend of the director. The school trained people for a career in diplomacy or the intelligence services. Philby's Russian was never good and he soon took a job at a monthly magazine, the World Review of Reviews, for which he wrote articles and letters (sometimes under pseudonyms) and occasionally served as acting editor.   At this point, Philby and Litzi separated. They remained friends and divorced only in 1946. When the Germans threatened to overrun Paris in 1940, where she was then living, he arranged her escape to Britain. In 1936 he joined a trade magazine, the Anglo-Russian Trade Gazette, as editor. The paper was failing and its owner changed its role to covering Anglo-German trade. Philby engaged in a concerted effort to make contact with Germans such as Joachim von Ribbentrop, at that time the German ambassador in London. He joined the Anglo-German Fellowship, which was supported both by the British and German governments, and made many trips to Berlin.  In February 1937, Philby travelled to Seville, Spain. At the time, Spain was embroiled in a bloody civil war, triggered by the rebellion of Nationalist forces under General Francisco Franco against the socialist Republican government of President Manuel Azaña. Philby worked at first as a freelance journalist; from May 1937, he served as a correspondent for The Times, reporting from the side of the pro-Franco forces. He was also working for both Soviet and British intelligence, posting letters in a crude code to a fictitious girlfriend, Mlle Dupont in Paris, for the Russians. He used a simpler system for MI6 delivering post at Hendaye, France, for the British Embassy in Paris. When visiting Paris after the war, he was shocked to discover that the address that he used for Mlle Dupont was that of the Soviet Embassy. His controller in Paris, the Latvian Ozolin-Haskins (code name Pierre), was shot in Moscow in 1937 during Stalin's purge. His successor, Boris Bazarov, suffered the same fate two years later during the purges.  Both services were interested in the combat performance of the new Messerschmitt Bf109s and Panzer I and IIs deployed with Nationalist forces in Spain. Philby told the British, after a direct question to Franco, that German troops would never be permitted to cross Spain to attack Gibraltar.  His Soviet controller at the time, Theodore Maly, reported in April 1937 to the NKVD that he had personally briefed Philby on the need \"to discover the system of guarding Franco and his entourage.\" So as to assist in Franco's assassination, Philby was instructed to report on vulnerable points in Franco's security and recommend ways to gain access to him and his staff.  However, such an act was never a real possibility; upon debriefing Philby in London on 24 May 1937, Maly wrote to the NKVD, \"Though devoted and ready to sacrifice himself, [Philby] does not possess the physical courage and other qualities necessary for this [assassination] attempt.\"  In December 1937, during the Battle of Teruel, a Republican shell hit just in front of the car in which Philby was travelling with the correspondents Edward J. Neil of the Associated Press, Bradish Johnson of Newsweek, and Ernest Sheepshanks  of Reuters. Johnson was killed outright, and Neil and Sheepshanks soon died of their injuries. Philby suffered only a minor head wound.  As a result of this accident, Philby, who was well-liked by the Nationalist forces whose victories he trumpeted, was awarded the Red Cross of Military Merit by Franco on 2 March 1938. Philby found that the award proved helpful in obtaining access to fascist circles: \"Before then,\" he later wrote, \"there had been a lot of criticism of British journalists from Franco officers who seemed to think that the British in general must be a lot of Communists because so many were fighting with the International Brigades. After I had been wounded and decorated by Franco himself, I became known as 'the English-decorated-by-Franco' and all sorts of doors opened to me.\"  In 1938, Walter Krivitsky (born Samuel Ginsberg), a former GRU officer in Paris who had defected to France the previous year, travelled to the United States and published an account of his time in \"Stalin's secret service.\" He testified before the Dies Committee (later to become the House Un-American Activities Committee) regarding Soviet espionage within the United States. In 1940 he was interviewed by MI5 officers in London, led by Jane Archer. Krivitsky claimed that two Soviet intelligence agents had penetrated the British Foreign Office and that a third Soviet intelligence agent had worked as a journalist for a British newspaper during the civil war in Spain. No connection with Philby was made at the time. Krivitsky was shot in a Washington hotel room the following year.   Alexander Orlov (born Lev Feldbin; code-name Swede), Philby's controller in Madrid, who had once met him in Perpignan, France, with the bulge of an automatic rifle clearly showing through his raincoat, also defected. To protect his family, still living in the USSR, he said nothing about Philby, an agreement Stalin respected. On a short trip back from Spain, Philby tried to recruit Flora Solomon as a Soviet agent; she was the daughter of a Russian banker and gold dealer, a relative of the Rothschilds, and wife of a London stockbroker. At the same time, Burgess was trying to get her into MI6. But the resident (Russian term for spymaster) in France, probably Pierre at this time, suggested to Moscow that he suspected Philby's motives. Solomon introduced Philby to his second wife, Aileen Furse, but went to work for the British retailer Marks &amp; Spencer.  World War II  In July 1939, Philby returned to the Times office in London. The Molotov–Ribbentrop Pact, with its secret protocol that Germany and the Soviet Union would divide Poland, shocked Philby. He often asked, \"Why was this necessary?\". When Britain declared war on Germany in September 1939, contact with his Soviet controllers was lost and Philby failed to attend meetings. During the Phoney War from September 1939 until the Dunkirk evacuation, Philby worked as the Times correspondent with the British Expeditionary Force headquarters. After being evacuated from Boulogne on 21 May, he returned to France in mid-June (now representing the Daily Telegraph in addition to The Times). He briefly reported from Cherbourg and Brest, sailing for Plymouth less than twenty-four hours before the French surrender.   Hester Marsden-Smedley, a correspondent with the Sunday Express who shared the train ride from Plymouth to London, then introduced him to Marjorie Maxse, who offered him a role in the War Office. On his first meeting in her office, Philby was surprised to see his old friend from Cambridge, Burgess, who was already working there. His time there, however, was short-lived; the under-funded section was absorbed by the new Special Operations Executive (SOE) in July 1940. Burgess was fired for \"irreverence\", and Philby was appointed as an instructor in the art of clandestine propaganda at the SOE's training establishment in Beaulieu, Hampshire.   Philby's role as an instructor of sabotage agents again brought him to the attention of the OGPU. The new London rezident, Ivan Chichayev (code-name Vadim), re-established contact and asked for a list of names of British agents being trained to enter the USSR. Philby replied that none had been sent and that none were undergoing training. This statement was underlined twice in red and marked with two question marks by disbelieving staff at Moscow Central in the Lubyanka, according to Genrikh Borovik, who saw the telegrams much later in the KGB archives.  Section IX was often known as Section D (SIS Sections used Roman numerals). Philby was originally a Section D officer and is so noted in a letter dated 24 September 1940 written by Lt. Col. Valentine Vivian, the head of Section V at that time. Under Section IX was the Statistical Research Centre War Office (a cover name), mobilised on September 1939 on the outbreak of war at War Station No X Bletchley Park, charged with breaking the German Enigma codes.  Philby provided Stalin with advance warning of Operation Barbarossa and of the Japanese intention to strike south at Singapore instead of attacking the USSR as Hitler had urged. The first was ignored as a provocation, but the second, when confirmed by the Russo-German journalist and spy in Tokyo, Richard Sorge, contributed to Stalin's decision to transport  troops from the Far East in time for Georgy Zhukov to use them in the counteroffensive around Moscow.  By September 1941, Philby was working for Section V of MI6, responsible for offensive counter-intelligence.  On the strength of his knowledge and experience of Franco's Spain, he was put in charge of the subsection which dealt with Spain and Portugal. This entailed responsibility for a network of undercover operatives in Madrid, Lisbon, Gibraltar and Tangier.  At this time, the German Abwehr was active in Spain, particularly around the British naval base of Gibraltar, which its agents hoped to watch with cameras and radar to track Allied supply ships in the Western Mediterranean.   During 1942–43 Philby's responsibilities were expanded to include North Africa and Italy, and he was made the deputy head of Section V under Major Felix Cowgill, an army officer seconded to SIS. Cowgill was the SIS representative on the XX Committee run by John Masterman, which dealt with double agents working for the Abwehr but controlled by the British. In late 1944 Philby, on instructions from his KGB handler, manoeuvred successfully to replace Cowgill as head of Section.  Charles Arnold-Baker, an officer of German birth (born Wolfgang von Blumenthal) working for Richard Gatty in Belgium and later transferred to the Norwegian/Swedish border, voiced suspicions of Philby but was ignored.  While with Section V, Philby met James Jesus Angleton, a young American counter-intelligence officer working in liaison with SIS in London. Angleton, later chief of the Central Intelligence Agency's (CIA) Counterintelligence Staff, became suspicious of Philby when he failed to pass on information relating to a British agent executed by the Gestapo in Germany. It later emerged that the agent – known as Schmidt – had also worked as an informant for the Rote Kapelle organisation, which sent information to both London and Moscow.  Nevertheless, Angleton's suspicions went unheard.  In late summer 1943, the SIS provided the GRU with an official report on the activities of German agents in Bulgaria and Romania, soon to be invaded by the Red Army. The NKVD complained to Cecil Barclay, the SIS representative in Moscow, that information had been withheld. Barclay reported the complaint to London. Philby claimed to have overheard discussion of this by chance and sent a report to his controller. This turned out to be identical with Barclay's dispatch, convincing the NKVD that Philby had seen the full Barclay report. A similar lapse occurred with a report from the Imperial Japanese Embassy in Moscow sent to Tokyo. The NKVD received the same report from Richard Sorge but with an extra paragraph claiming that Hitler might seek a separate peace with the Soviet Union. These lapses by Philby aroused intense suspicion in Moscow.  Elena Modrzhinskaya at GUGB headquarters in Moscow was the person who assessed all material from the Cambridge Five. She noted that they produced an extraordinary wealth of information on German war plans but next to nothing on the repeated question of British penetration of Soviet intelligence in either London or Moscow. Philby had repeated his claim that there were no such agents. She asked, \"Could the SIS really be such fools they failed to notice suitcase-loads of papers leaving the office? Could they have overlooked Philby's communist wife?\" Modrzhinskaya concluded that all were double agents, working essentially for the British.  A more serious incident occurred in August 1945, when Konstantin Volkov, an NKVD agent and vice-consul in Istanbul, requested political asylum in Britain for himself and his wife. For a large sum of money, Volkov offered the names of three Soviet agents inside Britain, two of whom worked in the Foreign Office and a third who worked in counter-espionage in London. Philby was given the task of dealing with Volkov by British intelligence. He warned his Soviet controller of his mission and proceeded to Istanbul – slowly. By the time he arrived in Turkey, three weeks later, Volkov had been found and hurriedly returned to Moscow, disguised in heavy bandages.  Alerting Moscow of his mission, as well as the speed of his travel might have compromised his position within the SIS, however, Volkov's defection had been discussed with the British Embassy in Ankara on telephones found to be tapped by Soviet intelligence. Volkov had insisted that all written communications about him take place by diplomatic bag rather than by telegraph, causing a  belated reaction that plausibly could have given the Soviets time to uncover his plans. Philby was thus able to evade blame and detection.  A month later Igor Gouzenko, a cipher clerk in Ottawa, took political asylum in Canada and gave the Royal Canadian Mounted Police names of agents operating within the British Empire that were known to him; Philby could do nothing about this. When Jane Archer (who had interviewed Krivitsky) was appointed to Philby's section he moved her off investigatory work in case she became aware of his past. He later wrote \"... she had got a tantalising scrap of information about a young English journalist whom the Soviet intelligence had sent to Spain during the Civil War. And here she was pluncked down in my midst!\".  Philby, \"employed in a Department of the Foreign Office\", was awarded the OBE in 1946.   Istanbul  In February 1947, Philby was appointed head of British intelligence for Turkey, and posted to Istanbul with his second wife, Aileen, and their family. His public position was that of First Secretary at the British Consulate; in reality, his intelligence work required overseeing British agents and working with the Turkish security services.   Philby planned to infiltrate five or six groups of émigrés into Soviet Armenia or Soviet Georgia.  But efforts among the expatriate community in Paris produced just two recruits. Turkish intelligence took them to a border crossing into Georgia but soon afterwards shots were heard. Another effort was made using a Turkish gulet for a seaborne landing, but it never left port. He was implicated in a similar campaign in Albania. Colonel David Smiley, an aristocratic Guards officer who had helped Enver Hoxha and his Communist guerillas to liberate Albania, now prepared to liberate it from Hoxha. He trained Albanian commandos – some of whom were former Nazi collaborators – in Libya or Malta. From 1947, they infiltrated the southern mountains to build support for former King Zog.  The first three missions, overland from Greece, were trouble-free. Larger numbers were landed by sea and air under Operation Valuable, which continued until 1951, increasingly under the influence of the newly formed CIA. Stewart Menzies, head of SIS, disliked the idea, which was promoted by former SOE men now in SIS. Most infiltrators were caught by the Sigurimi, the Albanian Security Service.  Clearly there had been leaks and Philby was later suspected as one of the leakers. His own comment was \"I do not say that people were happy under the regime but the CIA underestimated the degree of control that the Authorities had over the country.\" Macintyre (2014) includes this typically cold-blooded quote from Philby:  \"The agents we sent into Albania were armed men intent on murder, sabotage and assassination ... They knew the risks they were running. I was serving the interests of the Soviet Union and those interests required that these men were defeated. To the extent that I helped defeat them, even if it caused their deaths, I have no regrets.\"  Aileen Philby had suffered since childhood from psychological problems which caused her to inflict injuries upon herself. In 1948, troubled by the heavy drinking and frequent depressions that had become a feature of her husband's life in Istanbul, she experienced a breakdown of this nature, staging an accident and injecting herself with urine and insulin to cause skin disfigurations.  She was sent to a clinic in Switzerland to recover. Upon her return to Istanbul in late 1948, she was badly burned in an incident with a charcoal stove and returned to Switzerland. Shortly afterward, Philby was moved to the job as chief SIS representative in Washington, D.C., with his family.  Washington, D.C.  In September 1949, the Philbys arrived in the United States. Officially, his post was that of First Secretary to the British Embassy; in reality, he served as chief British intelligence representative in Washington. His office oversaw a large amount of urgent and top-secret communications between the United States and London. Philby was also responsible for liaising with the CIA and promoting \"more aggressive Anglo-American intelligence operations.\"  A leading figure within the CIA was Philby's wary former colleague, James Jesus Angleton, with whom he once again found himself working closely. Angleton remained suspicious of Philby, but lunched with him every week in Washington.  However, a more serious threat to Philby's position had come to light. During the summer of 1945, a Soviet cipher clerk had reused a one time pad to transmit intelligence traffic. This mistake made it possible to break the normally impregnable code. Contained in the traffic (intercepted and decrypted as part of the Venona project) was information that documents had been sent to Moscow from the British Embassy in Washington. The intercepted messages revealed that the British Embassy source (identified as \"Homer\") travelled to New York City to meet his Soviet contact twice a week. Philby had been briefed on the situation shortly before reaching Washington in 1949; it was clear to Philby that the agent was Maclean, who worked in the British Embassy at the time and whose wife, Melinda, lived in New York. Philby had to help discover the identity of \"Homer\", but also wished to protect Maclean.  In January 1950, on evidence provided by the Venona intercepts, Soviet atomic spy Klaus Fuchs was arrested. His arrest led to others: Harry Gold, a courier with whom Fuchs had worked, David Greenglass, and Julius and Ethel Rosenberg. The investigation into the British Embassy leak was still ongoing, and the stress of it was exacerbated by the arrival in Washington, in October 1950, of Burgess – Philby's unstable and dangerously alcoholic, fellow Soviet spy.   Burgess, who had been given a post as Second Secretary at the British Embassy, took up residence in the Philby family home and rapidly set about causing offence to all and sundry. Aileen Philby resented him and disliked his presence; Americans were offended by his \"natural superciliousness\" and \"utter contempt for the whole pyramid of values, attitudes, and courtesies of the American way of life.\" J. Edgar Hoover complained that Burgess used British Embassy automobiles to avoid arrest when he cruised Washington in pursuit of homosexual encounters. His dissolution had a troubling effect on Philby; the morning after a particularly disastrous and drunken party, a guest returning to collect his car heard voices upstairs and found \"Kim and Guy in the bedroom drinking champagne. They had already been down to the Embassy but being unable to work had come back.\"   Burgess' presence was problematic for Philby, yet it was potentially dangerous for Philby to leave him unsupervised. The situation in Washington was tense. From April 1950, Maclean had been the prime suspect in the investigation into the Embassy leak.  Philby had undertaken to devise an escape plan which would warn Maclean, currently in England, of the intense suspicion he was under and arrange for him to flee. Burgess had to get to London to warn Maclean, who was under surveillance. In early May 1951, Burgess got three speeding tickets in a single day – then pleaded diplomatic immunity, causing an official complaint to be made to the British Ambassador.  Burgess was sent back to England, where he met Maclean in his London club.  The SIS planned to interrogate Maclean on 28 May 1951. On 23 May, concerned that Maclean had not yet fled, Philby wired Burgess, ostensibly about his Lincoln convertible abandoned in the Embassy car park. \"If he did not act at once it would be too late,\" the telegram read, \"because [Philby] would send his car to the scrap heap. There was nothing more [he] could do.\"  On 25 May (Maclean's thirty-eighth birthday), Burgess drove Maclean from his home in Tatsfield to Southampton, where the two of them boarded a boat to France and then proceeded to Moscow.  London  Burgess had intended to aid Maclean in his escape, not accompany him in it. The \"affair of the missing diplomats,\" as it was referred to before Burgess and Maclean surfaced in Moscow,  attracted a great deal of public attention, and Burgess' disappearance, which identified him as complicit in Maclean's espionage, deeply compromised Philby's position. Under a cloud of suspicion raised by his highly visible and intimate association with Burgess, Philby returned to London. There, he underwent MI5 interrogation aimed at ascertaining whether he had acted as a \"third man\" in Burgess and Maclean's spy ring. In July 1951, he resigned from MI6, preempting his all-but-inevitable dismissal.   Even after Philby's departure from MI6, speculation regarding his possible Soviet affiliations continued. Interrogated repeatedly regarding his intelligence work and his connection with Burgess, he continued to deny that he had acted as a Soviet agent. From 1952, Philby struggled to find work as a journalist, eventually – in August 1954 – accepting a position with a diplomatic newsletter called the Fleet Street Letter.  Lacking access to material of value and out of touch with Soviet intelligence, he all but ceased to operate as a Soviet agent.  In October 1955, Philby was officially cleared by Foreign Secretary Harold Macmillan, who told the House of Commons, \"I have no reason to conclude that Mr. Philby has at any time betrayed the interests of his country, or to identify him with the so-called 'Third Man', if indeed there was one.\"  In November 1955 Philby gave a press conference in which – calmly, confidently, and without the stammer he had struggled with since childhood – he reiterated his innocence, declaring, \"I have never been a communist.\"   Beirut  After being exonerated, Philby was no longer employed by MI6 and Soviet intelligence lost all contact with him. In August 1956 he was sent to Beirut as a Middle East correspondent for The Observer and The Economist. There, his journalism served as cover for renewed work for MI6.  In Lebanon, Philby at first lived in Mahalla Jamil, his father's large household located in the village of Ajaltoun, just outside Beirut. Following the departure of his father and stepbrothers for Saudi Arabia, Philby continued to live alone in Ajaltoun, but took a flat in Beirut after beginning an affair with Eleanor, the Seattle-born wife of New York Times correspondent Sam Pope Brewer.  On 12 December 1957, Aileen Philby was discovered dead in the bedroom of her house in Crowborough. Her friends believed she had killed herself, with drink and pills. However, her psychiatrist suspected, that she \"might have been murdered\" by Kim Philby because she knew too much.  \"The coroner ruled she had died from heart failure, myocardial degeneration, tuberculosis, and a respiratory infection having contracted influenza. Her alcoholism undoubtedly accelerated her death.\"   Following Aileen's death and Eleanor's subsequent divorce from Brewer, Philby and Eleanor were married in London in 1959 and set up house together in Beirut.  From 1960, Philby's formerly marginal work as a journalist became more substantial and he frequently travelled throughout the Middle East, including Saudi Arabia, Egypt, Jordan, Kuwait and Yemen.   In 1961, Anatoliy Golitsyn, a major in the First Chief Directorate of the KGB, defected to the United States from his diplomatic post in Helsinki. Golitsyn offered the CIA revelations of Soviet agents within American and British intelligence services. Following his debriefing in the US, Golitsyn was sent to SIS for further questioning. The head of MI6, Dick White, only recently transferred from MI5, had suspected Philby as the \"third man.\" Golitsyn proceeded to confirm White's suspicions about Philby's role.  Nicholas Elliott, an MI6 officer recently stationed in Beirut who was a friend of Philby's and had previously believed in his innocence, was tasked with attempting to secure Philby's full confession.  It is unclear whether Philby had been alerted, but Eleanor noted that as 1962 wore on, expressions of tension in his life \"became worse and were reflected in bouts of deep depression and drinking.\"  She recalled returning home to Beirut from a sight-seeing trip in Jordan to find Philby \"hopelessly drunk and incoherent with grief on the terrace of the flat,\" mourning the death of a little pet fox which had fallen from the balcony.  When Nicholas Elliott met Philby in late 1962, the first time since Golitsyn's defection, he found Philby too drunk to stand and with a bandaged head; he had fallen repeatedly and cracked his skull on a bathroom radiator, requiring stitches.   Philby told Elliott that he was \"half expecting\" to see him. Elliott confronted him, saying, \"I once looked up to you, Kim. My God, how I despise you now. I hope you've enough decency left to understand why.\"  Prompted by Elliott's accusations, Philby confirmed the charges of espionage and described his intelligence activities on behalf of the Soviets. However, when Elliott asked him to sign a written statement, he hesitated and requested a delay in the interrogation. Another meeting was scheduled to take place in the last week of January. It has since been suggested that the whole confrontation with Elliott had been  a charade to convince the KGB that Philby had to be brought back to Moscow, where he could serve as a British penetration agent of Moscow Centre.   On the evening of 23 January 1963, Philby vanished from Beirut, failing to meet his wife for a dinner party at the home of Glencairn Balfour Paul, First Secretary at the British Embassy.  The Dolmatova, a Soviet freighter bound for Odessa, had left Beirut that morning so abruptly that cargo was left scattered over the docks; Philby claimed that he left Beirut on board this ship.  However, others maintain that he escaped through Syria, overland to Soviet Armenia and thence to Russia.Morris Riley Philby: The Hidden Years, 1990, Penzance: United Writers' Publications.  It was not until 1 July 1963 that Philby's flight to Moscow was officially confirmed.  On 30 July Soviet officials announced that they had granted him political asylum in the USSR, along with Soviet citizenship.   When the news broke, MI6 came under criticism for failing to anticipate and block Philby's defection, though Elliott was to claim he could not have prevented Philby's flight. Journalist Ben Macintyre, author of several works on espionage, wrote in his 2014 book on Philby that MI6 may have left open the opportunity for Philby to flee to Moscow to avoid an embarrassing public trial. Philby himself thought this might have been the case, according to Macintyre.   Moscow  Upon his arrival in Moscow, Philby discovered that he was not a colonel in the KGB, as he had been led to believe. He was paid 500 rubles a month and his family was not immediately able to join him in exile.  It was ten years before he visited KGB headquarters and he was given little real work. Philby was under virtual house arrest, guarded, with all visitors screened by the KGB. Mikhail Lyubimov, his closest KGB contact, explained that this was to guard his safety, but later admitted that the real reason was the KGB's fear that Philby would return to London.  Philby occupied himself by writing his memoirs, published in the UK in 1968 under the title My Silent War, not published in the Soviet Union until 1980.  He continued to read  The Times, which was not generally available in the USSR, listened to the BBC World Service, and was an avid follower of cricket.  The award of the OBE was cancelled and annulled in 1965.  Though Philby claimed publicly in January 1988 that he did not regret his decisions and that he missed nothing about England except some friends, Colman's mustard, and Lea &amp; Perrins Worcestershire sauce,  his wife Rufina Ivanovna Pukhova later described Philby as \"disappointed in many ways\" by what he found in Moscow. \"He saw people suffering too much,\" but he consoled himself by arguing that \"the ideals were right but the way they were carried out was wrong. The fault lay with the people in charge.\" Pukhova said, \"he was struck by disappointment, brought to tears. He said, 'Why do old people live so badly here? After all, they won the war.'\"  Philby drank heavily and suffered from loneliness and depression; according to Rufina, he had attempted suicide by slashing his wrists sometime in the 1960s.   Philby died of heart failure in Moscow in 1988. He was given a hero's funeral, and posthumously awarded numerous medals by the USSR.  Philby's comments  In a 1981 lecture to the East German security service, Stasi, Philby attributed the failure of the British Secret Service to unmask him as due in great part to the British class system—it was inconceivable that one \"born into the ruling class of the British Empire\"  would be a traitor—to the amateurish and incompetent nature of the organisation, and to so many in MI6 having so much to lose if he was proven to be a spy. He had the policy of never confessing—a document in his own handwriting was dismissed as a forgery. He said that at the time of his recruitment as a spy there were no prospects of his being useful; he was instructed to make his way into the Secret Service, which took years, starting with journalism and building up contacts in the establishment. He said that there was no discipline there; he made friends with the archivist, which enabled him for years to take secret documents home, many unrelated to his own work,  and bring them back the next day; his handler took and photographed them overnight. When he was instructed to remove and replace his boss, Felix Cowgill, he asked if it was proposed \"to shoot him or something\", but was told to use bureaucratic intrigue. He said \"It was a very dirty story—but after all our work does imply getting dirty hands from time to time but we do it for a cause that is not dirty in any way\". Commenting on his betrayal of the operation to secretly send thousands of Albanians back into their country to overthrow the communist regime, which led to many being killed, Philby tries to turn it to his credit, even saying that he helped prevent another World War.  Personal life  In February 1934, Philby married Litzi Friedmann, an Austrian communist whom he had met in Vienna. They subsequently moved to Britain; however, as Philby assumed the role of a fascist sympathiser, they separated. Litzi lived in Paris before returning to London for the duration of the war; she ultimately settled in East Germany.   While working as a correspondent in Spain, Philby began an affair with Frances Doble, Lady Lindsay-Hogg, an actress and aristocratic divorcée who was an admirer of Franco and Hitler. They travelled together in Spain through August 1939.   In 1940 he began living with Aileen Furse in London. Their first three children, Josephine, John and Tommy Philby, were born between 1941 and 1944. In 1946, Philby finally arranged a formal divorce from Litzi. He and Aileen were married on 25 September 1946, while Aileen was pregnant with their fourth child, Miranda. Their fifth child, Harry George, was born in 1950.  Aileen suffered from psychiatric problems, which grew more severe during the period of poverty and suspicion following the flight of Burgess and Maclean. She lived separately from Philby, settling with their children in Crowborough while he lived first in London and later in Beirut. Weakened by alcoholism and frequent sickness, she died of influenza in December 1957.   In 1956, Philby began an affair with Eleanor Brewer, the wife of New York Times correspondent Sam Pope Brewer. Following Eleanor's divorce, the two married in January 1959. After Philby defected to the Soviet Union in 1963, Eleanor visited him in Moscow. In November 1964, after a visit to the United States, she returned, intending to settle permanently. In her absence, Philby had begun an affair with Donald Maclean's wife, Melinda. He and Eleanor divorced and she departed Moscow in May 1965.  Melinda left Maclean and briefly lived with Philby in Moscow. In 1968 she returned to Maclean.  In 1971, Philby married Rufina Ivanovna Pukhova, a Russo-Polish woman twenty years his junior, with whom he lived until his death in 1988.[http://www.oxforddnb.com/view/article/40699 Philby, Harold Adrian Russell Kim, (1912–1988), spy] by Nigel Clive in Dictionary of National Biography online (accessed 11 November 2007)  In popular culture  Fiction based on actual events  * Philby, Burgess and MacLean a Granada TV drama written by Ian Curteis in 1977, covers the period of the late 1940s, when British intelligence investigated Maclean until 1955 when the British government cleared Philby because it did not have enough evidence to convict him. * Philby has a key role in Mike Ripley's short story Gold Sword published in 'John Creasey's Crime Collection 1990' which was chosen as BBC Radio 4's Afternoon Story to mark the 50th anniversary of D-Day on 6 June 1994. * Cambridge Spies, a 2003 four-part BBC drama, recounts the lives of Philby, Burgess, Blunt and Maclean from their Cambridge days in the 1930s through the defection of Burgess and Maclean in 1951. Philby is played by Toby Stephens. * German author Barbara Honigmann's Ein Kapitel aus meinem Leben tells the history of Philby's first wife, Litzi, from the perspective of her daughter.   Speculative fiction  * One of the earliest appearances of Philby as a character in fiction was in the 1974 Gentleman Traitor by Alan Williams, in which Philby goes back to working for British intelligence in the 1970s. * In the 1980 British television film Closing Ranks, a false Soviet defector sent to sow confusion and distrust in British intelligence is unmasked and returned to the Soviet Union. In the final scene, it is revealed that the key information was provided by Philby in Moscow, where he is still working for British intelligence. * In the 1981 Ted Allbeury novel The Other Side of Silence, an elderly Philby arouses suspicion when he states his desire to return to England. * The 1984 Frederick Forsyth novel The Fourth Protocol features an elderly Philby's involvement in a plot to trigger a nuclear explosion in Britain. In the novel, Philby is a much more influential and connected figure in his Moscow exile than he apparently was in reality.  ** In the 1987 adaptation of the novel, also named The Fourth Protocol, Philby is portrayed by Michael Bilton. In contradiction of historical fact, he is murdered by the KGB in the opening scene. * In the 2000 Doctor Who novel Endgame, the Doctor travels to London in 1951 and matches wits with Philby and the rest of the Cambridge Five. * The Tim Powers novel Declare (2001) is partly based on unexplained aspects of Philby's life, providing a supernatural context for his behaviour.  * The Robert Littell novel The Company (2002) features Philby as a confidant of former CIA Counter-Intelligence chief James Angleton.  The book was adapted for the 2007 TNT television three-part series The Company, produced by Ridley Scott, Tony Scott and John Calley; Philby is portrayed by Tom Hollander. * Philby appears as one of the central antagonists in William F. Buckley Jr's 2004 novel Last Call for Blackford Oakes.  * The 2013 Jefferson Flanders novel The North Building explores the role of Philby in passing American military secrets to the Soviets during the Korean War.   In alternative histories  * The 2003 novel Fox at the Front by Douglas Niles and Michael Dobson depicts Philby selling secrets to the Soviet Union during the alternate Battle of the Bulge where German Field Marshal Erwin Rommel turns on the Nazis and assists the Allies in capturing all of Berlin. Before he can sell the secret of the atomic bomb to the Soviet Union, he is discovered by the British and is killed by members of MI5 who stage his death as a heart attack. * The 2005 John Birmingham novel Designated Targets features a cameo of Philby, under orders from Moscow to assist Otto Skorzeny's mission to assassinate Winston Churchill.  Fictional characters based on Philby  * Graham Greene, Philby's close friend, wrote the screenplay for the 1949 film The Third Man using Philby as a model for Harry Lime, one of the characters. * The 1971 BBC television drama Traitor starred John Le Mesurier as Adrian Harris, a character loosely based on Kim Philby. * John le Carré (David Cornwell) depicts a Philby-like  upper-class traitor in the 1974 novel Tinker Tailor Soldier Spy. The novel has been adapted as a 1979 TV miniseries, a 2011 film, and radio dramatisations in 1988 and 2009. In real life, Philby had ended le Carré's intelligence officer career by betraying him to the Russians.  * In the 1977 film The Jigsaw Man by Dorothea Bennett and the 1983 film adaption of it, The Jigsaw Man, \"Sir Philip Kimberly\" is a former head of the British Secret Service who defected to Russia, who is then given plastic surgery and sent back to Britain on a spy mission. * Under the cover name of 'Mowgli' Philby appears in Duncan Kyle's World War II thriller Black Camelot published in 1978. * John Banville's 1997 novel The Untouchable is a fictionalised biography of Blunt that includes a character based on Philby. * Philby was the inspiration for the character of British intelligence officer Archibald \"Arch\" Cummings in the 2005 film The Good Shepherd. Cummings is played by Billy Crudup. * The 2005 film A Different Loyalty is an unattributed account taken from Eleanor Philby's book, Kim Philby: The Spy I Loved. The film recounts Philby's love affair and marriage to Eleanor Brewer during his time in Beirut and his eventual defection to the Soviet Union in late January 1963, though the characters based on Philby and Brewer have different names.  In music  * In the song \"Philby\", from the Top Priority album (1979), Rory Gallagher draws parallels between his life on the road and a spy's in a foreign country. Sample lyrics : \"Now ain't it strange that I feel like Philby / There's a stranger in my soul / I'm lost in transit in a lonesome city / I can't come in from the cold.\"  * The Philby affair is mentioned in the Simple Minds song \"Up on the Catwalk\" from their sixth studio album Sparkle in the Rain. The lyric goes \"Up on the catwalk, and you dress in waistcoats / And got brillantino, and friends of Kim Philby.\"  * The song \"Angleton\", by Russian indie rock band Biting Elbows, focuses largely on Philby's role as a spy from the perspective of James Jesus Angleton. * The song by 'Traitor' by Renegade Soundwave from their album Soundclash mentions \"Philby, Burgess and Maclean\" with the lyrics \"snitch, grass, informer, you're a traitor; you can't be trusted and left alone\".  Other  * The 1993 Joseph Brodsky essay Collector's Item (published in his 1995 book On Grief and Reason) contains a conjectured description of Philby's career, as well as speculations into his motivations and general thoughts on espionage and politics. The title of the essay refers to a postal stamp commemorating Philby issued in the Soviet Union in the late 1980s. Guy Francis de Moncy Burgess (16 April 1911 – 30 August 1963) was a British radio producer, intelligence officer and Foreign Office official. He was a member of the Cambridge Five spy ring that passed Western secrets to the Soviets before and during the Cold War.  Burgess, Donald Maclean, Anthony Blunt and Kim Philby were the four confirmed members of the Cambridge Five, a spy ring that contributed to the Communist cause with the transmission of secret Foreign Office and MI5 documents that described NATO military and Marshall Plan economic strategy.  Early life and education  Burgess was born in Devonport, Devon, England, the son of Evelyn Mary (Gillman) and Malcolm Kingsford de Moncy Burgess (1881-1925), a naval officer.  The Burgesses were of Huguenot origin, having changed the name from Bourgeois, and had been successful bankers in Kent during the Napoleonic wars.  Although Burgess attended the Royal Naval College, Dartmouth, he failed to follow in his father's footsteps. Like most of the Cambridge Five, he came from a privileged background, attending Lockers Park School and Eton College, and eventually attending Trinity College, Cambridge. He joined the conservative Pitt Club  but was also recruited into the Cambridge Apostles, a secret, elite debating society at the University, whose members at the time were largely Marxist and included Anthony Blunt. Burgess, together with Blunt, Maclean and Philby, was recruited by the Comintern.  Life and career  Upon coming down from Cambridge, Burgess initially was personal assistant to the Conservative MP Captain \"Jack\" Macnamara. He then worked for the BBC as a Talks Assistant, producing a wide variety of programmes. As war approached he was recruited into Section D of MI6 as a propaganda specialist, then returned to the BBC, eventually becoming the producer of The Week in Westminster, the flagship programme covering Parliamentary activity – wherein he was able to further his acquaintance with important politicians.   In London Burgess resided at Chester Square and later 5, Bentinck Street, for some time with Anthony Blunt and Teresa Mayor, later Lady Rothschild. The house, which belonged to Lord Rothschild, was a famous centre of bohemian life during the Blitz. In the spring of 1944 Burgess was recruited into the News Department of the Foreign Office by Alexander Cadogan, Permanent Under-Secretary for Foreign Affairs, a position that gave him access to Foreign Office communications. When the Labour Government took office in the following year, Burgess became an assistant to Hector McNeil, Minister of State in the Foreign Office. As McNeil's assistant, Burgess was able to transmit top secret Foreign Office documents to the KGB regularly, secreting them out at night to be photographed by his controller and returning them to McNeil's desk in the morning.  Burgess later worked in the Foreign Office's Far Eastern section and in the Washington Embassy. During the Marshall Plan negotiations, Burgess and Maclean provided information to the Soviets about the negotiations and the implications of the agreements. Just before going to Washington, he fell down a marble staircase in the Royal Automobile Club on Pall Mall during a fight with a colleague and suffered multiple skull fractures, injuries from which he never fully recovered. While assigned to the British embassy in Washington, Burgess lived with Kim Philby in a basement flat, perhaps so that Philby could keep an eye on him.  In 1951 Burgess accompanied Donald Maclean in his escape to Moscow after Maclean fell under suspicion of espionage, even though Burgess himself was not under suspicion. The escape was arranged by their controller, Yuri Modin. There is some debate as to why Burgess was asked to accompany Maclean, and whether he was misled about the prospect for him returning to England. Much of his time in the Soviet Union was spent in sanitoria on the Black Sea.  Unlike Maclean, who became a respected Soviet citizen in exile and lived until 1983, Burgess did not take to life in the Soviet Union. He could not pursue his homosexuality as he had become accustomed, though he lived openly with a lover.  Unlike Maclean he never bothered to learn Russian, furnished his flat from London, and continued to order his clothes from his Savile Row tailor.  He died aged 52, having become ever more dependent on alcohol in his last years. His remains were interred in the family plot at St John the Evangelist Churchyard, West Meon, Hampshire.  In the memories of his contemporaries  Harold Acton, in More Memoirs of an Aesthete, recalls meeting him at the beginning of World War II: \"The most vindictive of these guys was Guy Burgess, later to win notoriety as one of the 'Missing Diplomats', though nobody could have been less diplomatic\".   Legacy  Anthony Blunt, in his memoir released to the public on 22 July 2009, 26 years after his death in 1983 and 46 years after Burgess's death in 1963, described Burgess as \"an extraordinarily persuasive person\" who talked him (Blunt)  into joining the spy ring.   Although they were both homosexual and even shared a house together, Blunt said that there was \"nothing sexual\" in their relationship.  Philby came under suspicion of being the \"Third Man\" who had tipped off Maclean and Burgess, especially since he and Burgess were known to be close friends and had shared a house in Washington. He was thus forced to resign from MI6 but was cleared by an official inquiry into the matter. Philby later defected to Russia in 1963. In an interview with spy writer and journalist Phillip Knightley held shortly before his death, Philby himself blamed his exposure on \"that bloody man Burgess\", who had effectively ruined his chances of becoming head of MI6 itself.  Genrikh Borovik, author of The Philby Files, says that Burgess was actually tricked by the KGB into accompanying Maclean to Moscow on the basis that he would be able to return to Britain later, but never did.  It later emerged that in 1959, when a British delegation led by Prime Minister Harold Macmillan was visiting Moscow, Burgess contacted members of the group asking permission to return to Britain and visit his dying mother. Informed by telegram, the then-Attorney General Sir Reginald Manningham-Buller admitted that there was insufficient evidence to arrest and prosecute Burgess for treason. The British delegates withheld this from Burgess and his mother died without seeing her son again. Macmillan also encouraged the leaking of misinformation to prevent Maclean from visiting Britain on a return trip from Cuba.  Nonetheless, after his death, Burgess's body was returned to England and was interred in his mother's grave in West Meon in Hampshire. His name is inscribed in a discreet way rather than on the main headstone.  In January 2014, Channel 4 News broadcast what at the time was thought to be the only known recording of Burgess.  In this he recalled a 1938 meeting with Winston Churchill. It was the first time the material, recorded in 1951 shortly before his defection to the Soviet Union, had been heard publicly, after it was released to City University London researchers by the US government.   Then in February 2015, the BBC programme Newsnight broadcast hitherto unknown footage of an interview with Burgess, filmed in January 1959 by Erik Durschmied. The film was made for the Canadian Broadcasting Corporation's programme \"Close Up\" and due to the archive of the programme being filed under the name of Dame Edith Sitwell, the programme's other invitee, the film went forgotten in a vault until after 2011.    Chronology  * 1911: Born in Devonport, England * Studies at Eton College * Studies at Dartmouth Royal Naval College * Studies at Trinity College, Cambridge. Meets the rest of the spy ring and becomes a supporter of the Communist Party of Great Britain. Is inducted into the Cambridge Apostles, a secret society that at this time is strongly Marxist * 1934: To hide his sympathies, he renounces communism and joins the Anglo-German Fellowship, a pro-Nazi group. Philby is also a member * 1936–1944: works for the BBC. Produces the programme The Week in Westminster * 1939–1941: Seconded to MI5 to work on war propaganda * 1944: Joins the Foreign Office news department * 1947: Private Secretary to Foreign Office Minister of State * 1948: Foreign Office Far Eastern Department * 1950: Sent to Washington, D.C. as a second secretary of the British Embassy * 1951: Meets Michael Straight in D.C.; Kim Philby warns Burgess that Maclean is under suspicion and will most likely be unmasked; Burgess and Maclean flee and go into hiding * 1956: They appear in Moscow * 1958: Meets Coral Browne in Moscow, the basis for Alan Bennett's play, An Englishman Abroad * 1959: Is interviewed in Moscow on film by the Canadian Broadcasting Corporation * 1963: Dies in Moscow in the same year that Philby defects to the Soviet Union  Works based on his life   * Another Country, a play by Julian Mitchell. * Another Country, a film based on the play, was directed by Marek Kanievska. Made in 1984, it starred Rupert Everett as Guy Bennett, a character based on Burgess. Colin Firth played Tommy Judd. Cary Elwes played Burgess' lover, James Harcourt. * Philby, Burgess And Maclean, a 1977 television film made by Granada Television for the ITV network about the Burgess-Maclean defection and the subsequent investigation of Kim Philby. * An Englishman Abroad, a 1983 television play by Alan Bennett starring Alan Bates as Guy Burgess, subsequently adapted for the stage by Bennett as the first act of Single Spies. * Cambridge Spies, a four-part BBC TV series, starring Tom Hollander as Burgess. * A Morning With Guy Burgess, a dramatic biography by John Morrison, premièred in 2011 by Black Pig Theatre at the Courtyard, Hoxton, London N1 * The Turning Point by Michael Dobbs explores a little-known 1938 meeting (mentioned above) between Burgess and Winston Churchill. The play was brought to life onstage in a live TV broadcast by Theatre LiveSky Arts with Benedict Cumberbatch portraying Burgess and Matthew Marsh as Churchill.  * Blunt: The Fourth Man, a TV Movie starring Ian Richardson as Sir Anthony Blunt and Anthony Hopkins as Guy Burgess showing the events that took place during MacLean's &amp; Burgess' defection to Moscow.  Biographies, etc.  * Deacon, Richard (1986), The Cambridge Apostles: a History of Cambridge University's Elite Intellectual Secret Society. * Barrie Penrose &amp; Simon Freeman (1987), Conspiracy of Silence: The Secret Life of Anthony Blunt, New York. * Newton, Verne W. (1991), The Cambridge Spies: the Untold Story of Maclean, Philby, and Burgess in America. * Modin, Yuri (1994),  My Five Cambridge Friends. * Carter, Miranda (2001), Anthony Blunt: His Lives. * Kim Philby, My Silent War (2002), Modern Library [Random House] : New York. ISBN 0-375-75983-2. * Holzman, Michael (2012), Guy Burgess:  Revolutionary in an Old School Tie. * Carlston, Erin (2013), Double Agents. Espionage, Literature, and Liminal Citizens. New York, Columbia University Press. * Lownie, Andrew (2015), Stalin's Englshman : The Lives of Guy Burgess, London : Hodder and Stoughton. ISBN 978-1473627369. * Purvis, Stewart &amp; Hulbert, Jeff (2016), Guy Burgess: The Spy Who Knew Everyone, London : Biteback Publishing. ISBN 9781849549134 Trinity College is a constituent college of the University of Cambridge in England. With around 600 undergraduates, 300 graduates, and over 180 fellows, it is the largest college in either of the Oxbridge universities by number of undergraduates. By combined student numbers, it is second to Homerton College, Cambridge.   Members of Trinity have won 32 Nobel Prizes  out of the 91 won by members of Cambridge University, the highest number of any college. Five Fields Medals in mathematics were won by members of the college (of the six awarded to members of British universities) and one Abel Prize was won.  Trinity alumni include six British prime ministers (all Tory or Whig/Liberal), physicists Isaac Newton, James Clerk Maxwell, Ernest Rutherford and Niels Bohr, the poet Lord Byron, philosophers Ludwig Wittgenstein and Bertrand Russell (whom it expelled before reaccepting), and Soviet spies Kim Philby, Guy Burgess, and Anthony Blunt.  Two members of the British Royal Family have studied at Trinity and been awarded degrees as a result: Prince William of Gloucester and Edinburgh, who gained an MA in 1790, and Prince Charles, who was awarded a lower second class BA in 1970. Other British Royal family members have studied there without obtaining degrees, including King Edward VII, King George VI, and Prince Henry, Duke of Gloucester.  Trinity has many college societies, including the Trinity Mathematical Society, which is the oldest mathematical university society in the United Kingdom, and the First and Third Trinity Boat Club, its rowing club, which gives its name to the college's May Ball. Along with Christ's, Jesus, King's and St John's colleges, it has also provided several of the well known members of the Apostles, an intellectual secret society.  In 1848, Trinity hosted the meeting at which Cambridge undergraduates representing private schools such as Westminster drew up the first formal rules of football, known as the Cambridge Rules.   Trinity's sister college in Oxford is Christ Church. Like that college, Trinity has been linked with Westminster School since the school's re-foundation in 1560, and its Master is an ex officio governor of the school.   History  Foundation  The college was founded by Henry VIII in 1546, from the merger of two existing colleges: Michaelhouse (founded by Hervey de Stanton in 1324), and King's Hall (established by Edward II in 1317 and refounded by Edward III in 1337). At the time, Henry had been seizing church lands from abbeys and monasteries. The universities of Oxford and Cambridge, being both religious institutions and quite rich, expected to be next in line. The King duly passed an Act of Parliament that allowed him to suppress (and confiscate the property of) any college he wished. The universities used their contacts to plead with his sixth wife, Catherine Parr. The Queen persuaded her husband not to close them down, but to create a new college. The king did not want to use royal funds, so he instead combined two colleges (King's Hall and Michaelhouse) and seven hostels (Physwick (formerly part of Gonville and Caius College, Cambridge), Gregory's, Ovyng's, Catherine's, Garratt, Margaret's, and Tyler's) to form Trinity.  Nevile's expansion  Contrary to popular belief, the monastic lands granted by Henry VIII were not on their own sufficient to ensure Trinity's eventual rise. In terms of architecture and royal association, it was not until the Mastership of Thomas Nevile (1593–1615) that Trinity assumed both its spaciousness and its courtly association with the governing class that distinguished it since the Civil War. In its infancy Trinity had owed a great deal to its neighbouring college of St John's: in the exaggerated words of Roger Ascham Trinity was little more than a colonia deducta.  Its first four Masters were educated at St John's, and it took until around 1575 for the two colleges' application numbers to draw even, a position in which they have remained since the Civil War. In terms of wealth, Trinity's current fortunes belie prior fluctuations; Nevile's building campaign drove the college into debt from which it only surfaced in the 1640s, and the Mastership of Richard Bentley adversely affected applications and finances. Bentley himself was notorious for the construction of a hugely expensive staircase in the Master's Lodge, and for his repeated refusals to step down despite pleas from the Fellows.  Most of the Trinity's major buildings date from the 16th and 17th centuries. Thomas Nevile, who became Master of Trinity in 1593, rebuilt and redesigned much of the college. This work included the enlargement and completion of Great Court, and the construction of Nevile's Court between Great Court and the river Cam. Nevile's Court was completed in the late 17th century when the Wren Library, designed by Sir Christopher Wren, was built.  Modern day  In the 20th century, Trinity College, St John's College and King's College were for decades the main recruiting grounds for the Cambridge Apostles, an elite, intellectual secret society.  In 2011, the John Templeton Foundation awarded Trinity College's Master, the astrophysicist Martin Rees, its controversial million-pound  Templeton Prize, for \"affirming life's spiritual dimension\".  Trinity is the richest Oxbridge college,  with a landholding alone worth £800 million.   Trinity is sometimes suggested to be the second, third or fourth wealthiest landowner in the UK (or in England) — after the Crown Estate, the National Trust and the Church of England. (A variant of this legend is repeated in the Tom Sharpe novel Porterhouse Blue.) In 2005, Trinity's annual rental income from its properties was reported to be in excess of £20 million.  Trinity owns: * 3400 acres (14 km2) housing facilities at the Port of Felixstowe, Britain's busiest container port * the Cambridge Science Park  * the O2 Arena in London (formerly the Millennium Dome)  * a 50% stake in a portfolio of Tesco supermarket stores, worth £440 million  Legends  Lord Byron purportedly kept a pet bear whilst living in the college.   A second legend is that it is possible to walk from Cambridge to Oxford on land solely owned by Trinity. Several varieties of this legend exist – others refer to the combined land of Trinity College, Cambridge and Trinity College, Oxford, of Trinity College, Cambridge and Christ Church, Oxford, or St John's College, Oxford and St John's College, Cambridge. All are almost certainly false.  Trinity is often cited as the inventor of an English, less sweet, version of crème brûlée, known as \"Trinity burnt cream\",  although the college chefs have sometimes been known to refer to it as \"Trinity Creme Brulee\".  The burnt-cream, first introduced at Trinity High Table in 1879, in fact differs quite markedly from French recipes, the earliest of which is from 1691.  Trinity in Camberwell  Trinity College has a long-standing relationship with the Parish of St George's, Camberwell,  in South London. Students from the College have helped to run holiday schemes for children from the parish since 1966. The relationship was formalised in 1979 with the establishment of Trinity in Camberwell as a registered charity (Charity Commission no. 279447)  which exists ‘to provide, promote, assist and encourage the advancement of education and relief of need and other charitable objects for the benefit of the community in the Parish of St George's, Camberwell, and the neighbourhood thereof.’  Buildings and grounds  Great Gate  The Great Gate is the main entrance to the college, leading to the Great Court. A statue of the college founder, Henry VIII, stands in a niche above the doorway. In his hand he holds a table leg instead of the original sword and myths abound as to how the switch was carried out and by whom. In 1704, the University's first astronomical observatory was built on top of the gatehouse. Beneath the founder's statue are the coats of arms of Edward III, the founder of King's Hall, and those of his five sons who survived to maturity, as well as William of Hatfield, whose shield is blank as he died as an infant, before being granted arms.    Great Court  Great Court (built principally 1599–1608) was the brainchild of Thomas Nevile, who demolished several existing buildings on this site, including almost the entirety of the former college of Michaelhouse. The sole remaining building of Michaelhouse was replaced by the then current Kitchens (designed by James Essex) in 1770–1775. The Master's Lodge is the official residence of the Sovereign when in Cambridge.  King's Hostel (built 1377–1416) is located to the north of Great Court, behind the Clock Tower, this is (along with the King's Gate), the sole remaining building from King's Hall.  Bishop's Hostel (built 1671, Robert Minchin): A detached building to the southwest of Great Court, and named after John Hacket, Bishop of Lichfield and Coventry. Additional buildings were built in 1878 by Arthur Blomfield.  Nevile's Court  Nevile's Court (built 1614) is located between Great Court and the river, this court was created by a bequest by the college's master, Thomas Nevile, originally two-thirds of its current length and without the Wren Library. The appearance of the upper floor was remodelled slightly two centuries later. Cloisters run around the court, providing sheltered walkways from the rear of Great Hall to the college library and reading room as well as the Wren Library and New Court.  Wren Library (built 1676–1695, Christopher Wren) is located at the west end of Nevile's Court, the Wren is one of Cambridge's most famous and well-endowed libraries. Among its notable possessions are two of Shakespeare's First Folios, a 14th-century manuscript of The Vision of Piers Plowman, and letters written by Sir Isaac Newton. The Eadwine Psalter belongs to Trinity but is kept by Cambridge University Library. Below the building are the pleasant Wren Library Cloisters, where students may enjoy a fine view of the Great Hall in front of them, and the river and Backs directly behind.  New Court  New Court (or King's Court; built 1825, William Wilkins) is located to the south of Nevile's Court, and built in Tudor-Gothic style, this court is notable for the large tree in the centre. A myth is sometimes circulated that this was the tree from which the apple dropped onto Isaac Newton; in fact, Newton was at Woolsthorpe when he deduced his theory of gravity – and the tree is a chestnut tree.  Many other \"New Courts\" in the colleges were built at this time to accommodate the new influx of students.  Other courts  Whewell's Court (actually two courts with a third in between, built 1860 &amp; 1868, architect Anthony Salvin)  is located across the street from Great Court, and was entirely paid for by William Whewell, the Master of the college from 1841 until his death in 1866. The north range was later remodelled by W.D. Caroe.  Angel Court (built 1957–1959, H. C. Husband) is located between Great Court and Trinity Street, and is used along with the Wolfson Building for accommodating first year students.  The Wolfson Building (built 1968–1972, Architects Co-Partnership) is located to the south of Whewell's Court, on top of a podium above shops, this building resembles a brick-clad ziggurat, and is used exclusively for first-year accommodation. Having been renovated during the academic year 2005–06, rooms are now almost all en-suite.  Blue Boar Court (built 1989, MJP Architects and Wright) is located to the south of the Wolfson Building, on top of podium a floor up from ground level, and including the upper floors of several surrounding Georgian buildings on Trinity Street, Green Street and Sidney Street.  Burrell's Field (built 1995, MJP Architects)  is located on a site to the west of the main College buildings, opposite the Cambridge University Library.  There are also College rooms above shops in Bridge Street and Jesus Lane, behind Whewell's Court, and graduate accommodation in Portugal Street and other roads around Cambridge.  Chapel  Trinity College Chapel dates from the mid 16th Century and is Grade I listed.   There are a number of memorials to former Fellows of Trinity within the Chapel, including statues, brasses, and two memorials to graduates and Fellows who died during the World Wars.   The Chapel is a performance space for the college choir which comprises around 30 Choral Scholars and 2 Organ Scholars, all of whom are ordinarily undergraduate members of the college.   Grounds  The Fellows’ Garden is located on the west side of Queen's Road, opposite the drive that leads to the Backs.  The Fellows’ Bowling Green is located behind the Master's Lodge it is the site for many of the tutors' garden parties in the summer months, while the Master's Garden is located behind the Master's Lodge.  The Old Fields are located on the western side of Grange Road, next to Burrell's Field. It currently houses the college's gym, changing rooms, squash courts, badminton courts, rugby, hockey and football pitches along with tennis and netball courts.  Gallery  File:TrinityCollegeCamGreatGate.jpg|Great Gate File:Clock Tower, Great Court, Trinity College, Cambridge.jpg|Clock Tower File:cmglee_Cambridge_Trinity_College_New_Court_doorway.jpg|New Court after 2016 refurbishment File:River Cam green.JPG|The River Cam as it flows past the back of Trinity, Trinity Bridge is visible and the punt house is to the right of the moored punts File:cmglee_Cambridge_Trinity_College_avenue.jpg|The Avenue of lime and cherry trees, and wrought iron gate to Queen's Road viewed from the Backs File:Burrell's_Field_main_entrance.jpg|Main entrance to Burrell's Field File:ISH WC Trinity2.jpg|Fellows’ Bowling Green, with the oldest building in the college (originally part of King's Hall) in the background File:Cmglee_Cambridge_Trinity_College_Blue_Boar_Court.jpg|Blue Boar Court, with the Wolfson Building in the background.  Academic profile  Since 1997, the college has always come at least eighth in the Tompkins Table, which ranks the 29 Cambridge colleges according to the academic performance of their undergraduates, and on five occasions it has been in first place. Its average position has been third. On this benchmark, it has been behind Emmanuel (average second place) and above Christ's (average fourth place). In 2011, 37% of Trinity undergraduates achieved Firsts – a recent record among Cambridge colleges.  The College improved on this in 2012, when 37.9% of its undergraduates were awarded Firsts.  In 2013, the College topped the Table for the third successive year. Its undergraduates achieved a new record with the highest proportion of first degree passes ever achieved at 41.7 per cent, eight percentage points ahead of second-placed Pembroke.   Admissions  Currently, about 50% of Trinity's undergraduates attended independent schools. In 2006 it accepted a smaller proportion of students from state schools (39%) than any other Cambridge college, and on a rolling three-year average it has admitted a smaller proportion of state school pupils (42%) than any other college at either Cambridge or Oxford.    According to the Good Schools Guide, about 7% of British school-age students attend private schools, although this figure refers to students in all school years - a higher proportion attend private schools in their final two years before university. Trinity states that it disregards what type of school its applicants attend, and accepts students solely on the basis of their academic prospects.  Trinity admitted its first woman graduate student in 1976 and its first woman undergraduate in 1978, and appointed its first female fellow in 1977.   Scholarships and prizes  The Scholars, together with the Master and Fellows, make up the Foundation of the College.  In order of seniority:  Research Scholars receive funding for graduate studies. Typically one must graduate in the top ten percent of one's class and continue for graduate study at Trinity. They are given first preference in the assignment of college rooms and number approximately 25.  The Senior Scholars consist of those who attain a degree with First Class honours or higher in any year after the first of an undergraduate tripos, but also, those who obtain a high First class marks in their first year. The college pays them a stipend of £250 a year and allows them to choose rooms directly following the research scholars. There are around 40 senior scholars at any one time.  The Junior Scholars are those who are not senior scholars but still obtained a First in their first year. Their stipend is £175 a year. They are given preference in the room ballot over 2nd years who are not scholars.  These scholarships are tenable for the academic year following that in which the result was achieved. If a scholarship is awarded but the student does not continue at Trinity then only a quarter of the stipend is given. However all students who achieve a First are awarded an additional £240 prize upon announcement of the results.  All final year undergraduates who achieve first-class honours in their final exams are offered full financial support to read for a Master's degree at Cambridge (this funding is also sometimes available for students who achieved high second-class honours marks). Other support is available for PhD degrees. The College also offers a number of other bursaries and studentships open to external applicants. The right to walk on the grass in the college courts is exclusive to Fellows of the college and their guests. Scholars do, however, have the right to walk on the Scholars' Lawn, but only in full academic dress.  Traditions  Great Court Run  The Great Court Run is an attempt to run round the 400-yard perimeter of Great Court (approximately 367m), in the 43 seconds of the clock striking twelve. Students traditionally attempt to complete the circuit on the day of the Matriculation Dinner. It is a rather difficult challenge: one needs to be a fine sprinter to achieve it, but it is by no means necessary to be of Olympic standard, despite assertions made in the press.   It is widely believed that Sebastian Coe successfully completed the run when he beat Steve Cram in a charity race in October 1988. Coe's time on 29 October 1988 was reported by Norris McWhirter to have been 45.52 seconds, but it was actually 46.0 seconds (confirmed by the video tape), while Cram's was 46.3 seconds. The clock on that day took 44.4 seconds (i.e., a \"long\" time, probably two days after the last winding) and the video film confirms that Coe was some 12 metres short of his finish line when the fateful final stroke occurred. The television commentators were disingenuous in suggesting that the dying sounds of the bell could be included in the striking time, thereby allowing Coe's run to be claimed as successful.  One reason Olympic runners Cram and Coe found the challenge so tough is that they started at the middle of one side of the court, thereby having to negotiate four right-angle turns. In the days when students started at a corner, only three turns were needed.  The Great Court Run was portrayed in the film Chariots of Fire about the British Olympic runners of 1924.  Until the mid-1990s, the run was traditionally attempted by first-year students at midnight following their matriculation dinner. Following a number of accidents to undergraduates running on slippery cobbles, the college now organises a more formal Great Court Run, at 12 noon on the day of the matriculation dinner: the challenge is only open to freshers, many of whom compete in fancy dress.  Open-air concerts  One Sunday each June (the exact date depending on the university term), the College Choir perform a short concert immediately after the clock strikes noon. Known as Singing from the Towers, half of the choir sings from the top of the Great Gate, while the other half sings from the top of the Clock Tower approximately 60 metres away, giving a strong antiphonal effect. Midway through the concert, the Cambridge University Brass Ensemble performs from the top of the Queen's Tower.   Later that same day, the College Choir gives a second open-air concert, known as Singing on the River, where they perform madrigals and arrangements of popular songs from a raft of punts lit with lanterns or fairy lights on the river. For the finale, John Wilbye's madrigal Draw on, sweet night, the raft is unmoored and punted downstream to give a fade out effect. As a tradition, however, this latter concert dates back only to the mid-1980s, when the College Choir first acquired female members. In the years immediately before this, an annual concert on the river was given by the University Madrigal Society.   Mallard  Another tradition relates to an artificial duck known as the Mallard, which should reside in the rafters of the Great Hall. Students occasionally moved the duck from one rafter to another without permission from the college.   Chair legs and bicycles  The sceptre held by the statue of Henry VIII mounted above the medieval Great Gate was replaced with a chair leg as a prank many years ago. It has remained there to this day: when in the 1980s students exchanged the chair leg for a bicycle pump, the College replaced the chair leg.  For many years it was the custom for students to place a bicycle high in branches of the tree in the centre of New Court. Usually invisible except in winter, when the leaves had fallen, such bicycles tended to remain for several years before being removed by the authorities. The students then inserted another bicycle.   College rivalry  The college remains a great rival of St John's which is its main competitor in sports and academia (John's is situated next to Trinity). This has given rise to a number of anecdotes and myths. It is often cited as the reason why the older courts of Trinity generally have no J staircases, despite including other letters in alphabetical order. A far more likely reason remains the absence of the letter J in the Latin alphabet, and it should be noted that St John's College's older courts also lack J staircases. There are also two small muzzle-loading cannons on the bowling green pointing in the direction of John's, though this orientation may be coincidental. Another story sometimes told is that the reason that the clock in Trinity Great Court strikes each hour twice is that the fellows of St John's once complained about the noise it made.    Minor traditions  Trinity College undergraduate gowns are readily distinguished from the black gowns favoured by most other Cambridge colleges. They are instead dark blue with black facings. They are expected to be worn to formal events such as formal halls and also when an undergraduate sees the Dean of the College in a formal capacity.  Trinity students, along with those of King's and St John's, are the first to be presented to the Congregation of the Regent House at graduation.  College Grace  Each evening before dinner, grace is recited by the senior fellow presiding, as follows: * Benedic, Domine, nos et dona tua, (Bless us, Lord, and these gifts) * quae de largitate tua sumus sumpturi, (which, through your generosity, we are about to receive) * et concede, ut illis salubriter nutriti (and grant that we, wholesomely nourished by them,) * tibi debitum obsequium praestare valeamus, (may be able to offer you the service we owe) * per Christum Dominum nostrum. (through Christ our Lord)  If both of the two high tables are in use then the following antiphonal formula is prefixed to the main grace: * A. Oculi omnium in te sperant Domine: (The eyes of all are on you, Lord) * B. Et tu das escam illis in tempore. (and you give them their food, in due time.) * A. Aperis tu manum tuam, (You open your hand) * B. Et imples omne animal benedictione. (and bestow upon all living things your blessing.)    Following the meal, the simple formula Benedicto benedicatur is pronounced.   People associated with the college  Notable fellows and alumni  The Parish of the Ascension Burial Ground in Cambridge contains the graves of 27 Fellows of Trinity College, Cambridge most of whom are also commemorated in Trinity College Chapel with brass plaques.  Nobel Prize winners  Fields Medallists  Trinity College also has claim to a number of winners of the Fields Medal (commonly regarded as the mathematical equivalent of the Nobel Prize ): Michael Atiyah, Alan Baker, Richard Borcherds and Timothy Gowers.  Atiyah is also an Abel Prize winner.  British Prime Ministers  Other Trinity politicians include Robert Devereux, 2nd Earl of Essex, courtier of Elizabeth I; William Waddington, Prime Minister of France; Erskine Hamilton Childers, President of Ireland; Jawaharlal Nehru, the first and longest serving Prime Minister of India; Rajiv Gandhi, Prime Minister of India; Lee Hsien Loong, Prime Minister of Singapore; Samir Rifai, Prime Minister of Jordan and William Whitelaw, 1st Viscount Whitelaw, Lady Thatcher's Home Secretary and subsequent Deputy Prime Minister.  Masters  The head of Trinity College is called the Master.  The role is a Crown appointment, formerly made by the Monarch on the advice of the Prime Minister.  Nowadays the Fellows of the College choose the new Master,  and the Royal role is only nominal.  The first Master, John Redman, was appointed in 1546. All six Masters subsequent to R.A. Butler had been Fellows of the College prior to becoming Master (Honorary Fellow in the case of Martin Rees). The last master was Martin Rees, Baron Rees of Ludlow (until end of June 2012). He was succeeded by Sir Gregory Winter on 2 October 2012. The University of Cambridge (informally Cambridge University or simply Cambridge)The corporate title of the university is The Chancellor, Masters, and Scholars of the University of Cambridge. is a collegiate public research university in Cambridge, England. Founded in 1209, Cambridge is the second-oldest university in the English-speaking world and the world's fourth-oldest surviving university.  The university grew out of an association of scholars who left the University of Oxford after a dispute with the townspeople.  The two ancient universities share many common features and are often referred to jointly as \"Oxbridge\".  Cambridge is formed from a variety of institutions which include 31 constituent colleges and over 100 academic departments organised into six schools.  Cambridge University Press, a department of the university, is the world's oldest publishing house and the second-largest university press in the world.   The university also operates eight cultural and scientific museums, including the Fitzwilliam Museum, and a botanic garden. Cambridge's libraries hold a total of around 15 million books, eight million of which are in Cambridge University Library, a legal deposit library.  In the year ended 31 July 2015, the university had a total income of £1.64 billion, of which £398 million was from research grants and contracts.  The central university and colleges have a combined endowment of around £5.89 billion, the largest of any university outside the United States.  The university is closely linked with the development of the high-tech business cluster known as \"Silicon Fen\". It is a member of numerous associations and forms part of the \"golden triangle\" of leading English universities and Cambridge University Health Partners, an academic health science centre.   Cambridge is consistently ranked as one of the world's best universities.  The university has educated many notable alumni, including eminent mathematicians, scientists, politicians, lawyers, philosophers, writers, actors, and foreign Heads of State. Ninety-two Nobel laureates and ten Fields medalists have been affiliated with Cambridge as students, faculty, staff or alumni.   History  By the late 12th century, the Cambridge region already had a scholarly and ecclesiastical reputation, due to monks from the nearby bishopric church of Ely.  However, it was an incident at Oxford which is most likely to have formed the establishment of the university: two Oxford scholars were hanged by the town authorities for the death of a woman, without consulting the ecclesiastical authorities, who would normally take precedence (and pardon the scholars) in such a case, but were at that time in conflict with King John.  The University of Oxford went into suspension in protest, and most scholars moved to cities such as Paris, Reading, and Cambridge.  After the University of Oxford reformed several years later, enough scholars remained in Cambridge to form the nucleus of the new university.  In order to claim precedence, it is common for Cambridge to trace its founding to the 1231 charter from King Henry III granting it the right to discipline its own members (ius non-trahi extra) and an exemption from some taxes. (Oxford would not receive a similar enhancement until 1248.)    A bull in 1233 from Pope Gregory IX gave graduates from Cambridge the right to teach \"everywhere in Christendom\".  After Cambridge was described as a studium generale in a letter by Pope Nicholas IV in 1290, and confirmed as such in a bull by Pope John XXII in 1318,  it became common for researchers from other European medieval universities to visit Cambridge to study or to give lecture courses.  Foundation of the colleges  The colleges at the University of Cambridge were originally an incidental feature of the system. No college is as old as the university itself. The colleges were endowed fellowships of scholars. There were also institutions without endowments, called hostels. The hostels were gradually absorbed by the colleges over the centuries, but they have left some indicators of their time, such as the name of Garret Hostel Lane.   Hugh Balsham, Bishop of Ely, founded Peterhouse, Cambridge's first college, in 1284. Many colleges were founded during the fourteenth and fifteenth centuries, but colleges continued to be established throughout the centuries to modern times, although there was a gap of 204 years between the founding of Sidney Sussex in 1596 and Downing in 1800. The most recently established college is Robinson, built in the late 1970s. However, Homerton College only achieved full university college status in March 2010, making it the newest full college (it was previously an \"Approved Society\" affiliated with the university).  In medieval times, many colleges were founded so that their members would pray for the souls of the founders, and were often associated with chapels or abbeys. A change in the colleges' focus occurred in 1536 with the Dissolution of the Monasteries. King Henry VIII ordered the university to disband its Faculty of Canon Law  and to stop teaching \"scholastic philosophy\". In response, colleges changed their curricula away from canon law, and towards the classics, the Bible, and mathematics.  Nearly a century later, the university was at the centre of a Protestant schism. Many nobles, intellectuals and even commoners saw the ways of the Church of England as being too similar to the Catholic Church and that it was used by the crown to usurp the rightful powers of the counties. East Anglia was the centre of what became the Puritan movement and at Cambridge, it was particularly strong at Emmanuel, St Catharine's Hall, Sidney Sussex and Christ's College.  They produced many \"non-conformist\" graduates who greatly influenced, by social position or pulpit, the approximately 20,000 Puritans who left for New England and especially the Massachusetts Bay Colony during the Great Migration decade of the 1630s. Oliver Cromwell, Parliamentary commander during the English Civil War and head of the English Commonwealth (1649–1660), attended Sidney Sussex.  Mathematics and mathematical physics  Examination in mathematics was once compulsory for all undergraduates studying for the Bachelor of Arts degree, the main first degree at Cambridge in both arts and sciences. From the time of Isaac Newton in the later 17th century until the mid-19th century, the university maintained an especially strong emphasis on applied mathematics, particularly mathematical physics. The exam is known as a Tripos.  Students awarded first-class honours after completing the mathematics Tripos are termed wranglers, and the top student among them is the Senior Wrangler. The Cambridge Mathematical Tripos is competitive and has helped produce some of the most famous names in British science, including James Clerk Maxwell, Lord Kelvin and Lord Rayleigh.  However, some famous students, such as G. H. Hardy, disliked the system, feeling that people were too interested in accumulating marks in exams and not interested in the subject itself.  Pure mathematics at Cambridge in the 19th century had great achievements but also missed out on substantial developments in French and German mathematics. Pure mathematical research at Cambridge finally reached the highest international standard in the early 20th century, thanks above all to G. H. Hardy and his collaborator, J. E. Littlewood. In geometry, W. V. D. Hodge brought Cambridge into the international mainstream in the 1930s.  Although diversified in its research and teaching interests, Cambridge today maintains its strength in mathematics. Cambridge alumni have won six Fields Medals and one Abel Prize for mathematics, while individuals representing Cambridge have won four Fields Medals.   Modern period  After the Cambridge University Act formalised the organizational structure of the university, the study of many new subjects was introduced, such as theology, history and modern languages.  Resources necessary for new courses in the arts, architecture and archaeology were generously donated by Richard Fitzwilliam of Trinity College.  Between 1896 and 1902, Downing College sold part of its land to build the Downing Site, comprising new scientific laboratories for anatomy, genetics and Earth sciences.  During the same period, the New Museums Site was erected, including the Cavendish Laboratory, which has since moved to the West Cambridge Site, and other departments for chemistry and medicine.   The University of Cambridge began to award doctorates in the first third of the 20th century. The first Cambridge PhD in mathematics was awarded in 1924.   In the First World War, 13,878 members of the university served and 2,470 were killed. Teaching, and the fees it earned, came almost to a stop and severe financial difficulties followed. As a consequence the university first received systematic state support in 1919, and a Royal Commission appointed in 1920 recommended that the university (but not the colleges) should receive an annual grant.  Following the Second World War, the university saw a rapid expansion of student numbers and available places; this was partly due to the success and popularity gained by many Cambridge scientists.   Parliamentary representation  The university was one of only eight UK universities to hold a parliamentary seat in the Parliament of the United Kingdom. The constituency was created by a Royal Charter of 1603 and returned two members of parliament. It was abolished in 1950 by the Representation of the People Act 1948.  The constituency was not a geographical area. Its electorate consisted of the graduates of the University. Before 1918 the franchise was restricted to male graduates with a doctorate or MA degree.  Women's education  For many years only male students were enrolled into the university. The first colleges for women were Girton College (founded by Emily Davies) in 1869 and Newnham College in 1872 (founded by Anne Clough and Henry Sidgwick), followed by Hughes Hall in 1885 (founded by Elizabeth Phillips Hughes as the Cambridge Teaching College for Women), Murray Edwards College (founded by Rosemary Murray as New Hall) in 1954, and Lucy Cavendish College in 1965. The first women students were examined in 1882 but attempts to make women full members of the university did not succeed until 1948.  Women were allowed to study courses, sit examinations, and have their results recorded from 1881; for a brief period after the turn of the twentieth century, this allowed the \"steamboat ladies\" to receive ad eundem degrees from the University of Dublin.   From 1921 women were awarded diplomas which \"conferred the Title of the Degree of Bachelor of Arts\". As they were not \"admitted to the Degree of Bachelor of Arts\" they were excluded from the governing of the university. Since students must belong to a college, and since established colleges remained closed to women, women found admissions restricted to colleges established only for women. Darwin College, the first wholly graduate college of the University, matriculated both men and women students from its inception in 1964 – and elected a mixed fellowship. Of the undergraduate colleges, starting with Churchill, Clare and King's Colleges, the former men's colleges began to admit women between 1972 and 1988. One of the female-only colleges, Girton, also began to admit male students from 1979, but the other female-only colleges did not do likewise. As a result of St Hilda's College, Oxford, ending its ban on male students in 2008, Cambridge is now the only remaining United Kingdom University with female-only colleges (Newnham, Murray Edwards and Lucy Cavendish).   In the academic year 2004–5, the university's student sex ratio, including post-graduates, was male 52%: female 48%.   Myths, legends and traditions    As an institution with such a long history, the University has developed a large number of myths and legends. The vast majority of these are untrue, but have been propagated nonetheless by generations of students and tour guides.  A discontinued tradition is that of the wooden spoon, the 'prize' awarded to the student with the lowest passing grade in the final examinations of the Mathematical Tripos. The last of these spoons was awarded in 1909 to Cuthbert Lempriere Holthouse, an oarsman of the Lady Margaret Boat Club of St John's College. It was over one metre in length and had an oar blade for a handle. It can now be seen outside the Senior Combination Room of St John's. Since 1908, results were published alphabetically within class rather than score order. This made it harder to ascertain who the winner of the spoon was (unless there was only one person in the third class), and so the practice was abandoned.  Each Christmas Eve, BBC radio and television broadcasts The Festival of Nine Lessons and Carols by the Choir of King's College, Cambridge. The radio broadcast has been a national Christmas tradition since it was first transmitted in 1928 (though the festival has existed since 1918). The radio broadcast is carried worldwide by the BBC World Service and is also syndicated to hundreds of radio stations in the USA. The first television broadcast of the festival was in 1954.    Locations and buildings  Buildings  The university occupies a central location within the city of Cambridge, with the students taking up a significant proportion (nearly 20%) of the town's population and heavily affecting the age structure.  Most of the older colleges are situated nearby the city centre and river Cam, along which it is traditional to punt to appreciate the buildings and surroundings.   Examples of notable buildings include King's College Chapel,  the history faculty building  designed by James Stirling; and the Cripps Building at St John's College.  The brickwork of several of the colleges is also notable: Queens' College contains \"some of the earliest patterned brickwork in the country\"  and the brick walls of St John's College provide examples of English bond, Flemish bond and Running bond.   Sites  The university is divided into several sites where the different departments are placed. The main ones are:   * Addenbrooke's * Downing Site * Madingley/Girton * New Museums Site * Old Addenbroke's  * Old Schools * Silver Street/Mill Lane * Sidgwick Site * West Cambridge  The university's School of Clinical Medicine is based in Addenbrooke's Hospital where students in medicine undergo their three-year clinical placement period after obtaining their BA degree,  while the West Cambridge site is undergoing a major expansion and will host a new sports development.  In addition, the Judge Business School, situated on Trumpington Street, provides management education courses since 1990 and is consistently ranked within the top 20 business schools globally by the Financial Times.   Given that the sites are in relative close proximity to each other and the area around Cambridge is reasonably flat, one of the favourite modes of transport for students is the bicycle: a fifth of the journeys in the city are made by bike, a figure enhanced by the fact that students are not permitted to hold car park permits, except under special circumstances.   \"Town and Gown\"  The relationship between the university and the city has not always been positive. The phrase Town and Gown is employed to differentiate inhabitants of Cambridge from students at the university, who historically wore academical dress. There are many stories of ferocious rivalry between the two categories: in 1381, strong clashes brought about attacks and looting of university properties while locals contested the privileges granted by the government to the academic staff. Following these events, the Chancellor was given special powers allowing him to prosecute the criminals and re-establish order in the city. Attempts to reconcile the two groups followed over time, and in the 16th century agreements were signed to improve the quality of streets and student accommodation around the city. However, this was followed by new confrontations when the plague hit Cambridge in 1630 and colleges refused to help those affected by the disease by locking their sites.   Nowadays, these conflicts have somewhat subsided and the University has become an opportunity for employment among the population, providing an increased level of wealth in the area.  The enormous growth in the number of high-tech, biotech, providers of services and related firms situated near Cambridge has been termed the Cambridge Phenomenon: the addition of 1,500 new, registered companies and as many as 40,000 jobs between 1960 and 2010 has been directly related to the presence and importance of the educational institution.   Organisation and administration  Cambridge is a collegiate university, meaning that it is made up of self-governing and independent colleges, each with its own property and income. Most colleges bring together academics and students from a broad range of disciplines, and within each faculty, school or department within the university, academics from many different colleges will be found.  The faculties are responsible for ensuring that lectures are given, arranging seminars, performing research and determining the syllabi for teaching, overseen by the General Board. Together with the central administration headed by the Vice-Chancellor, they make up the entire Cambridge University. Facilities such as libraries are provided on all these levels: by the University (the Cambridge University Library), by the Faculties (Faculty libraries such as the Squire Law Library), and by the individual colleges (all of which maintain a multi-discipline library, generally aimed mainly at their undergraduates).  Colleges  The colleges are self-governing institutions with their own endowments and property, founded as integral parts of the university. All students and most academics are attached to a college. Their importance lies in the housing, welfare, social functions, and undergraduate teaching they provide. All faculties, departments, research centres, and laboratories belong to the university, which arranges lectures and awards degrees, but undergraduates receive their supervisions—small-group teaching sessions, often with just one student—within the colleges. Each college appoints its own teaching staff and fellows, who are also members of a university department. The colleges also decide which undergraduates to admit to the university, in accordance with university regulations.  Cambridge has 31 colleges, of which three, Murray Edwards, Newnham and Lucy Cavendish, admit women only. The other colleges are mixed, though most were originally all-male. Darwin was the first college to admit both men and women, while Churchill, Clare, and King's were the first previously all-male colleges to admit female undergraduates, in 1972. In 1988 Magdalene became the last all-male college to accept women.  Clare Hall and Darwin admit only postgraduates, and Hughes Hall, Lucy Cavendish, St Edmund's and Wolfson admit only mature (i.e. 21 years or older on date of matriculation) students, encompassing both undergraduate and graduate students. All other colleges admit both undergraduate and postgraduate students with no age restrictions.  Colleges are not required to admit students in all subjects, with some colleges choosing not to offer subjects such as architecture, history of art or theology, but most offer close to the complete range. Some colleges maintain a bias towards certain subjects, for example with Churchill leaning towards the sciences and engineering,  while others such as St Catharine's aim for a balanced intake.  Others maintain much more informal reputations, such as for the students of King's College to hold left-wing political views,  or Robinson College and Churchill College's attempts to minimise its environmental impact.   Costs to students (accommodation and food prices) vary considerably from college to college.   Similarly, college expenditure on student education also varies widely between individual colleges.   There are also several theological colleges in Cambridge, separate from Cambridge University, including Westcott House, Westminster College and Ridley Hall Theological College, that are, to a lesser degree, affiliated to the university and are members of the Cambridge Theological Federation.   The 31 colleges are:   Schools, faculties and departments  In addition to the 31 colleges, the university is made up of over 150 departments, faculties, schools, syndicates and other institutions. Members of these are usually also members of one of the colleges and responsibility for running the entire academic programme of the university is divided amongst them. The university also houses the Institute of Continuing Education, a centre for part-time study.  A \"School\" in the University of Cambridge is a broad administrative grouping of related faculties and other units. Each has an elected supervisory body—the \"Council\" of the school—comprising representatives of the constituent bodies. There are six schools:   * Arts and Humanities * Biological Sciences * Clinical Medicine  * Humanities and Social Sciences * Physical Sciences * Technology  Teaching and research in Cambridge is organised by faculties. The faculties have different organisational sub-structures which partly reflect their history and partly their operational needs, which may include a number of departments and other institutions. In addition, a small number of bodies entitled 'Syndicates' have responsibilities for teaching and research, e.g. Cambridge Assessment, the University Press, and the University Library.  Central administration  Chancellor and Vice-Chancellor  The office of Chancellor of the University, for which there are no term limits, is mainly ceremonial and is held by David Sainsbury, Baron Sainsbury of Turville, following the retirement of the Duke of Edinburgh on his 90th birthday in June 2011. Lord Sainsbury was nominated by the official Nomination Board to succeed him,  and Abdul Arain, owner of a local grocery store, Brian Blessed and Michael Mansfield were also nominated.    The election took place on 14 and 15 October 2011. David Sainsbury won the election taking 2,893 of the 5,888 votes cast, winning on the first count.  The current Vice-Chancellor is Leszek Borysiewicz. While the Chancellor's office is ceremonial, the Vice-Chancellor is the de facto principal administrative officer of the University. The university's internal governance is carried out almost entirely by its own members,  with very little external representation on its governing body, the Regent House (though there is external representation on the Audit Committee, and there are four external members on the University's Council, who are the only external members of the Regent House).   Senate and the Regent House  The Senate consists of all holders of the MA degree or higher degrees. It elects the Chancellor and the High Steward, and elected two members of the House of Commons until the Cambridge University constituency was abolished in 1950. Prior to 1926, it was the University's governing body, fulfilling the functions that the Regent House fulfils today.  The Regent House is the University's governing body, a direct democracy comprising all resident senior members of the University and the Colleges, together with the Chancellor, the High Steward, the Deputy High Steward, and the Commissary.  The public representatives of the Regent House are the two Proctors, elected to serve for one year, on the nomination of the Colleges.  Council and the General Board  Although the University Council is the principal executive and policy-making body of the University, it must report and be accountable to the Regent House through a variety of checks and balances. It has the right of reporting to the University, and is obliged to advise the Regent House on matters of general concern to the University. It does both of these by causing notices to be published by authority in the Cambridge University Reporter, the official journal of the University. Since January 2005, the membership of the Council has included two external members,  and the Regent House voted for an increase from two to four in the number of external members in March 2008,   and this was approved by Her Majesty the Queen in July 2008.   The General Board of the Faculties is responsible for the academic and educational policy of the University,  and is accountable to the Council for its management of these affairs.  Faculty Boards are responsible to the General Board; other Boards and Syndicates are responsible either to the General Board (if primarily for academic purposes) or to the Council. In this way, the various arms of the University are kept under the supervision of the central administration, and thus the Regent House.  Finances  Cambridge is by far the wealthiest university in the UK and in the whole of Europe, with an endowment of £5.89 billion in 2014. This is made up of around £2.3 billion tied directly to the university and £3.6 billion to the colleges. As of 2014, the next wealthiest, the University of Oxford, had an endowment valued at around £4.4 billion. Each college is an independent charitable institution with its own endowment, separate from that of the central university endowment. If ranked on a US university endowment table on most recent figures, Cambridge would rank fifth compared with the eight Ivy League institutions (subject to market fluctuations) and in the top 10 with all US universities (excluding aggregated system-wide endowments in Texas).  Comparisons between Cambridge's endowment and those of other top US universities are, however, inaccurate because being a partially state-funded public university (although the status of Cambridge as a public university cannot be compared with US or European public universities as, for example, the state does not \"own\" the university and its colleges are private institutions), Cambridge receives a major portion of its income through education and research grants from the British Government. In 2006–7, it was reported that approximately one third of Cambridge's income comes from UK government funding for teaching and research, with another third coming from other research grants. Endowment income contributes around £130 million. The University also receives a significant income in annual transfers from the Cambridge University Press.   Benefactions and fundraising  In 2000, Bill Gates of Microsoft donated US$210 million through the Bill and Melinda Gates Foundation to endow the Gates Scholarships for students from outside the UK seeking postgraduate study at Cambridge.   In 2005 the Cambridge 800th Anniversary Campaign was launched, aimed at raising £1 billion by 2012. This aim was reached in the financial year 2009–2010, raising £1.037 billion.   In the year ended 31 July 2013 the university had a total income of £1.44 billion, of which £332 million was from research grants and contracts.  Bonds  The University of Cambridge borrowed 350 million pounds by issuing a 40-year security bond in October 2012.  [http://www.tcs.cam.ac.uk/news/0019543-cambridge-issues-its-first-350m-bond.html Cambridge university issues its first £350m bond] L. Tidy, The Cambridge Student, News, 11 Oct 2012 Its interest rate is about 0.6 percent higher than a British government 40-year bond. Vice chancellor Leszek Borysiewicz hailed the success of the issue.   In a 2010 report, the Russell Group of 20 leading universities made a conclusion that higher education could be financed by issuing bonds.    Affiliations and memberships  Cambridge is a member of the Russell Group of research-led British universities, the G5, the League of European Research Universities, and the International Alliance of Research Universities, and forms part of the \"golden triangle\" of highly research intensive and elite southern English universities.  It is also closely linked with the development of the high-tech business cluster known as \"Silicon Fen\", and as part of the Cambridge University Health Partners, an academic health science centre.  Academic profile  Admissions   Procedure  Undergraduate applications to Cambridge must be made through UCAS in time for the early deadline, currently mid-October in the year before starting. Until the 1980s candidates for all subjects were required to sit special entrance examinations,  since replaced by additional tests for some subjects, such as the Thinking Skills Assessment and the Cambridge Law Test.  The University is considering reintroducing an admissions exam for all subjects with effect from 2016.  The acceptance rate for students in the 2014–2015 cycle was 21.0%.   Most applicants who are called for interview will have been predicted at least three A-grade A-level qualifications relevant to their chosen undergraduate course, or the equivalent in other qualifications, such as getting at least 7,7,6 for higher-level subjects at IB. The A* A-level grade (introduced in 2010) now plays a part in the acceptance of applications, with the university's standard offer for most courses being set at A*AA,   with A*A*A for sciences courses. Due to a very high proportion of applicants receiving the highest school grades, the interview process is crucial for distinguishing between the most able candidates. The interview is performed by College Fellows, who evaluate candidates on unexamined factors such as potential for original thinking and creativity.  For exceptional candidates, a Matriculation Offer is sometimes offered, requiring only two A-levels at grade E or above. In 2006, 5,228 students who were rejected went on to get 3 A levels or more at grade A, representing about 63% of all applicants rejected.    Strong applicants who are not successful at their chosen college may be placed in the Winter Pool, where they can be offered places by other colleges. This is in order to maintain consistency throughout the colleges, some of which receive more applicants than others.  Graduate admission is first decided by the faculty or department relating to the applicant's subject. This effectively guarantees admission to a college—though not necessarily the applicant's preferred choice.   Access  Public debate in the United Kingdom continues over whether admissions processes at Oxford and Cambridge are entirely merit based and fair; whether enough students from state schools are encouraged to apply to Cambridge; and whether these students succeed in gaining entry. In 2007–08, 57% of all successful applicants were from state schools  (roughly 93 percent of all students in the UK attend state schools). Critics have argued that the lack of state school applicants with the required grades applying to Cambridge and Oxford has had a negative impact on Oxbridge's reputation for many years, and the University has encouraged pupils from state schools to apply for Cambridge to help redress the imbalance.  Others counter that government pressure to increase state school admissions constitutes inappropriate social engineering.   The proportion of undergraduates drawn from independent schools has dropped over the years, and such applicants now form a (very large) minority (43%)  of the intake. In 2005, 32% of the 3599 applicants from independent schools were admitted to Cambridge, as opposed to 24% of the 6674 applications from state schools.  In 2008 the University of Cambridge received a gift of £4m to improve its accessibility to candidates from maintained schools.  Cambridge, together with Oxford and Durham, is among those universities that have adopted formulae that gives a rating to the GCSE performance of every school in the country to \"weight\" the scores of university applicants.   With the release of admissions figures, a 2013 article in The Guardian reported that ethnic minority candidates had lower success rates in individual subjects even when they had the same grades as white applicants. The University was hence criticised for what was seen as institutional discrimination against ethnic minority applicants in favour of white applicants. The University denied the claims of institutional discrimination by stating the figures did not take into account \"other variables\".  A following article stated that in the years 2010–2012 ethnic minority applicants to medicine with 3 A* grades or higher were 20% less likely to gain admission than white applicants with similar grades. The University refused to provide figures for a wider range of subjects claiming it would be too costly.   Teaching  The academic year is divided into three academic terms, determined by the Statutes of the University.  Michaelmas term lasts from October to December; Lent term from January to March; and Easter term from April to June.  Within these terms undergraduate teaching takes place within eight-week periods called Full Terms. According to the University statutes, it is a requirement that during this period all students should live within 3 miles of the Church of St Mary the Great; this is defined as Keeping term. Students can graduate only if they fulfill this condition for nine terms (three years) when obtaining a Bachelor of Arts or twelve terms (four years) when studying for a Master of Science, Engineering or Mathematics.   These terms are shorter than those of many other British universities.  Undergraduates are also expected to prepare heavily in the three holidays (known as the Christmas, Easter and Long Vacations).  Triposes involve a mixture of lectures (organised by the university departments), and supervisions (organised by the colleges). Science subjects also involve laboratory sessions, organised by the departments. The relative importance of these methods of teaching varies according to the needs of the subject. Supervisions are typically weekly hour-long sessions in which small groups of students (usually between one and three) meet with a member of the teaching staff or with a doctoral student. Students are normally required to complete an assignment in advance of the supervision, which they will discuss with the supervisor during the session, along with any concerns or difficulties they have had with the material presented in that week's lectures. The assignment is often an essay on a subject set by the supervisor, or a problem sheet set by the lecturer. Depending on the subject and college, students might receive between one and four supervisions per week.  This pedagogical system is often cited as being unique to Oxford (where \"supervisions\" are known as \"tutorials\")  and Cambridge.  A tutor named William Farish developed the concept of grading students' work quantitatively at the University of Cambridge in 1792.   Research  The University of Cambridge has research departments and teaching faculties in most academic disciplines. All research and lectures are conducted by University Departments. The colleges are in charge of giving or arranging most supervisions, student accommodation, and funding most extracurricular activities. During the 1990s Cambridge added a substantial number of new specialist research laboratories on several University sites around the city, and major expansion continues on a number of sites.   Cambridge also has a research partnership with MIT in the United States: the Cambridge–MIT Institute.  Graduation  At the University of Cambridge, each graduation is a separate act of the university's governing body, the Regent House, and must be voted on as with any other act. A formal meeting of the Regent House, known as a Congregation, is held for this purpose. This is the common last act at which all the different university procedures (for: undergraduate and graduate students; and the different degrees) land. After degrees are approved, to have them conferred candidates must ask to their Colleges to be presented during a Congregation. This happened until the 2006, when, for the first time, a Graduate Student (Dr Luca Epis) refused the degree approved by the Board of Graduate Studies, creating a \"leading case\" on the matter.    Graduates receiving an undergraduate degree wear the academic dress that they were entitled to before graduating: for example, most students becoming Bachelors of Arts wear undergraduate gowns and not BA gowns. Graduates receiving a postgraduate degree (e.g. PhD or Master's) wear the academic dress that they were entitled to before graduating, only if their first degree was also from the University of Cambridge; if their first degree is from another university, they wear the academic dress of the degree that they are about to receive, the BA gown without the strings if they are under 24 years of age, or the MA gown without strings if they are 24 and over.  Graduates are presented in the Senate House college by college, in order of foundation or recognition by the university, except for the royal colleges.  During the congregation, graduands are brought forth by the Praelector of their college, who takes them by the right hand, and presents them to the vice-chancellor for the degree they are about to take. The Praelector presents graduands with the following Latin statement, substituting \"____\" with the name of the degree:  The now-graduate then rises, bows and leaves the Senate House through the Doctor's door, where he or she receives his or her certificate, into Senate House Passage.  Libraries and museums     The university has 114 libraries.  The Cambridge University Library is the central research library, which holds over 8 million volumes. It is a legal deposit library, therefore it is entitled to request a free copy of every book published in the UK and Ireland.  In addition to the University Library and its dependents, almost every faculty or department has a specialised library; for example, the History Faculty's Seeley Historical Library possesses more than 100,000 books. Furthermore, every college has a library as well, partially for the purposes of undergraduate teaching, and the older colleges often possess many early books and manuscripts in a separate library. For example, Trinity College's Wren Library has more than 200,000 books printed before 1800, while Corpus Christi College's Parker Library possesses one of the greatest collections of medieval manuscripts in the world, with over 600 manuscripts.  Cambridge University operates eight arts, cultural, and scientific museums, and a botanic garden.  The Fitzwilliam Museum, is the art and antiquities museum, the Kettle's Yard is a contemporary art gallery, the Museum of Archaeology and Anthropology houses the University's collections of local antiquities, together with archaeological and ethnographic artefacts from around the world, the Cambridge University Museum of Zoology houses a wide range of zoological specimens from around the world and is known for its iconic finback whale skeleton that hangs outside. This Museum also has specimens collected by Charles Darwin. Other museums include, the Museum of Classical Archaeology, the Whipple Museum of the History of Science, the Sedgwick Museum of Earth Sciences which is the geology museum of the University, the Polar Museum, part of the Scott Polar Research Institute which is dedicated to Captain Scott and his men, and focuses on the exploration of the Polar Regions.  The Cambridge University Botanic Garden is the botanic garden of the University, created in 1831.  Publishing and assessments  The University's publishing arm, the Cambridge University Press, is the oldest printer and publisher in the world, and it is the second largest university press in the world.   The university set up its Local Examination Syndicate in 1858. Today, the syndicate, which is known as Cambridge Assessment, is Europe's largest assessment agency and it plays a leading role in researching, developing and delivering assessments across the globe.   Reputation and rankings  According to the 2016 Complete University Guide, the University of Cambridge is ranked first amongst the UK’s universities; this ranking is based on a broad raft of criteria from entry standards and student satisfaction to quality of teaching in specific subjects and job prospects for graduates.  The University is ranked as the 2nd best university in the UK for the quality of graduates according to recruiters from the UK's major companies.   In 2014–15, according to University Ranking by Academic Performance (URAP), Cambridge is ranked second in UK (coming second to Oxford) and ranked fifth in the world.   In the 2001 and 2008 Government Research Assessment Exercises, Cambridge was ranked first in the country.  In 2005, it was reported that Cambridge produces more PhDs per year than any other British university (over 30% more than second placed Oxford).  In 2006, a Thomson Scientific study showed that Cambridge has the highest research paper output of any British university, and is also the top research producer (as assessed by total paper citation count) in 10 out of 21 major British research fields analysed.  Another study published the same year by Evidence showed that Cambridge won a larger proportion (6.6%) of total British research grants and contracts than any other university (coming first in three out of four broad discipline fields).   The university is also closely linked with the development of the high-tech business cluster in and around Cambridge, which forms the area known as Silicon Fen or sometimes the \"Cambridge Phenomenon\". In 2004, it was reported that Silicon Fen was the second largest venture capital market in the world, after Silicon Valley. Estimates reported in February 2006 suggest that there were about 250 active startup companies directly linked with the university, worth around US$6 billion.   Cambridge has been highly ranked by most international and UK league tables. In particular, it had topped the QS World University Rankings from 2010/11 to 2011/12. A 2006 Newsweek overall ranking, which combined elements of the THES-QS and ARWU rankings with other factors that purportedly evaluated an institution's global \"openness and diversity\", suggested Cambridge was sixth around the globe. In The Guardian newspaper's 2012 rankings, Cambridge had overtaken Oxford in philosophy, law, politics, theology, maths, classics, anthropology and modern languages.  In the 2009 Times Good University Guide Subject Rankings, it was ranked top (or joint top) in 34 out of the 42 subjects which it offers.  But Cambridge has been ranked only 30th in the world and 3rd in the UK by the Mines ParisTech: Professional Ranking of World Universities based on the number of alumni holding CEO position in Fortune Global 500 companies.  Student life  Students' Union  The Cambridge University Students' Union (CUSU) serves to represent all the students within the University which automatically become members upon arrival.  It was founded in 1964 as the Students' Representative Council (SRC); the six most important positions in the Union are occupied by Sabbatical officers.  However, turnout in recent elections has been low, with the 2014/15 president elected with votes in favour from only 7.5% of the whole student body.   Sport  Rowing is a particularly popular sport at Cambridge, and there are competitions between colleges, notably the bumps races, and against Oxford, the Boat Race. There are also Varsity matches against Oxford in many other sports, ranging from cricket and rugby, to chess and tiddlywinks. Athletes representing the University in certain sports are entitled to apply for a Cambridge Blue at the discretion of the Blues Committee, consisting of the captains of the thirteen most prestigious sports. There is also the self-described \"unashamedly elite\" Hawks' Club, which is for men only, whose membership is usually restricted to Cambridge Full Blues and Half Blues.  The Ospreys are the equivalent female club.  The University of Cambridge Sports Centre opened in August 2013. Phase 1 includes a 37x34m Sports Hall, a Fitness Suite, a Strength and Conditioning Room, a Multi-Purpose Room and Eton and Rugby Fives courts. Future developments will include squash courts, indoor and outdoor tennis courts and a swimming pool.   The University also has an Athletics Track at Wilberforce Road, an Indoor Cricket School and Fenner's Cricket Ground.  Societies  Numerous student-run societies exist in order to encourage people who share a common passion or interest to periodically meet or discuss. As of 2010, there were 751 registered societies.  In addition to these, individual colleges often promote their own societies and sports teams.  Although technically independent from the University, the Cambridge Union Society serves as a focus for debating and public speaking, as the oldest free speech society in the world, and the largest in Cambridge. Drama societies notably include the Amateur Dramatic Club (ADC) and the comedy club Footlights, which are known for producing well-known show-business personalities. The Cambridge University Chamber Orchestra explores a range of programmes, from popular symphonies to lesser known works; membership of the orchestra is composed of students of the university.  Newspapers and radio  Student newspapers include the long-established Varsity, its younger rival The Cambridge Student, and news and culture magazine the Cambridge Globalist.    The Globalist covers politics, culture,  economics,   science and technology.  The Cambridge Globalist, subtitled 'An Undergraduate International Affairs Magazine', existed as an offshoot of the student newspaper Varsity for several years in the noughties   and was in existence until 2007. At one point it had a print run of 11,000 and featured advertisers including the Financial Times.  The Cambridge Globalist was refounded by Lucy Wark, Alasdair Phillips-Robins and Ravi Solanki in 2013.  The new publication bears limited resemblance to its previous iteration.  But the publication with by far the highest readership is The Tab, Cambridge's student tabloid. Together with colleagues from Anglia Ruskin University, students run a radio station, Cam FM, which provides members with an opportunity to produce and host weekly radio shows and promotes broadcast journalism, sports coverage, comedy and drama.  JCR and MCR  In addition to university-wide representation, students can benefit from their own college student unions, which are known as JCR (Junior Combination Room) for undergraduates and MCR (Middle Combination Room) for postgraduates. These serve as a link between college staff and members and consists of officers elected annually between the fellow students; individual JCR and MCRs also report to CUSU, which offers training courses for some of the most delicate positions within the body.   Formal Halls and May Balls  One of the most distinguishing aspects of student life at Cambridge is the possibility to take part in formal dinners at college. These are called Formal Hall and occur regularly during term time. Students sit down for a meal in their gowns, while Fellows eat separately on High Table: the beginning and end of the function is usually celebrated with a prayer. Special formals are organized for events such as Christmas or the Commemoration of Benefactors.   After the exam period, May Week is held and it is customary to celebrate by attending May Balls. These are all-night long lavish parties held in the colleges where food and drinks are served and entertainment is provided. TIME magazine argues that some of the larger May Balls are among the best private parties in the world.  Suicide Sunday, the first day of May Week, is a popular date for organizing garden parties.   Notable alumni and academics  Over the course of its history, a sizeable number of Cambridge University academics and alumni have become notable in their fields, both academic and in the wider world. Depending on criteria, affiliates of the University of Cambridge have won 90 Nobel prizes. Former undergraduates of the university have won a grand total of 61 Nobel prizes, 13 more than the undergraduates of any other university. Cambridge academics have also won 8 Fields Medals and 2 Abel Prizes, since the Abel award was first distributed in 2003.  Mathematics and sciences  Perhaps most of all, the university is renowned for a long and distinguished tradition in mathematics and the sciences. Among the most famous of Cambridge natural philosophers is Sir Isaac Newton, who spent the majority of his life at the university and conducted many of his now famous experiments within the grounds of Trinity College. Sir Francis Bacon, responsible for the development of the scientific method, entered the university when he was just twelve, and pioneering mathematicians John Dee and Brook Taylor soon followed.  Other ground-breaking mathematicians to have studied at the university include G. H. Hardy, John Edensor Littlewood and Augustus De Morgan, three of the most renowned pure mathematicians in modern history; Sir Michael Atiyah, one of the most important mathematicians of the last half-century; Anil Kumar Gain, founder of Vidyasagar University and a Fellow of the Royal Statistical Society; William Oughtred, the inventor of the logarithmic scale; John Wallis, first to state the law of acceleration; Srinivasa Ramanujan, the self-taught genius who made incomparable contributions to mathematical analysis, number theory, infinite series and continued fractions; and, perhaps most importantly of all, James Clerk Maxwell, who is considered to have brought about the second great unification of physics (the first being accredited to Newton) with his classical electromagnetic theory.  Mathematician Philippa Fawcett gained worldwide media coverage in 1890 as the person with the highest score in the Cambridge Mathematical Tripos exams, but as a woman, was unable to take the title of 'Senior Wrangler'.  In biology, Charles Darwin, famous for developing the theory of natural selection, was an alumnus of Christ's College, though his education at the university was intended to allow him to become a clergyman. Subsequent Cambridge biologists include Francis Crick and James Watson, who worked out a model for the three-dimensional structure of DNA whilst working at the university's Cavendish Laboratory; fellow Cambridge graduates Maurice Wilkins and especially Rosalind Franklin produced key X-ray crystallography data, which was shared with Watson by Wilkins. Wilkins went on to help verify the proposed structure and win the Nobel Prize with Watson and Crick.  Despite Cambridge's delay in admitting women to full degrees, Cambridge women were at the heart of scientific research throughout the 20th century. Pioneering biochemist Marjory Stephenson studied at Cambridge, as did plant physiologist Gabrielle Howard, social anthropologist Audrey Richards. Psycho-analyst Alix Strachey, who with her husband translated the works of Sigmund Freud, studied at Newnham College. Kavli Prize-winner Brenda Milner, co-discovery of specialized brain networks for memory and cognition, was also a graduate of Newnham College. Veterinary epidemiologist Sarah Cleaveland has worked to eliminate rabies in the Serengeti.   More recently, Sir Ian Wilmut, the man who was responsible for the first cloning of a mammal with Dolly the Sheep in 1996, was a graduate student at Darwin College. Famous naturalist and broadcaster David Attenborough graduated from the university, while the ethologist Jane Goodall, the world's foremost expert on chimpanzees did a PhD in Ethology at Darwin College. Anthropologist Dame Alison Richard, former vice-chancellor of the university, is also a Newnham College graduate.  The university can be considered the birthplace of the computer, with mathematician Charles Babbage having designed the world's first computing system as early as the mid-1800s. Alan Turing went on to devise what is essentially the basis for modern computing and Maurice Wilkes later created the first programmable computer. The webcam was also invented at Cambridge University, as a means for scientists to avoid interrupting their research and going all the way down to the laboratory dining room only to be disappointed by an empty coffee pot.  Ernest Rutherford, generally regarded as the father of nuclear physics, spent much of his life at the university, where he worked closely with the likes of E. J. Williams and Niels Bohr, a major contributor to the understanding of the structure and function of the atom, J. J. Thomson, discoverer of the electron, Sir James Chadwick, discoverer of the neutron, and Sir John Cockcroft and Ernest Walton, the partnership responsible for first splitting the atom. J. Robert Oppenheimer, leader of the Manhattan Project that developed the atomic bomb, also studied at Cambridge under Rutherford and Thomson. Joan Curran devised the 'chaff' technique during the Second World War to disrupt radar on enemy planes.  Astronomers Sir John Herschel and Sir Arthur Eddington both spent much of their careers at Cambridge, as did Paul Dirac, the discoverer of antimatter and one of the pioneers of Quantum Mechanics; Stephen Hawking, the founding father of the study of singularities and the university's long-serving Lucasian Professor of Mathematics until 2009; and Lord Martin Rees, the current Astronomer Royal and Master of Trinity College. John Polkinghorne, also a Cambridge mathematician prior to his entrance into the Anglican ministry, was knighted and received the Templeton Prize for his work reconciling science and religion.  Other significant Cambridge scientists include Henry Cavendish, the discoverer of hydrogen; Frank Whittle, co-inventor of the jet engine; Lord Kelvin, who formulated the original Laws of Thermodynamics; William Fox Talbot, who invented the camera, Alfred North Whitehead, Einstein's major opponent; Sir Jagadish Chandra Bose, the man dubbed \"the father of radio science\"; Lord Rayleigh, one of the most pre-eminent physicists of the 20th century; Georges Lemaître, who first proposed a Big Bang Theory; and Frederick Sanger, the last man to win two Nobel prizes.  Humanities, music and art  In the humanities, Greek studies were inaugurated at Cambridge in the early sixteenth century by Desiderius Erasmus during the few years he held a professorship there; seminal contributions to the field were made by Richard Bentley and Richard Porson. John Chadwick was associated with Michael Ventris in the decipherment of Linear B.  The eminent Latinist A. E. Housman taught at Cambridge but is more widely known as a poet. Simon Ockley made a significant contribution to Arabic Studies.  Distinguished Cambridge academics in other fields include economists such as John Maynard Keynes, Thomas Malthus, Alfred Marshall, Milton Friedman, Joan Robinson, Piero Sraffa, and Amartya Sen, a former Master of Trinity College. Philosophers Sir Francis Bacon, Bertrand Russell, Ludwig Wittgenstein, Leo Strauss, George Santayana, G. E. M. Anscombe, Sir Karl Popper, Sir Bernard Williams, Sir Allama Muhammad Iqbal and G. E. Moore were all Cambridge scholars, as were historians such as Thomas Babington Macaulay, Frederic William Maitland, Lord Acton, Joseph Needham, E. H. Carr, Hugh Trevor-Roper, E. P. Thompson, Eric Hobsbawm, Niall Ferguson and Arthur M. Schlesinger, Jr, and famous lawyers such as Glanville Williams, Sir James Fitzjames Stephen, and Sir Edward Coke.  Religious figures at the university have included Rowan Williams, former Archbishop of Canterbury and many of his predecessors; William Tyndale, the pioneer biblical translator; Thomas Cranmer, Hugh Latimer, and Nicholas Ridley, all Cambridge men, known as the \"Oxford martyrs\" from the place of their execution; Benjamin Whichcote and the Cambridge Platonists; William Paley, the Christian philosopher known primarily for formulating the teleological argument for the existence of God; William Wilberforce and Thomas Clarkson, largely responsible for the abolition of the slave trade; leading Evangelical churchman Charles Simeon; John William Colenso, the bishop of Natal who developed views on the interpretation of Scripture and relations with native peoples that seemed dangerously radical at the time; John Bainbridge Webster and David F. Ford, theologians of significant repute; and six winners of the Templeton Prize, the highest accolade for the study of religion since its foundation in 1972.  Composers Ralph Vaughan Williams, Sir Charles Villiers Stanford, William Sterndale Bennett, Orlando Gibbons and, more recently, Alexander Goehr, Thomas Adès, John Rutter, Julian Anderson and Judith Weir were all at Cambridge. The university has also produced some of today's leading instrumentalists and conductors, including Colin Davis, John Eliot Gardiner, Roger Norrington, Trevor Pinnock, Andrew Manze, Richard Egarr, Mark Elder, Richard Hickox, Christopher Hogwood, Andrew Marriner, David Munrow, Simon Standage, Endellion Quartet and Fitzwilliam Quartet.  Although known primarily for its choral music, the university has also produced members of contemporary bands such as Radiohead, Hot Chip, Procol Harum, Clean Bandit, songwriter and entertainer Jonathan King, Henry Cow, and the singer-songwriter Nick Drake.  Artists Quentin Blake, Roger Fry and Julian Trevelyan also attended as undergraduates, as did sculptors Antony Gormley, Marc Quinn and Sir Anthony Caro, and photographers Antony Armstrong-Jones, Sir Cecil Beaton and Mick Rock.  Literature  Important writers to have studied at the university include the prominent Elizabethan dramatist Christopher Marlowe at Corpus Christi College, his fellow University Wits Thomas Nashe and Robert Greene, arguably the first professional authors in England, and John Fletcher, who collaborated with Shakespeare on  The Two Noble Kinsmen, Henry VIII and the lost Cardenio and succeeded him as house playwright of The King's Men. Samuel Pepys matriculated in 1650, ten years before he began his diary, the original manuscripts of which are now housed in the Pepys Library at Magdalene College. Lawrence Sterne, whose novel Tristram Shandy is judged to have inspired many modern narrative devices and styles, was admitted in 1733. In the following century, the novelists W. M. Thackeray, best known for Vanity Fair, Charles Kingsley, author of Westward Ho! and Water Babies, and Samuel Butler, remembered for The Way of All Flesh and Erewhon, were all at Cambridge. Ghost story writer M. R. James served as provost of King's College from 1905 to 1918. Novelist Amy Levy was the first Jewish woman to attend the University. Modernist writers to have attended the university include E. M. Forster, Rosamond Lehmann, Vladimir Nabokov, Christopher Isherwood and Malcolm Lowry. Although not a student, Virginia Woolf wrote her essay A Room of One's Own while in residence at Newnham College. Playwright J. B. Priestley, physicist and novelist C. P. Snow and children's writer A. A. Milne were also among those who passed through the university in the early 20th century.  They were followed by the postmodernists Patrick White, J. G. Ballard, and the early postcolonial writer E. R. Braithwaite. More recently, the university has educated the comedy writers Douglas Adams, Tom Sharpe and Howard Jacobson, the popular novelists A. S. Byatt, Sir Salman Rushdie, Nick Hornby, Zadie Smith, Robert Harris and Sebastian Faulks, the successful action writers Michael Crichton, David Gibbins and Jin Yong, and contemporary playwrights and screenwriters such as Julian Fellowes, Stephen Poliakoff, Michael Frayn and Sir Peter Shaffer.  Cambridge poets include Edmund Spenser, author of The Faerie Queene, the Metaphysical poets Richard Davis, American poet, John Donne, George Herbert and Andrew Marvell, John Milton, renowned for his late epic Paradise Lost, the leading Restoration poet and playwright John Dryden, the pre-romantic Thomas Gray, best known his Elegy Written in a Country Churchyard, William Wordsworth and Samuel Taylor Coleridge, whose joint work Lyrical Ballads is often seen to mark the beginning of the Romantic movement, later Romantics such as Lord Byron and the postromantic Alfred, Lord Tennyson, classical scholar and lyric poet A. E. Housman, war poets Siegfried Sassoon and Rupert Brooke, modernist T. E. Hulme, confessional poets Ted Hughes, Sylvia Plath and John Berryman, and, more recently, Cecil Day-Lewis, Joseph Brodsky, Kathleen Raine and Geoffrey Hill. In all, at least nine of the Poets Laureate graduated from Cambridge. The university has also made a notable contribution to Literary Criticism, having produced, among others, F. R. Leavis, I. A. Richards, C. K. Ogden and William Empson, often collectively known as the Cambridge Critics, the important Marxists Raymond Williams, sometimes regarded as the founding father of Cultural Studies, and Terry Eagleton, author of Literary Theory: An Introduction, the most successful academic book ever published, the Aesthetician Harold Bloom, the New Historicist Stephen Greenblatt, and an extensive group of distinguished biographical writers such as Lytton Strachey, a central figure in the largely Cantabridgian Bloomsbury Group, Peter Ackroyd and Claire Tomalin.  Actors and directors such as Sir Ian McKellen, Eleanor Bron, Miriam Margolyes, Sir Derek Jacobi, Sir Michael Redgrave, James Mason, Emma Thompson, Stephen Fry, Hugh Laurie, John Cleese, Eric Idle, Graham Chapman, Simon Russell Beale, Tilda Swinton, Thandie Newton, Rachel Weisz, Sacha Baron Cohen, Tom Hiddleston, Sara Mohr-Pietsch, Eddie Redmayne, Dan Stevens, Jamie Bamber, Lily Cole, David Mitchell, Robert Webb, Mel Giedroyc and Sue Perkins all studied at the university, as did recently acclaimed directors such as Mike Newell, Sam Mendes, Stephen Frears, Paul Greengrass, Chris Weitz and John Madden.  Sports  Athletes who are university graduates include more than 123 Olympic medalists; they won a total of 170 medals, including 80 gold.  The legendary Chinese six-time world table tennis champion Deng Yaping; the sprinter and athletics hero Harold Abrahams; the inventors of the modern game of Football, Winton and Thring; and George Mallory, the famed mountaineer and possibly the first man ever to reach the summit of Mount Everest all attended Cambridge.  Education  Notable educationalists to have attended the university include the founders and early professors of Harvard University, including John Harvard himself; Emily Davies, founder of Girton College, the first residential higher education institution for women, and John Haden Badley, founder of the first mixed-sex school in England; and Anil Kumar Gain, prominent 20th century mathematician and founder of the Vidyasagar University in Bengal.  Politics  Cambridge also has a strong reputation in the fields of politics and governance, having educated:  * 15 British Prime Ministers, including Robert Walpole, considered to be the first Prime Minister of Great Britain. * At least 30 foreign Heads of State/Government, including Presidents of India, Ireland, Zambia, South Korea, Uganda and Trinidad and Tobago; along with Prime Ministers of India, Burma, Pakistan, South Africa, New Zealand, Poland, Australia, France, Singapore, Sri Lanka, Malta, Thailand, Malaysia, and Jordan. * At least 9 monarchs, including Edward VII, George VI, King Peter II of Yugoslavia, Queen Margrethe II of Denmark and Queen Sofía of Spain. The university has also educated Charles, Prince of Wales and a large number of other royals. * 3 Signatories of the United States Declaration of Independence.  * Oliver Cromwell, Lord Protector of England (1653–58).   In literature and popular culture  Throughout its history, the University has featured heavily in literature and artistic works by various authors. Here below are some notable examples. * In The Reeve's Tale from The Canterbury Tales by Geoffrey Chaucer, the two main characters are students at Soler Halle. It is believed that this refers to King's Hall, which is now part of Trinity College. * In The Prelude (1805 poem) by William Wordsworth, the entire third chapter is based on the poet's time at Cambridge. * In Memoriam A.H.H. (1849 poem) by Alfred, Lord Tennyson is a requiem written in memory of the poet's Cambridge friend Arthur Henry Hallam. The poem features numerous references to their time together at Trinity College, \"the reverend walls in which of old I wore the gown\". * In Doctor Thorne (1858 novel) by Anthony Trollope, Frank Gresham, heir to the near-bankrupt Gresham estate, is a Cambridge student. Despite his family's objections, he is determined to return to the University and study for a degree. * In Portraits of Places (1883 travel book), Henry James describes the college backs as \"the loveliest confusion of gothic windows and ancient trees, of grassy banks and mossy balustrades, of sun‐chequered avenues and groves, of lawns and gardens and terraces, of single arched bridges spanning the little stream, which ... looks as if it had been 'turned on' for ornamental purposes.\" * In the Sherlock Holmes series (1887–1927 collection of novels and short stories) by Arthur Conan Doyle, Holmes reveals that he first developed his methods of deduction while an undergraduate. The author Dorothy L. Sayers suggests that, given details in two of the Adventures, Holmes must have been at Cambridge rather than Oxford and that \"of all the Cambridge colleges, Sidney Sussex College perhaps offered the greatest number of advantages to a man in Holmes' position and, in default of more exact information, we may tentatively place him there\".  * In Tess of the d'Urbervilles (1891 novel) by Thomas Hardy, Angel Clare rebels against his family's plans to have him sent to Cambridge and ordained as a minister of the Church of England. His older brothers are both Cambridge graduates and Cuthbert is the dean of a Cambridge college. * The Longest Journey (1907 novel) by E. M. Forster begins at Cambridge University. * In the Psmith series (1908–1923 collection of novels) by P. G. Wodehouse, both the title character and Mike, his closest friend, study at Cambridge University. * In Jacob's Room (1922 novel) by Virginia Woolf, the protagonist Jacob Flanders attends Cambridge. * Darkness at Pemberley (1932 novel) by T. H. White features St Bernard's College, a fictionalised version of Queens' College. * Glory (1932 novel) by Vladimir Nabokov is the story of an émigré student who escapes from Russia and is educated at Cambridge before returning to his native country. * Out of the Silent Planet (1938 novel) by C. S. Lewis begins at Cambridge University, where Elwin Ransom, the protagonist of The Space Trilogy, is Professor of Philology. The trilogy also features the University of Edgestow, a fictional institution which is essentially a third Oxbridge. * The Masters (1951 novel) and The Affair (1960 Novel) by C. P. Snow, both feature an unnamed fictional college, partly based on the author's own, Christ's. * The Millstone (1965 novel) by Margaret Drabble is the story of a young female Cambridge academic who becomes pregnant and is forced into a completely alien lifestyle. * In many novels and plays by Thomas Bernhard (written between 1970 and 2006), Cambridge (Geistesnest) is the refuge of a Geistesmensch escaping from Austria. * Maurice (1971 novel) by E. M. Forster is about the homosexual relationship of two Cambridge undergraduates. * Porterhouse Blue (1974 novel) and its sequel Grantchester Grind (1995 Novel) by Tom Sharpe both feature Porterhouse, a fictional Cambridge college. * Oxbridge Blues (1984 TV Drama) by Frederic Raphael features Cambridge University. * In Professional Foul (1977 play) by Tom Stoppard, the main character, Anderson, is Professor of Philosophy at Cambridge University. * In Shada (abandoned 1979 Doctor Who serial released on video in 1992) by Douglas Adams, much of the action takes place at the fictional St. Cedd's College, Cambridge. * Timescape (1980 novel) by Gregory Benford is the story of a group of scientists at the University of Cambridge and their attempts to warn the past about a series of global disasters that have left the world in a state of disarray. Benford's short story, Anomalies, is also set at Cambridge, where the main character, an amateur astronomer from Ely, meets the Master of Jesus College. * Chariots of Fire (1981 film) by Hugh Hudson is partly set at Cambridge between 1919 and 1924, when protagonist Harold Abrahams (played by Ben Cross) was a student there. * Floating Down to Camelot (1985 novel) by David Benedictus is set entirely at Cambridge University and was inspired by the author's time at Churchill College. * In Redback (1986 novel), Howard Jacobson creates the fictional Malapert College, drawing on his experiences at Downing College and Selwyn College. * Dirk Gently's Holistic Detective Agency (1987 Novel) by Douglas Adams contains considerable material recycled from the aborted Shada, therefore much of the action likewise takes place at St. Cedd's College, Cambridge. * The Matthew Bartholomew Chronicles (1990s novels) by Susanna Gregory, is a series of murder mysteries set in and around the university in medieval Cambridge. * In Stephen Fry's novels The Liar (1993) and Making History (1997), the main characters attend Cambridge University. * Wittgenstein's Poker (2001 biographical work) by David Edmonds recounts the celebrated confrontation between Sir Karl Popper and Ludwig Wittgenstein at Cambridge University's Moral Sciences Club. * Cambridge Spies (2003 TV drama) is about the famous Cambridge Five double agents who started their careers at Cambridge: Kim Philby, Guy Burgess, Donald Maclean and Anthony Blunt. * In Rock 'n Roll (2006 play) by Tom Stoppard, Cambridge University is a key setting. *The Newsroom character Mackenzie McHale attended Cambridge and was the President of the Cambridge Union Society. The West Wing character Will Bailey also attended Cambridge on a Marshall Scholarship and was the President of the Cambridge Union Society. * In The Theory of Everything (2014 film).  Gallery  File:TrinityCollegeCamGreatGate.jpg|The Great Gate of Trinity College File:Chapel of Corpus Christi College, Cambridge - 20100915.jpg|Corpus Christi College New Court File:Caius.JPG|Gonville and Caius College File:Pembroke College Cambridge.JPG|Pembroke College File:St Catharine's College, Cambridge (night).jpg|St Catharine's College File:Margaret Wileman Building, Hughes Hall.jpg|Hughes Hall File:Wolfson College, Cambridge (2).jpg|Wolfson College File:Stedmundscollege7.jpg|St Edmund's College Norfolk Building File:View towards East Range small3.jpg|Downing College East Range File:Cambridge Queens' Gatehouse.JPG|Queens' College Old Gatehouse File:ChristsCollege Gate.jpg|Christ's College Gatehouse File:PepysLibraryCambridge.jpg|The Pepys Library, Magdalene College File:Selwyn College Old Court Panorama from North-West corner.jpg|Selwyn College Old Court File:Jesus College Chapel, Cambridge - geograph.org.uk - 168873.jpg|Jesus College Chapel File:StJohnsCambridge Gatehouse02.jpg|St John's College Great gate File:TrinityHallCambridge.jpg|The entrance of Trinity Hall File:The Cavendish Building of Homerton College Cambridge, May 2011.jpg|The Cavendish Building of Homerton College, Cambridge File:River Cam running through Darwin College, Cambridge.JPG|Darwin College File:Sidney Sussex Chapel.jpg|The Chapel, Sidney Sussex College File:Cambridge University Judge Business School interior.jpg|Judge Business School interior</td>\n",
              "      <td>trinity</td>\n",
              "      <td>Which Cambridge College was attended by Anthony Blunt, Kim Philby and Guy Burgess?</td>\n",
              "      <td>[TRINITY]</td>\n",
              "    </tr>\n",
              "    <tr>\n",
              "      <th>1</th>\n",
              "      <td></td>\n",
              "      <td>rotterdam</td>\n",
              "      <td>In terms of tonnage of cargo handled, which is the world's largest port?</td>\n",
              "      <td>[Rotterdam South, Rotterdam, South Holland, R'dam, Historisch Museum Rotterdam, UN/LOCODE:NLRTM, Rotterdam, Holland, Roterdam, Rotterdam, Netherlands, Rotterdam, Rotterdam, Zuid Holland]</td>\n",
              "    </tr>\n",
              "    <tr>\n",
              "      <th>2</th>\n",
              "      <td>\"Take a Bow\" is a song recorded by Barbadian singer Rihanna for Good Girl Gone Bad: Reloaded (2008), the re-release of her third studio album Good Girl Gone Bad (2007). The song was written and produced by Tor Erik Hermansen, Mikkel Eriksen, and Shaffer Smith under their stage names StarGate and Ne-Yo. \"Take a Bow\" was released as the first single from the re-release and the fifth single overall from the two releases. It is an R&amp;B song that contains elements of dance-pop. Critical reception of \"Take a Bow\" was mixed, with some critics praising the song's lyrics and powerful balladry impact, while others criticized the lack of originality with regard to StarGate's production.  In the US, the song peaked at number one on the Billboard Hot 100 chart and became Rihanna's third song to do so. \"Take a Bow\" also peaked at number one on the US Hot R&amp;B/Hip-Hop Songs chart and US Pop Songs chart, and has been certified quadruple platinum by the Recording Industry Association of America. The song reached number one in Canada, Denmark, Ireland, Slovakia and the United Kingdom, and attained top five positions in Australia, New Zealand and Norway. The song's accompanying music video was directed by Anthony Mandler and presents Rihanna as the female protagonist who leaves her boyfriend because of his infidelity. \"Take a Bow\" has been performed on \"AOL Music Sessions\" and was included in the set lists of the Good Girl Gone Bad Tour (2008–09), Last Girl on Earth (2010–11), Loud Tour (2011) and Diamonds World Tour (2013).  Background and composition  \"Take a Bow\" was written and produced by StarGate and Ne-Yo. The song premiered on February 14, 2008, on the KIIS-FM radio show On Air with Ryan Seacrest.  \"Take a Bow\" was released as the fifth overall single from Good Girl Gone Bad, but the first from the re-release of the album, entitled Good Girl Gone Bad: Reloaded.  \"Take a Bow\" was made available to purchase in media outlets, via Def Jam Recordings' website, on the same day as its radio premiere in the United States  later being made available to download via iTunes on May 6, 2008.  The song is written in the key of E major and is set in simple time with a metronome of 82 beats per minute.  Rihanna's vocal range in the song spans from the low note of E3 to the high note of C♯5. Musically, the song draws influence from the musical genre of R&amp;B and also incorporates elements of dance-pop, whilst lyrically, \"Take a Bow\" tells of how the female protagonist expresses disinterest in rekindling her relationship with an dishonorable and unfaithful ex-boyfriend.  Critical reception  \"Take a Bow\" received mixed reviews from music critics. Upon the song's release as an official single, Nick Levine of Digital Spy commented its choice for the promotion of Good Girl Gone Bad: Reloaded, writing that the singer could have chosen \"Breakin' Dishes\" which served as a promotional single for Good Girl Gone Bad and charted at number four on the US Hot Dance Club Songs chart in February 2008 —but had opted for \"Take a Bow\" due to it being new and more likely to find a receptive audience.  Levine continued in his review to write that although the ballad succeeds in its mission of telling of a failed relationship, he noted that the song was not at the same level as the singer's previous single, \"Don't Stop the Music\" (2007). Levine cited that his reason for this was that \"'Take a Bow' does what it sets out to do very well, but it's an underwhelming follow-up to the dancefloor rush of 'Don't Stop The Music\". Levine also commented on the song with regard to the other new songs included on the re-release, \"Disturbia\" and \"If I Never See Your Face Again\" (a collaboration with Maroon 5), as part of his review of Good Girl Gone Bad: Reloaded, writing that \"Take a Bow\" is inferior to the former, but superior to the latter.   Chart performance  In the United States, the song leaped 52 positions from number 53 to number one on the US Billboard Hot 100 chart on May 14, 2008,  with digital download sales of 267,000 copies, which prompted the song to debut at number one on the US Hot Digital Songs chart. With \"Take a Bow\" jumping fifty-two positions to number one, this marked the second largest leap to number one in the history of the chart as of May 2008, second only to Maroon 5s \"Makes Me Wonder\", which leaped from number 64 to number one in May 2007. Additionally, at the time of release, Rihanna held two of the top three opening week download tallies, with \"Take a Bow\" selling 267,000 copies, the lead single from Good Girl Gone Bad \"Umbrella\" selling 277,000 copies in May 2007, which held the record for having the largest opening digital sales tally, until Mariah Careys \"Touch My Body\" opened with sales of 286,000 copies in April 2008. The song became Rihanna's third number one single on the Hot 100, after \"SOS\" and \"Umbrella\". \"Take a Bow\" stayed on the Hot 100 chart for 27 weeks, and also peaked at number one on the US Hot R&amp;B/Hip-Hop Songs, Mainstream Top 40 and Radio Songs charts, respectively.  However, the song was less successful on the US Hot Dance Club Songs and Adult Contemporary charts, peaking at numbers 14 and 21, respectively. The song has been certified quadruple platinum by the Recording Industry Association of America and has sold 3 million copies in the United States as of June 2015. It also ranked at number 3 on Billboards Songs of Summer 2008.  In Canada, the song leaped 69 positions from number 70 to number one on May 24, 2008, becoming the largest jump to number one in the history of the chart at the time.   In Australia, \"Take a Bow\" debuted on the Australian Singles Chart at number 30 on May 15, 2008, and jumped to number 13 the following week.  The song peaked at number three in its eighth week on the chart, after having spent four weeks fluctuating in the top ten. In total the song spent 11 weeks in the top ten and 22 weeks on the chart. \"Take a Bow\" has since been certified Platinum by the Australian Recording Industry Association, denoting shipments of over 70,000 copies.  In New Zealand, the song debuted on the New Zealand Singles Chart at number four on May 5, 2008, and peaked at number two for five non-consecutive weeks.  In total, the song spent 10 weeks inside the top five and 15 weeks in total on the chart.  In the United Kingdom, \"Take a Bow\" debuted at number two on the UK Singles Chart on May 24, 2008, behind The Ting Tings \"That's Not My Name\".  The following week, the two songs switched positions, with \"Take a Bow\" ascending to number one and \"That's Not My Name\" descending to number two; \"Take a Bow\" spent a total of two weeks atop the chart.   On November 12, 2010, the song was certified Gold by the British Phonographic Industry, denoting shipments of over 400,000 copies.  As of January 2016, it has sold over 499,900 copies in the UK.  In Denmark, the song debuted at number 13 on the Danish Singles Chart on June 6, 2008, and peaked at number one in its third week.  After fluctuating in the top ten for three weeks, the song ascended to number two in its seventh and eighth weeks, and went on to stay in the top ten for a further five weeks. \"Take a Bow\" spent 12 weeks in the top ten and 20 weeks on the chart in total. In Norway, the song debuted at number eight on the Norwegian Singles Chart and peaked at number five the following week.  \"Take a Bow\" stayed in the top ten for four weeks and spent six weeks on the chart in total. In Austria, the song debuted at number 16 on the Austrian Singles Chart on June 6, 2008, and peaked at number six in its fourth week on the chart for six non-consecutive weeks.  \"Take a Bow\" spent 10 weeks inside the top ten and a 25 weeks on the chart in total. In Switzerland, the song debuted at number 29 on the Swiss Singles Chart on May 18, 2008, and peaked at number seven for one week.  \"Take a Bow\" spent a total of 29 weeks on the chart. Elsewhere in Europe, however, the song did not experience the same degree of success. \"Take a Bow\" peaked at numbers 10, 12 and 12 in The Netherlands,  France  and Sweden.   Music video  The music video was directed by Anthony Mandler,  who had previously directed Rihanna videos for \"Hate That I Love You\" and \"Shut Up and Drive\". The video was shot in Venice, Los Angeles on April 3, 2008.  The video begins with Rihanna standing in front of a black backdrop for the opening of the song. As the first verse starts, the scene is intercut with another of Rihanna looking out the window at her boyfriend and standing behind the front door as he approaches and asks to come in. As Rihanna walks way from the door singing the lyrics \"Don't tell me you're sorry cos you're not\", the viewer realizes that her boyfriend has perhaps done something wrong and been unfaithful. During the first chorus and second verse, Rihanna is shown in a different outfit, this time sitting in a silver Porsche in a garage. As Rihanna pulls out of the garage and onto the street, her ex-boyfriend walks alongside the car as she drives and begs her to forgive him; she pulls away. For the bridge, Rihanna is shown sitting on a bed as well as in front of the black backdrops as she reads a text message from her ex-boyfriend, who asks to meet her. During the last chorus, Rihanna appears in a different outfit and walks into a lounge, where she puts some clothes on a table and then sits on a sofa. As her ex-boyfriend walks in, the singer gets up and walks over to the clothes, where she withdraws some matches and strikes one, dropping it on what is made aware to be some of her ex-boyfriend's clothes. As the song comes to and end, Rihanna walks out of the room whilst he tries to put out the fire.  Erika Brooks Adickman of Idolator commented that Rihanna had once again changed her hair style and was wearing a red jacket which looked similar to the one Michael Jacksons video \"Beat It\".  Adickman continued to compare the content of the video to Beyoncé's \"Irreplaceable\", writing that it was her first video to contain a plot, but, in actuality, the videos of \"Unfaithful\" (2006) and \"Hate That I Love You\" (2007) both contain a plot.  Live performances  To promote Rihanna's fourth studio album, Rated R (2009) in the United Kingdom, Rihanna performed \"Take a Bow\" at the launch of the Nokia X6 smartphone at Brixton Academy in London.  Other songs on the set list were \"Russian Roulette\" and \"Wait Your Turn\" from Rated R, and \"Don't Stop the Music\", \"Disturbia\", and with Jay-Z, \"Umbrella\" from Good Girl Gone Bad. During the promotion of Rated R, Rihanna also recorded video performances of her songs for \"AOL Music Sessions\"; these videos were made available to watch on AOL's website on February 23, 2010.   The set included \"Take A Bow\", as well as \"Russian Roulette, \"Hard\", \"Rude Boy\" and a stripped down version of \"Disturbia\". \"Take a Bow\" has been included on four of Rihanna's arena tours: the Good Girl Gone Bad Tour, Last Girl on Earth, Loud Tour and Diamonds World Tour. The song was featured in the encore section of the Good Girl Gone Bad Tour, along with \"Umbrella\".  For the Last Girl on Earth and Loud Tours, the song was featured as the last to be performed before the encore section.   A minimal version of the song was also included on her Diamonds World Tour during the fourth act.  Formats and track listings  \"Take a Bow\" was released on CD and 12\" vinyl commercially and as \"Take a Bow: Remixes\" promotionally and digitally.  Take a Bow  ;International CD Single/Digital Download # \"Take a Bow\" (Album Version) – 3:46 # \"Don't Stop the Music\" (Solitaire's More Drama Remix) – 8:08  ;GR enhanced CD single # \"Take a Bow\" (Album Version) – 3:46 # \"Don't Stop the Music\" (Solitaire's More Drama Remix) – 8:08 # \"Take a Bow\" (Instrumental) – 3:46 # \"Take a Bow\" (Video)  ;GR 12\" picture disc vinyl Side A &amp; B # \"Take a Bow\" (Album Version) – 3:46 # \"Don't Stop the Music\" (Solitaire's More Drama Remix) – 8:08  Take a Bow: Remixes  ;EU promo CD single (RIBOWCDX1) # \"Take a Bow\" (Seamus Haji &amp; Paul Emanuel Radio Edit) – 3:56 # \"Take a Bow\" (Tony Moran &amp; Warren Rigg Encore Radio Edit) – 4:02 # \"Take a Bow\" (Groove Junkies Moho Radio Edit) – 3:52 # \"Take a Bow\" (Subkulcha Radio Edit) – 4:21 # \"Take a Bow\" (Seamus Haji &amp; Paul Emanuel Club) – 8:34 # \"Take a Bow\" (Tony Moran &amp; Warren Rigg Encore Club) – 9:18 # \"Take a Bow\" (Groove Junkies Moho Club) – 7:21 # \"Take a Bow\" (Subkulcha Club) – 6:16 # \"Take a Bow\" (Groove Junkies Moho Dub) – 6:42 # \"Take a Bow\" (Groove Junkies Moho Dubstrumental) – 6:42  ;Digital CD Remixes  # \"Take a Bow\" (Seamus Haji &amp; Paul Emanuel Club Mix) – 8:34 # \"Take a Bow\" (Tony Moran &amp; Warren Rigg's Encore Club Mix) – 9:18 # \"Take a Bow\" (Groove Junkies MoHo Club Mix) – 7:21 # \"Take a Bow\" (Subkulcha Club Mix) – 6:16 # \"Take a Bow\" (Groove Junkies Moho Dub) – 6:41  Credits and personnel  Credits adapted from the liner notes of Good Girl Gone Bad:Reloaded.   * Robyn \"Rihanna\" Fenty – Vocals * Mikkel S. Eriksen, Tor Erik Hermansen, Shaffer Smith – Songwriting * Stargate, Ne-Yo – Production * Mikkel S. Eriksen – Vocal production * Phil Tan – Mixing * Josh Houghkirk – Assistant Mixer * Stargate – Instrumentation  Charts  Weekly charts  Year-end charts  Sales and certifications Robyn Rihanna Fenty (;  born February 20, 1988) is a Barbadian singer and songwriter. Born in Saint Michael and raised in Bridgetown, she first entered the music industry by recording demo tapes under the direction of record producer Evan Rogers in 2003. She ultimately signed a recording contract with Def Jam Recordings after auditioning for its then-president, hip-hop producer and rapper Jay Z. Rihanna's first two studio albums Music of the Sun (2005) and A Girl like Me (2006) charted on the top 10 of the U.S. Billboard 200 and respectively produced the singles \"Pon de Replay\" and \"SOS\".  She assumed creative control of her third studio album Good Girl Gone Bad (2007) and became a household name following the release of its international successful lead single \"Umbrella\". She followed it with five Recording Industry Association of America (RIAA) platinum-certified albums, including the Grammy Award winning Unapologetic (2012) and her second Billboard 200 number-one album Anti (2016). Many of her songs rank among the world's best-selling singles of all time, including the singles \"Umbrella\", \"Take a Bow\", \"Disturbia\", \"Only Girl (In the World)\", \"S&amp;M\", \"We Found Love\", \"Diamonds\", and \"Stay\" in which she is the lead artist, and her collaborations \"Live Your Life\" (with T.I.), \"Love the Way You Lie\" and \"The Monster\" (both with Eminem).  With sales exceeding 200 million records worldwide, Rihanna is one of the best-selling artists of all time. Rihanna is the youngest and fastest solo artist to earn fourteen number-one singles on the Billboard Hot 100, and was named the Digital Songs Artist of the 2000s decade and the top Hot 100 artist of the 2010s decade by Billboard.    Among numerous awards and accolades, Rihanna has won eight Grammy Awards, eight American Music Awards, 23 Billboard Music Awards, two BRIT Awards, and the inaugural Icon Award at the American Music Awards of 2013. Widely recognized for frequently reinventing her style and image, she received the Fashion Icon lifetime achievement award from the Council of Fashion Designers of America in 2014. Forbes ranked Rihanna the fourth most powerful celebrity of 2012, and was named one of Times \"100 Most Influential People in the World\" later that year.  Early life  Robyn Rihanna Fenty was born on February 20, 1988, in Saint Michael, Barbados. Her mother, Monica (Braithwaite), is a retired accountant of Black Guyanese background, and her father, Ronald Fenty, is a warehouse supervisor of Black Barbadian and Irish descent.   Rihanna has two brothers, Rorrey and Rajad Fenty, and two half-sisters and a half-brother from her father's side, each born to different mothers from his previous relationships.   She grew up in a three-bedroom bungalow in Bridgetown and sold clothes with her father in a stall on the street. Rihanna's childhood was deeply affected by her father's addiction to crack cocaine and alcohol which contributed to her parents' rocky marriage. As a child, she went through a lot of CT scans for the excruciating headaches she suffered: \"[The doctors] even thought it was a tumor, because it was that intense.\" By the time she was fourteen, Rihanna’s parents had divorced and her health began to improve.  Rihanna grew up listening to reggae music and began singing at around the age of seven.  She attended Charles F. Broome Memorial Primary School and Combermere High School, where she studied alongside future England cricketer Chris Jordan and future West Indies cricketer Kraigg Brathwaite. Rihanna was an army cadet in a sub-military programme; the singer-songwriter Shontelle was her drill sergeant.  Although she initially wanted to graduate from high school, she chose to pursue a musical career instead.   Career  2003–04: Career beginnings  In 2003, Rihanna formed a musical trio with two of her classmates. She was discovered in her home country Barbados by American record producer Evan Rogers. Without a name or any material, the girl group managed to land an audition with Rogers who commented, \"The minute Rihanna walked into the room, it was like the other two girls didn't exist\". Rihanna went to Rogers' hotel room dressed in pink capris, pink shirt, and sneakers where she performed renditions of Destiny's Child's \"Emotion\" and Mariah Carey's \"Hero\".  Impressed, Rogers scheduled a second meeting with her mother present, who then invited her to his hometown in the United States to record some demo tapes which could be sent to record labels. She recorded the demo over the next year intermittently, due to Rihanna only being able to record during school holidays. \"Pon de Replay\" and \"The Last Time\" were two tracks recorded for the demo tape, which were eventually included  in her debut album Music of the Sun.  In 2004, Rihanna won her high school talent show and the Miss Combermere school beauty pageant,  where she was honored in the \"Best Gown\" and \"Most Photogenic\" categories.  That same year, Rihanna was signed to Rogers' and Carl Sturken's production company, Syndicated Rhythm Productions, who assigned her a lawyer and manager, before the completed demo tape were distributed to various record labels around the world in late 2004. The demo was shipped out to Def Jam Recordings, where Jay Brown, an A&amp;R executive at the record label, was one of the first to hear the demo. Brown played the demo tape for rapper Jay-Z, who had recently been appointed as president and Chief executive officer (CEO) of Def Jam.  When Jay Z first heard the track \"Pon de Replay\", he felt the song was too big for her, saying \"when a song is that big, it's hard [for a new artist] to come back from. I don't sign songs, I sign artists\".  Despite being skeptical, he invited Rihanna to audition for the label. In February 2005, Rihanna auditioned for Def Jam in New York, where Jay Z introduced her to music mogul Antonio \"L.A.\" Reid.  At the audition, she sang Whitney Houston's cover of \"For the Love of You\" (1987), as well as the demo tracks \"Pon de Replay\" and \"The Last Time\". Jay-Z was absolutely certain about signing her after she performed her future hit single \"Pon de Replay\". His boss L.A. Reid was also impressed with her audition who then looked at Jay Z and told him not to let Rihanna leave the building until the contract was signed. Reid left it to Jay Z and his team to close the deal which resulted in a six-album record deal with Def Jam. She waited in Jay Z's office till three in the morning to get lawyers to draft up a contract because he wanted to prevent her from signing with another label.  Looking back on the audition and meeting Jay-Z, Rihanna explained that \"when we first got there, I was shaking. I had never met a celebrity, and to have to audition for one and meet him at the same time ... I was hysterical. But the minute I went in the office, it was totally different. He was so welcoming; the environment was so warm and friendly. The jitters just went away immediately.\" Rihanna cancelled other meetings with record labels and relocated from Barbados to the United States to live with Rogers and his wife.  During this time, Reid and Jay Z signed another young female artist named Teairra Mari and singer-songwriter Ne-Yo. With most of the attention on the other artist, the record label held a company showcase to introduce their newly signed artist, where Rihanna, Mari, and Ne-Yo were each performing. After the showcase, Beyoncé, who happened to be there with her husband Jay Z, was impressed and commented to L.A. Reid \"That Rihanna girl, she's a beast.\"  2005–06: Music of the Sun and A Girl like Me  After signing with Def Jam, Jay Z and his team did the A&amp;R for Rihanna's debut album and spent the next three months recording and completing her debut album. She worked with different producers to complete her debut studio album, primarily Rogers and his production partner Carl Sturken.  With several songs to pick as a lead single, \"Pon de Replay\" was chosen because it seemed liked the best song suited for a summer release.  In May 2005, her debut single, \"Pon de Replay\", was released which charted successfully worldwide, peaking in the top five in fifteen countries, including at number two on the U.S. Billboard Hot 100 chart and the UK Singles Chart.  The song became a big club hit in the United States, peaking at number-one on the Billboard Dance Club Songs and was described as \"a poppy piece of dancehall reggae with slapping, syncopated beats recalling big-band jazz\" by Rolling Stone.   That same month, she appeared on the track \"The One\" with rapper Memphis Bleek on his fourth studio album 534.  Music of the Sun, was released in August 2005. It debuted at number ten on the Billboard 200 and received a gold certification from the Recording Industry Association of America (RIAA), denoting shipments of over 500,000 units.  The album sold over two million copies worldwide. It received mixed reviews; Rolling Stone gave it two and a half out of five stars and described as lacking replay value, ingenuity, and rhythm.  Sal Cinquemani of Slant Magazine described the album as a \"glut of teen R&amp;B chanteuses\" and described her lead single as \"a dancehall-pop mixture that owes plenty of its sweat and shimmy to Beyoncé's \"Baby Boy\". She promoted Music of The Sun upon its release, performing at the 2005 MTV Video Music Awards pre-show and participating in the KIIS-FM Jingle Ball.   A second single, \"If It's Lovin' that You Want\", was not as successful as its predecessor, but reached the top ten in Australia, Ireland, and New Zealand.   Aside from her work in music, Rihanna made her acting debut in a cameo role in the straight-to-DVD film Bring It On: All or Nothing, released in August 2006.  A month after the release of her debut album, Rihanna began working on her second studio album.  A Girl like Me was released in April 2006.  The album was a commercial success, charting in the top ten in thirteen countries. The album reached number one in Canada and number five in the United Kingdom and United States, where it sold 115,000 copies its first week.  Its lead single, \"SOS\", was an international success, charting in the top five in eleven countries, including Canada, Germany, New Zealand, and the United Kingdom. The song reached number one on the US Billboard Hot 100 and in Australia, her first to reach this chart position.  \"Unfaithful\", the album's second single, reached the top ten in eighteen countries, including number one in Canada and Switzerland.  \"We Ride\" and \"Break It Off\", the latter featuring Sean Paul, were also released as singles.   Following the release of the album, Rihanna embarked on her first headlining tour, the Rihanna: Live in Concert Tour.  2007–09: Good Girl Gone Bad and Rated R  In early 2007, Rihanna began work on her third studio album Good Girl Gone Bad.  She embraced a new musical direction through uptempo dance tracks produced by Timbaland, will.i.am and Sean Garrett.   Released in May 2007, the album charted at number two in Australia and the US and topped the charts in multiple countries, including Brazil, Canada, Ireland, Japan, Russia and the UK.  The album received the most positive critical reviews of her first three albums.  The lead single, \"Umbrella\", topped the charts in thirteen countries and remained number one in the UK for ten consecutive weeks, the longest-running number one single since Wet Wet Wet's single \"Love Is All Around\" spent fifteen weeks at the top in 1994.   It was Rihanna's first single to be named one of the best-selling singles worldwide, with sales of over 6.6 million copies.   The songs \"Shut Up and Drive\", \"Hate That I Love You\" featuring Ne-Yo, and \"Don't Stop the Music\" were also released as singles. In support of the album, she began the Good Girl Gone Bad Tour in September 2007, with 80 shows across the US, Canada, and Europe.  Rihanna was nominated for several 2008 Grammy Awards, winning Best Rap/Sung Collaboration for \"Umbrella\" alongside Jay-Z.   Throughout 2008, Rihanna performed on the Glow in the Dark Tour alongside Kanye West, Lupe Fiasco, and N.E.R.D.  Her third studio album's reissue, Good Girl Gone Bad: Reloaded, was released in June 2008 with three new songs: \"Disturbia\", \"Take a Bow\", and the Maroon 5 duet \"If I Never See Your Face Again\". All three were released as singles and charted highly, reaching peak positions worldwide.    In August 2008, Rihanna and a host of other female singers, recorded the charity single \"Just Stand Up!\", the theme song to the anti-cancer campaign Stand Up to Cancer.  \"Live Your Life\", a duet between T.I. and Rihanna, released that November, and topped the Billboard Hot 100. A remix album, Good Girl Gone Bad: The Remixes, was released in January 2009. Good Girl Gone Bad has sold over 2.8 million units in the United States alone, receiving a two-times-platinum certification from the RIAA. It is Rihanna's best-selling album in the country to date.  The album has sold over seven million copies worldwide.  By late 2008, Rihanna remained on the charts with her eighth single, \"Rehab\" and was named \"Diva of the Year\" by Entertainment Weekly for her \"newfound staying power\".   In early 2009, Rihanna began working on her fourth studio album, Rated R.  Meanwhile, she collaborated with Jay-Z and Kanye West on \"Run This Town\", which peaked at number two on the Billboard Hot 100, and reached the top ten in ten other countries.  Rated R was released in November 2009 with Rolling Stone stating that Rihanna \"transformed her sound and made one of the best pop records of the year\".  Rated R featured a darker and more foreboding tone than Rihanna's previous albums.  Rated R debuted at number four on the US Billboard 200 chart, with first-week sales of 181,000 copies in the United States, giving Rihanna her highest first-week sales in the US at that time.    The album was supported by six singles including \"Rude Boy\", which was the biggest worldwide success from the album, topping the US Billboard Hot 100 for six weeks and reaching top ten positions in twenty-two other countries.   Rated R: Remixed was released in the spring of 2010 and featured ten tracks remixed by Chew Fu.  To promote the album, Rihanna embarked on her second worldwide tour, the Last Girl on Earth Tour.  At the 52nd Grammy Awards, \"Run This Town\" won Best Rap Song and Best Rap/Sung Collaboration.   2010–11: Loud and Talk That Talk  In summer 2010, Rihanna collaborated with rapper Eminem on \"Love the Way You Lie\", which was a major worldwide success, reaching number one in over twenty countries.  The song was Rihanna's seventh US number one of her career, making her the female artist with the fifth-most number ones in the chart's history.  Reaching number two, the song became the biggest-selling song of 2010 in the UK, and the first of Rihanna's singles to sell over one million copies in the country.   She also lent her vocals to \"All of the Lights\", a single from Kanye West's album, My Beautiful Dark Twisted Fantasy, alongside John Legend, The-Dream, Elly Jackson, Alicia Keys, Fergie, Kid Cudi, and Elton John.  In October 2010, Rihanna switched managers, joining Jay-Z's Roc Nation Management.   Loud, Rihanna's fifth studio album, was released in November 2010.  Its lead single, \"Only Girl (In the World)\", reached number one in fifteen countries, including Australia, Canada, the United Kingdom, and the United States.    The album's second single, \"What's My Name?\", featuring rapper Drake, also reached number one in the US and UK, making Rihanna the first female solo artist to have five number one singles on the UK Singles Chart in consecutive years.  The song reached number one on the Billboard Hot 100 before \"Only Girl (In the World)\", the first time in the chart's history that an album's lead single reached number one after the second.  The third single, \"S&amp;M\", reached number one on the Hot 100 following the release of its official remix featuring Britney Spears, becoming her tenth number one single, which tied her with Janet Jackson for fourth place among female soloists who have topped the chart. With only four years, eleven months, and two weeks between her first and tenth number one on the chart, Rihanna set a record as the solo artist with the fastest accumulation of ten chart toppers.   At the 53rd Grammy Awards, \"Only Girl (In the World)\" won the award for Best Dance Recording. \"Man Down\" and \"California King Bed\" were released as singles in May 2011 with moderate success.   \"Cheers (Drink to That)\", which interpolates Avril Lavigne's 2002 single \"I'm with You\", was released as the sixth and final single from the album, reaching the top twenty in the UK and the top ten in the US.  To promote the album, Rihanna embarked on her Loud Tour in June 2011, which sold out ten nights at the The O2 Arena in London, the most sold out shows for a female artist in the venue's history.   The tour was the seventh highest grossing tour worldwide of 2011.  The final three shows in London were filmed for Rihanna's second live video album, titled Loud Tour Live at the O2, which was released on December 18, 2012.    Rihanna's sixth album, Talk That Talk, was released in November 2011.  The album debuted at number three on the Billboard 200 with sales of 198,000 copies  and number one in the UK, selling 163,000 copies. The lead single, \"We Found Love\", topped charts in twenty-seven countries worldwide, peaking in the top ten in thirty countries and breaking many records worldwide.  It topped the Billboard Hot 100 for ten non-consecutive weeks, becoming Rihanna's longest-running number one single and the longest-running number one of 2011.   The song was later named the 24th biggest hit of all time on the Billboard Hot 100. \"You Da One\" and the title track featuring Jay-Z were released as the second and third singles from the album to moderate success, the former reaching the top twenty in the UK and US.   \"Where Have You Been\", the fifth single, successfully charted worldwide, reaching number five in the US and six in the UK.   \"Cockiness (Love It)\" was released as the album's sixth and final single in a remixed form featuring rapper ASAP Rocky.   2012–14: Battleship and Unapologetic  In early 2012, two collaborations featuring Rihanna were released: Coldplay's \"Princess of China\" from the album Mylo Xyloto and Drake's \"Take Care\" from his album of the same name.   In February 2012, Rihanna won her third Grammy Award for Best Rap/Sung Collaboration at the 2012 Grammy Awards, and was voted the Best International Female Solo Artist at the 2012 BRIT Awards for the second consecutive year.   March 2012 saw the simultaneous release of collaborations between Rihanna and Chris Brown: remixes of her song \"Birthday Cake\" and his \"Turn Up the Music\". The recordings received mainly negative responses due to the pair's history of domestic violence.  In September 2012, \"We Found Love\" won the MTV Video Music Award for Video of the Year, making Rihanna the first woman to receive the accolade more than once.  Rihanna performed at the 2012 NewNowNext Awards along with British singer Neon Hitch.   Rihanna starred as Petty Officer (GM2) Cora Raikes in her first theatrical feature film Battleship, which was released on May 18, 2012.  Loosely based on the game of the same name, both the film and Rihanna's performance received mixed-to-negative reviews; The New York Times said she was \"just fine in the rather generic role\".  She received a Golden Raspberry Award for Worst Supporting Actress  and, on a more positive note, a Teen Choice Award.  She appeared in Katy Perry: Part of Me, a 3D autobiographical documentary-concert film about her friend Katy Perry. On August 19, 2012, Rihanna appeared in the first episode of the second season of Oprah Winfrey's American prime time television show Oprah's Next Chapter.  The episode scored the second-highest ratings in the history of the Oprah Winfrey Network.   Rihanna's seventh studio album, Unapologetic, was released in November 2012.  In the United States, the album debuted at number one on the Billboard 200 with sales of 238,000, marking Rihanna's first number one album in the country. In addition, it was the best-selling debut week of her career, besting her fifth studio album Loud (2010).  The album was Rihanna's third consecutive number one album in the United Kingdom and fifth in Switzerland.  The lead single from the album, \"Diamonds\", reached number one in more than twenty countries worldwide, including on the US Billboard Hot 100, her twelfth number one on the chart which tied her with Madonna and The Supremes as the artists' with the fourth most number ones on the chart's history.  The album's second single, \"Stay\", featuring Mikky Ekko, reached the top five in over twenty countries, including number three on the Billboard Hot 100.  As promotion prior to the album's release, Rihanna embarked on the 777 Tour, a mini tour of seven shows in seven countries in seven days.  A documentary DVD of the tour was later released.  In February 2013 at the 55th Grammy Awards, Rihanna won her sixth Grammy Award, in the category Best Short Form Music Video for \"We Found Love\" (2011).  Also that month, the Official Charts Company announced that Rihanna had sold 3,868,000 records in the past year in the UK alone, ranking at number one in the list of 2013 BRIT Awards artist nominees.  Rihanna's fifth headlining concert tour, the Diamonds World Tour, began in March 2013 in support of Unapologetic.   Rihanna appeared in the Seth Rogen and Evan Goldberg comedy film This Is the End, released in June 2013.  That same month, American hip hop artist Wale released a remixed version of his single \"Bad\" featuring Rihanna.   In October 2013, Eminem released his Rihanna-assisted single, \"The Monster\", the fourth release from his eighth studio album The Marshall Mathers LP 2 (2013). With the song entering the UK Singles Chart at number one, Rihanna joined Elvis Presley and The Beatles as just one of three acts to have scored a number one single each year over seven consecutive years in the chart's history.  The song also peaked at number one on the Billboard Hot 100, which marked Rihanna's thirteenth chart topper, tying her with Michael Jackson for the third most number ones in the chart's 55-year history.  Cher Lloyd performed the song on X-Factor. The song won them a Grammy Award for Best Rap/Sung Collaboration at the 57th Annual Grammy Awards. Rihanna appeared on Shakira's single, \"Can't Remember to Forget You\", which was released as the first single from Shakira's album on January 13, 2014.  In May 2014, Rihanna left Def Jam to sign fully with Roc Nation, who had managed her career since October 2010. In 2013, Rihanna was originally to be featured on Pitbull's song \"Timber\", which later featured singer Kesha.   2015–present: Home and Anti  News of Rihanna's work on her eighth studio album began in 2014.   In January 2015, she released the single, \"FourFiveSeconds\", featuring Kanye West and Paul McCartney.  Two more singles were released (\"Bitch Better Have My Money\" and \"American Oxygen\"),    however the singles did not make the final track listing for her eight studio album. She also released a concept album based around the 3D animated film Home,  which she starred in, alongside Jim Parsons, Steve Martin and Jennifer Lopez. \"Towards the Sun\" was released as the first single from the Home soundtrack on February 24.  On July 1, 2015 the Recording Industry Association of America (RIAA) announced that Rihanna had surpassed more than 100 million Gold &amp; Platinum song certifications. In doing so Rihanna has the most Digital Single Awards and is the first and only artist to surpass RIAA’s 100 million cumulative singles award threshold.  On August 13, 2015, it was announced that Rihanna will be joining the ninth season of The Voice as the main advisor in October 2015.  In October 2015 it was announced that Rihanna would have a major role in the upcoming Luc Besson film, Valerian and the City of a Thousand Planets, an adaptation of the comic book series Valérian and Laureline, which will begin filming in December 2015 and scheduled for a 2017 release.    In late October 2015, it was announced that Rihanna had inked a $25 million contract with Samsung. The deal would see Rihanna promoting Samsung's Galaxy line of products whilst Samsung would sponsor the release of Anti and its supporting tour.  The Anti World Tour was announced on November 23, 2015. The tour will start in February 2016, with Travis Scott supporting in North America, and The Weeknd and Big Sean supporting at selected European dates.  Rihanna began her European tour in Amsterdam, Netherlands.  On January 28, 2016, Rihanna released her eighth studio album Anti exclusively through streaming service Tidal.  The following day, a deluxe version of the album, featuring three additional tracks, was also made available for streaming on Apple Music.  After debuting at number twenty seven on the US Billboard 200, Anti went on to peak at number one becoming Rihanna's second number one and the eighth top ten album on the chart.  The album was supported by the release of three singles including the lead single \"Work\" which features rapper Drake, and reached the number one spot on the Billboard Hot 100, and \"Needed Me\" which reached number seven.    In the second quarter of 2016, Rihanna was featured on several singles. On April 29, 2016 Calvin Harris released \"This Is What You Came For\" which reached number three on the Billboard Hot 100 and number two on the UK single charts.  Rihanna was also featured on Drakes \"Too Good\" from his album Views and Mike Will Made Its single, \"Nothing Is Promised\" which was released as the lead single from his debut album Ransom 2 on June 3, 2016.   On June 27, 2016, Rihanna released \"Sledgehammer\", the lead single from the Star Trek Beyond soundtrack.   Artistry  Music and voice  Rihanna possesses a mezzo-soprano vocal range of three octaves and two notes.  While recording tracks for her third studio album, Good Girl Gone Bad (2007), Rihanna took vocal lessons from Ne-Yo. Speaking of the experience she stated, \"I've never had vocal training, so when I'm in the studio, he'll tell me how to breathe and stuff... He'll call out these big fancy words: 'OK, I want you to do staccato.' And I'm like, 'OK, I don't know what that is.'\" Her vocal performance on Loud (2010) received positive reviews from music critics. James Skinner from BBC praised Rihanna's vocals on the song \"Love the Way You Lie (Part II)\" and wrote that her voice is powerful and that \"it is Rihanna's vocal – at once commanding, soulful and vulnerable – that anchors the song, and Loud itself\".  Andy Gill from The Independent feels that \"California King Bed\" features her best vocal performance.  In a review of Unapologetic, Billboard magazine wrote, \"Diamonds finds Rihanna doing one of her throatiest, most impassioned vocals to date, on this inspirational pop ballad.\"  Jon Caramanica of The New York Times stated, \"over the years, as her game face froze in place, her voice cured into a weapon of emotional chill and strategic indifference. It's decidedly unfriendly, made to give orders\".   Rihanna's music has encompassed a broad range of genres; including dancehall, reggae and soca, as well as pop, R&amp;B, dubstep, hip hop and electronic dance music. Some of her songs are also inspired through record sampling from other artists.  Her musical career has been an experiment with new musical ideas and stated that she wants \"to make music that could be heard in parts of the world that I'd never been to\".  Growing up in Barbados, she would listen to a lot of reggae, hip-hop, and soca music.  When she moved to the United States in 2005, she was exposed to a lot of different types of music and became inspired to infuse a bit of rock music into her sound with the track \"Kisses Don't Lie\". At the time of her debut, she recorded songs that were inspired by her Caribbean roots and described her early sound as \"a fusion of reggae, hip-hop and R&amp;B, with a little something different thrown in\".  Her early dancehall roots can be found on her debut album, Music of the Sun (2005), and its follow-up, A Girl like Me (2006).  She later experimented with pop, dubstep and rock music while shifting her musical style and image away from the Barbados island girl.   Music of the Sun (2005) demonstrates the influence of Rihanna’s musical heritage of the Caribbean. Kelefa Sanneh of The New York Times complimented its combination of dancehall and reggae, who said, \"Dancehall reggae sometimes seems like a furiously insular form of music, but ... Rihanna is only the latest singer to discover how versatile the genre's spring-loaded electronic rhythms can be\".  Her debut single, \"Pon de Replay\" features a dancehall-pop mixture that infuses a reggae style, while \"If It's Lovin' that You Want\" talks about a girl seducing a guy to be her boyfriend.  Aiming for artistic growth, A Girl like Me (2006) expresses personal experiences that typical 18-year-old girls go through with ballads that were described as elegant and mature.  Her third studio album Good Girl Gone Bad (2007) led Sal Cinquemani of Slant Magazine to write that Rihanna \"finally figured out that she's a dance artist and the majority of the album is  uptempo dance-pop\" songs like \"Push Up On Me\" and \"Don't Stop the Music\".  It represents a departure from the Caribbean sound of her previous albums, and is described as a turning point in her career.   While the first half of the record shares a lot of 1980s pop influences with songs like \"Don't Stop the Music\" and \"Shut Up and Drive\", the second half retreats into standard R&amp;B.    Recorded after the assault by her then-boyfriend, Chris Brown, Rated R (2009) had a much darker tone and was filled with various emotions she experienced throughout 2009.  In Loud (2010), Rihanna reflects on the fun and energetic vibe she had while recording the album.  The album is a mixture of ballads, party anthems, and empowering love songs.  Talk That Talk (2011) was similar to Rated R, as both contain hip hop, R&amp;B, dancehall, and dubstep genres.  Loud and Talk That Talk also saw her return to her dancehall roots, evident in the tracks like \"Man Down\" and \"Watch n' Learn\".  She also branched out into house music with tracks like \"We Found Love\", \"Only Girl (In the World)\" and \"Complicated.\"   Influences  Rihanna has named Madonna as her idol and biggest influence. She said that she wanted to be the \"black Madonna\" and praised the singer for being able to constantly reinvent herself successfully throughout her career.  \"I think that Madonna was a great inspiration for me, especially on my earlier work. If I had to examine her evolution through time, I think she reinvented her clothing style and music with success every single time. And at the same time remained a real force in entertainment in the whole world.\"  Another major influence on Rihanna's music and career has been Mariah Carey, whose song \"Hero\" she performed when Rihanna was still a teenager at her high school talent show.  She revealed that Carey's song \"Vision of Love\" \"was the song that made [her] want to do music\" and that \"everything Mariah did, [she] would try to do.\"   She grew up watching videos of reggae legend Bob Marley on television because that's what they would play in the Caribbean.  She stated, \"[h]e's one of my favorite artists of all time [...] he really paved the way for every other artist out of the Caribbean\".  She built a shrine in her home dedicated to the reggae legend and has covered Marley's \"Is This Love\" and Bob Marley &amp; The Wailers' \"Redemption Song\" during her concert tours.    During her childhood, she would go around singing Whitney Houston songs and \"A Whole New World\" into her hairbrush so much that her neighbors started calling her \"Robyn Redbreast\".  She also stated that one of the first songs she remembers falling in love with was Houston's version of \"I Will Always Love You\" and that it \"was really inspiring, and it made me develop a passion for music, so really, she’s partly responsible for me being here in this industry.\"   Rihanna commented that Janet Jackson \"was one of the first female pop icons that I could relate to\" and that late R&amp;B singer Aaliyah has a huge impact on her style and also complimented on the singers artistry as well.   Watching Beyoncé on television with Destiny's Child also inspired Rihanna's musical career, who was chosen along with R&amp;B recording artists Amerie and Teairra Marí, to give a tribute performance to the female group at the 2005 World Music Awards.   Other musical influences and idols include Celine Dion, Alicia Keys,  Prince[http://www.nme.com/blogs/nme-blogs/14-artists-that-wouldnt-be-the-same-without-prince 21 Artists Who Wouldn't Be The Same Without Prince] Fefe Dobson,  and Brandy.  Rihanna takes influence from the different types of music she discovered when she came to America and revealed that rock music was one of the first genres she fell in love with. She commented, \"as I grow older, I want to know more about music. I want to discover more types of music\". She cited Brandy's fourth studio album, Afrodisiac (2004), as her main inspiration for her third album, Good Girl Gone Bad (2007). In her early career, her music contained strong influences of Caribbean music, including reggae and dancehall.  The music video of the song \"Rude Boy\" featured images inspired by her Caribbean roots. She commented that Marilyn Monroe and vintage clothing served as visual inspirations for the music videos for \"Hate That I Love You\" and \"Rehab\".  Videos and stage  Rihanna has worked with music video director Anthony Mandler on more than a dozen music videos, the first being \"Unfaithful\" (2006).  \"We've done 16 videos together; they're not all tough, [...] Yeah, I mean, I'm known for the 'Disturbia's and the 'Russian Roulette's and things like that, but 'Only Girl (In the World)' is certainly an ethereal kind of empowering, beauty-filled video,\" Mandler said. Jocelyn Vena of MTV wrote, \"Rihanna, like Madonna, also has a tendency to make truly thought-provoking music videos that fit the songs they represent. Smattered in between glitzier, more glamorous clips, Madge and Ri want us to think about bigger issues\". Jon Bream of the Star Tribune commented \"[i]n the tradition of Madonna and Janet Jackson, Rihanna has become the video vixen of the '00s ... Rihanna has perfected the pout, the long-legged strut and trend-setting hairdos that keep women and men alike checking her out on YouTube.\"  George Epaminondas of InStyle considers Rihanna's music videos to be \"cinematic\" due to her \"blend of lush island rhythms and swinging pop and ... mischievous sensuality.\"  Tamar Anitai from MTV Buzzworthy listed \"Disturbia\" at number five on the \"Buzzworthy's Top 5 Most Paranoid Music Videos\" and said that \"Paranoia never looked so supernaturally sexy!\".   Many of her music videos were shot as short films exploring issues such as love triangles, abuse, and substance abuse romance, including \"We Found Love\" and \"Man Down\". Her music video for \"Umbrella\" shows Rihanna's transition into adulthood and her newly adopted image.   The \"dark, creepy\" scenes of \"Disturbia\" have been compared to Michael Jackson's Thriller.  The video for \"Russian Roulette\" features Rihanna in a padded room playing a game of russian roulette with her partner. A scene of Rihanna being approached by a speeding car at night was compared to the altercation with Chris Brown.  The Caribbean-inspired music video for \"Rude Boy\" was compared to rapper M.I.A.'s video \"Boyz\" by many critics for its colorful aesthetic similarities. In 2011, she released three controversial music videos about sadomasochism, rape, and domestic violence.  \"Man Down\", which features Rihanna shooting a man in a train station, was criticized by the Parents Television Council.  \"We Found Love\", which shows Rihanna and her love interest in a drug-filled unhealthy relationship, sparked criticism from the Rape Crisis Centre for its inappropriate message.  But Charne Graham of the Houston Press defended the singer, asking, \"Why should Rihanna's music videos get everyone riled up when others' equally sexual and controversial videos are in rotation? [...] she just like[s] to make music videos that give us something to talk about.\" She is the first woman to pass two billion cumulative views on the music video website VEVO.  As of September 2013, she has accumulated over four billion views on the site.   Denis Armstrong of Canadian Online Explorer commented on her performance at the Ottawa Bluesfest, saying \"her show was a Disney-esque choreographed fantasy of non-stop hip-swiveling, sassy attitude and personal endearments and a string of funky, sugar-free hits.\"  Her performance of \"Disturbia\" at the 2008 MTV Video Music Awards was ranked tenth best on the MTV Video Music Awards, according to a Billboard poll.  Her revealing leather costumes during her Good Girl Gone Bad Tour were highly criticized by Malaysia's conservative Islamic party, who recommended that her concert tour should be banned.  Whilst commenting on her third album's accompanying tour, The Times compared Rihanna's stage wardrobe styling to that of Janet Jackson and called her \"a vision of Ann Summers couture in thigh-high boots and a few scraps of black PVC.\"  In the October 2011 issue of British Vogue, Rihanna said her performance outfits and appearances are all an act; \"[t]hat's not me. That's a part I play. You know, like it's a piece of art, with all these toys and textures to play with\".   Image  Public profile  Known for reinventing her style and image, Rihanna's music and fashion sense are noted by the media.  In 2009, New York magazine described Rihanna's early look as that of a cookie-cutter teen queen, noting she has the ability to shift looks dramatically and with great ease.  Around the time of the release of her second studio album, A Girl like Me (2006), many critics felt that Rihanna's style, sound, and musical material were too similar to those of Beyoncé.   In an interview with Look magazine, Rihanna spoke about comparisons to Beyonce: \"Beyoncé is a great artist and I feel honored to be mentioned in the same sentence, but we're different performers with different styles\".  She revealed during Oprah's Next Chapter that Def Jam's pop-princess blueprint made her feel claustrophobic during her early years with the label.  According to Rihanna, \"I felt like they were giving me a blueprint. [...] They had a brand, they had an idea of what they wanted me to be without figuring out who I was.\"  With the release of her third album, Good Girl Gone Bad (2007), Rihanna dismissed her innocent image for an edgier look with a new hairstyle, which was inspired by Charlize Theron's bob cut in the science fiction thriller Æon Flux (2005).  She followed the likes of recording artists Janet Jackson and Christina Aguilera who also shed their innocent image for an edgier look and sound.   Nico Amarca of Highsnobiety magazine wrote \"over the course of her now 10-year career, [Rihanna] has undergone one of the most significant aesthetic metamorphoses the world has ever seen\".  She has changed her personal appearance and fashion several times with different hairstyles since the release of her third album.   She commented that as a child she \"used to watch her [mother] get dressed\" and that her love and admiration for fashion started with her mom.  When putting together her own wardrobe she stated, \"It's become more about taking a risk ... I always look for the most interesting silhouette or something that's a little off.\"  Jess Cartner-Morley of The Guardian wrote that \"Rihanna's wardrobe is the most talked-about, influential and dissected in pop right now\" and that whatever she wears \"is immediately reproduced on the high street, because it sells\".  Despite being criticized for her revealing outfits,  country singer Miranda Lambert admires Rihanna's fashion and style.  \"I don't necessarily get inspired by the whole no-bra thing, but I love that you never know what she's going to wear. It always keeps you guessing, which makes her sassy and interesting.\"  In an interview with Alexa Chung during Vogue Festival 2015, Balmain designer Olivier Rousteing praised Rihanna by stylistically comparing her to some of the biggest fashion icons in music history, such as Madonna, David Bowie, Michael Jackson, and Prince.  Commenting on the cultural expectation for pop stars to be role models, she said \"[being a role model] became more of my job than I wanted it to be. But no, I just want to make music. That's it\". In a May 2013 interview with MTV, The Vagina Monologues writer and feminist Eve Ensler praised the singer, saying, \"I'm a huge Rihanna fan, I think she has a kind of agency over her sexuality and she's open about her sexuality, she has enormous grace and she's immensely talented.\"   Appearance  Described as one of the sexiest woman of her generation, she revealed that being a sex symbol is not a priority and that \"it's definitely flattering, but also uncomfortable.\"  Emily Hewett from Metro wrote, \"Rihanna is quite possibly [the] most sexiest woman in the world. The 25-year-old songbird can grind like no other, pull off a provocative pose better than a Playboy pro.\"  Her appearance has landed her on the cover of magazines such as Maxim, FHM, Rolling Stone and GQ.  She has appeared in the top ten on Maxims Hot 100 list and on FHMs \"100 Sexiest Women in the World\" several times.   In 2007, she was tagged Venus Breeze's \"Celebrity Legs of a Goddess\" by Gillette,  and was ranked second on People magazine's list of \"10 Best Dressed Stars\" the following year.  In 2009, Glamour ranked her at number 17 on the 50 Most Glamorous Women and Esquire named her the Sexiest Woman Alive of 2011.   In December 2012, Rihanna became the first woman to be featured on the cover of GQ magazine's \"Men of the Year\" issue and ranked fifth on Complex list of \"100 Hottest Female Singers of All Time\".  The following year, VH1 placed Rihanna second on their list of \"100 Sexiest Artists\".   Rihanna is well known for having a wide collection of small tattoos around her body. The sixteen in total include two musical notes on the front of her ankle, a skull with a pink hair bow on the back of her ankle, a Pisces sign behind her right ear,   a Sanskrit prayer going down her hip, a star in her left ear,  the word \"love\" on her left middle finger,  an Arabic phrase meaning \"Freedom in Christ\" on her ribcage area,  a trail of stars going down the back of her neck,   the phrase \"shhh...\" on her right index finger,  the date 11.4.86 in Roman numerals on top of her left shoulder,  a henna-style tribal dragon claw including hibiscus flowers inside her right hand/wrist,  and a handgun under her right armpit. A gun tattoo was planned to be placed just below her shoulders but was ultimately located on her ribcage.  In late 2009, Rihanna had the phrase, \"Never a failure, always a lesson\" inked onto her chest backwards as she wanted to be able to read it in the mirror; it is her \"motto in life for everything\".  In mid-2010, the phrase \"rebelle fleur\" was tattooed onto the singer's neck.   Legacy  Rihanna's first albums established her as a \"Pop/R&amp;B Princess\"  by music critics; Nick Levine of Digital Spy described her third studio album Good Girl Gone Bad, as the closest thing to a Thriller that 2007/08 is likely to produce.  Her single \"Umbrella\", famous for its \"ella ella\" hook, is considered by Rolling Stone to be one of the 500 Greatest Songs of All Time.  Her 2011 single \"We Found Love\" was ranked by Billboard as the 24th biggest US Billboard Hot 100 hit of all time.  The music video for the song won the Grammy for Best Short Form Music Video and MTV's Video of the Year.   Time magazine included Rihanna on its 100 Most Influential People in 2012.  Her collaboration with Eminem, \"Love the Way You Lie\", together with \"Umbrella\", \"Disturbia\", \"Only Girl (In the World)\", \"We Found Love\", and \"Diamonds\", are some of the best-selling singles of all time worldwide. In November 2013, Rihanna was given the \"Icon Award\" at the 2013 American Music Awards.   On June 2, 2014, Rihanna was presented with Fashion Icon lifetime achievement award from Council of Fashion Designers of America (CFDA), a special prize reserved for \"an individual whose style has made a significant impact on popular culture on an international stage\".  In August 2013, Rihanna was named the 15th biggest U.S. Billboard Hot 100 artist of all time,  becoming the highest ranking newcomer on the list since the last time Billboard compiled all time artists in 2008.  In the same month, Billboard ranked Rihanna the top Hot 100 artist of the 2010s decade.  Rihanna's work has directly influenced a number of contemporary artists such as Little Mix,  Selena Gomez,  Justin Bieber,  Ellie Goulding,  Tegan and Sara,  Jessie J,  Cover Drive,  Fifth Harmony,  Demi Lovato,  Alexandra Stan  and Willow Smith.  Rihanna has an honorary title of Ambassador for Culture and Youth in Barbados.  Additionally, Rihanna has become a dominating figure in social media and internet streaming, ranking at number one on Forbes' 2012 list of Social Networking Superstars.  In 2013, Rihanna was also named the most influential pop star in the United Kingdom by UK channel 4Music.  Time magazine created a pop star ranking metric in 2014, measuring artist's number of hits, chart placement, and longevity since 1960. Rihanna was ranked second, only behind Mariah Carey.   Achievements  Rihanna has received numerous awards throughout her career such as eight Grammy Awards, twelve Billboard Music Awards, nine American Music Awards, four iHeartRadio Music Awards and more.   Rihanna has sold over 200 million records worldwide, making her one of the best-selling music artists of all time. In the United States, Rihanna has sold over 10 million albums,  while Nielsen SoundScan ranked her as the best-selling digital artist in the country, breaking a Guinness World Record for digital single sales of over 58 million as of 2012.    On July 1, 2015 the Recording Industry Association of America (RIAA) announced that Rihanna had surpassed more than 100 million Gold &amp; Platinum song certifications. In doing so Rihanna has the most digital single awards and is the first and only artist to surpass RIAA’s 100 million cumulative singles award threshold. In the United Kingdom, she has sold over 7 million albums making her 3rd best selling female this century.   The singer has accumulated fourteen number one singles on the U.S. Billboard Hot 100 chart for the third most number ones in chart's history.  She has been named the top Mainstream Top 40 chart artist of the past twenty years by Billboard; she ranks first with most entries (36), most top tens (23), and most number ones (10).  As of March 2014, Rihanna has sold over 18 million singles and six million albums in the United Kingdom.   She is the tenth best-selling  and the second best-selling female singles artist in the country, only behind Madonna  and is second only to The Beatles for the most million-selling singles in the UK of all time.   Other ventures  Endorsements  Rihanna has ventured into other businesses and industries. In October 2005, Rihanna struck an endorsement deal (her first of many) with Secret Body Spray.  In 2010, Rihanna featured in the Optus commercial, in conjunction with Optus supporting Rihanna's Last Girl on Earth Tour.  The same year Rihanna also featured in the Kodak commercial along with rapper Pitbull.  In October 2010, the singer released an eponymous book.  The book, featured photos from Rihanna's Last Girl on Earth Tour and served as an accompaniment to her fourth studio album Rated R (2009). Rihanna's first fragrance, \"Reb'l Fleur\", was released on January 2011.  The product became highly successful, according to Rolling Stone, Reb'l Fleur was a financial success and was expected to gross US$80 million at retail by the end of 2011.  In 2011, Nivea celebrated its \"100 Years of Skincare\" festivities which featured several performances from Rihanna.  Rihanna's song \"California King Bed\" was featured as a part of the \"100 Years of Skincare\" commercial campaign.  Rihanna also became the face of Vita Coco in 2011.   Rihanna's second fragrance, \"Rebelle\", was released in February 2012.  The promotional campaign for Rebelle, was shot by director, Anthony Mandler, who also shot the promotional campaign for Reb'l Fleur.  In November 2012, Rihanna released her third fragrance, \"Nude\". In 2013, the singer collaborated with MAC Cosmetics and released her own summer, fall and holiday lines of makeup called \"RiRi hearts MAC\".  In July 2013, lager production company Budweiser announced that Rihanna had become a part of their global \"Made For Music\" campaign, also co-starring Jay-Z. A commercial video was released featuring the singer and song \"Right Now\".  Rihanna's fourth women's fragrance, titled Rogue was released on September 14, 2013. The singer announces to release a men's version the following year.  It was announced on August 1, 2014 that September 2014 will see the release Rihanna's first fragrance for men, \"Rogue Man\". Also in July 2015, she announced her latest fragrance, RiRi by Rihanna. The scent features notes of passion fruit extract, rum absolute, sparkling cassis, and Italian mandarin and arrive at retailers in September 2015.   Business endeavours  On March 30, 2015, it was announced that Rihanna is a co-owner, with various other music artists, in the music streaming service Tidal. The service specialises in lossless audio and high definition music videos. Jay Z acquired the parent company of Tidal, Aspiro, in the first quarter of 2015.  Including Beyoncé and Jay-Z, sixteen artist stakeholders (such as Kanye West, Beyoncé, Madonna, Chris Martin, Nicki Minaj and more) co-own Tidal, with the majority owning a 3% equity stake.  \"The challenge is to get everyone to respect music again, to recognize its value\", stated Jay-Z on the release of Tidal.   In November 2015, Rihanna and Benoit Demouy launched a beauty and stylist agency named Fr8me. The business based in Los Angeles was set up in order to assist artists in booking commercials, editorial shoots, ad campaigns, and red-carpet appearances. Speaking on the venture Rihanna stated \"Hair, makeup and styling play an important role in creativity, I am very involved with that part of my process, so this agency was an organic thing for me to do.\" The roster includes Rihanna’s makeup artist Mylah Morales, wardrobe stylist Jason Bolden, hairstylist Patricia Morales, and Marcia Hamilton.  In addition to Fr8me, Rihanna opened a photo agency called \"A Dog Ate My Homework\", which represents photographers Erik Asla and Deborah Anderson.  Under her PUMA collection, she released the \"Puma Creepers\".  Then in 2016, she released the PUMA Fenty Trainer, which premiered in red, white, and black, and then was scheduled to release in a grey \"Quarry\" colorway at midnight on June 14 via Packer Shoes; they sold for $180. The \"Fenty Trainers\" were available on June 15 in-store at both Packer Shoes locations.  Fashion  The singer's first fashion range, for Armani, became available in November 2011.  Rihanna's 2010 song \"Skin\" was used in the Armani Jeans and Emporio Armani Underwear adds.   Her first television program, Styled to Rock, premiered in the UK in August 2012 on Sky Living. In the ten-week series, Rihanna, Nicola Roberts, Lysa Cooper, and Henry Holland assist up-and-coming British designers with their clothing lines.  In February 2013, Rihanna presented her first women's spring fashion collection at London Fashion Week for British street fashion brand River Island, collaborating with her personal stylist Adam Selman.  They published two more collections for the brand, a summer edition released on May 25, 2013 and an autumn edition released on September 10, 2013.  The fourth and last collection for River Island, the winter edition was released on November 7, 2013.  Meanwhile, the US version of Styled to Rock premiered on October 25, 2013 on Bravo.   In December 2013, it was announced that Rihanna is set to be the new face of the forthcoming spring/summer 2014 campaign — due to appear in magazines from January — of the French fashion house Balmain.  On June 2, 2014, Rihanna \"will receive the Fashion Icon Award at the 2014 Council of Fashion Designers of America Fashion Awards\" at the Lincoln Center's Alice Tully Hall.  In December 2014, it was announced that Rihanna would become the creative director of the fashion sportswear Puma, overseeing the brand’s women’s line which will include collaborations in apparel and footwear.   In March 2015, it was announced that Rihanna was chosen as the new face of Dior; this makes her the first black woman to be the face of Dior.  In July 2015, Rihanna announced that she would design multiple seasons of a signature women's collection of socks in a multi-year partnership with Stance. The first release included two limited-edition styles in a print called \"Murder Rih Wrote,\" with further designs to follow.  In March 2016, Rihanna teamed up with Manolo Blahnik for an all denim shoe line.  She has collaborated with luxury fashion Label Dior to create a line of futuristic sunglasses she debuted on instagram.  It is simply called \"Rihanna. \"  Mexican singer Becky G has stated Rihanna is one of style icons to Latina magazine.   Philanthropy  In 2006, she created her Believe Foundation to help terminally ill children.   In 2007, Rihanna was named as one of the Cartier Love Charity Bracelet Ambassadors, with each celebrity representing a different global charity.  To help raise awareness and combat HIV/AIDS, Rihanna and other public figures designed clothing for the February 2008 H&amp;M Fashion Against AIDS line.    In 2008, Rihanna performed a series of charity concerts entitled A Girl's Night Out  to benefit the Believe Foundation. The concerts were made free for the public. Money from sponsors and advertisers were to be donated to provide medical supplies, school supplies and toys to children in need.    In September 2008, Rihanna contributed to the song \"Just Stand Up!\" with fifteen other female artists, who shared the stage to perform the song live on September 5, 2008, during the \"Stand Up to Cancer\" television special. The proceeds from the single were given to the fundraiser.  The television special helped raise $100 million for cancer research.   Rihanna founded the Clara Lionel Foundation (CLF) in 2012, in honor of her grandparents, Clara and Lionel Braithwaite. Current programs include the Clara Braithwaite Center for Oncology and Nuclear Medicine at the Queen Elizabeth Hospital in Barbados, and education programs.   The CLF host an annual Diamond Ball—charity fundraiser event. The inaugural event in 2014 raised over $2 million, with the second raising over $3 million.    On February 12, 2012, Rihanna performed a benefit show at the House of Blues to raise money for the Children's Orthopaedic Center and The Mark Taper-Johnny Mercer Artists Program at Children's Hospital.  In November 2012, Rihanna gave $100,000 to food bank donation for Hurricane Sandy,  On January 3, 2014 Rihanna was part of the MAC Viva Glam campaign, which benefits women, men, and children living with HIV/AIDS.   Personal life  On February 8, 2009, Rihanna's scheduled performance at the 51st Annual Grammy Awards was cancelled.  Reports surfaced that then-boyfriend, singer Chris Brown had beaten her. He was arrested on suspicion of making criminal threats.  On March 5, 2009, Brown was charged with assault and making criminal threats.  Due to a leaked photograph from the police department obtained by TMZ.com—which revealed that Rihanna had sustained visible injuries—an organization known as STOParazzi proposed \"Rihanna's Law\", which, if enacted, would \"deter employees of law enforcement agencies from releasing photos or information that exploits crime victims.\"  Gil Kaufman of VH1 reported the \"nonstop coverage of the Rihanna/Brown case has brought up a number of issues regarding the privacy of alleged victims of domestic violence, including the decision by almost all major news outlets to divulge the identity of the victim—which is not typically done in domestic-violence cases\" and discussed the controversial distribution of the leaked photograph.  Rihanna was subpoenaed to testify during a preliminary hearing in Los Angeles on June 22, 2009.  On June 22, 2009, Brown pleaded guilty to felony assault. Brown received five years probation and was ordered to stay fifty yards (46 meters) away from Rihanna, unless at public events, which then would be reduced to ten yards (nine meters).  In February 2011, at the request of Brown's lawyer and with Rihanna's consent, Judge Patricia Schnegg modified the restraining order to a \"level one order\", which allows the singers to appear at awards shows together in the future.    From December 2009 to 2010, Rihanna dated Dodgers baseball player Matt Kemp.  Canadian rapper Drake has also dated the singer.  In a January 2013 interview with Rolling Stone, Rihanna confirmed that she had rekindled her relationship with Chris Brown,  though he remained under probation for the 2009 domestic violence incident.  The confirmation followed persistent media speculation throughout 2012 regarding the pair's reunion.   In a May 2013 interview, Brown stated that he and Rihanna had broken up again.  In 2015, Rihanna briefly dated Travis Scott, a rapper from Missouri City, Texas   Rihanna has stated that she believes in God and that she focuses on obeying God and reading her Bible. She is a fan of Protestant charismatic minister Joyce Meyer.   In 2015, Rihanna told Harper's Bazaar that her faith in God has helped her throughout her career.   During her performance at the NCAA March Madness Music Festival, Rihanna expressed her disagreement with Indiana's Religious Freedom Restoration Act that allows companies and individuals to use their religious beliefs as protection, in case of being accused of discrimination against LGBT people.  Rihanna along with numerous other high profile celebrities featured in an online video entitled \"23 Ways You Could Be Killed If You Are Black in America\". The video was released in partnership with the We Are Here Movement and called for action against police brutality.   According to the New York Post, Rihanna filed a lawsuit against Peter Gunis and the firm Berdon LLP for $35 million but settled out of court for more than $10 million.  Forbes began reporting on Rihanna's earnings in 2012, calculating that she earned $53 million between May 2011 and May 2012, for her music, tour, and endorsements.  In 2013, Rihanna came in at number 13 on the list with a total earning of $43 million due to endorsements such as vita coco.    In 2015 Rihanna earned $26 million, which resulted in her net worth rising to $160 million by 2016. In July 2016, Forbes magazine placed Rihanna at number 13 on their list of highest paid celebrities, earning $75 million between 2015 and 2016.   Rihanna currently lives in Manhattan, New York City and owns a penthouse there that is worth $14 million.   Discography  * Music of the Sun (2005) * A Girl like Me (2006) * Good Girl Gone Bad (2007) * Rated R (2009) * Loud (2010) * Talk That Talk (2011) * Unapologetic (2012) * Anti (2016)  Filmography  * Bring It On: All or Nothing (2006) * Battleship (2012) * Coldplay Live 2012 (2012) * Katy Perry: Part of Me (2012) * This Is the End (2013) * Annie (2014) * Home (2015) * Bates Motel (2017)  * Valerian and the City of a Thousand Planets (2017)  Tours  * Rihanna: Live in Concert Tour (2006) * Good Girl Gone Bad Tour (2007–09) * Last Girl on Earth Tour (2010–11) * Loud Tour (2011) * Diamonds World Tour (2013) * The Monster Tour (with Eminem) (2014) * Anti World Tour (2016)</td>\n",
              "      <td>rihanna</td>\n",
              "      <td>Which singer had a 2008 number one hit with the song 'Take A Bow'?</td>\n",
              "      <td>[RihRih, Rianna, Robyn R. Fenty, Emergency room (song), Whipping My Hair, Ihanna, Westbury Road Entertainment, Rihanna (singer), Emergency Room (Rihanna song), James Joint, Emergency Room (Featuring Akon), Diamonds tour, Rihanna in popular culture, RiRi, Robyn Fenty, Rihanna Fenty, Whippin' My Hair, Whipping My Hair (Rihanna Song), RIHANNA, Rihana, Riri, Rihanna, Renown (Rihanna album), Rihannah, Coffret 4 CD, Rihanna: World Tour 2013, Robyn Rihanna, Robyn Rihanna Fenty]</td>\n",
              "    </tr>\n",
              "  </tbody>\n",
              "</table>"
            ],
            "text/plain": [
              "<IPython.core.display.HTML object>"
            ]
          },
          "metadata": {
            "tags": []
          }
        }
      ]
    },
    {
      "cell_type": "markdown",
      "metadata": {
        "id": "dqcviRfJw-3M"
      },
      "source": [
        "Great 🙂 - that's the structure that we wanted! Looking at the examples should also make it clear how large the context of the model can be! Also note that some samples can have an empty context. For those samples it is impossible to extract the correct answer from the context since the context is empty. \n",
        "\n",
        "We filter out those data samples for which we can use the convenient `.filter()` function of `datasets` again."
      ]
    },
    {
      "cell_type": "code",
      "metadata": {
        "colab": {
          "base_uri": "https://localhost:8080/"
        },
        "id": "j0vSycFKxc0O",
        "outputId": "c852efba-6cf5-4e04-8d91-1233e12e1a67"
      },
      "source": [
        "validation_dataset = validation_dataset.filter(lambda x: len(x[\"context\"]) > 0)\n",
        "# check out how many samples are left\n",
        "validation_dataset"
      ],
      "execution_count": null,
      "outputs": [
        {
          "output_type": "stream",
          "text": [
            "Loading cached processed dataset at /root/.cache/huggingface/datasets/trivia_qa/rc/1.1.0/c1b17d80bfdd2f43b13e4b5741847f704115379ecebcb21e0917d2e8ddaa1ff1/cache-499a8202c2805ef0.arrow\n"
          ],
          "name": "stderr"
        },
        {
          "output_type": "execute_result",
          "data": {
            "text/plain": [
              "Dataset({\n",
              "    features: ['context', 'norm_target', 'question', 'targets'],\n",
              "    num_rows: 16504\n",
              "})"
            ]
          },
          "metadata": {
            "tags": []
          },
          "execution_count": 26
        }
      ]
    },
    {
      "cell_type": "markdown",
      "metadata": {
        "id": "IMh8EvQoxsrF"
      },
      "source": [
        "Looks like more or less half of our examples have no context and are now filtered out. Let's think about the evaluation on *BigBird* now. \n",
        "\n",
        "*BigBird* is able to process inputs of up to a length of **4096** tokens, has a vocab size of *ca.* 50K tokens, and makes use of the [**sentencepiece**](https://github.com/google/sentencepiece) tokenizer. \n",
        "\n",
        "Given this information, we can assume that a single token of *BigBird*'s vocabulary represents roughly 4 characters on average. \n",
        "\n",
        "To better understand how important it is to take the full context into account, we create a second `\"shorter\"` dataset. This `short_validation_dataset` only consists of data samples that do **not** exceed 4 * 4096 characters, which corresponds *ca.* to *BigBird*'s maximum length of 4096 tokens.\n",
        "\n",
        "Again we can apply the convenient `.filter()` function."
      ]
    },
    {
      "cell_type": "code",
      "metadata": {
        "colab": {
          "base_uri": "https://localhost:8080/"
        },
        "id": "4ebRyrOmy4br",
        "outputId": "5758fbe4-e657-47ae-e08f-a9dc137b6ecc"
      },
      "source": [
        "short_validation_dataset = validation_dataset.filter(lambda x: (len(x['question']) + len(x['context'])) < 4 * 4096)\n",
        "short_validation_dataset\n"
      ],
      "execution_count": null,
      "outputs": [
        {
          "output_type": "stream",
          "text": [
            "Loading cached processed dataset at /root/.cache/huggingface/datasets/trivia_qa/rc/1.1.0/c1b17d80bfdd2f43b13e4b5741847f704115379ecebcb21e0917d2e8ddaa1ff1/cache-742ab8ff9f852b82.arrow\n"
          ],
          "name": "stderr"
        },
        {
          "output_type": "execute_result",
          "data": {
            "text/plain": [
              "Dataset({\n",
              "    features: ['context', 'norm_target', 'question', 'targets'],\n",
              "    num_rows: 4159\n",
              "})"
            ]
          },
          "metadata": {
            "tags": []
          },
          "execution_count": 27
        }
      ]
    },
    {
      "cell_type": "markdown",
      "metadata": {
        "id": "m5MyFEZqzwZ-"
      },
      "source": [
        "Interesting! We can see that only 4159 of the 16504 examples have less than $4 \\times 4096 = 16384$ characters...\n",
        "\n",
        "Most examples seem to have a very long context which will have to be cut to BigBird's maximum length when evaluating the full dataset.\n",
        "\n",
        "Great, we have now preprocessed the complete dataset `validation_dataset` and a shorter version `short_validation_dataset` that only consists of data samples $< 4096$ tokens."
      ]
    },
    {
      "cell_type": "markdown",
      "metadata": {
        "id": "WDPrsXOTV6R2"
      },
      "source": [
        "### Evaluation\n",
        "\n",
        "It's time to evaluate *BigBird* on *TriviaQA* 🚀. `BigBirdTokenizer` requires the `sentencepiece` library, so let's install this first."
      ]
    },
    {
      "cell_type": "code",
      "metadata": {
        "colab": {
          "base_uri": "https://localhost:8080/"
        },
        "id": "wNYKpdyRChkE",
        "outputId": "21d2bbce-dbe3-4887-9a01-8a8258d5b9ae"
      },
      "source": [
        "!pip install sentencepiece"
      ],
      "execution_count": null,
      "outputs": [
        {
          "output_type": "stream",
          "text": [
            "Requirement already satisfied: sentencepiece in /usr/local/lib/python3.7/dist-packages (0.1.95)\n"
          ],
          "name": "stdout"
        }
      ]
    },
    {
      "cell_type": "markdown",
      "metadata": {
        "id": "gK8J_AvFKTcc"
      },
      "source": [
        "Let's import the pretrained `BigBirdForQuestionAnswering` model. For more details on `BigBirdForQuestionAnswering`, see [TODO: here]()."
      ]
    },
    {
      "cell_type": "code",
      "metadata": {
        "id": "ecjNtnAuKYo8"
      },
      "source": [
        "from transformers import BigBirdTokenizer, BigBirdForQuestionAnswering\n",
        "\n",
        "tokenizer = BigBirdTokenizer.from_pretrained(\"google/bigbird-base-trivia-itc\")\n",
        "model = BigBirdForQuestionAnswering.from_pretrained(\"google/bigbird-base-trivia-itc\").to(\"cuda\")"
      ],
      "execution_count": null,
      "outputs": []
    },
    {
      "cell_type": "markdown",
      "metadata": {
        "id": "MfCi-h_xCqQ1"
      },
      "source": [
        "\n",
        "Next, we will write the evaluation function. Google's official evaluation scripts for *TriviaQA* includes many improvements to make sure that:\n",
        "\n",
        "- multiple aliases of **both** the model's prediction **and** the label are created. This way it can be assured that a correct prediction that only differs in format to the label is indeed classified as being correct. For this, we will write an `expand_to_aliases` function which will normalise the targets and prediction.\n",
        "- the model returns a *non-empty* answer. This can be achieved by using the `top_k` scores returned by model to filter out scores which would lead to an emtpy answer.\n",
        "\n",
        "Let's first define the `expand_to_aliases` function."
      ]
    },
    {
      "cell_type": "code",
      "metadata": {
        "id": "umi9J1DBxTyC"
      },
      "source": [
        "PUNCTUATION_SET_TO_EXCLUDE = set(''.join(['‘', '’', '´', '`', '.', ',', '-', '\"']))\n",
        "\n",
        "def get_sub_answers(answers, begin=0, end=None):\n",
        "  return [\" \".join(x.split(\" \")[begin:end]) for x in answers if len(x.split(\" \")) > 1]\n",
        "\n",
        "def expand_to_aliases(given_answers, make_sub_answers=False):\n",
        "  if make_sub_answers:\n",
        "    # if answers are longer than one word, make sure a predictions is correct if it coresponds to the complete 1: or :-1 sub word\n",
        "    # *e.g.* if the correct answer contains a prefix such as \"the\", or \"a\"\n",
        "    given_answers = given_answers + get_sub_answers(given_answers, begin=1) + get_sub_answers(given_answers, end=-1)\n",
        "  answers = []\n",
        "  for answer in given_answers:\n",
        "    alias = answer.replace('_', ' ').lower()\n",
        "    alias = ''.join(c if c not in PUNCTUATION_SET_TO_EXCLUDE else ' ' for c in alias)\n",
        "    answers.append(' '.join(alias.split()).strip())\n",
        "  return set(answers)"
      ],
      "execution_count": null,
      "outputs": []
    },
    {
      "cell_type": "markdown",
      "metadata": {
        "id": "ceT6f51qxfnt"
      },
      "source": [
        "Here we use a RoBERTa-like model for question answering which means that the answer is not generated auto-regressively by the model, but rather the model has to extract the correct answer from the context. It does so by predicted the start index of the answer as well as the end index and therefore returns two logit vectors at evaluation:\n",
        "\n",
        "1. `start_scores` of size $\\text{batch_size} \\times \\text{sequence_length}$ and\n",
        "2. `end_scores` of size $\\text{batch_size} \\times \\text{sequence_length}$, with\n",
        "\n",
        "$\\text{sequence_length}$ being the sum of the question length and the context length. Each value in `start_scores` and `end_scores` is therefore proportional to the probability that probability that its corresponding index is the start (*resp.* end) index of the answer. The answer can then be computed as the subarray of the tokenized input question + input context: \n",
        "\n",
        "```python\n",
        "predicted_answer = tokenized_question_and_context[best_start_index: best_end_index + 1]\n",
        "``` \n",
        "\n",
        "Now instead of just taking the most likely start and end index, we can compute the $\\text{top_k}^2$ best start and end index combinations and pick the most likely combination that is **valid**. We define a **valid** combination as one where the start index is smaller than the end index and where $\\text{end_index} - \\text{start_index} < \\text{max_size}$.\n",
        "\n",
        "Alright quite some theory here - let's write up the function."
      ]
    },
    {
      "cell_type": "code",
      "metadata": {
        "id": "oIUReLlh9tG8"
      },
      "source": [
        "def get_best_valid_start_end_idx(start_scores, end_scores, top_k=1, max_size=100):\n",
        "    best_start_scores, best_start_idx = torch.topk(start_scores, top_k)\n",
        "    best_end_scores, best_end_idx = torch.topk(end_scores, top_k)\n",
        "\n",
        "    widths = best_end_idx[:, None] - best_start_idx[None, :]\n",
        "    mask = torch.logical_or(widths < 0, widths > max_size)\n",
        "    scores = (best_end_scores[:, None] + best_start_scores[None, :]) - (1e8 * mask)\n",
        "    best_score = torch.argmax(scores).item()\n",
        "\n",
        "    return best_start_idx[best_score % top_k], best_end_idx[best_score // top_k]"
      ],
      "execution_count": null,
      "outputs": []
    },
    {
      "cell_type": "markdown",
      "metadata": {
        "id": "8sXUJq8710qb"
      },
      "source": [
        "Alright, finally we can write the evaluation function. First, we tokenize the `question` and `context` and make sure that the maximum length does not exceed the model's `max_position_embeddings` of 4096 tokens.\n",
        "Then, we pass the concatenated question and context token IDs to the model to retrieve the `start_scores` and `end_scores`.\n",
        "\n",
        "As explained earlier, using just the most likely start and end idx could lead to invalid answers, so we apply the `get_best_valid_start_end_idx(...)` function to retrieve the best *valid* start and end token ids.\n",
        "Given those ids, we can then retrieve the actual predicted answer string.\n",
        "Finally, we create normalized aliases for both the predicted answer and the labels. If there is an overlap between all \"extended\" predictions and labels then we have a match."
      ]
    },
    {
      "cell_type": "code",
      "metadata": {
        "id": "sHgcdBt41gby"
      },
      "source": [
        "def evaluate(example):\n",
        "    # encode question and context so that they are seperated by a tokenizer.sep_token and cut at max_length\n",
        "    encoding = tokenizer(example[\"question\"], example[\"context\"], return_tensors=\"pt\", max_length=4096, padding=\"max_length\", truncation=True)\n",
        "    input_ids = encoding.input_ids.to(\"cuda\")\n",
        "\n",
        "    with torch.no_grad():\n",
        "        start_scores, end_scores = model(input_ids=input_ids).to_tuple()\n",
        "\n",
        "    start_score, end_score = get_best_valid_start_end_idx(start_scores[0], end_scores[0], top_k=8, max_size=16)\n",
        "\n",
        "    # Let's convert the input ids back to actual tokens \n",
        "    all_tokens = tokenizer.convert_ids_to_tokens(encoding[\"input_ids\"][0].tolist())\n",
        "    answer_tokens = all_tokens[start_score: end_score + 1]\n",
        "\n",
        "    example[\"output\"] = tokenizer.decode(tokenizer.convert_tokens_to_ids(answer_tokens))\n",
        "    #.replace('\"', '')  # remove space prepending space token and remove unnecessary '\"'\n",
        "\n",
        "    answers = expand_to_aliases(example[\"targets\"], make_sub_answers=True)\n",
        "    predictions = expand_to_aliases([example[\"output\"]])\n",
        "\n",
        "    # if there is a common element, it's a match\n",
        "    example[\"match\"] = len(list(answers & predictions)) > 0\n",
        "\n",
        "    return example\n"
      ],
      "execution_count": null,
      "outputs": []
    },
    {
      "cell_type": "markdown",
      "metadata": {
        "id": "bh65UMh8WP2I"
      },
      "source": [
        "To begin with, we are interested in the performance of the model on short and long samples.\n",
        "Let's evaluate the model on tnhe `short_validation_dataset`. \n",
        "\n",
        "**Note**: This function is expected to run for *ca.* 1h if the full dataset is used ⌛"
      ]
    },
    {
      "cell_type": "code",
      "metadata": {
        "id": "R2REN9qH4HR2",
        "colab": {
          "base_uri": "https://localhost:8080/",
          "height": 67,
          "referenced_widgets": [
            "cc720864436943c98de25e071a26843c",
            "d65d4adf92ee43b6873859c52471b3ea",
            "901ab7e5922e47db8f473997a2ee7fd4",
            "6d45edb0e3d546109ca744a3562bac3b",
            "03004e584c9b4db9b773b20e6fe78599",
            "070532e66488475d9aadf9efcb47e3ab",
            "a32d5c0b77834c9fbbe8510f7a57076e",
            "361369f3b92c442c94771ff402615deb"
          ]
        },
        "outputId": "e80943bc-d77b-479c-d416-3991452c9f8a"
      },
      "source": [
        "results_short = short_validation_dataset.map(evaluate)"
      ],
      "execution_count": null,
      "outputs": [
        {
          "output_type": "display_data",
          "data": {
            "application/vnd.jupyter.widget-view+json": {
              "model_id": "cc720864436943c98de25e071a26843c",
              "version_minor": 0,
              "version_major": 2
            },
            "text/plain": [
              "HBox(children=(FloatProgress(value=0.0, max=4159.0), HTML(value='')))"
            ]
          },
          "metadata": {
            "tags": []
          }
        },
        {
          "output_type": "stream",
          "text": [
            "\n"
          ],
          "name": "stdout"
        }
      ]
    },
    {
      "cell_type": "markdown",
      "metadata": {
        "id": "aqhB3HJYdM66"
      },
      "source": [
        "Alright, let's see the result. We report all results as \"Exact Match\" which is just the ration of correctly answered questions to all questions."
      ]
    },
    {
      "cell_type": "code",
      "metadata": {
        "colab": {
          "base_uri": "https://localhost:8080/"
        },
        "id": "fUtmgk45zhSH",
        "outputId": "0ab17d18-be92-416d-d4fe-4a9e414c2a8b"
      },
      "source": [
        "print(\"Exact Match (EM): {:.2f}\".format(100 * sum(results_short['match'])/len(results_short)))"
      ],
      "execution_count": null,
      "outputs": [
        {
          "output_type": "stream",
          "text": [
            "Exact Match (EM): 81.29\n"
          ],
          "name": "stdout"
        }
      ]
    },
    {
      "cell_type": "markdown",
      "metadata": {
        "id": "CRTa6oMsd4E_"
      },
      "source": [
        "105/127 = 82.68 => pretty good 🔥. Let's take a look at the wrong examples.\n",
        "For this we first filter out the correct examples and then print them out."
      ]
    },
    {
      "cell_type": "code",
      "metadata": {
        "colab": {
          "base_uri": "https://localhost:8080/",
          "height": 1000,
          "referenced_widgets": [
            "79d481bcbcfd43a2bb5c39eb4140743a",
            "876b55959a93432aa77385e4fae1e379",
            "e53d7c66c9604602bcc86bd778c91e09",
            "970e796e9a2446d89b9e97f6c746dbe7",
            "b5eace5e12ee426fb81af105c06f72f7",
            "1359df9df1ec4b91bcd949bb2b1e63ec",
            "0e8825648a26469cba13ed9718d7c996",
            "6c52d6e7d02c4999bad041d8193955a4",
            "ea13db5691df461c898634f2c758966f",
            "ba1d2ca622e148a9a0d18283dfc83cdf",
            "52259114148845b1ba0d23c0d8a1153c",
            "74da55cdcfd54ea9a5810f978037b8c5",
            "383cf6b55e6542658232d31b03ff628a",
            "1494ccad801848eab7e2077e8d6799ed",
            "6c99a3b5d05c4e3e8c3b33e9dfef631f",
            "e96056a7caa54cf8b84c87e1fa1b96b5"
          ]
        },
        "id": "EnEaQ6eZd1r9",
        "outputId": "d0626b65-d57c-43b2-bbde-e483da4d983b"
      },
      "source": [
        "wrong_results = results_short.filter(lambda x: x['match'] is False)\n",
        "print(f\"\\nWrong examples: \")\n",
        "print_out = wrong_results.map(lambda x, i: print(f\"{i} - Output: {x['output']} - Target: {x['norm_target']}\"), with_indices=True)"
      ],
      "execution_count": null,
      "outputs": [
        {
          "output_type": "display_data",
          "data": {
            "application/vnd.jupyter.widget-view+json": {
              "model_id": "79d481bcbcfd43a2bb5c39eb4140743a",
              "version_minor": 0,
              "version_major": 2
            },
            "text/plain": [
              "HBox(children=(FloatProgress(value=0.0, max=5.0), HTML(value='')))"
            ]
          },
          "metadata": {
            "tags": []
          }
        },
        {
          "output_type": "stream",
          "text": [
            "\n",
            "\n",
            "Wrong examples: \n",
            "0 - Output: Mainland - Target: shetland\n"
          ],
          "name": "stdout"
        },
        {
          "output_type": "display_data",
          "data": {
            "application/vnd.jupyter.widget-view+json": {
              "model_id": "ea13db5691df461c898634f2c758966f",
              "version_minor": 0,
              "version_major": 2
            },
            "text/plain": [
              "HBox(children=(FloatProgress(value=0.0, max=778.0), HTML(value='')))"
            ]
          },
          "metadata": {
            "tags": []
          }
        },
        {
          "output_type": "stream",
          "text": [
            "0 - Output: Mainland - Target: shetland\n",
            "1 - Output:  - Target: film making\n",
            "2 - Output: tartar sauce - Target: puttanesca\n",
            "3 - Output: collapsible - Target: baby buggy\n",
            "4 - Output: five - Target: 3\n",
            "5 - Output: Martin Austin Ruane - Target: martin ruane\n",
            "6 - Output: Kipps: The Story of a Simple Soul - Target: kipps\n",
            "7 - Output:  - Target: corset\n",
            "8 - Output: 102 - Target: 8\n",
            "9 - Output: heart failure - Target: high blood pressure\n",
            "10 - Output: Potatoes - Target: onions\n",
            "11 - Output: citric acid - Target: tartaric acid\n",
            "12 - Output: Johnny Hooker - Target: henry gondorf\n",
            "13 - Output: Roald Amundsen - Target: edmond hillary\n",
            "14 - Output: Sebastian - Target: jasper\n",
            "15 - Output: George III - Target: george\n",
            "16 - Output: 1938 - Target: 13\n",
            "17 - Output: Gary Lewis - Target: gary lewis and playboys\n",
            "18 - Output: collapsible - Target: baby buggy\n",
            "19 - Output:  - Target: florence henderson\n",
            "20 - Output:  - Target: presley\n",
            "21 - Output: Belle Elmore - Target: his wife\n",
            "22 - Output:  - Target: chauvinism\n",
            "23 - Output: in blood - Target: muscle tissue\n",
            "24 - Output: . The ovary (From, literally \"egg\" or \"nut\") - Target: corpus luteum\n",
            "25 - Output: double nelson - Target: nelson\n",
            "26 - Output: 11 - Target: 11 years and 302 days\n",
            "27 - Output: He - Target: nick berry\n",
            "28 - Output: Hugh Grant - Target: stephen bing\n",
            "29 - Output: Cliff Richard - Target: beatles\n",
            "30 - Output: Stuart - Target: house of dunkeld\n",
            "31 - Output: Mickey Murphy - Target: windy miller\n",
            "32 - Output: Get Well Soon - Target: steptoe and son\n",
            "33 - Output: cereal - Target: frosties\n",
            "34 - Output: Putney - Target: sw19\n",
            "35 - Output: pink - Target: purple\n",
            "36 - Output: diamond - Target: 1st\n",
            "37 - Output: Nicole Kidman - Target: jodie foster\n",
            "38 - Output: Lesley-Anne Down - Target: wayne sleep\n",
            "39 - Output: microcar - Target: car\n",
            "40 - Output: Argentina - Target: italy\n",
            "41 - Output: read - Target: george w bush\n",
            "42 - Output: 35 years - Target: 35 years of age\n",
            "43 - Output: Manchester - Target: birmingham\n",
            "44 - Output: orange - Target: green\n",
            "45 - Output: Hotel - Target: charlie\n",
            "46 - Output: 112 - Target: 20\n",
            "47 - Output: busby - Target: lamb\n",
            "48 - Output: 120 - Target: 720\n",
            "49 - Output: 3000 - Target: 150\n",
            "50 - Output: [SEP] - Target: k\n",
            "51 - Output: Rice pudding - Target: custard\n",
            "52 - Output: graves - Target: buried alive\n",
            "53 - Output: 110 metres hurdles - Target: long jump\n",
            "54 - Output:  - Target: doe\n",
            "55 - Output: St. Clement's - Target: st martins\n",
            "56 - Output: 1985 - Target: 1885\n",
            "57 - Output: backgammon - Target: bridge\n",
            "58 - Output: eyelid - Target: eye\n",
            "59 - Output: graves - Target: buried alive\n",
            "60 - Output:  - Target: may\n",
            "61 - Output: Chalice - Target: grail\n",
            "62 - Output:  - Target: eyas\n",
            "63 - Output: 1963 Great Train Robbery - Target: great train robbery\n",
            "64 - Output: [SEP] - Target: 12\n",
            "65 - Output: sturgeon - Target: fish\n",
            "66 - Output: Robert - Target: robert robot\n",
            "67 - Output: Hertfordshire - Target: staffordshire\n",
            "68 - Output:  - Target: commissioner\n",
            "69 - Output: carpet munching - Target: tipping velvet\n",
            "70 - Output: Cashew - Target: pecan\n",
            "71 - Output: Cyndi Lauper - Target: roy orbison\n",
            "72 - Output: Totopoly - Target: scoop\n",
            "73 - Output: [SEP] - Target: janet and john\n",
            "74 - Output: [SEP] - Target: honolulu\n",
            "75 - Output:  - Target: brighton\n",
            "76 - Output: wife - Target: husband\n",
            "77 - Output: Airport - Target: armageddon\n",
            "78 - Output: Dyeing - Target: dye\n",
            "79 - Output: Money Saving - Target: finance\n",
            "80 - Output: starting the Great Fire of London - Target: starting great fire\n",
            "81 - Output: sacred offerings - Target: priesthood\n",
            "82 - Output: Brassica - Target: mustard\n",
            "83 - Output: transvestite - Target: transgender\n",
            "84 - Output: Otto - Target: hawley\n",
            "85 - Output: Mr. Men and Little Miss - Target: mr men books\n",
            "86 - Output: Martin Austin Ruane - Target: martin ruane\n",
            "87 - Output: Rolling Stones - Target: jumpin jack flash\n",
            "88 - Output: Kipps: The Story of a Simple Soul - Target: kipps\n",
            "89 - Output: Eddie Crane - Target: eddie\n",
            "90 - Output: Mensa Mensa - Target: mensa\n",
            "91 - Output:  - Target: great pyramid of giza\n",
            "92 - Output: [SEP] - Target: bull nose\n",
            "93 - Output:  - Target: first day cover\n",
            "94 - Output:  - Target: tripe\n",
            "95 - Output: Atlantic Ocean - Target: canary islands\n",
            "96 - Output:  - Target: silverfish\n",
            "97 - Output: sewing - Target: macrame\n",
            "98 - Output:  - Target: paul gauguin\n",
            "99 - Output:  - Target: abstract\n",
            "100 - Output: status zero - Target: not in education employment\n",
            "101 - Output: Peter Jackson - Target: monaghan\n",
            "102 - Output: Pete and Dud - Target: peter cook and dudley moore\n",
            "103 - Output: Prime Minister - Target: chancellor of exchequer\n",
            "104 - Output: Francis Dashwood - Target: hellfire club\n",
            "105 - Output: Janet Hodgson - Target: princess anne\n",
            "106 - Output: [SEP] - Target: eighteen\n",
            "107 - Output: Isola del Giglio - Target: giglio\n",
            "108 - Output: Sardinia - Target: sicily\n",
            "109 - Output:  - Target: set square\n",
            "110 - Output: Jimmy Robertson - Target: frank saul\n",
            "111 - Output: Carry On Follow That Camel - Target: carry on nurse\n",
            "112 - Output: [SEP] - Target: st ives\n",
            "113 - Output: Teddy Sheringham - Target: norman tebbit\n",
            "114 - Output: Port of Tokyo - Target: yokohama\n",
            "115 - Output: food packaging - Target: packaging\n",
            "116 - Output: 12 Years a Slave - Target: argo\n",
            "117 - Output:  - Target: loch ness monster\n",
            "118 - Output: tree\" and gramma \"drawing\") is a tree - Target: tree\n",
            "119 - Output: robe - Target: burial shroud\n",
            "120 - Output:  - Target: idli\n",
            "121 - Output: Eros - Target: anteros\n",
            "122 - Output: Lastminute - Target: lastminute com\n",
            "123 - Output: human botulism - Target: botulism\n",
            "124 - Output: British Children's Laureate - Target: children s laureate\n",
            "125 - Output: lug nut - Target: lug\n",
            "126 - Output: firearm - Target: gun\n",
            "127 - Output: milligram - Target: pico\n",
            "128 - Output:  - Target: hard\n",
            "129 - Output: lives - Target: social environment\n",
            "130 - Output: million - Target: 4 billion\n",
            "131 - Output:  - Target: alphabetical\n",
            "132 - Output:  - Target: highball\n",
            "133 - Output: airliners - Target: executive jets\n",
            "134 - Output: rainforest - Target: island\n",
            "135 - Output: bucket seats - Target: seats\n",
            "136 - Output: [SEP] - Target: dim sum\n",
            "137 - Output: Hershey's - Target: hershey\n",
            "138 - Output: [SEP] - Target: america\n",
            "139 - Output: acoustic guitar - Target: guitar\n",
            "140 - Output: hippie counterculture - Target: summer of love\n",
            "141 - Output: Polyuria - Target: diabetes\n",
            "142 - Output: neck - Target: face\n",
            "143 - Output: [SEP] - Target: third\n",
            "144 - Output: water - Target: two thirds\n",
            "145 - Output: hips - Target: buttocks\n",
            "146 - Output: saffron - Target: woad\n",
            "147 - Output: Gorilla - Target: fairtrade\n",
            "148 - Output: kelvin - Target: celsius\n",
            "149 - Output: bathtub curve - Target: bathtub\n",
            "150 - Output: [SEP] - Target: inertia\n",
            "151 - Output: fish - Target: pike\n",
            "152 - Output:  - Target: quaver\n",
            "153 - Output: 6 - Target: 5\n",
            "154 - Output: Little Jack Horner - Target: jack\n",
            "155 - Output: ship - Target: on ship\n",
            "156 - Output: [SEP] - Target: pearl\n",
            "157 - Output: Video Killed The Radio Star - Target: video killed radio star by buggles\n",
            "158 - Output: [SEP] - Target: statue of liberty\n",
            "159 - Output: eclipsing - Target: eclipse\n",
            "160 - Output: Tom Cruise - Target: cruise\n",
            "161 - Output:  - Target: in hills\n",
            "162 - Output: Fairmont Hairpin - Target: portier\n",
            "163 - Output: 1 May - Target: first monday in september\n",
            "164 - Output:  - Target: robert kiprono cheruiyot\n",
            "165 - Output: launching remains into space - Target: first space burial\n",
            "166 - Output: 112 - Target: 911\n",
            "167 - Output: [SEP] - Target: antediluvian\n",
            "168 - Output: paper - Target: book\n",
            "169 - Output: Shall We Dance - Target: they can t take that away from me\n",
            "170 - Output:  - Target: india\n",
            "171 - Output: quilts - Target: fabrics\n",
            "172 - Output: Lars Porsena - Target: etruscan\n",
            "173 - Output: Woman in Red - Target: lady in red\n",
            "174 - Output: Prince of Wales - Target: princess beatrice of york\n",
            "175 - Output: birds - Target: dinosaurs\n",
            "176 - Output:  - Target: eminem\n",
            "177 - Output: 1000 - Target: 100\n",
            "178 - Output: The Yellow Book - Target: book of fifty drawings\n",
            "179 - Output: Rolling Stones - Target: jumpin jack flash\n",
            "180 - Output: ice cream - Target: cake\n",
            "181 - Output: Conjunction - Target: phrase\n",
            "182 - Output: 1618 or 1619 - Target: 1388\n",
            "183 - Output:  - Target: robin van persie\n",
            "184 - Output: Erato - Target: euterpe\n",
            "185 - Output: Up for Grabs - Target: removalists\n",
            "186 - Output: police drama - Target: detective\n",
            "187 - Output:  - Target: lungs\n",
            "188 - Output: Who Framed Roger Rabbit - Target: mrs henderson presents\n",
            "189 - Output: music - Target: recorder\n",
            "190 - Output:  - Target: shearers\n",
            "191 - Output: filmmaking - Target: film\n",
            "192 - Output: blue - Target: grey\n",
            "193 - Output: cigarette - Target: tobacco or alcohol\n",
            "194 - Output: Cumberland sausage - Target: cumberland\n",
            "195 - Output:  - Target: film making\n",
            "196 - Output: John F Kennedy - Target: teddy roosevelt\n",
            "197 - Output: hopeful expectation - Target: optimism\n",
            "198 - Output: Kazakhstan - Target: ethiopia\n",
            "199 - Output: [SEP] - Target: belfast\n",
            "200 - Output: Dublin - Target: london\n",
            "201 - Output:  - Target: andorra\n",
            "202 - Output: coal miners - Target: coal mining\n",
            "203 - Output: Parson Weems - Target: george washington\n",
            "204 - Output:  - Target: pumpkin\n",
            "205 - Output: [SEP] - Target: japan\n",
            "206 - Output:  - Target: corset\n",
            "207 - Output:  - Target: ghost\n",
            "208 - Output: Oscar Mayer - Target: oscar\n",
            "209 - Output:  - Target: capitol hill\n",
            "210 - Output: Annals of Internal Medicine - Target: new england journal of medicine\n",
            "211 - Output: high-fructose corn syrup - Target: sugar\n",
            "212 - Output: Little Johnny Flynn - Target: little tommy stout\n",
            "213 - Output: Gresham's - Target: sir thomas gresham\n",
            "214 - Output: Passer - Target: passeridae\n",
            "215 - Output: mouth - Target: cheek\n",
            "216 - Output:  - Target: vulpine\n",
            "217 - Output: Goodbye to Berlin - Target: cabaret\n",
            "218 - Output: cricket - Target: australian rules football\n",
            "219 - Output: Jezebel - Target: naboth\n",
            "220 - Output: housefly - Target: fly\n",
            "221 - Output: lamb - Target: rack of lamb\n",
            "222 - Output: 102 - Target: 8\n",
            "223 - Output: Cabinet Office Briefing - Target: cabinet\n",
            "224 - Output: ) - Target: cyprus\n",
            "225 - Output: 2011 - Target: 2001\n",
            "226 - Output: air traffic controllers - Target: air traffic control\n",
            "227 - Output: Chief Whip of the Government - Target: government chief whip\n",
            "228 - Output: ear hat - Target: hat\n",
            "229 - Output: Marmara - Target: black sea\n",
            "230 - Output: back of the neck - Target: neck\n",
            "231 - Output: Queen's Greatest Hits - Target: bridge over troubled water\n",
            "232 - Output: . - Target: mikhail baryshnikov\n",
            "233 - Output: 1994 - Target: 1998\n",
            "234 - Output: Albert Einstein - Target: bart simpson\n",
            "235 - Output: DMC-12 - Target: de lorean\n",
            "236 - Output: Dr Mopp - Target: lord belborough\n",
            "237 - Output: bowling legend Dick Weber, is the Ten-pin bowling - Target: ten pin bowling\n",
            "238 - Output: getting married - Target: marriage\n",
            "239 - Output:  - Target: mugger\n",
            "240 - Output: Wombles - Target: right said fred\n",
            "241 - Output: [SEP] - Target: 1\n",
            "242 - Output: beef - Target: sesame seeds\n",
            "243 - Output: Sandown Park - Target: sandown\n",
            "244 - Output: Herbert Kitchener - Target: sir herbert kitchener\n",
            "245 - Output: accountant - Target: teacher\n",
            "246 - Output: [SEP] - Target: meerkovo\n",
            "247 - Output: [SEP] - Target: ormolu\n",
            "248 - Output: Yuvraj Singh - Target: herschelle gibbs\n",
            "249 - Output: steam locomotives - Target: wheel arrangements\n",
            "250 - Output: Port wine - Target: port\n",
            "251 - Output: They Shoot Horses, Don't They?, - Target: they shoot horses don t they\n",
            "252 - Output: St Helens R.F.C. - Target: st helens\n",
            "253 - Output: Puff - Target: puff magic dragon\n",
            "254 - Output: Mornay sauce - Target: mornay\n",
            "255 - Output:  - Target: corinth\n",
            "256 - Output: sea sickness - Target: travel sickness\n",
            "257 - Output: Westwall - Target: hindenberg line\n",
            "258 - Output: Michel Roux - Target: michel albert roux\n",
            "259 - Output: javelin - Target: mile\n",
            "260 - Output: Al Gore - Target: jimmy carter\n",
            "261 - Output: Cato Street Conspiracy - Target: cato street\n",
            "262 - Output: ohm - Target: watts\n",
            "263 - Output: bluebottle fly - Target: bluebottle\n",
            "264 - Output: heart failure - Target: high blood pressure\n",
            "265 - Output: Herald - Target: herald of free enterprise\n",
            "266 - Output:  - Target: m\n",
            "267 - Output: protein - Target: carbohydrates\n",
            "268 - Output:  - Target: york\n",
            "269 - Output: Venturer - Target: explorer scouts\n",
            "270 - Output: blackcurrant - Target: cassis\n",
            "271 - Output: 9 - Target: 30\n",
            "272 - Output: Agnolo di Cosimo - Target: alessandro allori\n",
            "273 - Output: Dalgarven - Target: alloway\n",
            "274 - Output: throat - Target: tonsils\n",
            "275 - Output: USA - Target: colombia\n",
            "276 - Output: giraffid - Target: giraffes\n",
            "277 - Output: vodka - Target: tequila\n",
            "278 - Output: Equus - Target: amadeus\n",
            "279 - Output: Potatoes - Target: onions\n",
            "280 - Output: Hythe - Target: colchester\n",
            "281 - Output: Jokers - Target: death wish\n",
            "282 - Output: rose absolute - Target: attar\n",
            "283 - Output: Rab C. Nesbitt - Target: para handy\n",
            "284 - Output: Sue Magnier - Target: queen\n",
            "285 - Output: nerve - Target: nerve cell cluster\n",
            "286 - Output: Quahog - Target: clam\n",
            "287 - Output: Californium - Target: berkelium\n",
            "288 - Output: Nailsmith - Target: tanner\n",
            "289 - Output: Young Rascals - Target: wilson pickett\n",
            "290 - Output: motorcycle speedway - Target: speedway\n",
            "291 - Output:  - Target: je suis un rock star\n",
            "292 - Output: Madame Bovary - Target: emma\n",
            "293 - Output: Leonard Nimoy - Target: mr spock\n",
            "294 - Output: eight - Target: six\n",
            "295 - Output: [SEP] - Target: merry widow\n",
            "296 - Output: Titus - Target: galba otho vitellius\n",
            "297 - Output: Seville - Target: florence\n",
            "298 - Output: Mary Ann Evans, who wrote under the pen-name George Eliot - Target: george eliot\n",
            "299 - Output: St. Simon - Target: saint john\n",
            "300 - Output: Aidan Turner - Target: robin ellis\n",
            "301 - Output:  - Target: ian duncan smith\n",
            "302 - Output: poster design - Target: poster designs\n",
            "303 - Output:  - Target: red eye gravy\n",
            "304 - Output: Mount Everest - Target: summit of mount everest\n",
            "305 - Output: Liechtenstein - Target: vatican city\n",
            "306 - Output: well - Target: long names\n",
            "307 - Output: spiral - Target: tuning fork\n",
            "308 - Output:  - Target: brian glover\n",
            "309 - Output: pfennigs - Target: pfennig\n",
            "310 - Output: [SEP] - Target: perth\n",
            "311 - Output: Shellfish - Target: molluscs\n",
            "312 - Output: [SEP] - Target: inch\n",
            "313 - Output: Jake - Target: paul\n",
            "314 - Output: Cameroon - Target: zambia\n",
            "315 - Output: Nurding - Target: nurdin\n",
            "316 - Output: collapsible - Target: baby buggy\n",
            "317 - Output: architecture prizes; it is often referred to as the Nobel Prize of architecture - Target: architecture\n",
            "318 - Output: [SEP] - Target: hand\n",
            "319 - Output: The Cat in the Hat - Target: so i married axe murderer\n",
            "320 - Output: worm - Target: blackhead\n",
            "321 - Output: Carry On Follow That Camel - Target: carry on up khyber\n",
            "322 - Output: York Racecourse - Target: york\n",
            "323 - Output: [SEP] - Target: rock bye baby\n",
            "324 - Output: Helios - Target: apollo\n",
            "325 - Output: [SEP] - Target: herd\n",
            "326 - Output: three - Target: twelve\n",
            "327 - Output: rampant - Target: volant\n",
            "328 - Output: Keith Houchen - Target: gary mabbutt\n",
            "329 - Output: Just Walkin' in the Rain - Target: come on eileen\n",
            "330 - Output: William Pitt the Younger - Target: 3rd earl of bute\n",
            "331 - Output: Winnie Mae - Target: winnie mae\n",
            "332 - Output: citric acid - Target: tartaric acid\n",
            "333 - Output: Institute of Chartered Accountants - Target: law society\n",
            "334 - Output: Wizard - Target: hotspur\n",
            "335 - Output: Liechtenstein - Target: andorra\n",
            "336 - Output: yttria - Target: ytterby\n",
            "337 - Output: Royal London Hospital - Target: st bartholomew s\n",
            "338 - Output: Gary Puckett - Target: puckett\n",
            "339 - Output: Trams - Target: train\n",
            "340 - Output: Oxytocin - Target: endorphins\n",
            "341 - Output: Ouse and Trent - Target: river hull\n",
            "342 - Output: Surrey - Target: kent\n",
            "343 - Output: Bangladesh - Target: russia\n",
            "344 - Output: Russell Thompkins, Jr. - Target: russell thompkins\n",
            "345 - Output:  - Target: ankle\n",
            "346 - Output: Norfolk Island - Target: botany bay\n",
            "347 - Output: Barings - Target: morgan grenfell\n",
            "348 - Output:  - Target: eva herzigova\n",
            "349 - Output: Spice Girls - Target: travis\n",
            "350 - Output: Dad's Army - Target: j wentworth b\n",
            "351 - Output: Jack London - Target: london\n",
            "352 - Output: Kirk Douglas - Target: douglas\n",
            "353 - Output: Robert Duvall - Target: sutherland\n",
            "354 - Output: Johnny Hooker - Target: henry gondorf\n",
            "355 - Output: duck - Target: chicken\n",
            "356 - Output: Spain - Target: morocco\n",
            "357 - Output: high jump - Target: long jump\n",
            "358 - Output: ), - Target: i wanna tell you story\n",
            "359 - Output: Eurythmics - Target: annie lennox\n",
            "360 - Output: Science - Target: science and nature\n",
            "361 - Output: The Big Chill - Target: sleeping with enemy\n",
            "362 - Output:  - Target: outbreak of foot and mouth disease\n",
            "363 - Output: Park Royal - Target: cockfosters\n",
            "364 - Output: Violent Storm - Target: storm\n",
            "365 - Output: Dennis Zager and Rick Evans - Target: zager evans\n",
            "366 - Output: Claude Snudge - Target: snudge\n",
            "367 - Output: [SEP] - Target: japan\n",
            "368 - Output: Cairngorms - Target: cairngorms national park\n",
            "369 - Output: Charlie Brown - Target: woodstock\n",
            "370 - Output: Hogna - Target: lycos\n",
            "371 - Output: Cooling - Target: carburettor\n",
            "372 - Output: Refrigerator - Target: fridge\n",
            "373 - Output: New Year - Target: december\n",
            "374 - Output: once every two weeks - Target: weekly\n",
            "375 - Output: toad - Target: frog\n",
            "376 - Output: Tailoring Savile Row's reputation is built on bespoke tailoring - Target: tailoring\n",
            "377 - Output: back of the head - Target: neck\n",
            "378 - Output:  - Target: idaho montana and wyoming\n",
            "379 - Output: Napoleon - Target: adam smith\n",
            "380 - Output: Rocky and Bullwinkle Show - Target: dudley do right\n",
            "381 - Output: head - Target: head and neck\n",
            "382 - Output: Loyal Order of Water Buffaloes - Target: loyal order of water buffalo\n",
            "383 - Output: antelope - Target: buffalo deer antelope\n",
            "384 - Output: eight-ball - Target: nine ball\n",
            "385 - Output: mesosphere - Target: troposphere\n",
            "386 - Output: automobile doors - Target: car door\n",
            "387 - Output: insurance - Target: credit reporting agencies\n",
            "388 - Output: Mars - Target: space\n",
            "389 - Output: sesame seed bun - Target: two all beef patties special sauce lettuce cheese pickles onions on sesame seed bun\n",
            "390 - Output: Adam's Apple Martini - Target: appletini\n",
            "391 - Output: Roald Amundsen - Target: edmond hillary\n",
            "392 - Output: Sebastian - Target: jasper\n",
            "393 - Output: George III - Target: george\n",
            "394 - Output: 1938 - Target: 13\n",
            "395 - Output: Gary Lewis - Target: gary lewis and playboys\n",
            "396 - Output: collapsible - Target: baby buggy\n",
            "397 - Output:  - Target: florence henderson\n",
            "398 - Output:  - Target: presley\n",
            "399 - Output: Belle Elmore - Target: his wife\n",
            "400 - Output:  - Target: chauvinism\n",
            "401 - Output: in blood - Target: muscle tissue\n",
            "402 - Output: . The ovary (From, literally \"egg\" or \"nut\") - Target: corpus luteum\n",
            "403 - Output: double nelson - Target: nelson\n",
            "404 - Output: five - Target: 3\n",
            "405 - Output: 11 - Target: 11 years and 302 days\n",
            "406 - Output: He - Target: nick berry\n",
            "407 - Output: Hugh Grant - Target: stephen bing\n",
            "408 - Output: Stuart - Target: house of dunkeld\n",
            "409 - Output: [SEP] - Target: earl and countess of wessex\n",
            "410 - Output: Mickey Murphy - Target: windy miller\n",
            "411 - Output: Get Well Soon - Target: steptoe and son\n",
            "412 - Output: cereal - Target: frosties\n",
            "413 - Output: Putney - Target: sw19\n",
            "414 - Output: pink - Target: purple\n",
            "415 - Output: diamond - Target: 1st\n",
            "416 - Output: Nicole Kidman - Target: jodie foster\n",
            "417 - Output: Lesley-Anne Down - Target: wayne sleep\n",
            "418 - Output: microcar - Target: car\n",
            "419 - Output: read - Target: george w bush\n",
            "420 - Output: 35 years - Target: 35 years of age\n",
            "421 - Output: Manchester - Target: birmingham\n",
            "422 - Output: orange - Target: green\n",
            "423 - Output: Hotel - Target: charlie\n",
            "424 - Output: 112 - Target: 20\n",
            "425 - Output: busby - Target: lamb\n",
            "426 - Output: 120 - Target: 720\n",
            "427 - Output:  - Target: scapula shoulder blade\n",
            "428 - Output: [SEP] - Target: k\n",
            "429 - Output: Rice pudding - Target: custard\n",
            "430 - Output: graves - Target: buried alive\n",
            "431 - Output: 110 metres hurdles - Target: long jump\n",
            "432 - Output:  - Target: doe\n",
            "433 - Output: St. Clement's - Target: st martins\n",
            "434 - Output: 1985 - Target: 1885\n",
            "435 - Output: backgammon - Target: bridge\n",
            "436 - Output: eyelid - Target: eye\n",
            "437 - Output: graves - Target: buried alive\n",
            "438 - Output:  - Target: may\n",
            "439 - Output: Chalice - Target: grail\n",
            "440 - Output:  - Target: eyas\n",
            "441 - Output: 1963 Great Train Robbery - Target: great train robbery\n",
            "442 - Output: [SEP] - Target: 12\n",
            "443 - Output: sturgeon - Target: fish\n",
            "444 - Output: Robert - Target: robert robot\n",
            "445 - Output: Hertfordshire - Target: staffordshire\n",
            "446 - Output:  - Target: commissioner\n",
            "447 - Output: carpet munching - Target: tipping velvet\n",
            "448 - Output: Cashew - Target: pecan\n",
            "449 - Output: Cyndi Lauper - Target: roy orbison\n",
            "450 - Output: Totopoly - Target: scoop\n",
            "451 - Output: [SEP] - Target: mohs scale of hardness\n",
            "452 - Output: [SEP] - Target: janet and john\n",
            "453 - Output: [SEP] - Target: honolulu\n",
            "454 - Output:  - Target: brighton\n",
            "455 - Output: wife - Target: husband\n",
            "456 - Output: Airport - Target: armageddon\n",
            "457 - Output: Money Saving - Target: finance\n",
            "458 - Output: starting the Great Fire of London - Target: starting great fire\n",
            "459 - Output: sacred offerings - Target: priesthood\n",
            "460 - Output: Brassica - Target: mustard\n",
            "461 - Output: transvestite - Target: transgender\n",
            "462 - Output: Otto - Target: hawley\n",
            "463 - Output: Mr. Men and Little Miss - Target: mr men books\n",
            "464 - Output: Martin Austin Ruane - Target: martin ruane\n",
            "465 - Output: Rolling Stones - Target: jumpin jack flash\n",
            "466 - Output: Kipps: The Story of a Simple Soul - Target: kipps\n",
            "467 - Output: Eddie Crane - Target: eddie\n",
            "468 - Output: Mensa Mensa - Target: mensa\n",
            "469 - Output:  - Target: great pyramid of giza\n",
            "470 - Output: [SEP] - Target: bull nose\n",
            "471 - Output:  - Target: first day cover\n",
            "472 - Output:  - Target: tripe\n",
            "473 - Output: [SEP] - Target: shrub\n",
            "474 - Output: Atlantic Ocean - Target: canary islands\n",
            "475 - Output:  - Target: silverfish\n",
            "476 - Output: sewing - Target: macrame\n",
            "477 - Output:  - Target: paul gauguin\n",
            "478 - Output:  - Target: abstract\n",
            "479 - Output: status zero - Target: not in education employment\n",
            "480 - Output: Ted Turner - Target: carl sagan\n",
            "481 - Output: Peter Jackson - Target: monaghan\n",
            "482 - Output: Pete and Dud - Target: peter cook and dudley moore\n",
            "483 - Output: Prime Minister - Target: chancellor of exchequer\n",
            "484 - Output: Francis Dashwood - Target: hellfire club\n",
            "485 - Output: Janet Hodgson - Target: princess anne\n",
            "486 - Output: Isola del Giglio - Target: giglio\n",
            "487 - Output: Sardinia - Target: sicily\n",
            "488 - Output:  - Target: set square\n",
            "489 - Output: Jimmy Robertson - Target: frank saul\n",
            "490 - Output: Carry On Follow That Camel - Target: carry on nurse\n",
            "491 - Output: [SEP] - Target: st ives\n",
            "492 - Output: Teddy Sheringham - Target: norman tebbit\n",
            "493 - Output: Port of Tokyo - Target: yokohama\n",
            "494 - Output: food packaging - Target: packaging\n",
            "495 - Output: 12 Years a Slave - Target: argo\n",
            "496 - Output:  - Target: loch ness monster\n",
            "497 - Output: tree\" and gramma \"drawing\") is a tree - Target: tree\n",
            "498 - Output: robe - Target: burial shroud\n",
            "499 - Output:  - Target: idli\n",
            "500 - Output: Eros - Target: anteros\n",
            "501 - Output: human botulism - Target: botulism\n",
            "502 - Output: British Children's Laureate - Target: children s laureate\n",
            "503 - Output: lug nut - Target: lug\n",
            "504 - Output: firearm - Target: gun\n",
            "505 - Output: milligram - Target: pico\n",
            "506 - Output:  - Target: hard\n",
            "507 - Output: lives - Target: social environment\n",
            "508 - Output: million - Target: 4 billion\n",
            "509 - Output: [SEP] - Target: lava\n",
            "510 - Output:  - Target: alphabetical\n",
            "511 - Output:  - Target: highball\n",
            "512 - Output: airliners - Target: executive jets\n",
            "513 - Output: rainforest - Target: island\n",
            "514 - Output: bucket seats - Target: seats\n",
            "515 - Output: [SEP] - Target: dim sum\n",
            "516 - Output: Champions League - Target: european footballer of year\n",
            "517 - Output: Hershey's - Target: hershey\n",
            "518 - Output: [SEP] - Target: america\n",
            "519 - Output: acoustic guitar - Target: guitar\n",
            "520 - Output: hippie counterculture - Target: summer of love\n",
            "521 - Output: Polyuria - Target: diabetes\n",
            "522 - Output: USA - Target: canada\n",
            "523 - Output: neck - Target: face\n",
            "524 - Output: [SEP] - Target: third\n",
            "525 - Output: water - Target: two thirds\n",
            "526 - Output: hips - Target: buttocks\n",
            "527 - Output: saffron - Target: woad\n",
            "528 - Output: Gorilla - Target: fairtrade\n",
            "529 - Output: kelvin - Target: celsius\n",
            "530 - Output: bathtub curve - Target: bathtub\n",
            "531 - Output: [SEP] - Target: inertia\n",
            "532 - Output: fish - Target: pike\n",
            "533 - Output:  - Target: quaver\n",
            "534 - Output: 6 - Target: 5\n",
            "535 - Output: Little Jack Horner - Target: jack\n",
            "536 - Output: ship - Target: on ship\n",
            "537 - Output: [SEP] - Target: pearl\n",
            "538 - Output: Video Killed The Radio Star - Target: video killed radio star by buggles\n",
            "539 - Output: [SEP] - Target: elijah\n",
            "540 - Output: [SEP] - Target: statue of liberty\n",
            "541 - Output: eclipsing - Target: eclipse\n",
            "542 - Output: Tom Cruise - Target: cruise\n",
            "543 - Output:  - Target: in hills\n",
            "544 - Output: Fairmont Hairpin - Target: portier\n",
            "545 - Output: 1 May - Target: first monday in september\n",
            "546 - Output:  - Target: robert kiprono cheruiyot\n",
            "547 - Output: launching remains into space - Target: first space burial\n",
            "548 - Output: gymnastics - Target: boxing\n",
            "549 - Output: Queen Mary - Target: freedom of seas\n",
            "550 - Output: 112 - Target: 911\n",
            "551 - Output: [SEP] - Target: antediluvian\n",
            "552 - Output: paper - Target: book\n",
            "553 - Output: Shall We Dance - Target: they can t take that away from me\n",
            "554 - Output:  - Target: india\n",
            "555 - Output: quilts - Target: fabrics\n",
            "556 - Output: Lars Porsena - Target: etruscan\n",
            "557 - Output: Woman in Red - Target: lady in red\n",
            "558 - Output: Prince of Wales - Target: princess beatrice of york\n",
            "559 - Output: birds - Target: dinosaurs\n",
            "560 - Output:  - Target: eminem\n",
            "561 - Output: 1000 - Target: 100\n",
            "562 - Output: The Yellow Book - Target: book of fifty drawings\n",
            "563 - Output: Rolling Stones - Target: jumpin jack flash\n",
            "564 - Output: ice cream - Target: cake\n",
            "565 - Output: Conjunction - Target: phrase\n",
            "566 - Output: 1618 or 1619 - Target: 1388\n",
            "567 - Output:  - Target: robin van persie\n",
            "568 - Output: Erato - Target: euterpe\n",
            "569 - Output: Up for Grabs - Target: removalists\n",
            "570 - Output: police drama - Target: detective\n",
            "571 - Output:  - Target: lungs\n",
            "572 - Output: Who Framed Roger Rabbit - Target: mrs henderson presents\n",
            "573 - Output: It - Target: tide\n",
            "574 - Output: music - Target: recorder\n",
            "575 - Output:  - Target: shearers\n",
            "576 - Output: filmmaking - Target: film\n",
            "577 - Output: blue - Target: grey\n",
            "578 - Output: cigarette - Target: tobacco or alcohol\n",
            "579 - Output: Cumberland sausage - Target: cumberland\n",
            "580 - Output: John F Kennedy - Target: teddy roosevelt\n",
            "581 - Output: hopeful expectation - Target: optimism\n",
            "582 - Output: Kazakhstan - Target: ethiopia\n",
            "583 - Output: [SEP] - Target: belfast\n",
            "584 - Output: Dublin - Target: london\n",
            "585 - Output:  - Target: andorra\n",
            "586 - Output: coal miners - Target: coal mining\n",
            "587 - Output:  - Target: pumpkin\n",
            "588 - Output: [SEP] - Target: japan\n",
            "589 - Output:  - Target: corset\n",
            "590 - Output:  - Target: ghost\n",
            "591 - Output: Oscar Mayer - Target: oscar\n",
            "592 - Output:  - Target: capitol hill\n",
            "593 - Output: Annals of Internal Medicine - Target: new england journal of medicine\n",
            "594 - Output: high-fructose corn syrup - Target: sugar\n",
            "595 - Output: Little Johnny Flynn - Target: little tommy stout\n",
            "596 - Output: Gresham's - Target: sir thomas gresham\n",
            "597 - Output: Passer - Target: passeridae\n",
            "598 - Output: mouth - Target: cheek\n",
            "599 - Output:  - Target: vulpine\n",
            "600 - Output: [SEP] - Target: mexico\n",
            "601 - Output: Goodbye to Berlin - Target: cabaret\n",
            "602 - Output: cricket - Target: australian rules football\n",
            "603 - Output: Jezebel - Target: naboth\n",
            "604 - Output: housefly - Target: fly\n",
            "605 - Output: lamb - Target: rack of lamb\n",
            "606 - Output: 102 - Target: 8\n",
            "607 - Output: Cabinet Office Briefing - Target: cabinet\n",
            "608 - Output: ) - Target: cyprus\n",
            "609 - Output: 2011 - Target: 2001\n",
            "610 - Output: air traffic controllers - Target: air traffic control\n",
            "611 - Output: Chief Whip of the Government - Target: government chief whip\n",
            "612 - Output: ear hat - Target: hat\n",
            "613 - Output: Marmara - Target: black sea\n",
            "614 - Output: back of the neck - Target: neck\n",
            "615 - Output: Queen's Greatest Hits - Target: bridge over troubled water\n",
            "616 - Output: . - Target: mikhail baryshnikov\n",
            "617 - Output: 1994 - Target: 1998\n",
            "618 - Output: DMC-12 - Target: de lorean\n",
            "619 - Output: Dr Mopp - Target: lord belborough\n",
            "620 - Output: bowling legend Dick Weber, is the Ten-pin bowling - Target: ten pin bowling\n",
            "621 - Output: Britannia - Target: ship\n",
            "622 - Output: Conspicuous Gallantry Cross - Target: conspicuous gallantry\n",
            "623 - Output:  - Target: mugger\n",
            "624 - Output: Wombles - Target: right said fred\n",
            "625 - Output: [SEP] - Target: 1\n",
            "626 - Output: beef - Target: sesame seeds\n",
            "627 - Output: Sandown Park - Target: sandown\n",
            "628 - Output: Herbert Kitchener - Target: sir herbert kitchener\n",
            "629 - Output: accountant - Target: teacher\n",
            "630 - Output: [SEP] - Target: meerkovo\n",
            "631 - Output: [SEP] - Target: ormolu\n",
            "632 - Output: Yuvraj Singh - Target: herschelle gibbs\n",
            "633 - Output: steam locomotives - Target: wheel arrangements\n",
            "634 - Output: Port wine - Target: port\n",
            "635 - Output: They Shoot Horses, Don't They?, - Target: they shoot horses don t they\n",
            "636 - Output: St Helens R.F.C. - Target: st helens\n",
            "637 - Output: Puff - Target: puff magic dragon\n",
            "638 - Output: Mornay sauce - Target: mornay\n",
            "639 - Output:  - Target: corinth\n",
            "640 - Output: sea sickness - Target: travel sickness\n",
            "641 - Output: Westwall - Target: hindenberg line\n",
            "642 - Output: Michel Roux - Target: michel albert roux\n",
            "643 - Output: javelin - Target: mile\n",
            "644 - Output: Al Gore - Target: jimmy carter\n",
            "645 - Output: Cato Street Conspiracy - Target: cato street\n",
            "646 - Output: ohm - Target: watts\n",
            "647 - Output: bluebottle fly - Target: bluebottle\n",
            "648 - Output: heart failure - Target: high blood pressure\n",
            "649 - Output: eyes - Target: being stared at\n",
            "650 - Output: Herald - Target: herald of free enterprise\n",
            "651 - Output:  - Target: m\n",
            "652 - Output: protein - Target: carbohydrates\n",
            "653 - Output:  - Target: york\n",
            "654 - Output: blackcurrant - Target: cassis\n",
            "655 - Output: Agnolo di Cosimo - Target: alessandro allori\n",
            "656 - Output: Dalgarven - Target: alloway\n",
            "657 - Output: throat - Target: tonsils\n",
            "658 - Output: USA - Target: colombia\n",
            "659 - Output: giraffid - Target: giraffes\n",
            "660 - Output: vodka - Target: tequila\n",
            "661 - Output: Equus - Target: amadeus\n",
            "662 - Output: Potatoes - Target: onions\n",
            "663 - Output: Hythe - Target: colchester\n",
            "664 - Output: Jokers - Target: death wish\n",
            "665 - Output: rose absolute - Target: attar\n",
            "666 - Output: Rab C. Nesbitt - Target: para handy\n",
            "667 - Output: Sue Magnier - Target: queen\n",
            "668 - Output: nerve - Target: nerve cell cluster\n",
            "669 - Output: Quahog - Target: clam\n",
            "670 - Output: Californium - Target: berkelium\n",
            "671 - Output: Nailsmith - Target: tanner\n",
            "672 - Output: Young Rascals - Target: wilson pickett\n",
            "673 - Output: motorcycle speedway - Target: speedway\n",
            "674 - Output:  - Target: je suis un rock star\n",
            "675 - Output: Madame Bovary - Target: emma\n",
            "676 - Output: Leonard Nimoy - Target: mr spock\n",
            "677 - Output: 8 - Target: six\n",
            "678 - Output: [SEP] - Target: merry widow\n",
            "679 - Output: Titus - Target: galba otho vitellius\n",
            "680 - Output: Seville - Target: florence\n",
            "681 - Output: nuts - Target: chocolate\n",
            "682 - Output: Mary Ann Evans, who wrote under the pen-name George Eliot - Target: george eliot\n",
            "683 - Output: Aidan Turner - Target: robin ellis\n",
            "684 - Output:  - Target: ian duncan smith\n",
            "685 - Output: poster design - Target: poster designs\n",
            "686 - Output:  - Target: red eye gravy\n",
            "687 - Output: Mount Everest - Target: summit of mount everest\n",
            "688 - Output: Liechtenstein - Target: vatican city\n",
            "689 - Output: well - Target: long names\n",
            "690 - Output: spiral - Target: tuning fork\n",
            "691 - Output:  - Target: brian glover\n",
            "692 - Output: pfennigs - Target: pfennig\n",
            "693 - Output: [SEP] - Target: perth\n",
            "694 - Output: Shellfish - Target: molluscs\n",
            "695 - Output: St Anne - Target: oh god our help in ages past\n",
            "696 - Output:  - Target: only thing we have to fear is fear itself\n",
            "697 - Output: [SEP] - Target: inch\n",
            "698 - Output: Jake - Target: paul\n",
            "699 - Output: Cameroon - Target: zambia\n",
            "700 - Output: Nurding - Target: nurdin\n",
            "701 - Output: collapsible - Target: baby buggy\n",
            "702 - Output: architecture prizes; it is often referred to as the Nobel Prize of architecture - Target: architecture\n",
            "703 - Output: [SEP] - Target: hand\n",
            "704 - Output: Loch Tay - Target: loch ness\n",
            "705 - Output: grapefruit - Target: orange\n",
            "706 - Output: The Cat in the Hat - Target: so i married axe murderer\n",
            "707 - Output: worm - Target: blackhead\n",
            "708 - Output: blood relatives - Target: related by blood\n",
            "709 - Output: Carry On Follow That Camel - Target: carry on up khyber\n",
            "710 - Output: York Racecourse - Target: york\n",
            "711 - Output: [SEP] - Target: rock bye baby\n",
            "712 - Output: Helios - Target: apollo\n",
            "713 - Output: [SEP] - Target: herd\n",
            "714 - Output: three - Target: twelve\n",
            "715 - Output: Asher - Target: barretts\n",
            "716 - Output: Keith Houchen - Target: gary mabbutt\n",
            "717 - Output: Just Walkin' in the Rain - Target: come on eileen\n",
            "718 - Output: William Pitt the Younger - Target: 3rd earl of bute\n",
            "719 - Output: Winnie Mae - Target: winnie mae\n",
            "720 - Output: citric acid - Target: tartaric acid\n",
            "721 - Output: Institute of Chartered Accountants - Target: law society\n",
            "722 - Output: Wizard - Target: hotspur\n",
            "723 - Output: Liechtenstein - Target: andorra\n",
            "724 - Output: yttria - Target: ytterby\n",
            "725 - Output: Royal London Hospital - Target: st bartholomew s\n",
            "726 - Output: Gary Puckett - Target: puckett\n",
            "727 - Output: Ouse and Trent - Target: river hull\n",
            "728 - Output: Surrey - Target: kent\n",
            "729 - Output: Bangladesh - Target: russia\n",
            "730 - Output: Russell Thompkins, Jr. - Target: russell thompkins\n",
            "731 - Output:  - Target: ankle\n",
            "732 - Output: Norfolk Island - Target: botany bay\n",
            "733 - Output: Barings - Target: morgan grenfell\n",
            "734 - Output:  - Target: eva herzigova\n",
            "735 - Output: Spice Girls - Target: travis\n",
            "736 - Output: Jack London - Target: london\n",
            "737 - Output: Kirk Douglas - Target: douglas\n",
            "738 - Output: Robert Duvall - Target: sutherland\n",
            "739 - Output: Johnny Hooker - Target: henry gondorf\n",
            "740 - Output: duck - Target: chicken\n",
            "741 - Output: Cat Stevens - Target: p p arnold\n",
            "742 - Output: Spain - Target: morocco\n",
            "743 - Output: high jump - Target: long jump\n",
            "744 - Output: ), - Target: i wanna tell you story\n",
            "745 - Output: Eurythmics - Target: annie lennox\n",
            "746 - Output: Science - Target: science and nature\n",
            "747 - Output: Ave Maria - Target: memory\n",
            "748 - Output: The Big Chill - Target: sleeping with enemy\n",
            "749 - Output:  - Target: outbreak of foot and mouth disease\n",
            "750 - Output: Park Royal - Target: cockfosters\n",
            "751 - Output: Violent Storm - Target: storm\n",
            "752 - Output: Dennis Zager and Rick Evans - Target: zager evans\n",
            "753 - Output: Claude Snudge - Target: snudge\n",
            "754 - Output: [SEP] - Target: japan\n",
            "755 - Output: Cairngorms - Target: cairngorms national park\n",
            "756 - Output: Charlie Brown - Target: woodstock\n",
            "757 - Output: Hogna - Target: lycos\n",
            "758 - Output: Cooling - Target: carburettor\n",
            "759 - Output: Refrigerator - Target: fridge\n",
            "760 - Output: New Year - Target: december\n",
            "761 - Output: once every two weeks - Target: weekly\n",
            "762 - Output: toad - Target: frog\n",
            "763 - Output: Tailoring Savile Row's reputation is built on bespoke tailoring - Target: tailoring\n",
            "764 - Output: back of the head - Target: neck\n",
            "765 - Output: Vitamin D - Target: calcium\n",
            "766 - Output:  - Target: idaho montana and wyoming\n",
            "767 - Output: Napoleon - Target: adam smith\n",
            "768 - Output: Rocky and Bullwinkle Show - Target: dudley do right\n",
            "769 - Output: head - Target: head and neck\n",
            "770 - Output: Loyal Order of Water Buffaloes - Target: loyal order of water buffalo\n",
            "771 - Output: antelope - Target: buffalo deer antelope\n",
            "772 - Output: eight-ball - Target: nine ball\n",
            "773 - Output: mesosphere - Target: troposphere\n",
            "774 - Output: Ferrari - Target: 55\n",
            "775 - Output: Mars - Target: space\n",
            "776 - Output: sesame seed bun - Target: two all beef patties special sauce lettuce cheese pickles onions on sesame seed bun\n",
            "777 - Output: Adam's Apple Martini - Target: appletini\n",
            "\n"
          ],
          "name": "stdout"
        }
      ]
    },
    {
      "cell_type": "markdown",
      "metadata": {
        "id": "GWbgnWdXeIuh"
      },
      "source": [
        "Ok! Except for the wrong answer no. 15: *George III* vs. *george*, where the model arguably gave a correct answer, incorrectly rated model predictions are in fact very much wrong."
      ]
    },
    {
      "cell_type": "markdown",
      "metadata": {
        "id": "ULyIPLZIbtIP"
      },
      "source": [
        "We also want to evaluate the `BigBird` on the full validation set. Let's run it.\n",
        "\n",
        "**Note**: This function is expected to run for ca. 4h if the full dataset is used ⌛⌛⌛⌛. In this case, you should make sure that your training doesn't stop due to inactivity. A simple hack to prevent this is to paste the following code into the console of this tab (right mouse click -> inspect -> Console tab and insert code)."
      ]
    },
    {
      "cell_type": "markdown",
      "metadata": {
        "id": "53DdowTejHTz"
      },
      "source": [
        "```javascript\n",
        "function ConnectButton(){\n",
        "    console.log(\"Connect pushed\"); \n",
        "    document.querySelector(\"#top-toolbar > colab-connect-button\").shadowRoot.querySelector(\"#connect\").click() \n",
        "}\n",
        "setInterval(ConnectButton,60000);\n",
        "```"
      ]
    },
    {
      "cell_type": "code",
      "metadata": {
        "id": "jWNtljj3Wr9h",
        "colab": {
          "base_uri": "https://localhost:8080/",
          "height": 67,
          "referenced_widgets": [
            "23ec81dff9674abf9804afc23bfbdde5",
            "c09af03f6d4e44c58ec499865001cc57",
            "c7b3a9abcc9e4016ab78a0395f99b9bf",
            "527da5d0fbac4cf98b9b7e63383ff8f5",
            "27841f3ff58241908d990b85574549e8",
            "4014c978e2aa49a7be79e66543cda2b6",
            "090bc0c0306446c5ad1afb6cd7407ca8",
            "b538cdad607e4c79804663874ed831ae"
          ]
        },
        "outputId": "bb4e4845-6154-487c-e551-8eaa09ffbfbe"
      },
      "source": [
        "results = validation_dataset.map(evaluate)"
      ],
      "execution_count": null,
      "outputs": [
        {
          "output_type": "display_data",
          "data": {
            "application/vnd.jupyter.widget-view+json": {
              "model_id": "23ec81dff9674abf9804afc23bfbdde5",
              "version_minor": 0,
              "version_major": 2
            },
            "text/plain": [
              "HBox(children=(FloatProgress(value=0.0, max=16504.0), HTML(value='')))"
            ]
          },
          "metadata": {
            "tags": []
          }
        },
        {
          "output_type": "stream",
          "text": [
            "\n"
          ],
          "name": "stdout"
        }
      ]
    },
    {
      "cell_type": "markdown",
      "metadata": {
        "id": "FqcT8AEGezGx"
      },
      "source": [
        "Finally, let's print out the score."
      ]
    },
    {
      "cell_type": "code",
      "metadata": {
        "id": "wyDYG4YDXFV7",
        "colab": {
          "base_uri": "https://localhost:8080/"
        },
        "outputId": "1c803380-8a40-45ea-b810-de21895ccf3f"
      },
      "source": [
        "print(\"Exact Match (EM): {:.2f}\".format(100 * sum(results['match'])/len(results)))"
      ],
      "execution_count": null,
      "outputs": [
        {
          "output_type": "stream",
          "text": [
            "Exact Match (EM): 65.78\n"
          ],
          "name": "stdout"
        }
      ]
    },
    {
      "cell_type": "markdown",
      "metadata": {
        "id": "e80MqFyP4JIj"
      },
      "source": [
        "Here, we now see a degradation, which is expected since the added data samples all have a longer context than the model can handle. It is still a very good score though.\n",
        "\n",
        "**Note**: *BigBird* reached a new SOTA on TriviaQA - see Table 2 in [paper](https://arxiv.org/pdf/2007.14062.pdf). Running the notebook on the full validation set should give you an Exact Match score (EM) of **65.78**. \n",
        "This score is significantly lower than the reported EM of **75.77** and F-score of **79.5** because the [official evaluation script](https://github.com/tensorflow/models/tree/f540d472d5cdaa701615e7ceb138ef66f3da2770/official/nlp/projects/triviaqa) contain more improvements, such as splitting long contexts, etc..."
      ]
    },
    {
      "cell_type": "markdown",
      "metadata": {
        "id": "suv6-Rb5Xe9X"
      },
      "source": [
        "🤗 🤗 **Finish** 🤗🤗"
      ]
    }
  ]
}