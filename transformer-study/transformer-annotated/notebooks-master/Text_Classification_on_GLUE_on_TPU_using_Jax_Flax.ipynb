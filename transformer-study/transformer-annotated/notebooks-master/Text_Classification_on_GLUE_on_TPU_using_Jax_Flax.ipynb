{
  "nbformat": 4,
  "nbformat_minor": 0,
  "metadata": {
    "colab": {
      "name": "Text Classification on GLUE on TPU using Jax/Flax",
      "provenance": [],
      "collapsed_sections": [],
      "include_colab_link": true
    },
    "kernelspec": {
      "display_name": "Python 3",
      "language": "python",
      "name": "python3"
    },
    "language_info": {
      "codemirror_mode": {
        "name": "ipython",
        "version": 3
      },
      "file_extension": ".py",
      "mimetype": "text/x-python",
      "name": "python",
      "nbconvert_exporter": "python",
      "pygments_lexer": "ipython3",
      "version": "3.7.9"
    },
    "widgets": {
      "application/vnd.jupyter.widget-state+json": {
        "45feb92a778243dd8a7b7f98648d7b4a": {
          "model_module": "@jupyter-widgets/controls",
          "model_name": "HBoxModel",
          "state": {
            "_view_name": "HBoxView",
            "_dom_classes": [],
            "_model_name": "HBoxModel",
            "_view_module": "@jupyter-widgets/controls",
            "_model_module_version": "1.5.0",
            "_view_count": null,
            "_view_module_version": "1.5.0",
            "box_style": "",
            "layout": "IPY_MODEL_535be95dadb04e2d8994c85c4da302b5",
            "_model_module": "@jupyter-widgets/controls",
            "children": [
              "IPY_MODEL_d5afbf3d124a4d538a73a0ec505e588c",
              "IPY_MODEL_413307fb2c6e4954ada40502eacee67b"
            ]
          }
        },
        "535be95dadb04e2d8994c85c4da302b5": {
          "model_module": "@jupyter-widgets/base",
          "model_name": "LayoutModel",
          "state": {
            "_view_name": "LayoutView",
            "grid_template_rows": null,
            "right": null,
            "justify_content": null,
            "_view_module": "@jupyter-widgets/base",
            "overflow": null,
            "_model_module_version": "1.2.0",
            "_view_count": null,
            "flex_flow": null,
            "width": null,
            "min_width": null,
            "border": null,
            "align_items": null,
            "bottom": null,
            "_model_module": "@jupyter-widgets/base",
            "top": null,
            "grid_column": null,
            "overflow_y": null,
            "overflow_x": null,
            "grid_auto_flow": null,
            "grid_area": null,
            "grid_template_columns": null,
            "flex": null,
            "_model_name": "LayoutModel",
            "justify_items": null,
            "grid_row": null,
            "max_height": null,
            "align_content": null,
            "visibility": null,
            "align_self": null,
            "height": null,
            "min_height": null,
            "padding": null,
            "grid_auto_rows": null,
            "grid_gap": null,
            "max_width": null,
            "order": null,
            "_view_module_version": "1.2.0",
            "grid_template_areas": null,
            "object_position": null,
            "object_fit": null,
            "grid_auto_columns": null,
            "margin": null,
            "display": null,
            "left": null
          }
        },
        "d5afbf3d124a4d538a73a0ec505e588c": {
          "model_module": "@jupyter-widgets/controls",
          "model_name": "FloatProgressModel",
          "state": {
            "_view_name": "ProgressView",
            "style": "IPY_MODEL_c7318c447e69457fa162373a1c6d771b",
            "_dom_classes": [],
            "description": "100%",
            "_model_name": "FloatProgressModel",
            "bar_style": "success",
            "max": 9,
            "_view_module": "@jupyter-widgets/controls",
            "_model_module_version": "1.5.0",
            "value": 9,
            "_view_count": null,
            "_view_module_version": "1.5.0",
            "orientation": "horizontal",
            "min": 0,
            "description_tooltip": null,
            "_model_module": "@jupyter-widgets/controls",
            "layout": "IPY_MODEL_ff075df9b76c4f4fbdf6d4b40df13d43"
          }
        },
        "413307fb2c6e4954ada40502eacee67b": {
          "model_module": "@jupyter-widgets/controls",
          "model_name": "HTMLModel",
          "state": {
            "_view_name": "HTMLView",
            "style": "IPY_MODEL_0ada4ca6dd374decb338a12fbebdab75",
            "_dom_classes": [],
            "description": "",
            "_model_name": "HTMLModel",
            "placeholder": "​",
            "_view_module": "@jupyter-widgets/controls",
            "_model_module_version": "1.5.0",
            "value": " 9/9 [00:39&lt;00:00,  4.44s/ba]",
            "_view_count": null,
            "_view_module_version": "1.5.0",
            "description_tooltip": null,
            "_model_module": "@jupyter-widgets/controls",
            "layout": "IPY_MODEL_3b56ee5166dd4757afb79d366061ccda"
          }
        },
        "c7318c447e69457fa162373a1c6d771b": {
          "model_module": "@jupyter-widgets/controls",
          "model_name": "ProgressStyleModel",
          "state": {
            "_view_name": "StyleView",
            "_model_name": "ProgressStyleModel",
            "description_width": "initial",
            "_view_module": "@jupyter-widgets/base",
            "_model_module_version": "1.5.0",
            "_view_count": null,
            "_view_module_version": "1.2.0",
            "bar_color": null,
            "_model_module": "@jupyter-widgets/controls"
          }
        },
        "ff075df9b76c4f4fbdf6d4b40df13d43": {
          "model_module": "@jupyter-widgets/base",
          "model_name": "LayoutModel",
          "state": {
            "_view_name": "LayoutView",
            "grid_template_rows": null,
            "right": null,
            "justify_content": null,
            "_view_module": "@jupyter-widgets/base",
            "overflow": null,
            "_model_module_version": "1.2.0",
            "_view_count": null,
            "flex_flow": null,
            "width": null,
            "min_width": null,
            "border": null,
            "align_items": null,
            "bottom": null,
            "_model_module": "@jupyter-widgets/base",
            "top": null,
            "grid_column": null,
            "overflow_y": null,
            "overflow_x": null,
            "grid_auto_flow": null,
            "grid_area": null,
            "grid_template_columns": null,
            "flex": null,
            "_model_name": "LayoutModel",
            "justify_items": null,
            "grid_row": null,
            "max_height": null,
            "align_content": null,
            "visibility": null,
            "align_self": null,
            "height": null,
            "min_height": null,
            "padding": null,
            "grid_auto_rows": null,
            "grid_gap": null,
            "max_width": null,
            "order": null,
            "_view_module_version": "1.2.0",
            "grid_template_areas": null,
            "object_position": null,
            "object_fit": null,
            "grid_auto_columns": null,
            "margin": null,
            "display": null,
            "left": null
          }
        },
        "0ada4ca6dd374decb338a12fbebdab75": {
          "model_module": "@jupyter-widgets/controls",
          "model_name": "DescriptionStyleModel",
          "state": {
            "_view_name": "StyleView",
            "_model_name": "DescriptionStyleModel",
            "description_width": "",
            "_view_module": "@jupyter-widgets/base",
            "_model_module_version": "1.5.0",
            "_view_count": null,
            "_view_module_version": "1.2.0",
            "_model_module": "@jupyter-widgets/controls"
          }
        },
        "3b56ee5166dd4757afb79d366061ccda": {
          "model_module": "@jupyter-widgets/base",
          "model_name": "LayoutModel",
          "state": {
            "_view_name": "LayoutView",
            "grid_template_rows": null,
            "right": null,
            "justify_content": null,
            "_view_module": "@jupyter-widgets/base",
            "overflow": null,
            "_model_module_version": "1.2.0",
            "_view_count": null,
            "flex_flow": null,
            "width": null,
            "min_width": null,
            "border": null,
            "align_items": null,
            "bottom": null,
            "_model_module": "@jupyter-widgets/base",
            "top": null,
            "grid_column": null,
            "overflow_y": null,
            "overflow_x": null,
            "grid_auto_flow": null,
            "grid_area": null,
            "grid_template_columns": null,
            "flex": null,
            "_model_name": "LayoutModel",
            "justify_items": null,
            "grid_row": null,
            "max_height": null,
            "align_content": null,
            "visibility": null,
            "align_self": null,
            "height": null,
            "min_height": null,
            "padding": null,
            "grid_auto_rows": null,
            "grid_gap": null,
            "max_width": null,
            "order": null,
            "_view_module_version": "1.2.0",
            "grid_template_areas": null,
            "object_position": null,
            "object_fit": null,
            "grid_auto_columns": null,
            "margin": null,
            "display": null,
            "left": null
          }
        },
        "6ad9bad551af4563ba008ea14832111a": {
          "model_module": "@jupyter-widgets/controls",
          "model_name": "HBoxModel",
          "state": {
            "_view_name": "HBoxView",
            "_dom_classes": [],
            "_model_name": "HBoxModel",
            "_view_module": "@jupyter-widgets/controls",
            "_model_module_version": "1.5.0",
            "_view_count": null,
            "_view_module_version": "1.5.0",
            "box_style": "",
            "layout": "IPY_MODEL_0a1d8b61e6794142a46076554ffa9ee6",
            "_model_module": "@jupyter-widgets/controls",
            "children": [
              "IPY_MODEL_37a556660e23489f9e0e38f230b7e14d",
              "IPY_MODEL_80da478f6f5b471face0b35421a73e3a"
            ]
          }
        },
        "0a1d8b61e6794142a46076554ffa9ee6": {
          "model_module": "@jupyter-widgets/base",
          "model_name": "LayoutModel",
          "state": {
            "_view_name": "LayoutView",
            "grid_template_rows": null,
            "right": null,
            "justify_content": null,
            "_view_module": "@jupyter-widgets/base",
            "overflow": null,
            "_model_module_version": "1.2.0",
            "_view_count": null,
            "flex_flow": null,
            "width": null,
            "min_width": null,
            "border": null,
            "align_items": null,
            "bottom": null,
            "_model_module": "@jupyter-widgets/base",
            "top": null,
            "grid_column": null,
            "overflow_y": null,
            "overflow_x": null,
            "grid_auto_flow": null,
            "grid_area": null,
            "grid_template_columns": null,
            "flex": null,
            "_model_name": "LayoutModel",
            "justify_items": null,
            "grid_row": null,
            "max_height": null,
            "align_content": null,
            "visibility": null,
            "align_self": null,
            "height": null,
            "min_height": null,
            "padding": null,
            "grid_auto_rows": null,
            "grid_gap": null,
            "max_width": null,
            "order": null,
            "_view_module_version": "1.2.0",
            "grid_template_areas": null,
            "object_position": null,
            "object_fit": null,
            "grid_auto_columns": null,
            "margin": null,
            "display": null,
            "left": null
          }
        },
        "37a556660e23489f9e0e38f230b7e14d": {
          "model_module": "@jupyter-widgets/controls",
          "model_name": "FloatProgressModel",
          "state": {
            "_view_name": "ProgressView",
            "style": "IPY_MODEL_e21ce1bf89324a16bf508191191d6423",
            "_dom_classes": [],
            "description": "100%",
            "_model_name": "FloatProgressModel",
            "bar_style": "success",
            "max": 2,
            "_view_module": "@jupyter-widgets/controls",
            "_model_module_version": "1.5.0",
            "value": 2,
            "_view_count": null,
            "_view_module_version": "1.5.0",
            "orientation": "horizontal",
            "min": 0,
            "description_tooltip": null,
            "_model_module": "@jupyter-widgets/controls",
            "layout": "IPY_MODEL_c5632265c10e4d818a09aa0fde7f3f23"
          }
        },
        "80da478f6f5b471face0b35421a73e3a": {
          "model_module": "@jupyter-widgets/controls",
          "model_name": "HTMLModel",
          "state": {
            "_view_name": "HTMLView",
            "style": "IPY_MODEL_88129a9dc5b846d38c04854593941bd7",
            "_dom_classes": [],
            "description": "",
            "_model_name": "HTMLModel",
            "placeholder": "​",
            "_view_module": "@jupyter-widgets/controls",
            "_model_module_version": "1.5.0",
            "value": " 2/2 [00:00&lt;00:00,  4.96ba/s]",
            "_view_count": null,
            "_view_module_version": "1.5.0",
            "description_tooltip": null,
            "_model_module": "@jupyter-widgets/controls",
            "layout": "IPY_MODEL_406851012e774bc2ae54458d79d65787"
          }
        },
        "e21ce1bf89324a16bf508191191d6423": {
          "model_module": "@jupyter-widgets/controls",
          "model_name": "ProgressStyleModel",
          "state": {
            "_view_name": "StyleView",
            "_model_name": "ProgressStyleModel",
            "description_width": "initial",
            "_view_module": "@jupyter-widgets/base",
            "_model_module_version": "1.5.0",
            "_view_count": null,
            "_view_module_version": "1.2.0",
            "bar_color": null,
            "_model_module": "@jupyter-widgets/controls"
          }
        },
        "c5632265c10e4d818a09aa0fde7f3f23": {
          "model_module": "@jupyter-widgets/base",
          "model_name": "LayoutModel",
          "state": {
            "_view_name": "LayoutView",
            "grid_template_rows": null,
            "right": null,
            "justify_content": null,
            "_view_module": "@jupyter-widgets/base",
            "overflow": null,
            "_model_module_version": "1.2.0",
            "_view_count": null,
            "flex_flow": null,
            "width": null,
            "min_width": null,
            "border": null,
            "align_items": null,
            "bottom": null,
            "_model_module": "@jupyter-widgets/base",
            "top": null,
            "grid_column": null,
            "overflow_y": null,
            "overflow_x": null,
            "grid_auto_flow": null,
            "grid_area": null,
            "grid_template_columns": null,
            "flex": null,
            "_model_name": "LayoutModel",
            "justify_items": null,
            "grid_row": null,
            "max_height": null,
            "align_content": null,
            "visibility": null,
            "align_self": null,
            "height": null,
            "min_height": null,
            "padding": null,
            "grid_auto_rows": null,
            "grid_gap": null,
            "max_width": null,
            "order": null,
            "_view_module_version": "1.2.0",
            "grid_template_areas": null,
            "object_position": null,
            "object_fit": null,
            "grid_auto_columns": null,
            "margin": null,
            "display": null,
            "left": null
          }
        },
        "88129a9dc5b846d38c04854593941bd7": {
          "model_module": "@jupyter-widgets/controls",
          "model_name": "DescriptionStyleModel",
          "state": {
            "_view_name": "StyleView",
            "_model_name": "DescriptionStyleModel",
            "description_width": "",
            "_view_module": "@jupyter-widgets/base",
            "_model_module_version": "1.5.0",
            "_view_count": null,
            "_view_module_version": "1.2.0",
            "_model_module": "@jupyter-widgets/controls"
          }
        },
        "406851012e774bc2ae54458d79d65787": {
          "model_module": "@jupyter-widgets/base",
          "model_name": "LayoutModel",
          "state": {
            "_view_name": "LayoutView",
            "grid_template_rows": null,
            "right": null,
            "justify_content": null,
            "_view_module": "@jupyter-widgets/base",
            "overflow": null,
            "_model_module_version": "1.2.0",
            "_view_count": null,
            "flex_flow": null,
            "width": null,
            "min_width": null,
            "border": null,
            "align_items": null,
            "bottom": null,
            "_model_module": "@jupyter-widgets/base",
            "top": null,
            "grid_column": null,
            "overflow_y": null,
            "overflow_x": null,
            "grid_auto_flow": null,
            "grid_area": null,
            "grid_template_columns": null,
            "flex": null,
            "_model_name": "LayoutModel",
            "justify_items": null,
            "grid_row": null,
            "max_height": null,
            "align_content": null,
            "visibility": null,
            "align_self": null,
            "height": null,
            "min_height": null,
            "padding": null,
            "grid_auto_rows": null,
            "grid_gap": null,
            "max_width": null,
            "order": null,
            "_view_module_version": "1.2.0",
            "grid_template_areas": null,
            "object_position": null,
            "object_fit": null,
            "grid_auto_columns": null,
            "margin": null,
            "display": null,
            "left": null
          }
        },
        "4ac0d9a4a74c481b87b8c14640aa367d": {
          "model_module": "@jupyter-widgets/controls",
          "model_name": "HBoxModel",
          "state": {
            "_view_name": "HBoxView",
            "_dom_classes": [],
            "_model_name": "HBoxModel",
            "_view_module": "@jupyter-widgets/controls",
            "_model_module_version": "1.5.0",
            "_view_count": null,
            "_view_module_version": "1.5.0",
            "box_style": "",
            "layout": "IPY_MODEL_f063d07acbae46b7ad6cf5209a83c795",
            "_model_module": "@jupyter-widgets/controls",
            "children": [
              "IPY_MODEL_5e3910c2a0284fb5b2a16f133d9f8226",
              "IPY_MODEL_7ade52cc49e5470b9a796a057b1743a6"
            ]
          }
        },
        "f063d07acbae46b7ad6cf5209a83c795": {
          "model_module": "@jupyter-widgets/base",
          "model_name": "LayoutModel",
          "state": {
            "_view_name": "LayoutView",
            "grid_template_rows": null,
            "right": null,
            "justify_content": null,
            "_view_module": "@jupyter-widgets/base",
            "overflow": null,
            "_model_module_version": "1.2.0",
            "_view_count": null,
            "flex_flow": null,
            "width": null,
            "min_width": null,
            "border": null,
            "align_items": null,
            "bottom": null,
            "_model_module": "@jupyter-widgets/base",
            "top": null,
            "grid_column": null,
            "overflow_y": null,
            "overflow_x": null,
            "grid_auto_flow": null,
            "grid_area": null,
            "grid_template_columns": null,
            "flex": null,
            "_model_name": "LayoutModel",
            "justify_items": null,
            "grid_row": null,
            "max_height": null,
            "align_content": null,
            "visibility": null,
            "align_self": null,
            "height": null,
            "min_height": null,
            "padding": null,
            "grid_auto_rows": null,
            "grid_gap": null,
            "max_width": null,
            "order": null,
            "_view_module_version": "1.2.0",
            "grid_template_areas": null,
            "object_position": null,
            "object_fit": null,
            "grid_auto_columns": null,
            "margin": null,
            "display": null,
            "left": null
          }
        },
        "5e3910c2a0284fb5b2a16f133d9f8226": {
          "model_module": "@jupyter-widgets/controls",
          "model_name": "FloatProgressModel",
          "state": {
            "_view_name": "ProgressView",
            "style": "IPY_MODEL_16c866ef556f45b7959449f32e94e8a8",
            "_dom_classes": [],
            "description": "100%",
            "_model_name": "FloatProgressModel",
            "bar_style": "success",
            "max": 2,
            "_view_module": "@jupyter-widgets/controls",
            "_model_module_version": "1.5.0",
            "value": 2,
            "_view_count": null,
            "_view_module_version": "1.5.0",
            "orientation": "horizontal",
            "min": 0,
            "description_tooltip": null,
            "_model_module": "@jupyter-widgets/controls",
            "layout": "IPY_MODEL_b1d7b766995046af86ebb9fdf42f4800"
          }
        },
        "7ade52cc49e5470b9a796a057b1743a6": {
          "model_module": "@jupyter-widgets/controls",
          "model_name": "HTMLModel",
          "state": {
            "_view_name": "HTMLView",
            "style": "IPY_MODEL_298d70dba33b43e495235c6b20f95cac",
            "_dom_classes": [],
            "description": "",
            "_model_name": "HTMLModel",
            "placeholder": "​",
            "_view_module": "@jupyter-widgets/controls",
            "_model_module_version": "1.5.0",
            "value": " 2/2 [00:38&lt;00:00, 19.39s/ba]",
            "_view_count": null,
            "_view_module_version": "1.5.0",
            "description_tooltip": null,
            "_model_module": "@jupyter-widgets/controls",
            "layout": "IPY_MODEL_1e115a20d964440fa388b3baec9f712b"
          }
        },
        "16c866ef556f45b7959449f32e94e8a8": {
          "model_module": "@jupyter-widgets/controls",
          "model_name": "ProgressStyleModel",
          "state": {
            "_view_name": "StyleView",
            "_model_name": "ProgressStyleModel",
            "description_width": "initial",
            "_view_module": "@jupyter-widgets/base",
            "_model_module_version": "1.5.0",
            "_view_count": null,
            "_view_module_version": "1.2.0",
            "bar_color": null,
            "_model_module": "@jupyter-widgets/controls"
          }
        },
        "b1d7b766995046af86ebb9fdf42f4800": {
          "model_module": "@jupyter-widgets/base",
          "model_name": "LayoutModel",
          "state": {
            "_view_name": "LayoutView",
            "grid_template_rows": null,
            "right": null,
            "justify_content": null,
            "_view_module": "@jupyter-widgets/base",
            "overflow": null,
            "_model_module_version": "1.2.0",
            "_view_count": null,
            "flex_flow": null,
            "width": null,
            "min_width": null,
            "border": null,
            "align_items": null,
            "bottom": null,
            "_model_module": "@jupyter-widgets/base",
            "top": null,
            "grid_column": null,
            "overflow_y": null,
            "overflow_x": null,
            "grid_auto_flow": null,
            "grid_area": null,
            "grid_template_columns": null,
            "flex": null,
            "_model_name": "LayoutModel",
            "justify_items": null,
            "grid_row": null,
            "max_height": null,
            "align_content": null,
            "visibility": null,
            "align_self": null,
            "height": null,
            "min_height": null,
            "padding": null,
            "grid_auto_rows": null,
            "grid_gap": null,
            "max_width": null,
            "order": null,
            "_view_module_version": "1.2.0",
            "grid_template_areas": null,
            "object_position": null,
            "object_fit": null,
            "grid_auto_columns": null,
            "margin": null,
            "display": null,
            "left": null
          }
        },
        "298d70dba33b43e495235c6b20f95cac": {
          "model_module": "@jupyter-widgets/controls",
          "model_name": "DescriptionStyleModel",
          "state": {
            "_view_name": "StyleView",
            "_model_name": "DescriptionStyleModel",
            "description_width": "",
            "_view_module": "@jupyter-widgets/base",
            "_model_module_version": "1.5.0",
            "_view_count": null,
            "_view_module_version": "1.2.0",
            "_model_module": "@jupyter-widgets/controls"
          }
        },
        "1e115a20d964440fa388b3baec9f712b": {
          "model_module": "@jupyter-widgets/base",
          "model_name": "LayoutModel",
          "state": {
            "_view_name": "LayoutView",
            "grid_template_rows": null,
            "right": null,
            "justify_content": null,
            "_view_module": "@jupyter-widgets/base",
            "overflow": null,
            "_model_module_version": "1.2.0",
            "_view_count": null,
            "flex_flow": null,
            "width": null,
            "min_width": null,
            "border": null,
            "align_items": null,
            "bottom": null,
            "_model_module": "@jupyter-widgets/base",
            "top": null,
            "grid_column": null,
            "overflow_y": null,
            "overflow_x": null,
            "grid_auto_flow": null,
            "grid_area": null,
            "grid_template_columns": null,
            "flex": null,
            "_model_name": "LayoutModel",
            "justify_items": null,
            "grid_row": null,
            "max_height": null,
            "align_content": null,
            "visibility": null,
            "align_self": null,
            "height": null,
            "min_height": null,
            "padding": null,
            "grid_auto_rows": null,
            "grid_gap": null,
            "max_width": null,
            "order": null,
            "_view_module_version": "1.2.0",
            "grid_template_areas": null,
            "object_position": null,
            "object_fit": null,
            "grid_auto_columns": null,
            "margin": null,
            "display": null,
            "left": null
          }
        },
        "f0ae6f88c74d46cc8b4739596f624599": {
          "model_module": "@jupyter-widgets/controls",
          "model_name": "HBoxModel",
          "state": {
            "_view_name": "HBoxView",
            "_dom_classes": [],
            "_model_name": "HBoxModel",
            "_view_module": "@jupyter-widgets/controls",
            "_model_module_version": "1.5.0",
            "_view_count": null,
            "_view_module_version": "1.5.0",
            "box_style": "",
            "layout": "IPY_MODEL_d1e387707c7c441d92e81fc4627029ac",
            "_model_module": "@jupyter-widgets/controls",
            "children": [
              "IPY_MODEL_251a1024319a4961aa67d1fa1c31f86b",
              "IPY_MODEL_bd9d038cfc4743babadd2687cd40ce9c"
            ]
          }
        },
        "d1e387707c7c441d92e81fc4627029ac": {
          "model_module": "@jupyter-widgets/base",
          "model_name": "LayoutModel",
          "state": {
            "_view_name": "LayoutView",
            "grid_template_rows": null,
            "right": null,
            "justify_content": null,
            "_view_module": "@jupyter-widgets/base",
            "overflow": null,
            "_model_module_version": "1.2.0",
            "_view_count": null,
            "flex_flow": null,
            "width": null,
            "min_width": null,
            "border": null,
            "align_items": null,
            "bottom": null,
            "_model_module": "@jupyter-widgets/base",
            "top": null,
            "grid_column": null,
            "overflow_y": null,
            "overflow_x": null,
            "grid_auto_flow": null,
            "grid_area": null,
            "grid_template_columns": null,
            "flex": null,
            "_model_name": "LayoutModel",
            "justify_items": null,
            "grid_row": null,
            "max_height": null,
            "align_content": null,
            "visibility": null,
            "align_self": null,
            "height": null,
            "min_height": null,
            "padding": null,
            "grid_auto_rows": null,
            "grid_gap": null,
            "max_width": null,
            "order": null,
            "_view_module_version": "1.2.0",
            "grid_template_areas": null,
            "object_position": null,
            "object_fit": null,
            "grid_auto_columns": null,
            "margin": null,
            "display": null,
            "left": null
          }
        },
        "251a1024319a4961aa67d1fa1c31f86b": {
          "model_module": "@jupyter-widgets/controls",
          "model_name": "FloatProgressModel",
          "state": {
            "_view_name": "ProgressView",
            "style": "IPY_MODEL_8ed70327573a4700874f6d421a10b8f3",
            "_dom_classes": [],
            "description": "Downloading: 100%",
            "_model_name": "FloatProgressModel",
            "bar_style": "success",
            "max": 655572523,
            "_view_module": "@jupyter-widgets/controls",
            "_model_module_version": "1.5.0",
            "value": 655572523,
            "_view_count": null,
            "_view_module_version": "1.5.0",
            "orientation": "horizontal",
            "min": 0,
            "description_tooltip": null,
            "_model_module": "@jupyter-widgets/controls",
            "layout": "IPY_MODEL_3700b4e5b86b4831bd65dad93a0e6017"
          }
        },
        "bd9d038cfc4743babadd2687cd40ce9c": {
          "model_module": "@jupyter-widgets/controls",
          "model_name": "HTMLModel",
          "state": {
            "_view_name": "HTMLView",
            "style": "IPY_MODEL_5395b728f17c45f496452f9a28f76718",
            "_dom_classes": [],
            "description": "",
            "_model_name": "HTMLModel",
            "placeholder": "​",
            "_view_module": "@jupyter-widgets/controls",
            "_model_module_version": "1.5.0",
            "value": " 656M/656M [00:37&lt;00:00, 17.4MB/s]",
            "_view_count": null,
            "_view_module_version": "1.5.0",
            "description_tooltip": null,
            "_model_module": "@jupyter-widgets/controls",
            "layout": "IPY_MODEL_6278211ccbf44368ac285c675adc929a"
          }
        },
        "8ed70327573a4700874f6d421a10b8f3": {
          "model_module": "@jupyter-widgets/controls",
          "model_name": "ProgressStyleModel",
          "state": {
            "_view_name": "StyleView",
            "_model_name": "ProgressStyleModel",
            "description_width": "initial",
            "_view_module": "@jupyter-widgets/base",
            "_model_module_version": "1.5.0",
            "_view_count": null,
            "_view_module_version": "1.2.0",
            "bar_color": null,
            "_model_module": "@jupyter-widgets/controls"
          }
        },
        "3700b4e5b86b4831bd65dad93a0e6017": {
          "model_module": "@jupyter-widgets/base",
          "model_name": "LayoutModel",
          "state": {
            "_view_name": "LayoutView",
            "grid_template_rows": null,
            "right": null,
            "justify_content": null,
            "_view_module": "@jupyter-widgets/base",
            "overflow": null,
            "_model_module_version": "1.2.0",
            "_view_count": null,
            "flex_flow": null,
            "width": null,
            "min_width": null,
            "border": null,
            "align_items": null,
            "bottom": null,
            "_model_module": "@jupyter-widgets/base",
            "top": null,
            "grid_column": null,
            "overflow_y": null,
            "overflow_x": null,
            "grid_auto_flow": null,
            "grid_area": null,
            "grid_template_columns": null,
            "flex": null,
            "_model_name": "LayoutModel",
            "justify_items": null,
            "grid_row": null,
            "max_height": null,
            "align_content": null,
            "visibility": null,
            "align_self": null,
            "height": null,
            "min_height": null,
            "padding": null,
            "grid_auto_rows": null,
            "grid_gap": null,
            "max_width": null,
            "order": null,
            "_view_module_version": "1.2.0",
            "grid_template_areas": null,
            "object_position": null,
            "object_fit": null,
            "grid_auto_columns": null,
            "margin": null,
            "display": null,
            "left": null
          }
        },
        "5395b728f17c45f496452f9a28f76718": {
          "model_module": "@jupyter-widgets/controls",
          "model_name": "DescriptionStyleModel",
          "state": {
            "_view_name": "StyleView",
            "_model_name": "DescriptionStyleModel",
            "description_width": "",
            "_view_module": "@jupyter-widgets/base",
            "_model_module_version": "1.5.0",
            "_view_count": null,
            "_view_module_version": "1.2.0",
            "_model_module": "@jupyter-widgets/controls"
          }
        },
        "6278211ccbf44368ac285c675adc929a": {
          "model_module": "@jupyter-widgets/base",
          "model_name": "LayoutModel",
          "state": {
            "_view_name": "LayoutView",
            "grid_template_rows": null,
            "right": null,
            "justify_content": null,
            "_view_module": "@jupyter-widgets/base",
            "overflow": null,
            "_model_module_version": "1.2.0",
            "_view_count": null,
            "flex_flow": null,
            "width": null,
            "min_width": null,
            "border": null,
            "align_items": null,
            "bottom": null,
            "_model_module": "@jupyter-widgets/base",
            "top": null,
            "grid_column": null,
            "overflow_y": null,
            "overflow_x": null,
            "grid_auto_flow": null,
            "grid_area": null,
            "grid_template_columns": null,
            "flex": null,
            "_model_name": "LayoutModel",
            "justify_items": null,
            "grid_row": null,
            "max_height": null,
            "align_content": null,
            "visibility": null,
            "align_self": null,
            "height": null,
            "min_height": null,
            "padding": null,
            "grid_auto_rows": null,
            "grid_gap": null,
            "max_width": null,
            "order": null,
            "_view_module_version": "1.2.0",
            "grid_template_areas": null,
            "object_position": null,
            "object_fit": null,
            "grid_auto_columns": null,
            "margin": null,
            "display": null,
            "left": null
          }
        },
        "149b8e9f64e44f04974d6d5496480239": {
          "model_module": "@jupyter-widgets/controls",
          "model_name": "HBoxModel",
          "state": {
            "_view_name": "HBoxView",
            "_dom_classes": [],
            "_model_name": "HBoxModel",
            "_view_module": "@jupyter-widgets/controls",
            "_model_module_version": "1.5.0",
            "_view_count": null,
            "_view_module_version": "1.5.0",
            "box_style": "",
            "layout": "IPY_MODEL_e10025b5a2114ca795cfb81398829feb",
            "_model_module": "@jupyter-widgets/controls",
            "children": [
              "IPY_MODEL_6e86f1e800ab4a8f9e37e66462cd7242",
              "IPY_MODEL_992b6178a02c4d259945d51a3cf0bb41"
            ]
          }
        },
        "e10025b5a2114ca795cfb81398829feb": {
          "model_module": "@jupyter-widgets/base",
          "model_name": "LayoutModel",
          "state": {
            "_view_name": "LayoutView",
            "grid_template_rows": null,
            "right": null,
            "justify_content": null,
            "_view_module": "@jupyter-widgets/base",
            "overflow": null,
            "_model_module_version": "1.2.0",
            "_view_count": null,
            "flex_flow": null,
            "width": null,
            "min_width": null,
            "border": null,
            "align_items": null,
            "bottom": null,
            "_model_module": "@jupyter-widgets/base",
            "top": null,
            "grid_column": null,
            "overflow_y": null,
            "overflow_x": null,
            "grid_auto_flow": null,
            "grid_area": null,
            "grid_template_columns": null,
            "flex": null,
            "_model_name": "LayoutModel",
            "justify_items": null,
            "grid_row": null,
            "max_height": null,
            "align_content": null,
            "visibility": null,
            "align_self": null,
            "height": null,
            "min_height": null,
            "padding": null,
            "grid_auto_rows": null,
            "grid_gap": null,
            "max_width": null,
            "order": null,
            "_view_module_version": "1.2.0",
            "grid_template_areas": null,
            "object_position": null,
            "object_fit": null,
            "grid_auto_columns": null,
            "margin": null,
            "display": null,
            "left": null
          }
        },
        "6e86f1e800ab4a8f9e37e66462cd7242": {
          "model_module": "@jupyter-widgets/controls",
          "model_name": "FloatProgressModel",
          "state": {
            "_view_name": "ProgressView",
            "style": "IPY_MODEL_51158010ae974746a27796b74ebfa89f",
            "_dom_classes": [],
            "description": "Epoch ...:   0%",
            "_model_name": "FloatProgressModel",
            "bar_style": "",
            "max": 3,
            "_view_module": "@jupyter-widgets/controls",
            "_model_module_version": "1.5.0",
            "value": 0,
            "_view_count": null,
            "_view_module_version": "1.5.0",
            "orientation": "horizontal",
            "min": 0,
            "description_tooltip": null,
            "_model_module": "@jupyter-widgets/controls",
            "layout": "IPY_MODEL_835f3d3ca9554b9f885f0276e085ba83"
          }
        },
        "992b6178a02c4d259945d51a3cf0bb41": {
          "model_module": "@jupyter-widgets/controls",
          "model_name": "HTMLModel",
          "state": {
            "_view_name": "HTMLView",
            "style": "IPY_MODEL_1e71ed0a7262419997503e276fd472ff",
            "_dom_classes": [],
            "description": "",
            "_model_name": "HTMLModel",
            "placeholder": "​",
            "_view_module": "@jupyter-widgets/controls",
            "_model_module_version": "1.5.0",
            "value": " 0/3 [00:00&lt;?, ?it/s]",
            "_view_count": null,
            "_view_module_version": "1.5.0",
            "description_tooltip": null,
            "_model_module": "@jupyter-widgets/controls",
            "layout": "IPY_MODEL_0ff7f0bc66094cc6b220505ee8695a74"
          }
        },
        "51158010ae974746a27796b74ebfa89f": {
          "model_module": "@jupyter-widgets/controls",
          "model_name": "ProgressStyleModel",
          "state": {
            "_view_name": "StyleView",
            "_model_name": "ProgressStyleModel",
            "description_width": "initial",
            "_view_module": "@jupyter-widgets/base",
            "_model_module_version": "1.5.0",
            "_view_count": null,
            "_view_module_version": "1.2.0",
            "bar_color": null,
            "_model_module": "@jupyter-widgets/controls"
          }
        },
        "835f3d3ca9554b9f885f0276e085ba83": {
          "model_module": "@jupyter-widgets/base",
          "model_name": "LayoutModel",
          "state": {
            "_view_name": "LayoutView",
            "grid_template_rows": null,
            "right": null,
            "justify_content": null,
            "_view_module": "@jupyter-widgets/base",
            "overflow": null,
            "_model_module_version": "1.2.0",
            "_view_count": null,
            "flex_flow": null,
            "width": null,
            "min_width": null,
            "border": null,
            "align_items": null,
            "bottom": null,
            "_model_module": "@jupyter-widgets/base",
            "top": null,
            "grid_column": null,
            "overflow_y": null,
            "overflow_x": null,
            "grid_auto_flow": null,
            "grid_area": null,
            "grid_template_columns": null,
            "flex": null,
            "_model_name": "LayoutModel",
            "justify_items": null,
            "grid_row": null,
            "max_height": null,
            "align_content": null,
            "visibility": null,
            "align_self": null,
            "height": null,
            "min_height": null,
            "padding": null,
            "grid_auto_rows": null,
            "grid_gap": null,
            "max_width": null,
            "order": null,
            "_view_module_version": "1.2.0",
            "grid_template_areas": null,
            "object_position": null,
            "object_fit": null,
            "grid_auto_columns": null,
            "margin": null,
            "display": null,
            "left": null
          }
        },
        "1e71ed0a7262419997503e276fd472ff": {
          "model_module": "@jupyter-widgets/controls",
          "model_name": "DescriptionStyleModel",
          "state": {
            "_view_name": "StyleView",
            "_model_name": "DescriptionStyleModel",
            "description_width": "",
            "_view_module": "@jupyter-widgets/base",
            "_model_module_version": "1.5.0",
            "_view_count": null,
            "_view_module_version": "1.2.0",
            "_model_module": "@jupyter-widgets/controls"
          }
        },
        "0ff7f0bc66094cc6b220505ee8695a74": {
          "model_module": "@jupyter-widgets/base",
          "model_name": "LayoutModel",
          "state": {
            "_view_name": "LayoutView",
            "grid_template_rows": null,
            "right": null,
            "justify_content": null,
            "_view_module": "@jupyter-widgets/base",
            "overflow": null,
            "_model_module_version": "1.2.0",
            "_view_count": null,
            "flex_flow": null,
            "width": null,
            "min_width": null,
            "border": null,
            "align_items": null,
            "bottom": null,
            "_model_module": "@jupyter-widgets/base",
            "top": null,
            "grid_column": null,
            "overflow_y": null,
            "overflow_x": null,
            "grid_auto_flow": null,
            "grid_area": null,
            "grid_template_columns": null,
            "flex": null,
            "_model_name": "LayoutModel",
            "justify_items": null,
            "grid_row": null,
            "max_height": null,
            "align_content": null,
            "visibility": null,
            "align_self": null,
            "height": null,
            "min_height": null,
            "padding": null,
            "grid_auto_rows": null,
            "grid_gap": null,
            "max_width": null,
            "order": null,
            "_view_module_version": "1.2.0",
            "grid_template_areas": null,
            "object_position": null,
            "object_fit": null,
            "grid_auto_columns": null,
            "margin": null,
            "display": null,
            "left": null
          }
        },
        "4f4a06ea79fb4c0399e846c2331279fb": {
          "model_module": "@jupyter-widgets/controls",
          "model_name": "HBoxModel",
          "state": {
            "_view_name": "HBoxView",
            "_dom_classes": [],
            "_model_name": "HBoxModel",
            "_view_module": "@jupyter-widgets/controls",
            "_model_module_version": "1.5.0",
            "_view_count": null,
            "_view_module_version": "1.5.0",
            "box_style": "",
            "layout": "IPY_MODEL_0d259d8e43934517a4e687d53f661826",
            "_model_module": "@jupyter-widgets/controls",
            "children": [
              "IPY_MODEL_e644da6330c4468f80dcbf737585258c",
              "IPY_MODEL_ee81b01cb18b4679a577bce64bc4d8e1"
            ]
          }
        },
        "0d259d8e43934517a4e687d53f661826": {
          "model_module": "@jupyter-widgets/base",
          "model_name": "LayoutModel",
          "state": {
            "_view_name": "LayoutView",
            "grid_template_rows": null,
            "right": null,
            "justify_content": null,
            "_view_module": "@jupyter-widgets/base",
            "overflow": null,
            "_model_module_version": "1.2.0",
            "_view_count": null,
            "flex_flow": null,
            "width": null,
            "min_width": null,
            "border": null,
            "align_items": null,
            "bottom": null,
            "_model_module": "@jupyter-widgets/base",
            "top": null,
            "grid_column": null,
            "overflow_y": null,
            "overflow_x": null,
            "grid_auto_flow": null,
            "grid_area": null,
            "grid_template_columns": null,
            "flex": null,
            "_model_name": "LayoutModel",
            "justify_items": null,
            "grid_row": null,
            "max_height": null,
            "align_content": null,
            "visibility": null,
            "align_self": null,
            "height": null,
            "min_height": null,
            "padding": null,
            "grid_auto_rows": null,
            "grid_gap": null,
            "max_width": null,
            "order": null,
            "_view_module_version": "1.2.0",
            "grid_template_areas": null,
            "object_position": null,
            "object_fit": null,
            "grid_auto_columns": null,
            "margin": null,
            "display": null,
            "left": null
          }
        },
        "e644da6330c4468f80dcbf737585258c": {
          "model_module": "@jupyter-widgets/controls",
          "model_name": "FloatProgressModel",
          "state": {
            "_view_name": "ProgressView",
            "style": "IPY_MODEL_41a53cb981604e2f89a1cc9ef5fa565d",
            "_dom_classes": [],
            "description": "Training...:   0%",
            "_model_name": "FloatProgressModel",
            "bar_style": "",
            "max": 267,
            "_view_module": "@jupyter-widgets/controls",
            "_model_module_version": "1.5.0",
            "value": 0,
            "_view_count": null,
            "_view_module_version": "1.5.0",
            "orientation": "horizontal",
            "min": 0,
            "description_tooltip": null,
            "_model_module": "@jupyter-widgets/controls",
            "layout": "IPY_MODEL_98d78f59a188434eb79565aa552a0dc9"
          }
        },
        "ee81b01cb18b4679a577bce64bc4d8e1": {
          "model_module": "@jupyter-widgets/controls",
          "model_name": "HTMLModel",
          "state": {
            "_view_name": "HTMLView",
            "style": "IPY_MODEL_658f8b53637644068e88d6c0724cf90a",
            "_dom_classes": [],
            "description": "",
            "_model_name": "HTMLModel",
            "placeholder": "​",
            "_view_module": "@jupyter-widgets/controls",
            "_model_module_version": "1.5.0",
            "value": " 0/267 [00:00&lt;?, ?it/s]",
            "_view_count": null,
            "_view_module_version": "1.5.0",
            "description_tooltip": null,
            "_model_module": "@jupyter-widgets/controls",
            "layout": "IPY_MODEL_88be72d8a97c442892366bf0e2f37343"
          }
        },
        "41a53cb981604e2f89a1cc9ef5fa565d": {
          "model_module": "@jupyter-widgets/controls",
          "model_name": "ProgressStyleModel",
          "state": {
            "_view_name": "StyleView",
            "_model_name": "ProgressStyleModel",
            "description_width": "initial",
            "_view_module": "@jupyter-widgets/base",
            "_model_module_version": "1.5.0",
            "_view_count": null,
            "_view_module_version": "1.2.0",
            "bar_color": null,
            "_model_module": "@jupyter-widgets/controls"
          }
        },
        "98d78f59a188434eb79565aa552a0dc9": {
          "model_module": "@jupyter-widgets/base",
          "model_name": "LayoutModel",
          "state": {
            "_view_name": "LayoutView",
            "grid_template_rows": null,
            "right": null,
            "justify_content": null,
            "_view_module": "@jupyter-widgets/base",
            "overflow": null,
            "_model_module_version": "1.2.0",
            "_view_count": null,
            "flex_flow": null,
            "width": null,
            "min_width": null,
            "border": null,
            "align_items": null,
            "bottom": null,
            "_model_module": "@jupyter-widgets/base",
            "top": null,
            "grid_column": null,
            "overflow_y": null,
            "overflow_x": null,
            "grid_auto_flow": null,
            "grid_area": null,
            "grid_template_columns": null,
            "flex": null,
            "_model_name": "LayoutModel",
            "justify_items": null,
            "grid_row": null,
            "max_height": null,
            "align_content": null,
            "visibility": null,
            "align_self": null,
            "height": null,
            "min_height": null,
            "padding": null,
            "grid_auto_rows": null,
            "grid_gap": null,
            "max_width": null,
            "order": null,
            "_view_module_version": "1.2.0",
            "grid_template_areas": null,
            "object_position": null,
            "object_fit": null,
            "grid_auto_columns": null,
            "margin": null,
            "display": null,
            "left": null
          }
        },
        "658f8b53637644068e88d6c0724cf90a": {
          "model_module": "@jupyter-widgets/controls",
          "model_name": "DescriptionStyleModel",
          "state": {
            "_view_name": "StyleView",
            "_model_name": "DescriptionStyleModel",
            "description_width": "",
            "_view_module": "@jupyter-widgets/base",
            "_model_module_version": "1.5.0",
            "_view_count": null,
            "_view_module_version": "1.2.0",
            "_model_module": "@jupyter-widgets/controls"
          }
        },
        "88be72d8a97c442892366bf0e2f37343": {
          "model_module": "@jupyter-widgets/base",
          "model_name": "LayoutModel",
          "state": {
            "_view_name": "LayoutView",
            "grid_template_rows": null,
            "right": null,
            "justify_content": null,
            "_view_module": "@jupyter-widgets/base",
            "overflow": null,
            "_model_module_version": "1.2.0",
            "_view_count": null,
            "flex_flow": null,
            "width": null,
            "min_width": null,
            "border": null,
            "align_items": null,
            "bottom": null,
            "_model_module": "@jupyter-widgets/base",
            "top": null,
            "grid_column": null,
            "overflow_y": null,
            "overflow_x": null,
            "grid_auto_flow": null,
            "grid_area": null,
            "grid_template_columns": null,
            "flex": null,
            "_model_name": "LayoutModel",
            "justify_items": null,
            "grid_row": null,
            "max_height": null,
            "align_content": null,
            "visibility": null,
            "align_self": null,
            "height": null,
            "min_height": null,
            "padding": null,
            "grid_auto_rows": null,
            "grid_gap": null,
            "max_width": null,
            "order": null,
            "_view_module_version": "1.2.0",
            "grid_template_areas": null,
            "object_position": null,
            "object_fit": null,
            "grid_auto_columns": null,
            "margin": null,
            "display": null,
            "left": null
          }
        }
      }
    },
    "accelerator": "TPU"
  },
  "cells": [
    {
      "cell_type": "markdown",
      "metadata": {
        "id": "view-in-github",
        "colab_type": "text"
      },
      "source": [
        "<a href=\"https://colab.research.google.com/github/patrickvonplaten/notebooks/blob/master/Text_Classification_on_GLUE_on_TPU_using_Jax_Flax.ipynb\" target=\"_parent\"><img src=\"https://colab.research.google.com/assets/colab-badge.svg\" alt=\"Open In Colab\"/></a>"
      ]
    },
    {
      "cell_type": "markdown",
      "metadata": {
        "id": "rEJBSTyZIrIb"
      },
      "source": [
        "# Fine-tuning a 🤗 Transformers model  on TPU with **Flax/JAX**"
      ]
    },
    {
      "cell_type": "markdown",
      "metadata": {
        "id": "kTCFado4IrIc"
      },
      "source": [
        "In this notebook, we will see how to fine-tune one of the [🤗 Transformers](https://github.com/huggingface/transformers) models on TPU using [**Flax**](https://flax.readthedocs.io/en/latest/index.html). As can be seen on [this benchmark](https://github.com/huggingface/transformers/tree/master/examples/flax/text-classification#runtime-evaluation) using Flax/JAX on GPU/TPU is often much faster and can also be considerably cheaper than using PyTorch on GPU/TPU.\n",
        "\n",
        "[**Flax**](https://flax.readthedocs.io/en/latest/index.html) is a high-performance neural network library designed for flexibility built on top of JAX (see below). It aims to provide users with full control of their training code and is carefully designed to work well with JAX transformations such as `grad` and `pmap` (see the [Flax philosophy](https://flax.readthedocs.io/en/latest/philosophy.html)). For an introduction to Flax see the [Flax Basic Colab](https://flax.readthedocs.io/en/latest/notebooks/flax_basics.html) or the list of curated [Flax examples](https://flax.readthedocs.io/en/latest/examples.html).\n",
        "\n",
        "[**JAX**](https://jax.readthedocs.io/en/latest/index.html) is Autograd and XLA, brought together for high-performance numerical computing and machine learning research. It provides composable transformations of Python+NumPy programs: differentiate, vectorize, parallelize, Just-In-Time compile to GPU/TPU, and more. A great place for getting started with JAX is the [JAX 101 Tutorial](https://jax.readthedocs.io/en/latest/jax-101/index.html)."
      ]
    },
    {
      "cell_type": "markdown",
      "metadata": {
        "id": "X4cRE8IbIrIV"
      },
      "source": [
        "If you're opening this Notebook on colab, you will probably need to install 🤗 Transformers and 🤗 Datasets as well as [Flax](https://github.com/google/flax.git) and [Optax](https://github.com/deepmind/optax). Optax is a gradient processing and optimization library for JAX."
      ]
    },
    {
      "cell_type": "code",
      "metadata": {
        "id": "MOsHUjgdIrIW"
      },
      "source": [
        "%%capture\n",
        "!pip install datasets\n",
        "!pip install git+https://github.com/huggingface/transformers.git\n",
        "!pip install flax\n",
        "!pip install git+https://github.com/deepmind/optax.git"
      ],
      "execution_count": 12,
      "outputs": []
    },
    {
      "cell_type": "markdown",
      "metadata": {
        "id": "EwRqMUxqzOKN"
      },
      "source": [
        "You also will need to set up the TPU for JAX in this notebook. This can be done by executing the following lines."
      ]
    },
    {
      "cell_type": "code",
      "metadata": {
        "id": "drej_4loxdCF"
      },
      "source": [
        "import jax.tools.colab_tpu\n",
        "jax.tools.colab_tpu.setup_tpu()"
      ],
      "execution_count": 13,
      "outputs": []
    },
    {
      "cell_type": "markdown",
      "metadata": {
        "id": "bAIlBLFXXix7"
      },
      "source": [
        "If everything is set up correctly, the following command should return a list of 8 TPU devices."
      ]
    },
    {
      "cell_type": "code",
      "metadata": {
        "colab": {
          "base_uri": "https://localhost:8080/"
        },
        "id": "Kc0dzzrsXktW",
        "outputId": "9fcd0b30-0176-4b40-cbe7-308f78ed6f03"
      },
      "source": [
        "jax.local_devices()"
      ],
      "execution_count": 14,
      "outputs": [
        {
          "output_type": "execute_result",
          "data": {
            "text/plain": [
              "[TpuDevice(id=0, process_index=0, coords=(0,0,0), core_on_chip=0),\n",
              " TpuDevice(id=1, process_index=0, coords=(0,0,0), core_on_chip=1),\n",
              " TpuDevice(id=2, process_index=0, coords=(1,0,0), core_on_chip=0),\n",
              " TpuDevice(id=3, process_index=0, coords=(1,0,0), core_on_chip=1),\n",
              " TpuDevice(id=4, process_index=0, coords=(0,1,0), core_on_chip=0),\n",
              " TpuDevice(id=5, process_index=0, coords=(0,1,0), core_on_chip=1),\n",
              " TpuDevice(id=6, process_index=0, coords=(1,1,0), core_on_chip=0),\n",
              " TpuDevice(id=7, process_index=0, coords=(1,1,0), core_on_chip=1)]"
            ]
          },
          "metadata": {
            "tags": []
          },
          "execution_count": 14
        }
      ]
    },
    {
      "cell_type": "markdown",
      "metadata": {
        "id": "HFASsisvIrIb"
      },
      "source": [
        "If you're opening this notebook locally, make sure your environment has an install from the last version of those libraries.\n",
        "\n",
        "You can find a script version of this notebook to fine-tune your model [here](https://github.com/huggingface/transformers/tree/master/examples/flax/text-classification)."
      ]
    },
    {
      "cell_type": "markdown",
      "metadata": {
        "id": "DlpF5MnonmmQ"
      },
      "source": [
        "As an example, we will fine-tune a pretrained [*auto-encoding model*](https://huggingface.co/transformers/model_summary.html#autoencoding-models) on a text classification task of the [GLUE Benchmark](https://gluebenchmark.com/). Note that this notebook does not focus so much on data preprocessing, but rather on how to write a training and evaluation loop in **JAX/Flax**. If you want more detailed explanations regarding the data preprocessing, please check out [this](https://colab.research.google.com/github/huggingface/notebooks/blob/master/examples/text_classification.ipynb#scrollTo=545PP3o8IrJV) notebook.\n",
        "\n",
        "The GLUE Benchmark is a group of nine classification tasks on sentences or pairs of sentences which are:\n",
        "[CoLA](https://nyu-mll.github.io/CoLA/), [MNLI](https://arxiv.org/abs/1704.05426), [MRPC](https://www.microsoft.com/en-us/download/details.aspx?id=52398), [QNLI](https://rajpurkar.github.io/SQuAD-explorer/), [QQP](https://data.quora.com/First-Quora-Dataset-Release-Question-Pairs), [RTE](https://aclweb.org/aclwiki/Recognizing_Textual_Entailment), [SST-2](https://nlp.stanford.edu/sentiment/index.html), [STS-B](http://ixa2.si.ehu.es/stswiki/index.php/STSbenchmark), [WNLI](https://cs.nyu.edu/faculty/davise/papers/WinogradSchemas/WS.html).\n",
        "\n",
        "We will see how to easily load the dataset for each one of those tasks and how to write a training loop in Flax. Each task is named by its acronym, with `mnli-mm` standing for the mismatched version of MNLI (so same training set as `mnli` but different validation and test sets):"
      ]
    },
    {
      "cell_type": "code",
      "metadata": {
        "id": "YZbiBDuGIrId"
      },
      "source": [
        "GLUE_TASKS = [\"cola\", \"mnli\", \"mnli-mm\", \"mrpc\", \"qnli\", \"qqp\", \"rte\", \"sst2\", \"stsb\", \"wnli\"]"
      ],
      "execution_count": 15,
      "outputs": []
    },
    {
      "cell_type": "markdown",
      "metadata": {
        "id": "4RRkXuteIrIh"
      },
      "source": [
        "This notebook is built to run on any of the tasks in the list above, with any Flax/JAX model checkpoint from the [Model Hub](https://huggingface.co/models) as long as that model has a version with a classification head. Depending on the model you are using, you might need to adjust the batch size to avoid out-of-memory errors. Set those three parameters, then the rest of the notebook should run smoothly:"
      ]
    },
    {
      "cell_type": "code",
      "metadata": {
        "id": "zVvslsfMIrIh"
      },
      "source": [
        "task = \"cola\"\n",
        "model_checkpoint = \"roberta-base\"\n",
        "per_device_batch_size = 4"
      ],
      "execution_count": 16,
      "outputs": []
    },
    {
      "cell_type": "markdown",
      "metadata": {
        "id": "whPRbBNbIrIl"
      },
      "source": [
        "## Loading the dataset"
      ]
    },
    {
      "cell_type": "markdown",
      "metadata": {
        "id": "W7QYTpxXIrIl"
      },
      "source": [
        "We will use the [🤗 Datasets](https://github.com/huggingface/datasets) library to download the data and get the metric we need to use for evaluation (to compare our model to the benchmark). This can be easily done with the functions `load_dataset` and `load_metric`.  "
      ]
    },
    {
      "cell_type": "code",
      "metadata": {
        "id": "IreSlFmlIrIm"
      },
      "source": [
        "from datasets import load_dataset, load_metric"
      ],
      "execution_count": 17,
      "outputs": []
    },
    {
      "cell_type": "markdown",
      "metadata": {
        "id": "CKx2zKs5IrIq"
      },
      "source": [
        "Apart from `mnli-mm` being a special code, we can directly pass our task name to those functions. `load_dataset` will cache the dataset to avoid downloading it again the next time you run this cell."
      ]
    },
    {
      "cell_type": "code",
      "metadata": {
        "colab": {
          "base_uri": "https://localhost:8080/"
        },
        "id": "s_AY1ATSIrIq",
        "outputId": "673c829d-26bf-48ba-8b0b-b1570a3fbf9d"
      },
      "source": [
        "actual_task = \"mnli\" if task == \"mnli-mm\" else task\n",
        "is_regression = task == \"stsb\"\n",
        "\n",
        "raw_dataset = load_dataset(\"glue\", actual_task)\n",
        "metric = load_metric('glue', actual_task)"
      ],
      "execution_count": 18,
      "outputs": [
        {
          "output_type": "stream",
          "text": [
            "Reusing dataset glue (/root/.cache/huggingface/datasets/glue/cola/1.0.0/dacbe3125aa31d7f70367a07a8a9e72a5a0bfeb5fc42e75c9db75b96da6053ad)\n"
          ],
          "name": "stderr"
        }
      ]
    },
    {
      "cell_type": "markdown",
      "metadata": {
        "id": "n9qywopnIrJH"
      },
      "source": [
        "## Preprocessing the data"
      ]
    },
    {
      "cell_type": "markdown",
      "metadata": {
        "id": "YVx71GdAIrJH"
      },
      "source": [
        "Before we can feed those texts to our model, we need to preprocess them. This is done by a 🤗 Transformers `Tokenizer` which will (as the name indicates) tokenize the inputs. This includes converting the tokens to their corresponding IDs in the pretrained vocabulary and putting them in a format the model expects, as well as generate the other inputs that the model requires.\n",
        "\n",
        "To do all of this, we instantiate our tokenizer with the `AutoTokenizer.from_pretrained` method, which will ensure:\n",
        "\n",
        "- we get a tokenizer that corresponds to the model architecture we want to use,\n",
        "- we download the vocabulary used when pretraining this specific checkpoint.\n",
        "\n",
        "That vocabulary will be cached, so it's not downloaded again the next time we run the cell."
      ]
    },
    {
      "cell_type": "code",
      "metadata": {
        "id": "eXNLu_-nIrJI"
      },
      "source": [
        "from transformers import AutoTokenizer\n",
        "    \n",
        "tokenizer = AutoTokenizer.from_pretrained(model_checkpoint)"
      ],
      "execution_count": 19,
      "outputs": []
    },
    {
      "cell_type": "markdown",
      "metadata": {
        "id": "qo_0B1M2IrJM"
      },
      "source": [
        "To preprocess our dataset, we will thus need the names of the columns containing the sentence(s). The following dictionary keeps track of the correspondence task to column names:"
      ]
    },
    {
      "cell_type": "code",
      "metadata": {
        "id": "fyGdtK9oIrJM"
      },
      "source": [
        "task_to_keys = {\n",
        "    \"cola\": (\"sentence\", None),\n",
        "    \"mnli\": (\"premise\", \"hypothesis\"),\n",
        "    \"mnli-mm\": (\"premise\", \"hypothesis\"),\n",
        "    \"mrpc\": (\"sentence1\", \"sentence2\"),\n",
        "    \"qnli\": (\"question\", \"sentence\"),\n",
        "    \"qqp\": (\"question1\", \"question2\"),\n",
        "    \"rte\": (\"sentence1\", \"sentence2\"),\n",
        "    \"sst2\": (\"sentence\", None),\n",
        "    \"stsb\": (\"sentence1\", \"sentence2\"),\n",
        "    \"wnli\": (\"sentence1\", \"sentence2\"),\n",
        "}"
      ],
      "execution_count": 20,
      "outputs": []
    },
    {
      "cell_type": "markdown",
      "metadata": {
        "id": "2C0hcmp9IrJQ"
      },
      "source": [
        "We can then write the function that will preprocess our samples. We just feed them to the `tokenizer` with the argument `truncation=True`. This will ensure that an input longer than what the model can handle will be truncated to the maximum length accepted by the model."
      ]
    },
    {
      "cell_type": "code",
      "metadata": {
        "id": "FgjEr0fKMRQ_"
      },
      "source": [
        "sentence1_key, sentence2_key = task_to_keys[task]\n",
        "\n",
        "def preprocess_function(examples):\n",
        "    texts = (\n",
        "        (examples[sentence1_key],) if sentence2_key is None else (examples[sentence1_key], examples[sentence2_key])\n",
        "    )\n",
        "    processed = tokenizer(*texts, padding=\"max_length\", max_length=128, truncation=True)\n",
        "    \n",
        "    processed[\"labels\"] = examples[\"label\"]\n",
        "    return processed"
      ],
      "execution_count": 21,
      "outputs": []
    },
    {
      "cell_type": "markdown",
      "metadata": {
        "id": "zS-6iXTkIrJT"
      },
      "source": [
        "To apply this function to all the sentences (or pairs of sentences) in our dataset, we just use the `map` method of our dataset object we created earlier. This will apply the function on all the elements of all the splits in the dataset, so our training, validation, and testing data will be preprocessed in one single command.\n",
        "\n"
      ]
    },
    {
      "cell_type": "code",
      "metadata": {
        "id": "DDtsaJeVIrJT",
        "colab": {
          "base_uri": "https://localhost:8080/",
          "height": 165,
          "referenced_widgets": [
            "45feb92a778243dd8a7b7f98648d7b4a",
            "535be95dadb04e2d8994c85c4da302b5",
            "d5afbf3d124a4d538a73a0ec505e588c",
            "413307fb2c6e4954ada40502eacee67b",
            "c7318c447e69457fa162373a1c6d771b",
            "ff075df9b76c4f4fbdf6d4b40df13d43",
            "0ada4ca6dd374decb338a12fbebdab75",
            "3b56ee5166dd4757afb79d366061ccda",
            "6ad9bad551af4563ba008ea14832111a",
            "0a1d8b61e6794142a46076554ffa9ee6",
            "37a556660e23489f9e0e38f230b7e14d",
            "80da478f6f5b471face0b35421a73e3a",
            "e21ce1bf89324a16bf508191191d6423",
            "c5632265c10e4d818a09aa0fde7f3f23",
            "88129a9dc5b846d38c04854593941bd7",
            "406851012e774bc2ae54458d79d65787",
            "4ac0d9a4a74c481b87b8c14640aa367d",
            "f063d07acbae46b7ad6cf5209a83c795",
            "5e3910c2a0284fb5b2a16f133d9f8226",
            "7ade52cc49e5470b9a796a057b1743a6",
            "16c866ef556f45b7959449f32e94e8a8",
            "b1d7b766995046af86ebb9fdf42f4800",
            "298d70dba33b43e495235c6b20f95cac",
            "1e115a20d964440fa388b3baec9f712b"
          ]
        },
        "outputId": "951ecfba-0d77-4f76-b297-98a58b3aaf10"
      },
      "source": [
        "tokenized_dataset = raw_dataset.map(preprocess_function, batched=True, remove_columns=raw_dataset[\"train\"].column_names)"
      ],
      "execution_count": 22,
      "outputs": [
        {
          "output_type": "display_data",
          "data": {
            "application/vnd.jupyter.widget-view+json": {
              "model_id": "45feb92a778243dd8a7b7f98648d7b4a",
              "version_minor": 0,
              "version_major": 2
            },
            "text/plain": [
              "HBox(children=(FloatProgress(value=0.0, max=9.0), HTML(value='')))"
            ]
          },
          "metadata": {
            "tags": []
          }
        },
        {
          "output_type": "stream",
          "text": [
            "\n"
          ],
          "name": "stdout"
        },
        {
          "output_type": "display_data",
          "data": {
            "application/vnd.jupyter.widget-view+json": {
              "model_id": "6ad9bad551af4563ba008ea14832111a",
              "version_minor": 0,
              "version_major": 2
            },
            "text/plain": [
              "HBox(children=(FloatProgress(value=0.0, max=2.0), HTML(value='')))"
            ]
          },
          "metadata": {
            "tags": []
          }
        },
        {
          "output_type": "stream",
          "text": [
            "\n"
          ],
          "name": "stdout"
        },
        {
          "output_type": "display_data",
          "data": {
            "application/vnd.jupyter.widget-view+json": {
              "model_id": "4ac0d9a4a74c481b87b8c14640aa367d",
              "version_minor": 0,
              "version_major": 2
            },
            "text/plain": [
              "HBox(children=(FloatProgress(value=0.0, max=2.0), HTML(value='')))"
            ]
          },
          "metadata": {
            "tags": []
          }
        },
        {
          "output_type": "stream",
          "text": [
            "\n"
          ],
          "name": "stdout"
        }
      ]
    },
    {
      "cell_type": "markdown",
      "metadata": {
        "id": "voWiw8C7IrJV"
      },
      "source": [
        "As a final step, we split the dataset into the *train* and *validation* dataset and give each set more explicit names."
      ]
    },
    {
      "cell_type": "code",
      "metadata": {
        "id": "K03vmCmPqjIP"
      },
      "source": [
        "train_dataset = tokenized_dataset[\"train\"]\n",
        "eval_dataset = tokenized_dataset[\"validation\"]"
      ],
      "execution_count": 23,
      "outputs": []
    },
    {
      "cell_type": "markdown",
      "metadata": {
        "id": "545PP3o8IrJV"
      },
      "source": [
        "## Fine-tuning the model"
      ]
    },
    {
      "cell_type": "markdown",
      "metadata": {
        "id": "FBiW8UpKIrJW"
      },
      "source": [
        "Now that our data is ready, we can download the pretrained model and fine-tune it. Since all our tasks are about sentence classification, we use the `FlaxAutoModelForSequenceClassification` class. Like with the tokenizer, the `from_pretrained` method will download and cache the model for us. \n",
        "\n",
        "All weight parameters that are not found in the pretrained model weights will be randomely initialized upon instantiating the model class. Because the GLUE task contains relatively small training datasets, a different seed for weight initialization might very well lead to significantly different results. For \n",
        "reproducibility, we set the random seed to *0* in this notebook.\n",
        "\n",
        "The only thing we have to specify in the config is the number of labels for our problem (which is always 2, except for STS-B which is a regression problem, and MNLI where we have 3 labels):"
      ]
    },
    {
      "cell_type": "code",
      "metadata": {
        "id": "TlqNaB8jIrJW",
        "colab": {
          "base_uri": "https://localhost:8080/",
          "height": 174,
          "referenced_widgets": [
            "f0ae6f88c74d46cc8b4739596f624599",
            "d1e387707c7c441d92e81fc4627029ac",
            "251a1024319a4961aa67d1fa1c31f86b",
            "bd9d038cfc4743babadd2687cd40ce9c",
            "8ed70327573a4700874f6d421a10b8f3",
            "3700b4e5b86b4831bd65dad93a0e6017",
            "5395b728f17c45f496452f9a28f76718",
            "6278211ccbf44368ac285c675adc929a"
          ]
        },
        "outputId": "701cc52a-ffb1-4be6-8033-9def9053e1bf"
      },
      "source": [
        "from transformers import FlaxAutoModelForSequenceClassification, AutoConfig\n",
        "\n",
        "num_labels = 3 if task.startswith(\"mnli\") else 1 if task==\"stsb\" else 2\n",
        "seed = 0\n",
        "\n",
        "config = AutoConfig.from_pretrained(model_checkpoint, num_labels=num_labels)\n",
        "model = FlaxAutoModelForSequenceClassification.from_pretrained(model_checkpoint, config=config, seed=seed)"
      ],
      "execution_count": 24,
      "outputs": [
        {
          "output_type": "display_data",
          "data": {
            "application/vnd.jupyter.widget-view+json": {
              "model_id": "f0ae6f88c74d46cc8b4739596f624599",
              "version_minor": 0,
              "version_major": 2
            },
            "text/plain": [
              "HBox(children=(FloatProgress(value=0.0, description='Downloading', max=655572523.0, style=ProgressStyle(descri…"
            ]
          },
          "metadata": {
            "tags": []
          }
        },
        {
          "output_type": "stream",
          "text": [
            "\n"
          ],
          "name": "stdout"
        },
        {
          "output_type": "stream",
          "text": [
            "Some weights of the model checkpoint at roberta-base were not used when initializing FlaxRobertaForSequenceClassification: {('encoder', 'layer', '11', 'attention', 'layer_norm', 'gamma'), ('encoder', 'layer', '8', 'attention', 'self', 'key', 'bias'), ('encoder', 'layer', '3', 'attention', 'self', 'value', 'bias'), ('encoder', 'layer', '0', 'attention', 'self', 'key', 'kernel'), ('encoder', 'layer', '4', 'attention', 'self', 'value', 'kernel'), ('encoder', 'layer', '1', 'attention', 'layer_norm', 'gamma'), ('encoder', 'layer', '4', 'attention', 'self', 'out', 'bias'), ('encoder', 'layer', '9', 'attention', 'self', 'query', 'kernel'), ('encoder', 'layer', '3', 'intermediate', 'dense', 'bias'), ('encoder', 'layer', '5', 'output', 'layer_norm', 'gamma'), ('encoder', 'layer', '0', 'attention', 'self', 'value', 'bias'), ('encoder', 'layer', '1', 'output', 'dense', 'bias'), ('encoder', 'layer', '4', 'attention', 'self', 'key', 'bias'), ('encoder', 'layer', '8', 'intermediate', 'dense', 'bias'), ('encoder', 'layer', '9', 'attention', 'layer_norm', 'gamma'), ('layer_norm', 'weight'), ('encoder', 'layer', '5', 'attention', 'self', 'query', 'kernel'), ('encoder', 'layer', '2', 'attention', 'self', 'value', 'kernel'), ('embeddings', 'position_embeddings', 'weight'), ('encoder', 'layer', '11', 'attention', 'layer_norm', 'beta'), ('encoder', 'layer', '11', 'output', 'layer_norm', 'beta'), ('encoder', 'layer', '1', 'attention', 'layer_norm', 'beta'), ('encoder', 'layer', '10', 'output', 'layer_norm', 'gamma'), ('encoder', 'layer', '2', 'attention', 'self', 'out', 'bias'), ('encoder', 'layer', '8', 'attention', 'self', 'out', 'bias'), ('encoder', 'layer', '10', 'output', 'dense', 'kernel'), ('encoder', 'layer', '6', 'intermediate', 'dense', 'kernel'), ('encoder', 'layer', '7', 'attention', 'self', 'query', 'bias'), ('encoder', 'layer', '11', 'output', 'dense', 'bias'), ('encoder', 'layer', '0', 'intermediate', 'dense', 'kernel'), ('encoder', 'layer', '9', 'attention', 'self', 'out', 'kernel'), ('encoder', 'layer', '7', 'attention', 'layer_norm', 'gamma'), ('encoder', 'layer', '0', 'output', 'dense', 'bias'), ('encoder', 'layer', '0', 'output', 'dense', 'kernel'), ('encoder', 'layer', '9', 'attention', 'self', 'out', 'bias'), ('encoder', 'layer', '1', 'output', 'layer_norm', 'beta'), ('dense', 'kernel'), ('encoder', 'layer', '8', 'output', 'layer_norm', 'beta'), ('encoder', 'layer', '9', 'attention', 'self', 'value', 'kernel'), ('encoder', 'layer', '8', 'attention', 'self', 'out', 'kernel'), ('encoder', 'layer', '0', 'attention', 'layer_norm', 'gamma'), ('encoder', 'layer', '4', 'attention', 'self', 'query', 'kernel'), ('encoder', 'layer', '2', 'output', 'layer_norm', 'gamma'), ('encoder', 'layer', '3', 'output', 'dense', 'bias'), ('encoder', 'layer', '7', 'attention', 'layer_norm', 'beta'), ('encoder', 'layer', '7', 'attention', 'self', 'key', 'bias'), ('encoder', 'layer', '0', 'attention', 'self', 'out', 'bias'), ('encoder', 'layer', '0', 'attention', 'self', 'query', 'bias'), ('encoder', 'layer', '1', 'attention', 'self', 'query', 'kernel'), ('encoder', 'layer', '3', 'attention', 'self', 'key', 'kernel'), ('encoder', 'layer', '0', 'attention', 'self', 'query', 'kernel'), ('encoder', 'layer', '0', 'attention', 'self', 'out', 'kernel'), ('encoder', 'layer', '1', 'attention', 'self', 'query', 'bias'), ('encoder', 'layer', '1', 'output', 'layer_norm', 'gamma'), ('encoder', 'layer', '11', 'attention', 'self', 'query', 'bias'), ('encoder', 'layer', '7', 'intermediate', 'dense', 'bias'), ('encoder', 'layer', '2', 'attention', 'layer_norm', 'beta'), ('encoder', 'layer', '2', 'output', 'layer_norm', 'beta'), ('encoder', 'layer', '7', 'output', 'layer_norm', 'beta'), ('encoder', 'layer', '7', 'attention', 'self', 'value', 'bias'), ('encoder', 'layer', '8', 'attention', 'self', 'query', 'kernel'), ('encoder', 'layer', '4', 'output', 'layer_norm', 'beta'), ('encoder', 'layer', '10', 'attention', 'layer_norm', 'gamma'), ('encoder', 'layer', '4', 'attention', 'self', 'out', 'kernel'), ('encoder', 'layer', '5', 'attention', 'self', 'key', 'kernel'), ('encoder', 'layer', '6', 'attention', 'layer_norm', 'beta'), ('encoder', 'layer', '3', 'attention', 'self', 'value', 'kernel'), ('encoder', 'layer', '4', 'attention', 'self', 'value', 'bias'), ('encoder', 'layer', '0', 'attention', 'self', 'key', 'bias'), ('encoder', 'layer', '0', 'intermediate', 'dense', 'bias'), ('encoder', 'layer', '3', 'output', 'layer_norm', 'beta'), ('encoder', 'layer', '7', 'attention', 'self', 'out', 'kernel'), ('encoder', 'layer', '9', 'output', 'dense', 'kernel'), ('encoder', 'layer', '7', 'output', 'layer_norm', 'gamma'), ('embeddings', 'word_embeddings', 'weight'), ('encoder', 'layer', '10', 'attention', 'self', 'key', 'kernel'), ('encoder', 'layer', '11', 'attention', 'self', 'value', 'bias'), ('encoder', 'layer', '4', 'output', 'layer_norm', 'gamma'), ('encoder', 'layer', '8', 'attention', 'layer_norm', 'gamma'), ('embeddings', 'layer_norm', 'gamma'), ('encoder', 'layer', '0', 'output', 'layer_norm', 'beta'), ('encoder', 'layer', '5', 'attention', 'self', 'value', 'kernel'), ('encoder', 'layer', '6', 'attention', 'self', 'key', 'kernel'), ('encoder', 'layer', '6', 'output', 'layer_norm', 'gamma'), ('encoder', 'layer', '3', 'output', 'layer_norm', 'gamma'), ('encoder', 'layer', '10', 'intermediate', 'dense', 'kernel'), ('encoder', 'layer', '5', 'output', 'dense', 'bias'), ('encoder', 'layer', '9', 'attention', 'self', 'query', 'bias'), ('encoder', 'layer', '3', 'intermediate', 'dense', 'kernel'), ('encoder', 'layer', '1', 'intermediate', 'dense', 'kernel'), ('encoder', 'layer', '6', 'output', 'dense', 'kernel'), ('encoder', 'layer', '6', 'attention', 'self', 'out', 'kernel'), ('encoder', 'layer', '8', 'attention', 'self', 'value', 'bias'), ('encoder', 'layer', '2', 'attention', 'self', 'key', 'kernel'), ('encoder', 'layer', '2', 'attention', 'self', 'key', 'bias'), ('encoder', 'layer', '11', 'intermediate', 'dense', 'kernel'), ('encoder', 'layer', '2', 'intermediate', 'dense', 'kernel'), ('encoder', 'layer', '3', 'attention', 'self', 'out', 'bias'), ('encoder', 'layer', '11', 'output', 'dense', 'kernel'), ('decoder', 'weight'), ('encoder', 'layer', '9', 'output', 'layer_norm', 'beta'), ('encoder', 'layer', '2', 'output', 'dense', 'kernel'), ('encoder', 'layer', '6', 'intermediate', 'dense', 'bias'), ('encoder', 'layer', '1', 'attention', 'self', 'key', 'kernel'), ('encoder', 'layer', '7', 'intermediate', 'dense', 'kernel'), ('encoder', 'layer', '2', 'intermediate', 'dense', 'bias'), ('encoder', 'layer', '7', 'output', 'dense', 'kernel'), ('encoder', 'layer', '11', 'attention', 'self', 'out', 'bias'), ('encoder', 'layer', '10', 'attention', 'self', 'key', 'bias'), ('encoder', 'layer', '9', 'attention', 'layer_norm', 'beta'), ('encoder', 'layer', '3', 'attention', 'layer_norm', 'gamma'), ('encoder', 'layer', '9', 'attention', 'self', 'key', 'kernel'), ('encoder', 'layer', '10', 'output', 'layer_norm', 'beta'), ('encoder', 'layer', '8', 'attention', 'self', 'query', 'bias'), ('encoder', 'layer', '1', 'attention', 'self', 'value', 'kernel'), ('encoder', 'layer', '6', 'attention', 'self', 'value', 'kernel'), ('encoder', 'layer', '3', 'attention', 'layer_norm', 'beta'), ('encoder', 'layer', '6', 'attention', 'self', 'key', 'bias'), ('encoder', 'layer', '7', 'output', 'dense', 'bias'), ('dense', 'bias'), ('encoder', 'layer', '1', 'attention', 'self', 'out', 'bias'), ('encoder', 'layer', '5', 'attention', 'self', 'out', 'bias'), ('encoder', 'layer', '5', 'attention', 'self', 'out', 'kernel'), ('encoder', 'layer', '3', 'output', 'dense', 'kernel'), ('encoder', 'layer', '10', 'attention', 'self', 'out', 'bias'), ('encoder', 'layer', '5', 'output', 'layer_norm', 'beta'), ('encoder', 'layer', '8', 'output', 'layer_norm', 'gamma'), ('encoder', 'layer', '5', 'attention', 'layer_norm', 'beta'), ('encoder', 'layer', '5', 'attention', 'self', 'query', 'bias'), ('encoder', 'layer', '4', 'attention', 'self', 'query', 'bias'), ('encoder', 'layer', '11', 'attention', 'self', 'key', 'bias'), ('encoder', 'layer', '9', 'intermediate', 'dense', 'bias'), ('encoder', 'layer', '1', 'output', 'dense', 'kernel'), ('encoder', 'layer', '9', 'attention', 'self', 'value', 'bias'), ('encoder', 'layer', '11', 'attention', 'self', 'key', 'kernel'), ('pooler', 'dense', 'bias'), ('encoder', 'layer', '11', 'output', 'layer_norm', 'gamma'), ('encoder', 'layer', '6', 'attention', 'self', 'query', 'bias'), ('encoder', 'layer', '6', 'attention', 'self', 'query', 'kernel'), ('encoder', 'layer', '7', 'attention', 'self', 'query', 'kernel'), ('encoder', 'layer', '5', 'attention', 'layer_norm', 'gamma'), ('encoder', 'layer', '1', 'intermediate', 'dense', 'bias'), ('encoder', 'layer', '11', 'attention', 'self', 'out', 'kernel'), ('encoder', 'layer', '3', 'attention', 'self', 'key', 'bias'), ('pooler', 'dense', 'kernel'), ('encoder', 'layer', '5', 'intermediate', 'dense', 'bias'), ('embeddings', 'layer_norm', 'beta'), ('encoder', 'layer', '3', 'attention', 'self', 'query', 'bias'), ('encoder', 'layer', '6', 'attention', 'layer_norm', 'gamma'), ('encoder', 'layer', '1', 'attention', 'self', 'key', 'bias'), ('encoder', 'layer', '0', 'attention', 'layer_norm', 'beta'), ('encoder', 'layer', '1', 'attention', 'self', 'value', 'bias'), ('encoder', 'layer', '8', 'attention', 'self', 'key', 'kernel'), ('encoder', 'layer', '6', 'attention', 'self', 'value', 'bias'), ('encoder', 'layer', '11', 'intermediate', 'dense', 'bias'), ('encoder', 'layer', '8', 'attention', 'layer_norm', 'beta'), ('encoder', 'layer', '9', 'attention', 'self', 'key', 'bias'), ('encoder', 'layer', '6', 'output', 'layer_norm', 'beta'), ('encoder', 'layer', '9', 'output', 'dense', 'bias'), ('encoder', 'layer', '2', 'attention', 'layer_norm', 'gamma'), ('encoder', 'layer', '2', 'attention', 'self', 'out', 'kernel'), ('encoder', 'layer', '10', 'output', 'dense', 'bias'), ('encoder', 'layer', '10', 'attention', 'self', 'query', 'kernel'), ('encoder', 'layer', '10', 'attention', 'self', 'out', 'kernel'), ('embeddings', 'token_type_embeddings', 'weight'), ('bias',), ('encoder', 'layer', '1', 'attention', 'self', 'out', 'kernel'), ('encoder', 'layer', '4', 'output', 'dense', 'bias'), ('encoder', 'layer', '10', 'attention', 'layer_norm', 'beta'), ('encoder', 'layer', '6', 'output', 'dense', 'bias'), ('encoder', 'layer', '2', 'attention', 'self', 'value', 'bias'), ('encoder', 'layer', '2', 'output', 'dense', 'bias'), ('encoder', 'layer', '5', 'output', 'dense', 'kernel'), ('encoder', 'layer', '0', 'attention', 'self', 'value', 'kernel'), ('encoder', 'layer', '4', 'attention', 'self', 'key', 'kernel'), ('encoder', 'layer', '5', 'attention', 'self', 'value', 'bias'), ('encoder', 'layer', '5', 'intermediate', 'dense', 'kernel'), ('encoder', 'layer', '8', 'intermediate', 'dense', 'kernel'), ('encoder', 'layer', '11', 'attention', 'self', 'value', 'kernel'), ('encoder', 'layer', '8', 'output', 'dense', 'kernel'), ('encoder', 'layer', '0', 'output', 'layer_norm', 'gamma'), ('encoder', 'layer', '2', 'attention', 'self', 'query', 'kernel'), ('encoder', 'layer', '9', 'output', 'layer_norm', 'gamma'), ('encoder', 'layer', '8', 'attention', 'self', 'value', 'kernel'), ('encoder', 'layer', '2', 'attention', 'self', 'query', 'bias'), ('encoder', 'layer', '8', 'output', 'dense', 'bias'), ('encoder', 'layer', '6', 'attention', 'self', 'out', 'bias'), ('encoder', 'layer', '9', 'intermediate', 'dense', 'kernel'), ('encoder', 'layer', '4', 'attention', 'layer_norm', 'gamma'), ('encoder', 'layer', '10', 'intermediate', 'dense', 'bias'), ('encoder', 'layer', '10', 'attention', 'self', 'value', 'kernel'), ('encoder', 'layer', '4', 'intermediate', 'dense', 'kernel'), ('encoder', 'layer', '4', 'intermediate', 'dense', 'bias'), ('encoder', 'layer', '10', 'attention', 'self', 'value', 'bias'), ('encoder', 'layer', '3', 'attention', 'self', 'out', 'kernel'), ('encoder', 'layer', '3', 'attention', 'self', 'query', 'kernel'), ('encoder', 'layer', '4', 'output', 'dense', 'kernel'), ('encoder', 'layer', '11', 'attention', 'self', 'query', 'kernel'), ('layer_norm', 'bias'), ('encoder', 'layer', '10', 'attention', 'self', 'query', 'bias'), ('encoder', 'layer', '4', 'attention', 'layer_norm', 'beta'), ('encoder', 'layer', '7', 'attention', 'self', 'key', 'kernel'), ('encoder', 'layer', '7', 'attention', 'self', 'out', 'bias'), ('encoder', 'layer', '5', 'attention', 'self', 'key', 'bias'), ('encoder', 'layer', '7', 'attention', 'self', 'value', 'kernel')}\n",
            "- This IS expected if you are initializing FlaxRobertaForSequenceClassification from the checkpoint of a model trained on another task or with another architecture (e.g. initializing a BertForSequenceClassification model from a BertForPreTraining model).\n",
            "- This IS NOT expected if you are initializing FlaxRobertaForSequenceClassification from the checkpoint of a model that you expect to be exactly identical (initializing a BertForSequenceClassification model from a BertForSequenceClassification model).\n",
            "Some weights of FlaxRobertaForSequenceClassification were not initialized from the model checkpoint at roberta-base and are newly initialized: {('roberta', 'encoder', 'layer', '3', 'intermediate', 'dense', 'bias'), ('roberta', 'encoder', 'layer', '2', 'output', 'LayerNorm', 'scale'), ('roberta', 'encoder', 'layer', '4', 'attention', 'output', 'dense', 'kernel'), ('roberta', 'encoder', 'layer', '0', 'output', 'dense', 'bias'), ('roberta', 'encoder', 'layer', '8', 'intermediate', 'dense', 'kernel'), ('roberta', 'encoder', 'layer', '1', 'intermediate', 'dense', 'kernel'), ('roberta', 'encoder', 'layer', '11', 'output', 'LayerNorm', 'bias'), ('roberta', 'encoder', 'layer', '4', 'attention', 'output', 'dense', 'bias'), ('roberta', 'encoder', 'layer', '9', 'attention', 'self', 'value', 'kernel'), ('roberta', 'encoder', 'layer', '9', 'attention', 'self', 'query', 'bias'), ('roberta', 'encoder', 'layer', '3', 'attention', 'self', 'value', 'bias'), ('roberta', 'encoder', 'layer', '8', 'attention', 'self', 'query', 'bias'), ('roberta', 'encoder', 'layer', '11', 'attention', 'self', 'query', 'kernel'), ('roberta', 'encoder', 'layer', '7', 'output', 'LayerNorm', 'scale'), ('classifier', 'dense', 'kernel'), ('roberta', 'encoder', 'layer', '4', 'output', 'LayerNorm', 'scale'), ('roberta', 'encoder', 'layer', '0', 'output', 'LayerNorm', 'scale'), ('roberta', 'encoder', 'layer', '2', 'attention', 'self', 'key', 'kernel'), ('roberta', 'encoder', 'layer', '11', 'attention', 'self', 'query', 'bias'), ('roberta', 'encoder', 'layer', '3', 'attention', 'self', 'value', 'kernel'), ('roberta', 'encoder', 'layer', '0', 'attention', 'self', 'query', 'bias'), ('roberta', 'encoder', 'layer', '10', 'attention', 'output', 'dense', 'bias'), ('roberta', 'encoder', 'layer', '10', 'output', 'dense', 'bias'), ('roberta', 'encoder', 'layer', '3', 'output', 'dense', 'kernel'), ('roberta', 'encoder', 'layer', '7', 'attention', 'output', 'LayerNorm', 'bias'), ('roberta', 'encoder', 'layer', '7', 'attention', 'self', 'key', 'bias'), ('roberta', 'encoder', 'layer', '3', 'output', 'dense', 'bias'), ('roberta', 'encoder', 'layer', '11', 'attention', 'self', 'key', 'bias'), ('roberta', 'encoder', 'layer', '0', 'intermediate', 'dense', 'bias'), ('roberta', 'encoder', 'layer', '2', 'attention', 'output', 'dense', 'bias'), ('roberta', 'encoder', 'layer', '0', 'attention', 'self', 'key', 'kernel'), ('roberta', 'encoder', 'layer', '8', 'output', 'dense', 'kernel'), ('roberta', 'encoder', 'layer', '9', 'intermediate', 'dense', 'bias'), ('roberta', 'encoder', 'layer', '1', 'output', 'dense', 'kernel'), ('roberta', 'encoder', 'layer', '7', 'output', 'dense', 'bias'), ('roberta', 'encoder', 'layer', '6', 'attention', 'self', 'key', 'bias'), ('roberta', 'encoder', 'layer', '4', 'intermediate', 'dense', 'bias'), ('roberta', 'encoder', 'layer', '5', 'attention', 'output', 'dense', 'bias'), ('roberta', 'encoder', 'layer', '3', 'attention', 'self', 'query', 'bias'), ('roberta', 'encoder', 'layer', '2', 'attention', 'self', 'value', 'kernel'), ('roberta', 'encoder', 'layer', '4', 'attention', 'self', 'value', 'kernel'), ('roberta', 'encoder', 'layer', '6', 'attention', 'output', 'LayerNorm', 'bias'), ('classifier', 'dense', 'bias'), ('roberta', 'encoder', 'layer', '0', 'attention', 'output', 'dense', 'kernel'), ('roberta', 'encoder', 'layer', '7', 'attention', 'self', 'value', 'kernel'), ('roberta', 'encoder', 'layer', '3', 'output', 'LayerNorm', 'bias'), ('roberta', 'encoder', 'layer', '10', 'attention', 'self', 'query', 'kernel'), ('roberta', 'encoder', 'layer', '5', 'output', 'LayerNorm', 'scale'), ('roberta', 'encoder', 'layer', '2', 'output', 'dense', 'kernel'), ('roberta', 'encoder', 'layer', '3', 'output', 'LayerNorm', 'scale'), ('roberta', 'embeddings', 'LayerNorm', 'bias'), ('roberta', 'encoder', 'layer', '6', 'intermediate', 'dense', 'kernel'), ('roberta', 'encoder', 'layer', '5', 'attention', 'self', 'key', 'kernel'), ('roberta', 'encoder', 'layer', '1', 'output', 'LayerNorm', 'scale'), ('roberta', 'encoder', 'layer', '4', 'output', 'dense', 'kernel'), ('roberta', 'encoder', 'layer', '6', 'output', 'LayerNorm', 'scale'), ('roberta', 'encoder', 'layer', '5', 'output', 'LayerNorm', 'bias'), ('roberta', 'encoder', 'layer', '11', 'attention', 'self', 'key', 'kernel'), ('roberta', 'encoder', 'layer', '4', 'attention', 'self', 'value', 'bias'), ('roberta', 'encoder', 'layer', '9', 'attention', 'output', 'dense', 'kernel'), ('roberta', 'encoder', 'layer', '9', 'output', 'LayerNorm', 'bias'), ('roberta', 'embeddings', 'token_type_embeddings', 'embedding'), ('roberta', 'encoder', 'layer', '0', 'attention', 'output', 'dense', 'bias'), ('roberta', 'encoder', 'layer', '10', 'attention', 'self', 'query', 'bias'), ('roberta', 'encoder', 'layer', '11', 'output', 'dense', 'kernel'), ('roberta', 'encoder', 'layer', '9', 'attention', 'self', 'key', 'bias'), ('roberta', 'encoder', 'layer', '7', 'attention', 'self', 'value', 'bias'), ('roberta', 'encoder', 'layer', '1', 'attention', 'self', 'query', 'bias'), ('roberta', 'encoder', 'layer', '6', 'output', 'dense', 'bias'), ('roberta', 'encoder', 'layer', '5', 'attention', 'self', 'query', 'bias'), ('roberta', 'encoder', 'layer', '1', 'attention', 'output', 'LayerNorm', 'bias'), ('roberta', 'encoder', 'layer', '6', 'attention', 'self', 'key', 'kernel'), ('roberta', 'encoder', 'layer', '10', 'output', 'LayerNorm', 'scale'), ('roberta', 'encoder', 'layer', '11', 'attention', 'output', 'LayerNorm', 'scale'), ('roberta', 'encoder', 'layer', '8', 'attention', 'output', 'dense', 'bias'), ('roberta', 'encoder', 'layer', '2', 'intermediate', 'dense', 'kernel'), ('roberta', 'encoder', 'layer', '6', 'attention', 'self', 'query', 'kernel'), ('roberta', 'encoder', 'layer', '3', 'attention', 'output', 'LayerNorm', 'scale'), ('roberta', 'encoder', 'layer', '10', 'attention', 'output', 'LayerNorm', 'bias'), ('roberta', 'encoder', 'layer', '9', 'attention', 'output', 'LayerNorm', 'scale'), ('roberta', 'encoder', 'layer', '8', 'output', 'LayerNorm', 'scale'), ('roberta', 'encoder', 'layer', '7', 'attention', 'output', 'dense', 'bias'), ('roberta', 'encoder', 'layer', '2', 'attention', 'self', 'key', 'bias'), ('roberta', 'encoder', 'layer', '5', 'attention', 'output', 'dense', 'kernel'), ('roberta', 'encoder', 'layer', '2', 'output', 'LayerNorm', 'bias'), ('roberta', 'encoder', 'layer', '0', 'attention', 'self', 'value', 'bias'), ('roberta', 'encoder', 'layer', '1', 'output', 'dense', 'bias'), ('roberta', 'encoder', 'layer', '3', 'attention', 'self', 'key', 'kernel'), ('roberta', 'embeddings', 'position_embeddings', 'embedding'), ('roberta', 'encoder', 'layer', '8', 'output', 'dense', 'bias'), ('roberta', 'encoder', 'layer', '9', 'intermediate', 'dense', 'kernel'), ('roberta', 'encoder', 'layer', '1', 'attention', 'output', 'LayerNorm', 'scale'), ('roberta', 'encoder', 'layer', '8', 'attention', 'self', 'query', 'kernel'), ('roberta', 'encoder', 'layer', '0', 'attention', 'output', 'LayerNorm', 'scale'), ('roberta', 'encoder', 'layer', '10', 'attention', 'self', 'value', 'kernel'), ('roberta', 'encoder', 'layer', '7', 'attention', 'self', 'query', 'kernel'), ('roberta', 'encoder', 'layer', '7', 'attention', 'self', 'key', 'kernel'), ('roberta', 'encoder', 'layer', '4', 'attention', 'self', 'key', 'bias'), ('roberta', 'encoder', 'layer', '2', 'attention', 'self', 'query', 'bias'), ('roberta', 'encoder', 'layer', '11', 'output', 'dense', 'bias'), ('roberta', 'encoder', 'layer', '5', 'attention', 'self', 'value', 'kernel'), ('roberta', 'encoder', 'layer', '8', 'output', 'LayerNorm', 'bias'), ('roberta', 'encoder', 'layer', '1', 'attention', 'self', 'key', 'kernel'), ('roberta', 'encoder', 'layer', '10', 'attention', 'self', 'value', 'bias'), ('roberta', 'encoder', 'layer', '3', 'attention', 'output', 'dense', 'bias'), ('classifier', 'out_proj', 'kernel'), ('roberta', 'encoder', 'layer', '7', 'attention', 'self', 'query', 'bias'), ('roberta', 'encoder', 'layer', '4', 'output', 'dense', 'bias'), ('roberta', 'encoder', 'layer', '8', 'attention', 'self', 'key', 'kernel'), ('roberta', 'encoder', 'layer', '7', 'attention', 'output', 'dense', 'kernel'), ('roberta', 'encoder', 'layer', '1', 'intermediate', 'dense', 'bias'), ('roberta', 'encoder', 'layer', '5', 'attention', 'self', 'query', 'kernel'), ('roberta', 'encoder', 'layer', '0', 'attention', 'self', 'value', 'kernel'), ('roberta', 'encoder', 'layer', '1', 'attention', 'self', 'key', 'bias'), ('roberta', 'encoder', 'layer', '3', 'attention', 'output', 'dense', 'kernel'), ('roberta', 'encoder', 'layer', '3', 'attention', 'self', 'key', 'bias'), ('roberta', 'encoder', 'layer', '8', 'intermediate', 'dense', 'bias'), ('roberta', 'encoder', 'layer', '10', 'intermediate', 'dense', 'bias'), ('roberta', 'encoder', 'layer', '0', 'intermediate', 'dense', 'kernel'), ('roberta', 'encoder', 'layer', '5', 'intermediate', 'dense', 'kernel'), ('roberta', 'embeddings', 'word_embeddings', 'embedding'), ('roberta', 'encoder', 'layer', '2', 'attention', 'output', 'LayerNorm', 'bias'), ('roberta', 'encoder', 'layer', '9', 'attention', 'output', 'dense', 'bias'), ('roberta', 'encoder', 'layer', '9', 'output', 'dense', 'bias'), ('roberta', 'encoder', 'layer', '9', 'output', 'dense', 'kernel'), ('roberta', 'encoder', 'layer', '5', 'intermediate', 'dense', 'bias'), ('roberta', 'encoder', 'layer', '0', 'attention', 'output', 'LayerNorm', 'bias'), ('classifier', 'out_proj', 'bias'), ('roberta', 'encoder', 'layer', '10', 'intermediate', 'dense', 'kernel'), ('roberta', 'encoder', 'layer', '4', 'intermediate', 'dense', 'kernel'), ('roberta', 'encoder', 'layer', '10', 'output', 'dense', 'kernel'), ('roberta', 'encoder', 'layer', '6', 'attention', 'self', 'query', 'bias'), ('roberta', 'encoder', 'layer', '11', 'intermediate', 'dense', 'bias'), ('roberta', 'encoder', 'layer', '10', 'output', 'LayerNorm', 'bias'), ('roberta', 'encoder', 'layer', '1', 'attention', 'output', 'dense', 'bias'), ('roberta', 'encoder', 'layer', '1', 'output', 'LayerNorm', 'bias'), ('roberta', 'encoder', 'layer', '9', 'output', 'LayerNorm', 'scale'), ('roberta', 'encoder', 'layer', '11', 'attention', 'output', 'dense', 'bias'), ('roberta', 'encoder', 'layer', '7', 'intermediate', 'dense', 'bias'), ('roberta', 'encoder', 'layer', '8', 'attention', 'output', 'LayerNorm', 'scale'), ('roberta', 'encoder', 'layer', '11', 'attention', 'self', 'value', 'bias'), ('roberta', 'encoder', 'layer', '11', 'intermediate', 'dense', 'kernel'), ('roberta', 'encoder', 'layer', '7', 'attention', 'output', 'LayerNorm', 'scale'), ('roberta', 'encoder', 'layer', '1', 'attention', 'self', 'value', 'kernel'), ('roberta', 'encoder', 'layer', '2', 'attention', 'self', 'value', 'bias'), ('roberta', 'encoder', 'layer', '10', 'attention', 'output', 'LayerNorm', 'scale'), ('roberta', 'encoder', 'layer', '1', 'attention', 'self', 'query', 'kernel'), ('roberta', 'encoder', 'layer', '5', 'attention', 'output', 'LayerNorm', 'bias'), ('roberta', 'encoder', 'layer', '1', 'attention', 'self', 'value', 'bias'), ('roberta', 'encoder', 'layer', '6', 'output', 'LayerNorm', 'bias'), ('roberta', 'encoder', 'layer', '4', 'attention', 'self', 'query', 'kernel'), ('roberta', 'encoder', 'layer', '6', 'attention', 'output', 'dense', 'bias'), ('roberta', 'encoder', 'layer', '0', 'output', 'dense', 'kernel'), ('roberta', 'encoder', 'layer', '10', 'attention', 'self', 'key', 'kernel'), ('roberta', 'encoder', 'layer', '3', 'intermediate', 'dense', 'kernel'), ('roberta', 'encoder', 'layer', '6', 'attention', 'self', 'value', 'bias'), ('roberta', 'encoder', 'layer', '5', 'attention', 'self', 'key', 'bias'), ('roberta', 'encoder', 'layer', '5', 'output', 'dense', 'bias'), ('roberta', 'encoder', 'layer', '10', 'attention', 'self', 'key', 'bias'), ('roberta', 'encoder', 'layer', '11', 'attention', 'output', 'LayerNorm', 'bias'), ('roberta', 'encoder', 'layer', '2', 'attention', 'output', 'dense', 'kernel'), ('roberta', 'encoder', 'layer', '4', 'attention', 'self', 'query', 'bias'), ('roberta', 'encoder', 'layer', '8', 'attention', 'output', 'dense', 'kernel'), ('roberta', 'encoder', 'layer', '3', 'attention', 'self', 'query', 'kernel'), ('roberta', 'encoder', 'layer', '9', 'attention', 'self', 'key', 'kernel'), ('roberta', 'encoder', 'layer', '0', 'attention', 'self', 'query', 'kernel'), ('roberta', 'encoder', 'layer', '10', 'attention', 'output', 'dense', 'kernel'), ('roberta', 'encoder', 'layer', '11', 'attention', 'self', 'value', 'kernel'), ('roberta', 'encoder', 'layer', '11', 'attention', 'output', 'dense', 'kernel'), ('roberta', 'encoder', 'layer', '2', 'intermediate', 'dense', 'bias'), ('roberta', 'encoder', 'layer', '2', 'attention', 'output', 'LayerNorm', 'scale'), ('roberta', 'encoder', 'layer', '1', 'attention', 'output', 'dense', 'kernel'), ('roberta', 'encoder', 'layer', '3', 'attention', 'output', 'LayerNorm', 'bias'), ('roberta', 'encoder', 'layer', '4', 'attention', 'output', 'LayerNorm', 'scale'), ('roberta', 'encoder', 'layer', '4', 'output', 'LayerNorm', 'bias'), ('roberta', 'encoder', 'layer', '9', 'attention', 'self', 'value', 'bias'), ('roberta', 'encoder', 'layer', '6', 'output', 'dense', 'kernel'), ('roberta', 'encoder', 'layer', '7', 'output', 'LayerNorm', 'bias'), ('roberta', 'embeddings', 'LayerNorm', 'scale'), ('roberta', 'encoder', 'layer', '6', 'attention', 'self', 'value', 'kernel'), ('roberta', 'encoder', 'layer', '5', 'attention', 'self', 'value', 'bias'), ('roberta', 'encoder', 'layer', '6', 'attention', 'output', 'dense', 'kernel'), ('roberta', 'encoder', 'layer', '2', 'attention', 'self', 'query', 'kernel'), ('roberta', 'encoder', 'layer', '4', 'attention', 'self', 'key', 'kernel'), ('roberta', 'encoder', 'layer', '8', 'attention', 'output', 'LayerNorm', 'bias'), ('roberta', 'encoder', 'layer', '6', 'attention', 'output', 'LayerNorm', 'scale'), ('roberta', 'encoder', 'layer', '8', 'attention', 'self', 'value', 'kernel'), ('roberta', 'encoder', 'layer', '0', 'output', 'LayerNorm', 'bias'), ('roberta', 'encoder', 'layer', '9', 'attention', 'output', 'LayerNorm', 'bias'), ('roberta', 'encoder', 'layer', '7', 'intermediate', 'dense', 'kernel'), ('roberta', 'encoder', 'layer', '4', 'attention', 'output', 'LayerNorm', 'bias'), ('roberta', 'encoder', 'layer', '7', 'output', 'dense', 'kernel'), ('roberta', 'encoder', 'layer', '8', 'attention', 'self', 'key', 'bias'), ('roberta', 'encoder', 'layer', '6', 'intermediate', 'dense', 'bias'), ('roberta', 'encoder', 'layer', '11', 'output', 'LayerNorm', 'scale'), ('roberta', 'encoder', 'layer', '2', 'output', 'dense', 'bias'), ('roberta', 'encoder', 'layer', '5', 'attention', 'output', 'LayerNorm', 'scale'), ('roberta', 'encoder', 'layer', '5', 'output', 'dense', 'kernel'), ('roberta', 'encoder', 'layer', '0', 'attention', 'self', 'key', 'bias'), ('roberta', 'encoder', 'layer', '9', 'attention', 'self', 'query', 'kernel'), ('roberta', 'encoder', 'layer', '8', 'attention', 'self', 'value', 'bias')}\n",
            "You should probably TRAIN this model on a down-stream task to be able to use it for predictions and inference.\n"
          ],
          "name": "stderr"
        }
      ]
    },
    {
      "cell_type": "markdown",
      "metadata": {
        "id": "CczA5lJlIrJX"
      },
      "source": [
        "The warning is telling us we are throwing away some weights (the `vocab_transform` and `vocab_layer_norm` layers) and randomly initializing some others (the `pre_classifier` and `classifier` layers). This is normal in this case because we are removing the head used to pretrain the model on a masked language modeling objective and replacing it with a new head for which we don't have pretrained weights, so the library warns us we should fine-tune this model before using it for inference, which is exactly what we are going to do."
      ]
    },
    {
      "cell_type": "markdown",
      "metadata": {
        "id": "dnQ43MgRqV-K"
      },
      "source": [
        "To write a full training and evaluation loop in Flax, we will need to import a couple of packages."
      ]
    },
    {
      "cell_type": "code",
      "metadata": {
        "id": "Mn1GdGpipfWK"
      },
      "source": [
        "import flax\n",
        "import jax\n",
        "import optax\n",
        "\n",
        "from itertools import chain\n",
        "from tqdm.notebook import tqdm\n",
        "from typing import Callable\n",
        "\n",
        "import jax.numpy as jnp\n",
        "\n",
        "from flax.training.common_utils import get_metrics, onehot, shard, shard_prng_key\n",
        "from flax.training import train_state"
      ],
      "execution_count": 25,
      "outputs": []
    },
    {
      "cell_type": "markdown",
      "metadata": {
        "id": "I3GOlfPQrRdY"
      },
      "source": [
        "For all GLUE tasks except `\"wnli\"` and `\"mrpc\"`, it is usually sufficient to train for just 3 epochs. `\"wnli\"` and `\"mrpc\"` are so small that we recommend training on 5 epochs. We use a learning rate of *0.00002*."
      ]
    },
    {
      "cell_type": "code",
      "metadata": {
        "id": "8zpJOCJhmSno"
      },
      "source": [
        "num_train_epochs = 3 if task not in [\"mrpc\", \"wnli\"] else 5\n",
        "learning_rate = 2e-5"
      ],
      "execution_count": 26,
      "outputs": []
    },
    {
      "cell_type": "markdown",
      "metadata": {
        "id": "K7mQfa25tAFb"
      },
      "source": [
        "We've already set the batch size per device, but are now interested in the effective total batch_size:"
      ]
    },
    {
      "cell_type": "code",
      "metadata": {
        "id": "QfP-yW52s-lu",
        "colab": {
          "base_uri": "https://localhost:8080/"
        },
        "outputId": "814812c4-3286-456e-b0f1-801f5d19c6f5"
      },
      "source": [
        "total_batch_size = per_device_batch_size * jax.local_device_count()\n",
        "print(\"The overall batch size (both for training and eval) is\", total_batch_size)"
      ],
      "execution_count": 27,
      "outputs": [
        {
          "output_type": "stream",
          "text": [
            "The overall batch size (both for training and eval) is 32\n"
          ],
          "name": "stdout"
        }
      ]
    },
    {
      "cell_type": "markdown",
      "metadata": {
        "id": "CDQbpTFvtpyN"
      },
      "source": [
        "Next, we define the learning rate schedule. A simple and effective learning rate schedule is the linear decay with warmup (click [here](https://huggingface.co/transformers/main_classes/optimizer_schedules.html#transformers.get_linear_schedule_with_warmup) for more information). Since GLUE datasets are rather small and therefore have few training steps, we set the number of warmup steps simply to 0. The schedule is then fully defined by the number of training steps and the learning rate.\n",
        "\n",
        "It is recommended to use the [**optax**](https://github.com/deepmind/optax) library for training utilities, *e.g.* learning rate schedules and optimizers."
      ]
    },
    {
      "cell_type": "code",
      "metadata": {
        "id": "0vnrOjubxkFw"
      },
      "source": [
        "num_train_steps = len(train_dataset) // total_batch_size * num_train_epochs\n",
        "\n",
        "learning_rate_function = optax.linear_schedule(init_value=learning_rate, end_value=0, transition_steps=num_train_steps)"
      ],
      "execution_count": 28,
      "outputs": []
    },
    {
      "cell_type": "markdown",
      "metadata": {
        "id": "xorWAbYWMfEm"
      },
      "source": [
        "### Defining the training state"
      ]
    },
    {
      "cell_type": "markdown",
      "metadata": {
        "id": "ktzA1CJAyrZB"
      },
      "source": [
        "Next, we will create the *training state* that includes the optimizer, the loss function, and is responsible for updating the model's parameters during training.\n",
        "\n",
        "Most JAX transformations (notably [jax.jit](https://jax.readthedocs.io/en/latest/jax-101/02-jitting.html)) require functions that are transformed to have no side-effects. This is because any such side-effects will only be executed once, when the Python version of the function is run during compilation (see [Stateful Computations in JAX](https://jax.readthedocs.io/en/latest/jax-101/07-state.html)). As a consequence, Flax models (which can be transformed by JAX transformations) are **immutable**, and the state of the model (i.e., its weight parameters) are stored *outside* of the model instance.\n",
        "\n",
        "Models are initialized and updated in a purely functional way: you pass the state to the model when calling it, and the model returns the new (possibly modified) state, leaving the model instance itself unchanged.\n",
        "\n",
        "Flax provides a convenience class [`flax.training.train_state.TrainState`](https://github.com/google/flax/blob/9da95cdd12591f42d2cd4c17089861bff7e43cc5/flax/training/train_state.py#L22), which stores things such as the model parameters, the loss function, the optimizer, and exposes an `apply_gradients` function to update the model's weight parameters.\n",
        "\n",
        "Alright, let's begin by defining our *training state* class. We create a derived `TrainState` class that additionally stores the model's forward pass as `eval_function` as well as a `loss_function`."
      ]
    },
    {
      "cell_type": "code",
      "metadata": {
        "id": "7F81TyR3nJrM"
      },
      "source": [
        "class TrainState(train_state.TrainState):\n",
        "    logits_function: Callable = flax.struct.field(pytree_node=False)\n",
        "    loss_function: Callable = flax.struct.field(pytree_node=False)"
      ],
      "execution_count": 29,
      "outputs": []
    },
    {
      "cell_type": "markdown",
      "metadata": {
        "id": "DRF_WotzGOpR"
      },
      "source": [
        "We will be using the standard Adam optimizer with weight decay. For more information on AdamW (Adam + weight decay), one can take a look at [this](https://www.fast.ai/2018/07/02/adam-weight-decay/) blog post.\n",
        "\n",
        "AdamW can easily be imported from [optax](https://github.com/deepmind/optax):"
      ]
    },
    {
      "cell_type": "code",
      "metadata": {
        "id": "lku54GQWq_6v"
      },
      "source": [
        "def adamw(weight_decay):\n",
        "    return optax.adamw(learning_rate=learning_rate_function, b1=0.9, b2=0.999, eps=1e-6, weight_decay=weight_decay)"
      ],
      "execution_count": 30,
      "outputs": []
    },
    {
      "cell_type": "markdown",
      "metadata": {
        "id": "FlYAEe58JPdy"
      },
      "source": [
        "Next, the function to post-process each gradient before updating the weight parameters, called `gradient_transformation`, is defined. It essentially states that all weights shall be updated using the Adam optimizer with weight decay 0.01 except *biases* and *LayerNorm* for which the Adam optimizer without a weight decay is used. Regularizing the bias and/or *LayerNorm* has not shown to improve performance and can even be disadvantageous, which is why we disable it here. For more information on this, please check out the following [blog post](https://medium.com/@shrutijadon10104776/why-we-dont-use-bias-in-regularization-5a86905dfcd6) or [paper](https://arxiv.org/abs/1711.05101)."
      ]
    },
    {
      "cell_type": "code",
      "metadata": {
        "id": "ap-zaOyKJDXM"
      },
      "source": [
        "decay_path = lambda p: not any(x in p for x in [\"bias\", \"LayerNorm.weight\"])\n",
        "\n",
        "def traverse(function):\n",
        "  def mask(data):\n",
        "      flat = flax.traverse_util.flatten_dict(data)\n",
        "      return flax.traverse_util.unflatten_dict({k: function(k, v) for k, v in flat.items()})\n",
        "  return mask\n",
        "\n",
        "gradient_transformation = optax.chain(\n",
        "    optax.masked(adamw(0.0), mask=traverse(lambda path, _: decay_path(path))),\n",
        "    optax.masked(adamw(0.01), mask=traverse(lambda path, _: not decay_path(path))),\n",
        ")"
      ],
      "execution_count": 31,
      "outputs": []
    },
    {
      "cell_type": "markdown",
      "metadata": {
        "id": "0vbf4KyrKnDl"
      },
      "source": [
        "Now we also need to define the evaluation and loss function given the model's output logits. \n",
        "For regression tasks, the evaluation function simply takes the first logit element and the mean-square error (mse) loss is used. For classification tasks, the evaluation function uses the `argmax` of the logits, and the cross-entropy loss with `num_labels` is used."
      ]
    },
    {
      "cell_type": "code",
      "metadata": {
        "id": "4Rj31RyjJ_9T"
      },
      "source": [
        "def loss_function(logits, labels):\n",
        "  if is_regression:\n",
        "    return jnp.mean((logits[..., 0] - labels) ** 2)\n",
        "  \n",
        "  logits = flax.linen.log_softmax(logits)\n",
        "  xentropy = optax.softmax_cross_entropy(logits, onehot(labels, num_classes=num_labels))\n",
        "  return jnp.mean(xentropy)\n",
        "     \n",
        "def eval_function(logits):\n",
        "    return logits[..., 0] if is_regression else logits.argmax(-1)"
      ],
      "execution_count": 32,
      "outputs": []
    },
    {
      "cell_type": "markdown",
      "metadata": {
        "id": "XM7LmtIRHWFl"
      },
      "source": [
        "Finally, we put the pieces together to instantiate a `TrainState`."
      ]
    },
    {
      "cell_type": "code",
      "metadata": {
        "id": "pqK0fDCvmxao"
      },
      "source": [
        "state = TrainState.create(\n",
        "    apply_fn=model.__call__,\n",
        "    params=model.params,\n",
        "    tx=gradient_transformation,\n",
        "    logits_function=eval_function,\n",
        "    loss_function=loss_function,\n",
        ")"
      ],
      "execution_count": 33,
      "outputs": []
    },
    {
      "cell_type": "markdown",
      "metadata": {
        "id": "HQHbpxNjMpXb"
      },
      "source": [
        "### Defining the training and evaluation step\n",
        "\n",
        "During fine-tuning, we want to update the model parameters and evaluate the performance after each epoch. \n",
        "\n",
        "Let's write the functions `train_step` and `eval_step` accordingly. During training the weight parameters should be updated as follows:\n",
        "\n",
        "1. Define a loss function `loss_function` that first runs a forward pass of the model given data input. Remember that Flax models are immutable, and we explicitly pass it the state (in this case the model parameters and the RNG). `loss_function` returns a scalar loss (using the previously defined `state.loss_function`) between the model output and input targets.\n",
        "2. Differentiate this loss function using [`jax.value_and_grad`](https://jax.readthedocs.io/en/latest/notebooks/autodiff_cookbook.html#evaluate-a-function-and-its-gradient-using-value-and-grad). This is a JAX transformation called [automatic differentiation](https://en.wikipedia.org/wiki/Automatic_differentiation), which computes the gradient of `loss_function` given the input to the function (i.e., the parameters of the model), and returns the value and the gradient in a pair `(loss, gradients)`.\n",
        "3. Compute the mean gradient over all devices using the collective operation [lax.pmean](https://jax.readthedocs.io/en/latest/_autosummary/jax.lax.pmean.html). As we will see below, each device runs `train_step` on a different batch of data, but by taking the mean here we ensure the model parameters are the same on all devices.\n",
        "4. Use `state.apply_gradients`, which applies the gradients to the weights.\n",
        "\n",
        "Below, you can see how each of the described steps above is put into practice."
      ]
    },
    {
      "cell_type": "code",
      "metadata": {
        "id": "QXDgjdbzn3QA"
      },
      "source": [
        "def train_step(state, batch, dropout_rng):\n",
        "    targets = batch.pop(\"labels\")\n",
        "    dropout_rng, new_dropout_rng = jax.random.split(dropout_rng)\n",
        "\n",
        "    def loss_function(params):\n",
        "        logits = state.apply_fn(**batch, params=params, dropout_rng=dropout_rng, train=True)[0]\n",
        "        loss = state.loss_function(logits, targets)\n",
        "        return loss\n",
        "\n",
        "    grad_function = jax.value_and_grad(loss_function)\n",
        "    loss, grad = grad_function(state.params)\n",
        "    grad = jax.lax.pmean(grad, \"batch\")\n",
        "    new_state = state.apply_gradients(grads=grad)\n",
        "    metrics = jax.lax.pmean({\"loss\": loss, \"learning_rate\": learning_rate_function(state.step)}, axis_name=\"batch\")\n",
        "    return new_state, metrics, new_dropout_rng"
      ],
      "execution_count": 34,
      "outputs": []
    },
    {
      "cell_type": "markdown",
      "metadata": {
        "id": "lfiPHXYiSvSk"
      },
      "source": [
        "Now, we want to do parallelized training over all TPU devices. To do so, we use [`jax.pmap`](https://jax.readthedocs.io/en/latest/jax.html?highlight=pmap#parallelization-pmap). This will compile the function once and run the same program on each device (it is an [SPMD program](https://en.wikipedia.org/wiki/SPMD)). When calling this pmapped function, all inputs (`\"state\"`, `\"batch\"`, `\"dropout_rng\"`) should be replicated for all devices, which means that the first axis of each argument is used to map over all TPU devices.\n",
        "\n",
        "The argument `donate_argnums` is used to tell JAX that the first argument `\"state\"` is \"donated\" to the computation, because it is not needed anymore afterwards. XLA can make use of donated buffers to reduce the memory needed."
      ]
    },
    {
      "cell_type": "code",
      "metadata": {
        "id": "t6eLQN4Jn6jS"
      },
      "source": [
        "parallel_train_step = jax.pmap(train_step, axis_name=\"batch\", donate_argnums=(0,))"
      ],
      "execution_count": 35,
      "outputs": []
    },
    {
      "cell_type": "markdown",
      "metadata": {
        "id": "pu5G-8lfVNzt"
      },
      "source": [
        "Similarly, we can now define the evaluation step. Here, the function is much easier as it simply needs to stack the model's forward pass with the previously defined `eval_function` (or `logits_function`)."
      ]
    },
    {
      "cell_type": "code",
      "metadata": {
        "id": "chY-zaUln94G"
      },
      "source": [
        "def eval_step(state, batch):\n",
        "    logits = state.apply_fn(**batch, params=state.params, train=False)[0]\n",
        "    return state.logits_function(logits)"
      ],
      "execution_count": 36,
      "outputs": []
    },
    {
      "cell_type": "markdown",
      "metadata": {
        "id": "nHdL0Op8Vrdu"
      },
      "source": [
        "Similarly, we also apply `jax.pmap` to the evaluation step."
      ]
    },
    {
      "cell_type": "code",
      "metadata": {
        "id": "9P8DBfk2oA_e"
      },
      "source": [
        "parallel_eval_step = jax.pmap(eval_step, axis_name=\"batch\")"
      ],
      "execution_count": 37,
      "outputs": []
    },
    {
      "cell_type": "markdown",
      "metadata": {
        "id": "b99v2GVjWCRr"
      },
      "source": [
        "### Defining the data collators\n",
        "\n",
        "In a final step before we can start training, we need to define the data collators. The data collator is important to shuffle the training data before each epoch and to prepare the batch for each training and evaluation step.\n",
        "\n",
        "Let's start with the training collator."
      ]
    },
    {
      "cell_type": "markdown",
      "metadata": {
        "id": "J7jyyxibXGks"
      },
      "source": [
        "The training collator can be defined as a [Python generator](https://wiki.python.org/moin/Generators) that returns a batch model input every time it is called.\n",
        "\n",
        "First, a random permutation of the whole dataset is defined. \n",
        "Then, every time the training data collator is called the next batch of the randomized dataset is extracted, converted to a JAX array and sharded over all local TPU devices."
      ]
    },
    {
      "cell_type": "code",
      "metadata": {
        "id": "YZ6iVzivl88S"
      },
      "source": [
        "def glue_train_data_loader(rng, dataset, batch_size):\n",
        "    steps_per_epoch = len(dataset) // batch_size\n",
        "    perms = jax.random.permutation(rng, len(dataset))\n",
        "    perms = perms[: steps_per_epoch * batch_size]  # Skip incomplete batch.\n",
        "    perms = perms.reshape((steps_per_epoch, batch_size))\n",
        "\n",
        "    for perm in perms:\n",
        "        batch = dataset[perm]\n",
        "        batch = {k: jnp.array(v) for k, v in batch.items()}\n",
        "        batch = shard(batch)\n",
        "\n",
        "        yield batch"
      ],
      "execution_count": 38,
      "outputs": []
    },
    {
      "cell_type": "markdown",
      "metadata": {
        "id": "bOSPOyMYZt29"
      },
      "source": [
        "We define the eval data collator in a similar fashion. \n",
        "\n",
        "**Note**:\n",
        "For simplicity, we throw away the last incomplete batch since it can't be easily sharded over all devices. This means that the evaluation results might be slightly incorrect. It can be easily fixed by including [this](https://github.com/huggingface/transformers/blob/f063c56d942737d2c7aac93895cd8310afd9c7a4/examples/flax/text-classification/run_flax_glue.py#L491) part in the training loop after evaluation."
      ]
    },
    {
      "cell_type": "code",
      "metadata": {
        "id": "cZpbf9pamCEW"
      },
      "source": [
        "def glue_eval_data_loader(dataset, batch_size):\n",
        "    for i in range(len(dataset) // batch_size):\n",
        "        batch = dataset[i * batch_size : (i + 1) * batch_size]\n",
        "        batch = {k: jnp.array(v) for k, v in batch.items()}\n",
        "        batch = shard(batch)\n",
        "\n",
        "        yield batch"
      ],
      "execution_count": 39,
      "outputs": []
    },
    {
      "cell_type": "markdown",
      "metadata": {
        "id": "Vf_eG7OBbGAJ"
      },
      "source": [
        "Next, we replicate/copy the weight parameters on each device, so that we can pass them to our pmapped functions."
      ]
    },
    {
      "cell_type": "code",
      "metadata": {
        "colab": {
          "base_uri": "https://localhost:8080/"
        },
        "id": "r1sA7cjySB2T",
        "outputId": "82c78177-4bbc-4868-a514-18c2ac044e96"
      },
      "source": [
        "state = flax.jax_utils.replicate(state)"
      ],
      "execution_count": 40,
      "outputs": [
        {
          "output_type": "stream",
          "text": [
            "/usr/local/lib/python3.7/dist-packages/jax/lib/xla_bridge.py:317: UserWarning: jax.host_count has been renamed to jax.process_count. This alias will eventually be removed; please update your code.\n",
            "  \"jax.host_count has been renamed to jax.process_count. This alias \"\n",
            "/usr/local/lib/python3.7/dist-packages/jax/lib/xla_bridge.py:304: UserWarning: jax.host_id has been renamed to jax.process_index. This alias will eventually be removed; please update your code.\n",
            "  \"jax.host_id has been renamed to jax.process_index. This alias \"\n"
          ],
          "name": "stderr"
        }
      ]
    },
    {
      "cell_type": "markdown",
      "metadata": {
        "id": "I42ZJzpgbo-s"
      },
      "source": [
        "### Training\n",
        "\n",
        "Finally, we can write down the full training loop."
      ]
    },
    {
      "cell_type": "markdown",
      "metadata": {
        "id": "bq40T7_Wbw2p"
      },
      "source": [
        "Let's start by generating a seeded `PRNGKey` for the dropout layers and dataset shuffling."
      ]
    },
    {
      "cell_type": "code",
      "metadata": {
        "id": "-Wyaedrnty4-"
      },
      "source": [
        "rng = jax.random.PRNGKey(seed)\n",
        "dropout_rngs = jax.random.split(rng, jax.local_device_count())"
      ],
      "execution_count": 41,
      "outputs": []
    },
    {
      "cell_type": "markdown",
      "metadata": {
        "id": "xByhGKVUcquw"
      },
      "source": [
        "Now we define the full training loop. For each batch in each epoch, we run a training step. Here, we also need to make sure that the PRNGKey is sharded/split over each device. Having completed an epoch, we report the training metrics and can run the evaluation."
      ]
    },
    {
      "cell_type": "code",
      "metadata": {
        "id": "FBARxJ8soOrs",
        "colab": {
          "base_uri": "https://localhost:8080/",
          "height": 81,
          "referenced_widgets": [
            "149b8e9f64e44f04974d6d5496480239",
            "e10025b5a2114ca795cfb81398829feb",
            "6e86f1e800ab4a8f9e37e66462cd7242",
            "992b6178a02c4d259945d51a3cf0bb41",
            "51158010ae974746a27796b74ebfa89f",
            "835f3d3ca9554b9f885f0276e085ba83",
            "1e71ed0a7262419997503e276fd472ff",
            "0ff7f0bc66094cc6b220505ee8695a74",
            "4f4a06ea79fb4c0399e846c2331279fb",
            "0d259d8e43934517a4e687d53f661826",
            "e644da6330c4468f80dcbf737585258c",
            "ee81b01cb18b4679a577bce64bc4d8e1",
            "41a53cb981604e2f89a1cc9ef5fa565d",
            "98d78f59a188434eb79565aa552a0dc9",
            "658f8b53637644068e88d6c0724cf90a",
            "88be72d8a97c442892366bf0e2f37343"
          ]
        },
        "outputId": "a39ec0c2-fe07-4821-dfa5-2be4af0e3aaa"
      },
      "source": [
        "for i, epoch in enumerate(tqdm(range(1, num_train_epochs + 1), desc=f\"Epoch ...\", position=0, leave=True)):\n",
        "    rng, input_rng = jax.random.split(rng)\n",
        "\n",
        "    # train\n",
        "    with tqdm(total=len(train_dataset) // total_batch_size, desc=\"Training...\", leave=False) as progress_bar_train:\n",
        "      for batch in glue_train_data_loader(input_rng, train_dataset, total_batch_size):\n",
        "        state, train_metrics, dropout_rngs = parallel_train_step(state, batch, dropout_rngs)\n",
        "        progress_bar_train.update(1)\n",
        "\n",
        "    # evaluate\n",
        "    with tqdm(total=len(eval_dataset) // total_batch_size, desc=\"Evaluating...\", leave=False) as progress_bar_eval:\n",
        "      for batch in glue_eval_data_loader(eval_dataset, total_batch_size):\n",
        "          labels = batch.pop(\"labels\")\n",
        "          predictions = parallel_eval_step(state, batch)\n",
        "          metric.add_batch(predictions=chain(*predictions), references=chain(*labels))\n",
        "          progress_bar_eval.update(1)\n",
        "\n",
        "    eval_metric = metric.compute()\n",
        "\n",
        "    loss = round(flax.jax_utils.unreplicate(train_metrics)['loss'].item(), 3)\n",
        "    eval_score = round(list(eval_metric.values())[0], 3)\n",
        "    metric_name = list(eval_metric.keys())[0]\n",
        "\n",
        "    print(f\"{i+1}/{num_train_epochs} | Train loss: {loss} | Eval {metric_name}: {eval_score}\")"
      ],
      "execution_count": null,
      "outputs": [
        {
          "output_type": "display_data",
          "data": {
            "application/vnd.jupyter.widget-view+json": {
              "model_id": "149b8e9f64e44f04974d6d5496480239",
              "version_minor": 0,
              "version_major": 2
            },
            "text/plain": [
              "HBox(children=(FloatProgress(value=0.0, description='Epoch ...', max=3.0, style=ProgressStyle(description_widt…"
            ]
          },
          "metadata": {
            "tags": []
          }
        },
        {
          "output_type": "display_data",
          "data": {
            "application/vnd.jupyter.widget-view+json": {
              "model_id": "4f4a06ea79fb4c0399e846c2331279fb",
              "version_minor": 0,
              "version_major": 2
            },
            "text/plain": [
              "HBox(children=(FloatProgress(value=0.0, description='Training...', max=267.0, style=ProgressStyle(description_…"
            ]
          },
          "metadata": {
            "tags": []
          }
        }
      ]
    },
    {
      "cell_type": "markdown",
      "metadata": {
        "id": "ffP-VQOyIrJk"
      },
      "source": [
        "To see how your model fared you can compare it to the [GLUE Benchmark leaderboard](https://gluebenchmark.com/leaderboard)."
      ]
    },
    {
      "cell_type": "markdown",
      "metadata": {
        "id": "2UB8pjv8vxYa"
      },
      "source": [
        "### Sharing fine-tuned model\n",
        "\n",
        "Now that you've succesfully trained a model, you can share it with the community by uploading the fine-tuned model checkpoint and tokenizer to your account on the [hub](https://huggingface.co/models).\n",
        "\n",
        "\n",
        "If you don't have an account yet, you can click [here](https://huggingface.co/join) join the community 🤗."
      ]
    },
    {
      "cell_type": "markdown",
      "metadata": {
        "id": "8vPLVtkS-JHi"
      },
      "source": [
        "In a first step, we install [git-lfs](https://git-lfs.github.com/) to easily upload the model weights."
      ]
    },
    {
      "cell_type": "code",
      "metadata": {
        "id": "QOHBpZulqSLT"
      },
      "source": [
        "%%capture\n",
        "!sudo apt-get install software-properties-common\n",
        "!sudo curl -s https://packagecloud.io/install/repositories/github/git-lfs/script.deb.sh | sudo bash\n",
        "!sudo apt-get install git-lfs\n",
        "!git lfs install"
      ],
      "execution_count": null,
      "outputs": []
    },
    {
      "cell_type": "markdown",
      "metadata": {
        "id": "XJduNRXk_V2c"
      },
      "source": [
        "Next, we you will need to store your git credentials so that `git` knows who is uploading the files. You should replace the fields `<your-email-address>` and `<your-name>` with your credentials accordingly."
      ]
    },
    {
      "cell_type": "code",
      "metadata": {
        "id": "D5ILJ1B-up41"
      },
      "source": [
        "!git config --global user.email \"<your-email-address>\"  # e.g. \"patrick.v.platen@gmail.com\"\n",
        "!git config --global user.name \"<your-name>\"  # e.g. \"Patrick von Platen\""
      ],
      "execution_count": null,
      "outputs": []
    },
    {
      "cell_type": "markdown",
      "metadata": {
        "id": "QwPQyaTOAM5H"
      },
      "source": [
        "You will need to pass your user authentification token `hf_auth_token` to allow the 🤗 hub to upload model weights under your username. To find your authentification token, you need to log in [here](https://huggingface.co/login), click on your icon (top right), go to *Settings*, then *API Tokens*. You can copy the *User API token* and replace it with the field `<your-auth-token>` below."
      ]
    },
    {
      "cell_type": "code",
      "metadata": {
        "id": "OgET7o-Jv2OR"
      },
      "source": [
        "hf_auth_token = \"<your-auth-token>\"  # e.g. api_DaYgaaVnGdRtznIgiNfotCHFUqmOdARmPx"
      ],
      "execution_count": null,
      "outputs": []
    },
    {
      "cell_type": "markdown",
      "metadata": {
        "id": "FRM1k_8FCMiP"
      },
      "source": [
        "Finally, you can give your fine-tuned model a nice `model_id` or leave the default one as noted below. The model will be uploaded under `https://huggingface.co/<your-username>/<your-model-id>`, *e.g.*\n"
      ]
    },
    {
      "cell_type": "code",
      "metadata": {
        "id": "-XGT5eAzBoUK"
      },
      "source": [
        "model_id = f\"{model_checkpoint}_fine_tuned_glue_{task}\""
      ],
      "execution_count": null,
      "outputs": []
    },
    {
      "cell_type": "markdown",
      "metadata": {
        "id": "FJHgcqvkBsIc"
      },
      "source": [
        "Great! Now all that is left to do is to upload your model:"
      ]
    },
    {
      "cell_type": "code",
      "metadata": {
        "id": "cIT_aQ-OoxvG"
      },
      "source": [
        "model.push_to_hub(model_id, use_auth_token=hf_auth_token)\n",
        "tokenizer.push_to_hub(model_id, use_auth_token=hf_auth_token)"
      ],
      "execution_count": null,
      "outputs": []
    },
    {
      "cell_type": "markdown",
      "metadata": {
        "id": "JlviIJzcC_WD"
      },
      "source": [
        "You can now go to your model page to check it out 😊.\n",
        "\n",
        "We strongly recommend to add a model card so that the community can actually make use of your fine-tuned model. You can do so by clicking on *Create Model Card* and adding a descriptive text in markdown format. \n",
        "\n",
        "A simple description for your fine-tuned model is given by running the following cell. You can simply copy-paste the output to be used as your model card `README.md`."
      ]
    },
    {
      "cell_type": "code",
      "metadata": {
        "id": "QSKl6rX7D_-N"
      },
      "source": [
        "print(f\"\"\"---\n",
        "language: en\n",
        "license: apache-2.0\n",
        "datasets:\n",
        "- glue\n",
        "---\n",
        "# {\" \".join([x.capitalize() for x in model_id.split(\"_\")])}\n",
        "\n",
        "This checkpoint was initialized from the pre-trained checkpoint {model_checkpoint} and subsequently fine-tuned on GLUE task: {task} using [this](https://colab.research.google.com/drive/162pW3wonGcMMrGxmA-jdxwy1rhqXd90x?usp=sharing) notebook.\n",
        "Training was conducted for {num_train_epochs} epochs, using a linear decaying learning rate of {learning_rate}, and a total batch size of {total_batch_size}.\n",
        "\n",
        "The model has a final training loss of {loss} and a {metric_name} of {eval_score}.\n",
        "\"\"\")"
      ],
      "execution_count": null,
      "outputs": []
    },
    {
      "cell_type": "markdown",
      "metadata": {
        "id": "OpFZeamCI-FJ"
      },
      "source": [
        "An uploaded model would, *e.g.*, look as follows: [patrickvonplaten/bert-base-cased_fine_tuned_glue_mrpc_demo](https://huggingface.co/patrickvonplaten/bert-base-cased_fine_tuned_glue_mrpc_demo)."
      ]
    }
  ]
}