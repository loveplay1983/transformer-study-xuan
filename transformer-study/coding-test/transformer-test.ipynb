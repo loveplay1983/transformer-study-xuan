{
 "cells": [
  {
   "cell_type": "code",
   "execution_count": 4,
   "id": "2957d22c-cedb-4eb3-a926-948608f1ff7a",
   "metadata": {
    "tags": []
   },
   "outputs": [],
   "source": [
    "%%capture\n",
    "from transformers import MarianMTModel, MarianTokenizer\n",
    "import torch\n",
    "\n",
    "# Helsinki-NLP/opus-mt-en-zh\n",
    "# Helsinki-NLP/opus-mt-zh-en\n",
    "# junyanz/marianmt-zh-classical_en\n",
    "\n",
    "tokenizer = MarianTokenizer.from_pretrained(\"Helsinki-NLP/opus-mt-zh-en\")\n",
    "zh_to_en = MarianMTModel.from_pretrained(\"Helsinki-NLP/opus-mt-zh-en\")"
   ]
  },
  {
   "cell_type": "code",
   "execution_count": 18,
   "id": "7dd4dc3e-57b3-4117-b88a-b94c9aa67c93",
   "metadata": {
    "tags": []
   },
   "outputs": [
    {
     "name": "stdout",
     "output_type": "stream",
     "text": [
      "length of input embeddings 5, \n",
      "length of encoder_hidden_states 5\n",
      "Is encoding for '我' equal to its perturbed version?: False\n"
     ]
    }
   ],
   "source": [
    "embeddings = zh_to_en.get_input_embeddings()\n",
    "input_ids = tokenizer(\"我想买一辆车\", return_tensors=\"pt\").input_ids\n",
    "\n",
    "# pass input_ids to encoder\n",
    "encoder_hidden_states = zh_to_en.base_model.encoder(input_ids, return_dict=True).last_hidden_state\n",
    "\n",
    "# change the input and pass to encoder\n",
    "input_ids_perturbed = tokenizer(\"我想买一套房子\",return_tensors=\"pt\").input_ids\n",
    "encoder_hidden_states_perturbed = zh_to_en.base_model.encoder(input_ids_perturbed,\n",
    "                                                              return_dict=True).last_hidden_state\n",
    "\n",
    "# compare shape and encoding of first vector\n",
    "print(f\"length of input embeddings {embeddings(input_ids).shape[1]}, \\nlength of encoder_hidden_states {encoder_hidden_states.shape[1]}\")\n",
    "\n",
    "# compare values of word embedding of \"我\" for input_ids and perturbed input_ids\n",
    "print(\"Is encoding for '我' equal to its perturbed version?:\", torch.allclose(encoder_hidden_states[0,0], encoder_hidden_states_perturbed[0,0], atol=1e-3))\n",
    "\n",
    "# print(\"Is encoding for `I` equal to its perturbed version?: \", torch.allclose(encoder_hidden_states[0, 0], encoder_hidden_states_perturbed[0, 0], atol=1e-3))"
   ]
  },
  {
   "cell_type": "code",
   "execution_count": null,
   "id": "84d47754-3b29-40ae-acb8-35545e3a7d1f",
   "metadata": {},
   "outputs": [],
   "source": []
  },
  {
   "cell_type": "code",
   "execution_count": null,
   "id": "24b76e91-25b0-45c5-b53d-35fbf6c6bed7",
   "metadata": {},
   "outputs": [],
   "source": []
  },
  {
   "cell_type": "markdown",
   "id": "f90f608e-6307-40e8-8a11-bea1299a77ee",
   "metadata": {},
   "source": [
    "# The annotated transformer (transformer model from scratch)"
   ]
  },
  {
   "cell_type": "code",
   "execution_count": 3,
   "id": "3a3a1bf4-f577-4ce9-be39-e5842b3492ed",
   "metadata": {},
   "outputs": [],
   "source": [
    "import numpy as np\n",
    "import torch\n",
    "import torch.nn as nn\n",
    "import torch.nn.functional as F\n",
    "import math, copy, time\n",
    "from torch.autograd import Variable\n",
    "import matplotlib.pyplot as plt\n",
    "import seaborn\n",
    "seaborn.set_context(context=\"talk\")\n",
    "%matplotlib inline"
   ]
  },
  {
   "cell_type": "code",
   "execution_count": null,
   "id": "0ab5c152-d85c-4948-9a3a-3c1143c69cd5",
   "metadata": {},
   "outputs": [],
   "source": []
  }
 ],
 "metadata": {
  "kernelspec": {
   "display_name": "pytorch",
   "language": "python",
   "name": "torch"
  },
  "language_info": {
   "codemirror_mode": {
    "name": "ipython",
    "version": 3
   },
   "file_extension": ".py",
   "mimetype": "text/x-python",
   "name": "python",
   "nbconvert_exporter": "python",
   "pygments_lexer": "ipython3",
   "version": "3.11.8"
  }
 },
 "nbformat": 4,
 "nbformat_minor": 5
}
