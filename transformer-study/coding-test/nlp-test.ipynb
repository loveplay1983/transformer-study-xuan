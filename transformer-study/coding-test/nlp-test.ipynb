{
 "cells": [
  {
   "cell_type": "code",
   "execution_count": 2,
   "id": "b9699cad",
   "metadata": {},
   "outputs": [
    {
     "name": "stderr",
     "output_type": "stream",
     "text": [
      "Building prefix dict from the default dictionary ...\n",
      "Loading model from cache /tmp/jieba.cache\n"
     ]
    },
    {
     "name": "stdout",
     "output_type": "stream",
     "text": [
      "我不知道我是不是伤害了汤姆的感情。\n"
     ]
    },
    {
     "name": "stderr",
     "output_type": "stream",
     "text": [
      "Loading model cost 0.581 seconds.\n",
      "Prefix dict has been built successfully.\n"
     ]
    },
    {
     "name": "stdout",
     "output_type": "stream",
     "text": [
      "她的每首歌都长期备受欢迎。\n",
      "[['BOS', 'i', 'wonder', 'if', 'i', 'hurt', 'tom', \"'s\", 'feelings', '.', 'EOS'], ['BOS', 'every', 'one', 'of', 'her', 'songs', 'was', 'a', 'hit', '.', 'EOS']]\n",
      "[['BOS', '我', '不', '知道', '我', '是不是', '伤害', '了', '汤姆', '的', '感情', '。', 'EOS'], ['BOS', '她', '的', '每首歌', '都', '长期', '备受', '欢迎', '。', 'EOS']]\n"
     ]
    }
   ],
   "source": [
    "import jieba\n",
    "from nltk import word_tokenize\n",
    "# Test with jieba\n",
    "test = [\"I wonder if I hurt Tom's feelings.\t我不知道我是不是伤害了汤姆的感情。\", \n",
    "        \"Every one of her songs was a hit.\t她的每首歌都长期备受欢迎。\"]\n",
    "test_en = []\n",
    "test_cn = []\n",
    "for i in test:\n",
    "    i = i.strip().split(\"\\t\")\n",
    "    print(i[1])\n",
    "    test_en.append([\"BOS\"] + word_tokenize(i[0].lower()) + [\"EOS\"])\n",
    "#     test_cn.append([\"BOS\"] + work_tokenize(\" \".join([w for w in i[1]])) + [\"EOS\"])\n",
    "    cn_seg_list = jieba.cut(i[1])\n",
    "    test_cn.append([\"BOS\"] + [w for w in cn_seg_list] + [\"EOS\"])\n",
    "\n",
    "print(test_en)\n",
    "print(test_cn)"
   ]
  },
  {
   "cell_type": "code",
   "execution_count": 3,
   "id": "a3157296",
   "metadata": {},
   "outputs": [
    {
     "data": {
      "text/plain": [
       "[['BOS',\n",
       "  'i',\n",
       "  'wonder',\n",
       "  'if',\n",
       "  'i',\n",
       "  'hurt',\n",
       "  'tom',\n",
       "  \"'s\",\n",
       "  'feelings',\n",
       "  '.',\n",
       "  'EOS'],\n",
       " ['BOS', 'every', 'one', 'of', 'her', 'songs', 'was', 'a', 'hit', '.', 'EOS']]"
      ]
     },
     "execution_count": 3,
     "metadata": {},
     "output_type": "execute_result"
    }
   ],
   "source": [
    "test_en"
   ]
  },
  {
   "cell_type": "code",
   "execution_count": null,
   "id": "c7cd4e80",
   "metadata": {},
   "outputs": [],
   "source": []
  }
 ],
 "metadata": {
  "kernelspec": {
   "display_name": "Python 3 (ipykernel)",
   "language": "python",
   "name": "python3"
  },
  "language_info": {
   "codemirror_mode": {
    "name": "ipython",
    "version": 3
   },
   "file_extension": ".py",
   "mimetype": "text/x-python",
   "name": "python",
   "nbconvert_exporter": "python",
   "pygments_lexer": "ipython3",
   "version": "3.11.8"
  }
 },
 "nbformat": 4,
 "nbformat_minor": 5
}
