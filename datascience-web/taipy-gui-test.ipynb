{
 "cells": [
  {
   "cell_type": "code",
   "execution_count": 4,
   "id": "a3722986-b5df-400d-a48d-cbe0ce306df2",
   "metadata": {},
   "outputs": [
    {
     "name": "stdout",
     "output_type": "stream",
     "text": [
      "Overwriting taipy-gui-test.py\n"
     ]
    }
   ],
   "source": [
    "%%writefile taipy-gui-test.py\n",
    "\n",
    "from taipy.gui import Gui\n",
    "from math import cos, exp\n",
    "\n",
    "value = 10  # python variable\n",
    "\n",
    "page = \"\"\"\n",
    "# Taipy *Getting started*\n",
    "\n",
    "Value: \n",
    "\n",
    "<|{value}|text|>     \n",
    "<|{value}|slider|on_change=on_slider|>      \n",
    "<|{data}|chart|>    \n",
    "\n",
    "# Test\n",
    "\"\"\"\n",
    "\n",
    "def on_slider(state):\n",
    "    state.data = compute_data(state.value)\n",
    "\n",
    "def compute_data(decay: int)->list:\n",
    "    return [cos(i/6) * exp(-i*decay/600) for i in range(100)]\n",
    "\n",
    "data = compute_data(value)   # python variable which will be used in page - {data}\n",
    "\n",
    "if __name__ == \"__main__\":\n",
    "    Gui(page).run(title=\"Dynamic chart\")\n"
   ]
  },
  {
   "cell_type": "code",
   "execution_count": 7,
   "id": "c77e578b-4665-48b3-9173-c18b67deb30a",
   "metadata": {},
   "outputs": [
    {
     "name": "stdout",
     "output_type": "stream",
     "text": [
      "Overwriting taipy-first-web-page.py\n"
     ]
    }
   ],
   "source": [
    "%%writefile taipy-first-web-page.py\n",
    "\n",
    "from taipy import Gui\n",
    "Gui(page=\"# Getting started with -> **Taipy**\").run(debug=True, use_reloader=True)"
   ]
  },
  {
   "cell_type": "code",
   "execution_count": 8,
   "id": "076da212-cfa2-4c15-8182-b4bcac444df8",
   "metadata": {},
   "outputs": [
    {
     "name": "stdout",
     "output_type": "stream",
     "text": [
      "Writing taipy-test-web-page.py\n"
     ]
    }
   ],
   "source": [
    "%%writefile taipy-test-web-page.py\n",
    "\n",
    "from taipy import Gui\n",
    "\n",
    "text = \"test\"\n",
    "\n",
    "page = \"\"\"\n",
    "# Getting started with simple taipy gui\n",
    "\n",
    "Text: <|{text}|>>\n",
    "\n",
    "<|{text}|input|>\n",
    "\n",
    "\n",
    "\"\"\"\n",
    "\n",
    "Gui(page).run(debug=True, use_reloader=True)"
   ]
  },
  {
   "cell_type": "code",
   "execution_count": 11,
   "id": "7c380ae8-6c2f-419c-a02e-36a345aa9486",
   "metadata": {},
   "outputs": [
    {
     "name": "stdout",
     "output_type": "stream",
     "text": [
      "Overwriting taipy-test-simple-IS.py\n"
     ]
    }
   ],
   "source": [
    "%%writefile taipy-test-simple-IS.py\n",
    "\n",
    "from taipy.gui import Page, Row, Col, Input, TextArea, Button\n",
    "\n",
    "class PatientInfo(Page):\n",
    "  def build(self):\n",
    "    return Row(\n",
    "      children=[\n",
    "        Col(\n",
    "          children=[\n",
    "            \"Patient Name:\",\n",
    "            Input(id=\"name\", placeholder=\"Enter patient name\"),\n",
    "            \"Patient ID:\",\n",
    "            Input(id=\"patient_id\", placeholder=\"Enter patient ID\"),\n",
    "            \"Age:\",\n",
    "            Input(id=\"age\", placeholder=\"Enter patient age\", type=\"number\"),\n",
    "            \"Clinical Status:\",\n",
    "            TextArea(id=\"clinical_status\", placeholder=\"Describe patient's condition\"),\n",
    "          ]\n",
    "        ),\n",
    "        Col(\n",
    "          children=[\n",
    "            \"Treatment:\",\n",
    "            TextArea(id=\"treatment\", placeholder=\"Describe planned treatment\"),\n",
    "            Button(text=\"Save Information\", click_handler=self.save_data),\n",
    "          ]\n",
    "        ),\n",
    "      ]\n",
    "    )\n",
    "\n",
    "  def save_data(self):\n",
    "    # Simulate data saving (replace with logic to connect to a database)\n",
    "    name = self.get_value(\"name\")\n",
    "    patient_id = self.get_value(\"patient_id\")\n",
    "    age = self.get_value(\"age\")\n",
    "    clinical_status = self.get_value(\"clinical_status\")\n",
    "    treatment = self.get_value(\"treatment\")\n",
    "    print(f\"Patient Information Saved!\")\n",
    "    print(f\"Name: {name}\")\n",
    "    print(f\"ID: {patient_id}\")\n",
    "    print(f\"Age: {age}\")\n",
    "    print(f\"Clinical Status: {clinical_status}\")\n",
    "    print(f\"Treatment: {treatment}\")\n",
    "\n",
    "# Run the application\n",
    "app = PatientInfo()\n",
    "app.run()\n"
   ]
  },
  {
   "cell_type": "code",
   "execution_count": null,
   "id": "1ce45458-082d-4521-9ebf-0bc3a039baf2",
   "metadata": {},
   "outputs": [],
   "source": []
  }
 ],
 "metadata": {
  "kernelspec": {
   "display_name": "Python 3 (ipykernel)",
   "language": "python",
   "name": "python3"
  },
  "language_info": {
   "codemirror_mode": {
    "name": "ipython",
    "version": 3
   },
   "file_extension": ".py",
   "mimetype": "text/x-python",
   "name": "python",
   "nbconvert_exporter": "python",
   "pygments_lexer": "ipython3",
   "version": "3.11.8"
  }
 },
 "nbformat": 4,
 "nbformat_minor": 5
}
