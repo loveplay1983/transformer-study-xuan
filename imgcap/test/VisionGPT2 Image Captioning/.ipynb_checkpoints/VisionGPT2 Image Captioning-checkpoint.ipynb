{
 "cells": [
  {
   "cell_type": "code",
   "execution_count": 2,
   "id": "fd05525a",
   "metadata": {},
   "outputs": [],
   "source": [
    "import torch\n",
    "import torch.nn as nn\n",
    "import torch.nn.functional as F\n",
    "import numpy as np\n",
    "import pandas as pd\n",
    "import matplotlib.pyplot as plt\n",
    "from timm import create_model, list_models\n",
    "from types import SimpleNamespace\n",
    "from transformers import (\n",
    "    GPT2LMHeadModel, \n",
    "    GPT2TokenizerFast,\n",
    "    get_linear_schedule_with_warmup\n",
    ")\n",
    "import albumentations as A\n",
    "# specific transformation provided by Albumentations that\n",
    "# converts images or masks from NumPy arrays to PyTorch tensors\n",
    "from albumentations.pytorch import ToTensorV2\n",
    "from PIL import Image\n",
    "from pathlib import Path\n",
    "from sklearn.model_selection import train_test_split\n",
    "# Automatic Mixed Precision\n",
    "from torch.cuda.amp import GradScaler, autocast\n",
    "from tqdm.auto import tqdm\n",
    "#  garbage collection to manage memory usage.\n",
    "import gc\n",
    "import json"
   ]
  },
  {
   "cell_type": "code",
   "execution_count": null,
   "id": "4c61dbe9",
   "metadata": {},
   "outputs": [],
   "source": []
  }
 ],
 "metadata": {
  "kernelspec": {
   "display_name": "Python 3 (ipykernel)",
   "language": "python",
   "name": "python3"
  },
  "language_info": {
   "codemirror_mode": {
    "name": "ipython",
    "version": 3
   },
   "file_extension": ".py",
   "mimetype": "text/x-python",
   "name": "python",
   "nbconvert_exporter": "python",
   "pygments_lexer": "ipython3",
   "version": "3.11.3"
  }
 },
 "nbformat": 4,
 "nbformat_minor": 5
}
